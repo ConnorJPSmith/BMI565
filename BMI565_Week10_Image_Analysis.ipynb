{
 "cells": [
  {
   "cell_type": "markdown",
   "metadata": {},
   "source": [
    "# BMI565 - Bioinformatics Programming & Scripting"
   ]
  },
  {
   "cell_type": "markdown",
   "metadata": {},
   "source": [
    "## Week 10 - Image Analysis\n",
    "\n",
    "** * Thanks to Ryan Swan for these materials.**\n",
    "\n",
    "1. Introduction to Imaging\n",
    "2. OpenCV\n",
    "    * Opening Files\n",
    "    * Converting between color scales\n",
    "3. Clustering Image Data\n",
    "    * Importing and formatting data\n",
    "    * Performing clustering using scikit-learn\n",
    "4. Classification with Image Data\n",
    "    * Importing data and labels for classification\n",
    "    * Performing classification using SVM in scikit-learn\n",
    "5. Summary and References\n",
    "\n",
    "#### Requirements\n",
    "\n",
    "1. Python 2.7\n",
    "2. `opencv (cv2)` module\n",
    "3. `scikit-learn` module\n",
    "4. `numpy` module\n",
    "5. `matplotlib` module\n",
    "6. Data Files\n",
    "    - `./images/logo.jpg`\n",
    "    - `./images/digits.png`\n",
    "\n",
    "OpenCV should be installable using the `conda` command below, while all other packages should be included in the current Anaconda distribution.\n",
    "\n",
    "    conda install opencv\n",
    "\n",
    "** Note: when you install `opencv` using `conda`, the package manager may downgrade numpy and a couple other packages due to \"dependency requirements\". This may cause problems, so after installing `opencv` I recommend that you re-install numpy with `conda install numpy` (this shouldn't affect `opencv`)."
   ]
  },
  {
   "cell_type": "markdown",
   "metadata": {},
   "source": [
    "## Imaging with OpenCV\n",
    "\n",
    "In programming, there are many data types that we can manipulate and analyze. One of the most common of these data types is imaging data. Images are usually defined as a two-dimensional plot of intensity values. Each cell of the plot is a picture-element or \"pixel\". \n",
    "\n",
    "The method of defining a pixel varies depending on the imaging data. Black and white images can be thought of as a 2D array with values ranging from a minimum of 0, representing black, to a maximum value, representing white. The maximum value can vary based on how much fidelity is needed. Color images can be displayed a number of different ways, with three dimensions (RGB = Red, Green, Blue) or four dimensions (CMYK = cyan, magenta, yellow, black), and often include an extra value representing the luminance of the pixel. It is also possible that pixels may represent data that is not visible to the human eye, like X-ray, gamma ray, or infrared data.\n",
    "\n",
    "## OpenCV\n",
    "\n",
    "The OpenCV package in python provides a number of tools to manipulate imaging data. Primarily the tools provided are used to open and convert imaging formats so that they can be analyzed and processed. Images are stored as numpy ndarrays, which represent multidimensional arrays of fixed size.\n",
    "\n",
    "## Opening and Viewing Images\n",
    "\n",
    "Our first order of business is to open an image file and inspect it. The \"logo.jpg\" file contains the OHSU logo in the compressed JPEG format.\n",
    "\n",
    "[http://docs.opencv.org/3.0-beta/doc/py_tutorials/py_gui/py_image_display/py_image_display.html](http://docs.opencv.org/3.0-beta/doc/py_tutorials/py_gui/py_image_display/py_image_display.html)"
   ]
  },
  {
   "cell_type": "code",
   "execution_count": 1,
   "metadata": {
    "collapsed": false
   },
   "outputs": [],
   "source": [
    "%matplotlib inline"
   ]
  },
  {
   "cell_type": "code",
   "execution_count": 2,
   "metadata": {
    "collapsed": false
   },
   "outputs": [],
   "source": [
    "import cv2\n",
    "import matplotlib.pyplot as plt\n",
    "import numpy as np"
   ]
  },
  {
   "cell_type": "code",
   "execution_count": 3,
   "metadata": {
    "collapsed": false
   },
   "outputs": [],
   "source": [
    "## Read the image (1 = color, 0 = grayscale, -1 = unchanged w/ alpha channel)\n",
    "img = cv2.imread('./images/logo.jpg', 1)"
   ]
  },
  {
   "cell_type": "markdown",
   "metadata": {},
   "source": [
    "Inspect the img object. We can see from this that it is an array of values, most of which are [255, 255, 255]. This corresponds to a white pixel, where red, green, and blue values are all at the maximum intensity of 255. This tells us that the image is in 8-bit format, which allows for 2^8 levels of intensity (0-255)."
   ]
  },
  {
   "cell_type": "code",
   "execution_count": 4,
   "metadata": {
    "collapsed": false
   },
   "outputs": [
    {
     "data": {
      "text/plain": [
       "(622, 900, 3)"
      ]
     },
     "execution_count": 4,
     "metadata": {},
     "output_type": "execute_result"
    }
   ],
   "source": [
    "## Image size\n",
    "img.shape"
   ]
  },
  {
   "cell_type": "code",
   "execution_count": 5,
   "metadata": {
    "collapsed": false
   },
   "outputs": [
    {
     "data": {
      "text/plain": [
       "array([[255, 255, 255],\n",
       "       [255, 255, 255],\n",
       "       [255, 255, 255],\n",
       "       [255, 255, 255],\n",
       "       [255, 255, 255],\n",
       "       [255, 255, 255],\n",
       "       [255, 255, 255],\n",
       "       [255, 255, 255],\n",
       "       [255, 255, 255],\n",
       "       [255, 255, 255]], dtype=uint8)"
      ]
     },
     "execution_count": 5,
     "metadata": {},
     "output_type": "execute_result"
    }
   ],
   "source": [
    "## The image data\n",
    "img[0:10,0]"
   ]
  },
  {
   "cell_type": "markdown",
   "metadata": {},
   "source": [
    "Now that we've opened the image we are able to view it in a window."
   ]
  },
  {
   "cell_type": "code",
   "execution_count": 6,
   "metadata": {
    "collapsed": false
   },
   "outputs": [],
   "source": [
    "## Show the image (arg1 = window name, arg2 = image itself)\n",
    "cv2.imshow('image',img)"
   ]
  },
  {
   "cell_type": "markdown",
   "metadata": {},
   "source": [
    "This command constructs a call to a window to display the image. We can see that the image is primarily white pixels, with a smattering of other colors. We can call the destroyAllWindows method to close the image."
   ]
  },
  {
   "cell_type": "code",
   "execution_count": 7,
   "metadata": {
    "collapsed": true
   },
   "outputs": [],
   "source": [
    "## Close display window\n",
    "cv2.destroyAllWindows()"
   ]
  },
  {
   "cell_type": "markdown",
   "metadata": {},
   "source": [
    "## Clustering On Imaging Data\n",
    "\n",
    "Now that we have an image as a python data type we are free to perform any number of calculations on the image. One useful piece of information is what the most common colors in the image are. We can think about each pixel as a point in three dimensional space, where the colors red, blue, and green are mapped to spacial values. In this spacial context, we can use clustering to find the areas in the space of colors where most pixels are located.\n",
    "\n",
    "The first thing we need to do is to convert our image from a two-dimensional array into a one-dimensional list of pixels. For this analysis, we are only interested in the color data and not in the location of each pixel within the image.\n",
    "\n",
    "Reshape and shape are methods of the ndarray class. Shape gives the dimensions of an n-dimensional array as a tuple with n positions. Reshape takes a tuple with n positions and reorganizes the array to fit that specification.\n",
    "\n",
    "Here we take the first two dimensions of the array (representing the 2d location information) and flatten it into a column of values where each row contains a single pixel's color intensity information."
   ]
  },
  {
   "cell_type": "code",
   "execution_count": 8,
   "metadata": {
    "collapsed": false
   },
   "outputs": [],
   "source": [
    "## reshape the image to be a list of pixels\n",
    "img = img.reshape((img.shape[0] * img.shape[1], 3))"
   ]
  },
  {
   "cell_type": "code",
   "execution_count": 9,
   "metadata": {
    "collapsed": false
   },
   "outputs": [
    {
     "data": {
      "text/plain": [
       "(559800, 3)"
      ]
     },
     "execution_count": 9,
     "metadata": {},
     "output_type": "execute_result"
    }
   ],
   "source": [
    "img.shape"
   ]
  },
  {
   "cell_type": "markdown",
   "metadata": {},
   "source": [
    "We are now ready to import the KMeans method from scikit-learn. We define that we want a model with 5 clusters. This will return the five \"neighborhoods\" where most pixel values are centered. Theoretically this should fit our image well, since there are exactly five colors in the image."
   ]
  },
  {
   "cell_type": "code",
   "execution_count": 10,
   "metadata": {
    "collapsed": false
   },
   "outputs": [
    {
     "data": {
      "text/plain": [
       "KMeans(copy_x=True, init='k-means++', max_iter=300, n_clusters=5, n_init=10,\n",
       "    n_jobs=1, precompute_distances='auto', random_state=None, tol=0.0001,\n",
       "    verbose=0)"
      ]
     },
     "execution_count": 10,
     "metadata": {},
     "output_type": "execute_result"
    }
   ],
   "source": [
    "## Do clustering\n",
    "from sklearn.cluster import KMeans\n",
    "\n",
    "clt = KMeans(n_clusters = 5)\n",
    "clt.fit(img)"
   ]
  },
  {
   "cell_type": "code",
   "execution_count": 11,
   "metadata": {
    "collapsed": false
   },
   "outputs": [
    {
     "data": {
      "text/plain": [
       "array([[ 254.89785757,  254.76313082,  254.72857753],\n",
       "       [ 199.24550965,   48.59955532,    3.05750819],\n",
       "       [   9.35204856,  238.80918058,   79.77314112],\n",
       "       [ 234.15792466,  168.32956645,  122.87683014],\n",
       "       [  33.97302129,  200.30407931,  251.9512433 ]])"
      ]
     },
     "execution_count": 11,
     "metadata": {},
     "output_type": "execute_result"
    }
   ],
   "source": [
    "## View the cluster centers\n",
    "clt.cluster_centers_"
   ]
  },
  {
   "cell_type": "markdown",
   "metadata": {},
   "source": [
    "We will now define two functions that will help us analyze and display the data. The first is a function to create a histogram that represents the number of pixels associated with each cluster center. The function uses numpy (imported above)."
   ]
  },
  {
   "cell_type": "code",
   "execution_count": 12,
   "metadata": {
    "collapsed": true
   },
   "outputs": [],
   "source": [
    "def centroid_histogram(clt):\n",
    "    ## grab the number of different clusters and create a histogram\n",
    "    ## based on the number of pixels assigned to each cluster\n",
    "    numLabels = np.arange(0, len(np.unique(clt.labels_)) + 1)\n",
    "    (hist, _) = np.histogram(clt.labels_, bins = numLabels)\n",
    " \n",
    "    ## normalize the histogram, such that it sums to one\n",
    "    hist = hist.astype(\"float\")\n",
    "    hist /= hist.sum()\n",
    " \n",
    "    ## return the histogram\n",
    "    return hist"
   ]
  },
  {
   "cell_type": "markdown",
   "metadata": {},
   "source": [
    "The second function uses the histogram to create a bar that displays the proportion of the image represented by each cluster centroid. In essence, we use the histogram percentage to populate a 50x300 pixel bar with color information. We use the rectangle method to reorganize our bar into the correct display format."
   ]
  },
  {
   "cell_type": "code",
   "execution_count": 13,
   "metadata": {
    "collapsed": true
   },
   "outputs": [],
   "source": [
    "def plot_colors(hist, centroids):\n",
    "    ## initialize the bar chart representing the relative frequency\n",
    "    ## of each of the colors\n",
    "    bar = np.zeros((50, 300, 3), dtype = \"uint8\")\n",
    "    startX = 0\n",
    " \n",
    "    ## loop over the percentage of each cluster and the color of\n",
    "    ## each cluster\n",
    "    for (percent, color) in zip(hist, centroids):\n",
    "        ## plot the relative percentage of each cluster\n",
    "        endX = startX + (percent * 300)\n",
    "        cv2.rectangle(bar, (int(startX), 0), (int(endX), 50),\n",
    "            color.astype(\"uint8\").tolist(), -1)\n",
    "        startX = endX\n",
    "    \n",
    "    ## Convert back to RGB (implicit conversion takes place when clustering)\n",
    "    bar = cv2.cvtColor(bar, cv2.COLOR_BGR2RGB)\n",
    "    ## return the bar chart\n",
    "    return bar"
   ]
  },
  {
   "cell_type": "markdown",
   "metadata": {},
   "source": [
    "We now have all the necessary tools to display our color plot of the OHSU logo image."
   ]
  },
  {
   "cell_type": "code",
   "execution_count": 14,
   "metadata": {
    "collapsed": false
   },
   "outputs": [
    {
     "data": {
      "text/plain": [
       "<matplotlib.image.AxesImage at 0x11439b290>"
      ]
     },
     "execution_count": 14,
     "metadata": {},
     "output_type": "execute_result"
    },
    {
     "data": {
      "image/png": "[encoded data removed]",
      "text/plain": [
       "<matplotlib.figure.Figure at 0x1143893d0>"
      ]
     },
     "metadata": {},
     "output_type": "display_data"
    }
   ],
   "source": [
    "## build a histogram of clusters and then create a figure\n",
    "## representing the number of pixels labeled to each color\n",
    "hist = centroid_histogram(clt)\n",
    "bar = plot_colors(hist, clt.cluster_centers_)\n",
    " \n",
    "## show our color bart\n",
    "plt.figure()\n",
    "plt.axis(\"on\")\n",
    "## Remove the ticks and labels from the plot\n",
    "plt.tick_params(axis='x', which='both', bottom='off', top='off', labelbottom='off')\n",
    "plt.tick_params(axis='y', which='both', left='off', right='off', labelleft='off')\n",
    "plt.imshow(bar)"
   ]
  },
  {
   "cell_type": "code",
   "execution_count": 15,
   "metadata": {
    "collapsed": false
   },
   "outputs": [
    {
     "data": {
      "image/png": "[encoded data removed]",
      "text/plain": [
       "<matplotlib.figure.Figure at 0x10d1b0c10>"
      ]
     },
     "metadata": {},
     "output_type": "display_data"
    }
   ],
   "source": [
    "## We can also create a bar plot to represent the same info\n",
    "import matplotlib as mpl\n",
    "## Convert the colors from GBR to RGB and scale the values\n",
    "colors = [c[::-1]/255 for c in clt.cluster_centers_]\n",
    "plt.bar(np.arange(1,6), hist, width=0.9, color=colors)\n",
    "## Create x-axis ticks and labels (converting RGB colors to hexadecimal)\n",
    "ticks1 = plt.xticks(np.arange(1,6)+0.9/2, [mpl.colors.rgb2hex(x) for x in colors])"
   ]
  },
  {
   "cell_type": "markdown",
   "metadata": {},
   "source": [
    "The resulting plots capture the five major colors used in the image and their relative frequencies. As we can see, the image is mostly white and blue with a sprinkling of other colors mixed in. If we wish to know the exact proportions it is possible to use the histogram object in order to find these."
   ]
  },
  {
   "cell_type": "markdown",
   "metadata": {},
   "source": [
    "## Classification of Digits from Imaging Data Using an SVM\n",
    "\n",
    "While clustering is a useful way of describing data, it is not always the best tool for classification. In cases where we have labeled data, a supervised learning method is often preferable. One canonical example is the recognition of digits from handwriting. \n",
    "\n",
    "As before, our first task is to open the file and get the image into a format that makes sense for our purposes."
   ]
  },
  {
   "cell_type": "code",
   "execution_count": 16,
   "metadata": {
    "collapsed": false
   },
   "outputs": [],
   "source": [
    "## Open the image (remember the 0 denotes that this is a grayscale image)\n",
    "img2 = cv2.imread('./images/digits.png',0)\n",
    "\n",
    "cv2.imshow('image',img2)"
   ]
  },
  {
   "cell_type": "code",
   "execution_count": 17,
   "metadata": {
    "collapsed": true
   },
   "outputs": [],
   "source": [
    "## When you are done inspecting the image, close the window\n",
    "cv2.destroyAllWindows()"
   ]
  },
  {
   "cell_type": "markdown",
   "metadata": {},
   "source": [
    "As we can see, the image in this case is one large image containing many examples of handwritten digits. In order for us to analyze the image we must first restructure the data so that it is a single column where each row contains the intensity values for a single handwritten digit. \n",
    "\n",
    "The ndarray contains two additional methods that allow us to perform this process. The hsplit method splits an image on the horizontal axis while the vsplit method splits an image along the vertical axis. Once we determine that the data is arranged with 100 columns and 50 rows, all evenly spaced, we can write a list comprehension that quickly performs this rearrangement."
   ]
  },
  {
   "cell_type": "code",
   "execution_count": 18,
   "metadata": {
    "collapsed": false
   },
   "outputs": [
    {
     "data": {
      "text/plain": [
       "(1000, 2000)"
      ]
     },
     "execution_count": 18,
     "metadata": {},
     "output_type": "execute_result"
    }
   ],
   "source": [
    "## The image size\n",
    "img2.shape"
   ]
  },
  {
   "cell_type": "code",
   "execution_count": 19,
   "metadata": {
    "collapsed": false
   },
   "outputs": [
    {
     "data": {
      "text/plain": [
       "array([0, 0, 0, 0, 0, 0, 0, 0, 0, 0], dtype=uint8)"
      ]
     },
     "execution_count": 19,
     "metadata": {},
     "output_type": "execute_result"
    }
   ],
   "source": [
    "## The image data (it's gray-scale this time)\n",
    "img2[0:10,0]"
   ]
  },
  {
   "cell_type": "code",
   "execution_count": 20,
   "metadata": {
    "collapsed": false
   },
   "outputs": [],
   "source": [
    "## This tells OpenCV that the image is arranged in 50 rows and 100 columns (5000 digits)\n",
    "cells = [np.hsplit(row,100) for row in np.vsplit(img2,50)]\n",
    "\n",
    "## Make an array from the data\n",
    "x = np.array(cells)"
   ]
  },
  {
   "cell_type": "code",
   "execution_count": 21,
   "metadata": {
    "collapsed": false
   },
   "outputs": [
    {
     "data": {
      "text/plain": [
       "(50, 100, 20, 20)"
      ]
     },
     "execution_count": 21,
     "metadata": {},
     "output_type": "execute_result"
    }
   ],
   "source": [
    "## Now each digit (N=5000) is a block of 20x20 pixels\n",
    "x.shape"
   ]
  },
  {
   "cell_type": "markdown",
   "metadata": {},
   "source": [
    "The cells object now contains a 50x100 array where each cell contains a handwritten digit (20x20 pixels). We will need to reshape the data further, but while it is in a convenient format, we can define our training and test sets by splitting the array in half."
   ]
  },
  {
   "cell_type": "code",
   "execution_count": 22,
   "metadata": {
    "collapsed": false
   },
   "outputs": [
    {
     "name": "stdout",
     "output_type": "stream",
     "text": [
      "[[  0   0   0   0   0   0   0   0   0   0   0   0   0   0   0   0   0   0\n",
      "    0   0]\n",
      " [  0   0   0   0   0   0   0   0   0   0   0   0   0   0   0   0   0   0\n",
      "    0   0]\n",
      " [  0   0   0   0   0   0   0   0   0   0   0   9  33   9   0   0   0   0\n",
      "    0   0]\n",
      " [  0   0   0   0   0   0   0   0   0   0  41 177 249 178  29   0   0   0\n",
      "    0   0]\n",
      " [  0   0   0   0   0   0   0   0   0  33 198 255 240 255 107   0   0   0\n",
      "    0   0]\n",
      " [  0   0   0   0   0   0   0   1  70 199 255 255 197 154 253  98   0   0\n",
      "    0   0]\n",
      " [  0   0   0   0   0   0   0  45 238 255 205 224 222  83 224 128   0   0\n",
      "    0   0]\n",
      " [  0   0   0   0   0   0  25 202 255 193  40  99  54   0 190 197  16   0\n",
      "    0   0]\n",
      " [  0   0   0   0   0  20 163 246 152  72   0   0   0   0 184 252  74   0\n",
      "    0   0]\n",
      " [  0   0   0   0   0  97 255 118   0   1   0   0   0   0 184 255  82   0\n",
      "    0   0]\n",
      " [  0   0   0   0  20 218 216  17   0   0   0   0   0   0 183 255  78   0\n",
      "    0   0]\n",
      " [  0   0   0   0  67 255 138   0   0   0   0   0   0  24 215 188  22   0\n",
      "    0   0]\n",
      " [  0   0   0   0  69 247  87   0   0   0   0   0  31 185 212  54   0   0\n",
      "    0   0]\n",
      " [  0   0   0   0  71 237  68   0   0   0   0  94 211 177  17   0   0   0\n",
      "    0   0]\n",
      " [  0   0   0   0  69 255 170  39  39 115 183 238 185  37   0   0   0   0\n",
      "    0   0]\n",
      " [  0   0   0   0  57 245 255 229 233 255 216 117  13   0   0   0   0   0\n",
      "    0   0]\n",
      " [  0   0   0   0   7 114 230 255 234 137  38   0   0   0   0   0   0   0\n",
      "    0   0]\n",
      " [  0   0   0   0   0   0  26  38  27   0   0   0   0   0   0   0   0   0\n",
      "    0   0]\n",
      " [  0   0   0   0   0   0   0   0   0   0   0   0   0   0   0   0   0   0\n",
      "    0   0]\n",
      " [  0   0   0   0   0   0   0   0   0   0   0   0   0   0   0   0   0   0\n",
      "    0   0]]\n"
     ]
    }
   ],
   "source": [
    "## The first digit\n",
    "print x[0,0]"
   ]
  },
  {
   "cell_type": "code",
   "execution_count": 23,
   "metadata": {
    "collapsed": false
   },
   "outputs": [],
   "source": [
    "## Now we prepare training data and test data\n",
    "## Takes the first 50 columns and puts them into the training set\n",
    "train = x[:,:50]\n",
    "\n",
    "## reshape takes these and makes them 2500 rows and 400 (20x20) columns\n",
    "## giving -1 as one of the dimensions will tell numpy to determine the value \n",
    "## based on the length of the array and the other dimensions given\n",
    "train = train.reshape(-1,400)\n",
    "\n",
    "## the astype function converts to the float type that the clustering method is expecting\n",
    "train = train.astype(np.float32) ## Size = (2500,400)\n",
    "\n",
    "## We do the same for the test set\n",
    "test = x[:,50:100]\n",
    "test = test.reshape(-1,400)\n",
    "test = test.astype(np.float32) ## Size = (2500,400)"
   ]
  },
  {
   "cell_type": "markdown",
   "metadata": {},
   "source": [
    "In order to train our classifier, we need to have labeled data. From the structure of our data, we know that each number is in a group, so we can specify a list of values to fit the data."
   ]
  },
  {
   "cell_type": "code",
   "execution_count": 24,
   "metadata": {
    "collapsed": false
   },
   "outputs": [],
   "source": [
    "## Create labels for train and test data\n",
    "## We have numbers 0 to 10...\n",
    "k = np.arange(10)\n",
    "## In sets of 250\n",
    "## We create the labels as a 1D array\n",
    "train_labels = np.repeat(k,250)\n",
    "\n",
    "## our test labels are the same as our training labels, so we can copy this over\n",
    "test_labels = train_labels.copy()"
   ]
  },
  {
   "cell_type": "markdown",
   "metadata": {},
   "source": [
    "We're now ready to move on to peforming our model fitting. We use a support vector machine (SVM) which considers each pixel intensity value in the digit as a dimension in euclidian space. The SVM then attempts to draw an optimized boundary between points of different classes in order to classify them into groups. Since we have 10 classes (numbers 0-9) it will divide them into ten categories.\n",
    "\n",
    "We also load the metrics method, which contains reports that work with scikit-learn's classifiers in order to provide information about the performance of the classifier. Here we use the `classification_report` and `confusion_matrix` methods."
   ]
  },
  {
   "cell_type": "code",
   "execution_count": 25,
   "metadata": {
    "collapsed": false
   },
   "outputs": [
    {
     "name": "stdout",
     "output_type": "stream",
     "text": [
      "Classification report for classifier LinearSVC(C=1.0, class_weight=None, dual=True, fit_intercept=True,\n",
      "     intercept_scaling=1, loss='squared_hinge', max_iter=1000,\n",
      "     multi_class='ovr', penalty='l2', random_state=None, tol=0.0001,\n",
      "     verbose=0):\n",
      "\n",
      "             precision    recall  f1-score   support\n",
      "\n",
      "          0       0.91      0.94      0.92       250\n",
      "          1       0.95      0.93      0.94       250\n",
      "          2       0.83      0.81      0.82       250\n",
      "          3       0.78      0.77      0.78       250\n",
      "          4       0.89      0.77      0.83       250\n",
      "          5       0.81      0.80      0.81       250\n",
      "          6       0.89      0.91      0.90       250\n",
      "          7       0.86      0.87      0.87       250\n",
      "          8       0.79      0.73      0.76       250\n",
      "          9       0.70      0.83      0.76       250\n",
      "\n",
      "avg / total       0.84      0.84      0.84      2500\n",
      "\n",
      "\n"
     ]
    }
   ],
   "source": [
    "## Import modules from scikit-learn\n",
    "from sklearn import svm, metrics\n",
    "\n",
    "## Train an SVM classifier\n",
    "classifier = svm.LinearSVC()\n",
    "classifier.fit(train, train_labels)\n",
    "\n",
    "## Predict the classes of the test set\n",
    "predicted = classifier.predict(test)\n",
    "print(\"Classification report for classifier %s:\\n\\n%s\\n\"\n",
    "      % (classifier, metrics.classification_report(test_labels, predicted)))"
   ]
  },
  {
   "cell_type": "code",
   "execution_count": 26,
   "metadata": {
    "collapsed": false
   },
   "outputs": [
    {
     "name": "stdout",
     "output_type": "stream",
     "text": [
      "Confusion matrix:\n",
      "[[234   0   4   4   0   0   5   0   2   1]\n",
      " [  0 233   1   0   0   1   0   1  13   1]\n",
      " [  5   4 203   8   5   4   5   6   8   2]\n",
      " [  2   1   9 193   1  18   1   4   6  15]\n",
      " [  2   2   1   4 193   3   7   3   7  28]\n",
      " [  4   1   3  18   2 201   3   0   6  12]\n",
      " [  3   1   9   1   0   5 228   0   2   1]\n",
      " [  0   1   3   2   3   2   0 218   2  19]\n",
      " [  1   3  11  13   6  13   5   3 183  12]\n",
      " [  5   0   2   3   7   2   2  19   2 208]]\n"
     ]
    }
   ],
   "source": [
    "## View a confusion matrix of the classification results\n",
    "print(\"Confusion matrix:\\n%s\" % metrics.confusion_matrix(test_labels, predicted))"
   ]
  },
  {
   "cell_type": "markdown",
   "metadata": {},
   "source": [
    "From this we can see that our classifier (sort of) worked. We get good precision, showing that our method does a decent job of minimizing false positives. We can also see that our recall is relatively high, meaning that it calls fairly few false negatives. From our graph it seems the numerals 3, 8, and 9 are the hardest to predict, while 0, 1, and 6 are the easiest.\n",
    "\n",
    "## Summary\n",
    "\n",
    "This lecture gives two specific examples of ways in which imaging data can be manipulated to draw interesting conclusions. The field of imaging is much larger than presented here, however, and python has many packages that perform various imaging tasks. Some common tasks include image enhancement, image filtering, and image segmentation (the isolation of various features of interest based on their attributes). While the packages necessary to do such manipulations may be different, the underlying workflow remains essentially the same (reading the image data, reformatting the image data, and using that data in order to find the features of interest).\n",
    "\n",
    "## In-class Exercises\n"
   ]
  },
  {
   "cell_type": "code",
   "execution_count": null,
   "metadata": {
    "collapsed": true
   },
   "outputs": [],
   "source": [
    "## Find an image of your own and perform the clustering process on it. \n",
    "## Try modifying the number of clusters used. What do you notice?\n"
   ]
  },
  {
   "cell_type": "code",
   "execution_count": null,
   "metadata": {
    "collapsed": true
   },
   "outputs": [],
   "source": [
    "## The following function normalizes imaging data based on the image's \n",
    "## second order moments. Use this function to process the training and\n",
    "## test sets of digits then rerun the analysis. Does this improve the\n",
    "## classifier's performance?\n",
    "##\n",
    "## Deskew Explanation: http://opencv-python-tutroals.readthedocs.org/en/latest/py_tutorials/py_ml/py_svm/py_svm_opencv/py_svm_opencv.html#svm-opencv\n",
    "\n",
    "def deskew(img, SZ=20): ## SZ is the size of each digit (20x20)\n",
    "    m = cv2.moments(img)\n",
    "    if abs(m['mu02']) < 1e-2:\n",
    "        return img.copy()\n",
    "    skew = m['mu11']/m['mu02']\n",
    "    M = np.float32([[1, skew, -0.5*SZ*skew], [0, 1, 0]])\n",
    "    img = cv2.warpAffine(img,M,(SZ, SZ),flags=affine_flags)\n",
    "    return img\n"
   ]
  },
  {
   "cell_type": "markdown",
   "metadata": {},
   "source": [
    "## Sources\n",
    "\n",
    "- [OpenCV Tutorial](http://docs.opencv.org/3.0-beta/doc/py_tutorials/py_gui/py_image_display/py_image_display.html)\n",
    "- [Image Clustering Tutorial](http://www.pyimagesearch.com/2014/05/26/opencv-python-k-means-color-clustering/)\n",
    "- [OpenCV Digit Classification Tutorial](http://opencv-python-tutroals.readthedocs.org/en/latest/py_tutorials/py_ml/py_knn/py_knn_opencv/py_knn_opencv.html)"
   ]
  },
  {
   "cell_type": "markdown",
   "metadata": {},
   "source": [
    "#### Last Updated: 23-Sep-2016"
   ]
  }
 ],
 "metadata": {
  "anaconda-cloud": {},
  "kernelspec": {
   "display_name": "Python [default]",
   "language": "python",
   "name": "python2"
  },
  "language_info": {
   "codemirror_mode": {
    "name": "ipython",
    "version": 2
   },
   "file_extension": ".py",
   "mimetype": "text/x-python",
   "name": "python",
   "nbconvert_exporter": "python",
   "pygments_lexer": "ipython2",
   "version": "2.7.11"
  }
 },
 "nbformat": 4,
 "nbformat_minor": 0
}
