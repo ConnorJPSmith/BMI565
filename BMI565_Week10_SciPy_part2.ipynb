{
 "metadata": {
  "name": "",
  "signature": "sha256:cc6811f64aebd92552c5b25e6da6b481e30ef0f7084f5a04dd368f8b65764b26"
 },
 "nbformat": 3,
 "nbformat_minor": 0,
 "worksheets": [
  {
   "cells": [
    {
     "cell_type": "heading",
     "level": 1,
     "metadata": {},
     "source": [
      "BMI565: Bioinformatics Programming & Scripting\u00b6"
     ]
    },
    {
     "cell_type": "heading",
     "level": 4,
     "metadata": {},
     "source": [
      "(C) 2014 Michael Mooney (mooneymi@ohsu.edu)\n"
     ]
    },
    {
     "cell_type": "heading",
     "level": 2,
     "metadata": {},
     "source": [
      "Week 10: Scikit-learn and SciPy continued"
     ]
    },
    {
     "cell_type": "markdown",
     "metadata": {},
     "source": [
      "1. Cross-validation\n",
      "2. Optimizing Code with SciPy (`Weave`)\n",
      "3. Benchmarking in Python"
     ]
    },
    {
     "cell_type": "markdown",
     "metadata": {},
     "source": [
      "####Requirements\n",
      "\n",
      "- Python 2.7\n",
      "- `numpy` module\n",
      "- `scikit-learn` module\n",
      "- `matplotlib` module\n",
      "- `pandas` module\n",
      "- `scipy` module"
     ]
    },
    {
     "cell_type": "code",
     "collapsed": false,
     "input": [
      "%matplotlib inline"
     ],
     "language": "python",
     "metadata": {},
     "outputs": [],
     "prompt_number": 18
    },
    {
     "cell_type": "code",
     "collapsed": false,
     "input": [
      "import numpy as np\n",
      "import matplotlib.pyplot as plt\n",
      "import sklearn as sk\n",
      "from sklearn import datasets\n",
      "import pandas as pd\n",
      "import scipy as sp"
     ],
     "language": "python",
     "metadata": {},
     "outputs": [],
     "prompt_number": 19
    },
    {
     "cell_type": "markdown",
     "metadata": {},
     "source": [
      "##Cross-validation\n",
      "\n",
      "Cross-validation is a technique for evaluating how well a predictive model will generalize to an unseen (independent) dataset. The technique involves partitioning a dataset into multiple subsets and testing the model on each subset. Results from each subset of the data are average to give an estimate of the model performance."
     ]
    },
    {
     "cell_type": "markdown",
     "metadata": {},
     "source": [
      "###Example Data"
     ]
    },
    {
     "cell_type": "code",
     "collapsed": false,
     "input": [
      "## Load the iris dataset\n",
      "iris = datasets.load_iris()\n",
      "\n",
      "## Create a Pandas dataframe\n",
      "iris_df = pd.DataFrame(iris.data, columns=['sepal.length','sepal.width','petal.length','petal.width'])\n",
      "iris_df['species'] = pd.Series(iris.target, index=iris_df.index)\n",
      "\n",
      "## Subset the data\n",
      "iris_df2 = iris_df[(iris_df['species'] == 1) | (iris_df['species'] == 2)]"
     ],
     "language": "python",
     "metadata": {},
     "outputs": [],
     "prompt_number": 20
    },
    {
     "cell_type": "code",
     "collapsed": false,
     "input": [
      "## Create training and test data sets\n",
      "from sklearn import cross_validation\n",
      "from sklearn import svm\n",
      "\n",
      "x_train, x_test, y_train, y_test = cross_validation.train_test_split(iris_df2[['sepal.length','petal.length']], iris_df2['species'], test_size=0.4, random_state=0)"
     ],
     "language": "python",
     "metadata": {},
     "outputs": [],
     "prompt_number": 21
    },
    {
     "cell_type": "code",
     "collapsed": false,
     "input": [
      "x_train.shape"
     ],
     "language": "python",
     "metadata": {},
     "outputs": [
      {
       "metadata": {},
       "output_type": "pyout",
       "prompt_number": 22,
       "text": [
        "(60, 2)"
       ]
      }
     ],
     "prompt_number": 22
    },
    {
     "cell_type": "code",
     "collapsed": false,
     "input": [
      "x_test.shape"
     ],
     "language": "python",
     "metadata": {},
     "outputs": [
      {
       "metadata": {},
       "output_type": "pyout",
       "prompt_number": 23,
       "text": [
        "(40, 2)"
       ]
      }
     ],
     "prompt_number": 23
    },
    {
     "cell_type": "markdown",
     "metadata": {},
     "source": [
      "###SVM Classifier"
     ]
    },
    {
     "cell_type": "code",
     "collapsed": false,
     "input": [
      "## Set kernel type ('linear', 'poly', or 'rbf'), and run SVM\n",
      "## We will use only two variable, sepal.length and petal.length, for our classifier\n",
      "kernel_type = \"linear\"\n",
      "iris_class = svm.SVC(kernel=kernel_type, C=1, probability=True)\n",
      "iris_class.fit(x_train, y_train)"
     ],
     "language": "python",
     "metadata": {},
     "outputs": [
      {
       "metadata": {},
       "output_type": "pyout",
       "prompt_number": 24,
       "text": [
        "SVC(C=1, cache_size=200, class_weight=None, coef0=0.0, degree=3, gamma=0.0,\n",
        "  kernel='linear', max_iter=-1, probability=True, random_state=None,\n",
        "  shrinking=True, tol=0.001, verbose=False)"
       ]
      }
     ],
     "prompt_number": 24
    },
    {
     "cell_type": "code",
     "collapsed": false,
     "input": [
      "## Get the classifier accuracy\n",
      "print \"Classification accuracy: \", iris_class.score(x_test, y_test)"
     ],
     "language": "python",
     "metadata": {},
     "outputs": [
      {
       "output_type": "stream",
       "stream": "stdout",
       "text": [
        "Classification accuracy:  0.85\n"
       ]
      }
     ],
     "prompt_number": 25
    },
    {
     "cell_type": "code",
     "collapsed": false,
     "input": [
      "## Perform cross-validation\n",
      "from sklearn.metrics import make_scorer, accuracy_score, recall_score, precision_score\n",
      "\n",
      "## Choose score function\n",
      "my_scorer = make_scorer(accuracy_score, greater_is_better=True)\n",
      "\n",
      "cross_validation.cross_val_score(iris_class, x_train, y_train, cv=5, scoring=my_scorer)"
     ],
     "language": "python",
     "metadata": {},
     "outputs": [
      {
       "metadata": {},
       "output_type": "pyout",
       "prompt_number": 26,
       "text": [
        "array([ 1.        ,  1.        ,  0.91666667,  1.        ,  1.        ])"
       ]
      }
     ],
     "prompt_number": 26
    },
    {
     "cell_type": "code",
     "collapsed": false,
     "input": [
      "## Choose score function\n",
      "my_scorer = make_scorer(recall_score, greater_is_better=True, pos_label=2)\n",
      "\n",
      "## Precision = positive predictive value\n",
      "cross_validation.cross_val_score(iris_class, x_train, y_train, cv=5, scoring=my_scorer)"
     ],
     "language": "python",
     "metadata": {},
     "outputs": [
      {
       "metadata": {},
       "output_type": "pyout",
       "prompt_number": 27,
       "text": [
        "array([ 1. ,  1. ,  0.8,  1. ,  1. ])"
       ]
      }
     ],
     "prompt_number": 27
    },
    {
     "cell_type": "code",
     "collapsed": false,
     "input": [
      "## Choose score function\n",
      "my_scorer = make_scorer(precision_score, greater_is_better=True, pos_label=2)\n",
      "\n",
      "## Recall = sensitivity\n",
      "cross_validation.cross_val_score(iris_class, x_train, y_train, cv=5, scoring=my_scorer)"
     ],
     "language": "python",
     "metadata": {},
     "outputs": [
      {
       "metadata": {},
       "output_type": "pyout",
       "prompt_number": 28,
       "text": [
        "array([ 1.,  1.,  1.,  1.,  1.])"
       ]
      }
     ],
     "prompt_number": 28
    },
    {
     "cell_type": "markdown",
     "metadata": {},
     "source": [
      "###Compare SVMs"
     ]
    },
    {
     "cell_type": "code",
     "collapsed": false,
     "input": [
      "## Perform CV on linear SVM, C=0.1\n",
      "iris_class1 = svm.SVC(kernel=\"linear\", C=0.1, probability=True)\n",
      "scores1 = cross_validation.cross_val_score(iris_class1, x_train, y_train, cv=5, scoring=\"accuracy\")\n",
      "np.mean(scores1)"
     ],
     "language": "python",
     "metadata": {},
     "outputs": [
      {
       "metadata": {},
       "output_type": "pyout",
       "prompt_number": 29,
       "text": [
        "0.93333333333333335"
       ]
      }
     ],
     "prompt_number": 29
    },
    {
     "cell_type": "code",
     "collapsed": false,
     "input": [
      "## Performance on test data\n",
      "iris_class1.fit(x_train, y_train)\n",
      "print \"Linear, C=0.1\"\n",
      "print \"Classification accuracy: \", iris_class1.score(x_test, y_test)"
     ],
     "language": "python",
     "metadata": {},
     "outputs": [
      {
       "output_type": "stream",
       "stream": "stdout",
       "text": [
        "Linear, C=0.1\n",
        "Classification accuracy:  0.8\n"
       ]
      }
     ],
     "prompt_number": 30
    },
    {
     "cell_type": "code",
     "collapsed": false,
     "input": [
      "## Perform CV on polynomial SVM, C=0.1\n",
      "iris_class2 = svm.SVC(kernel=\"poly\", C=0.1, probability=True)\n",
      "scores2 = cross_validation.cross_val_score(iris_class2, x_train, y_train, cv=5, scoring=\"accuracy\")\n",
      "np.mean(scores2)"
     ],
     "language": "python",
     "metadata": {},
     "outputs": [
      {
       "metadata": {},
       "output_type": "pyout",
       "prompt_number": 31,
       "text": [
        "0.98333333333333317"
       ]
      }
     ],
     "prompt_number": 31
    },
    {
     "cell_type": "code",
     "collapsed": false,
     "input": [
      "## Performance on test data\n",
      "iris_class2.fit(x_train, y_train)\n",
      "print \"Polynomial, C=0.1\"\n",
      "print \"Classification accuracy: \", iris_class2.score(x_test, y_test)"
     ],
     "language": "python",
     "metadata": {},
     "outputs": [
      {
       "output_type": "stream",
       "stream": "stdout",
       "text": [
        "Polynomial, C=0.1\n",
        "Classification accuracy:  0.85\n"
       ]
      }
     ],
     "prompt_number": 32
    },
    {
     "cell_type": "code",
     "collapsed": false,
     "input": [
      "## Perform CV on radial SVM, C=0.15\n",
      "iris_class3 = svm.SVC(kernel=\"rbf\", C=0.15, probability=True)\n",
      "scores3 = cross_validation.cross_val_score(iris_class3, x_train, y_train, cv=5, scoring=\"accuracy\")\n",
      "np.mean(scores3)"
     ],
     "language": "python",
     "metadata": {},
     "outputs": [
      {
       "metadata": {},
       "output_type": "pyout",
       "prompt_number": 33,
       "text": [
        "0.91666666666666663"
       ]
      }
     ],
     "prompt_number": 33
    },
    {
     "cell_type": "code",
     "collapsed": false,
     "input": [
      "## Performance on test data\n",
      "iris_class3.fit(x_train, y_train)\n",
      "print \"Radial, C=0.15\"\n",
      "print \"Classification accuracy: \", iris_class3.score(x_test, y_test)"
     ],
     "language": "python",
     "metadata": {},
     "outputs": [
      {
       "output_type": "stream",
       "stream": "stdout",
       "text": [
        "Radial, C=0.15\n",
        "Classification accuracy:  0.775\n"
       ]
      }
     ],
     "prompt_number": 34
    },
    {
     "cell_type": "markdown",
     "metadata": {},
     "source": [
      "##SciPy and `weave`\n",
      "\n",
      "`Weave` allows you to optimize your code by including C/C++ code within your Python program. The `weave.inline()` function will run C code and return the results to your Python program. The `weave.blitz()` function will compile NumPy expression for faster execution."
     ]
    },
    {
     "cell_type": "code",
     "collapsed": false,
     "input": [
      "## Binary search\n",
      "def bsearch(l, n):\n",
      "    s = 0\n",
      "    e = len(l) - 1\n",
      "    while True:\n",
      "        if s > e:\n",
      "            return None\n",
      "        mid = (s + e)/2\n",
      "        if l[mid] < n:\n",
      "            s = mid  + 1\n",
      "        elif l[mid] > n:\n",
      "            e = mid  - 1\n",
      "        else:\n",
      "            return mid"
     ],
     "language": "python",
     "metadata": {},
     "outputs": [],
     "prompt_number": 36
    },
    {
     "cell_type": "code",
     "collapsed": false,
     "input": [
      "bsearch([1,2,3,4,5,6,7,8], 9)"
     ],
     "language": "python",
     "metadata": {},
     "outputs": [],
     "prompt_number": 38
    },
    {
     "cell_type": "code",
     "collapsed": false,
     "input": [
      "## Recursive binary search\n",
      "def rec_bsearch(l,n,s=0,e=None):\n",
      "    if e is None: e = len(l) - 1\n",
      "    if s > e:\n",
      "        return None\n",
      "    mid = (s + e)/2\n",
      "    if n == l[mid]:\n",
      "        return mid\n",
      "    elif n < l[mid]:\n",
      "        return rec_bsearch(l,n,s,mid-1)\n",
      "    else:\n",
      "        return rec_bsearch(l,n,mid+1,e)"
     ],
     "language": "python",
     "metadata": {},
     "outputs": [],
     "prompt_number": 39
    },
    {
     "cell_type": "code",
     "collapsed": false,
     "input": [
      "rec_bsearch([1,2,3,4,5,6,7,8], 3)"
     ],
     "language": "python",
     "metadata": {},
     "outputs": [
      {
       "metadata": {},
       "output_type": "pyout",
       "prompt_number": 40,
       "text": [
        "2"
       ]
      }
     ],
     "prompt_number": 40
    },
    {
     "cell_type": "code",
     "collapsed": false,
     "input": [
      "## C binary search \n",
      "from scipy import weave\n",
      "\n",
      "def c_int_bsearch(l, n):\n",
      "    \"\"\"\n",
      "    Binary search written in C, using SciPy weave\n",
      "    \"\"\"\n",
      "    \n",
      "    ## C code for binary search of integers\n",
      "    c_code = \"\"\"int val, mid, s = 0;\n",
      "        int e = l.length() - 1;\n",
      "        PyObject *py_val;\n",
      "        while(1)\n",
      "        {\n",
      "            if (s > e)\n",
      "            {\n",
      "                return_val =  -1;\n",
      "                break;\n",
      "            }\n",
      "            mid =  (s + e) /2;\n",
      "            val = py_to_int(PyList_GetItem(l, mid), \"val\");\n",
      "            if (val < n)\n",
      "                s = mid + 1;\n",
      "            else if (val > n)\n",
      "                e = mid - 1;\n",
      "            else\n",
      "            {\n",
      "                return_val = mid;\n",
      "                break;\n",
      "            }\n",
      "        }\n",
      "    \"\"\"\n",
      "    \n",
      "    return weave.inline(c_code, ['l','n'])"
     ],
     "language": "python",
     "metadata": {},
     "outputs": [],
     "prompt_number": 41
    },
    {
     "cell_type": "code",
     "collapsed": false,
     "input": [
      "c_int_bsearch([1,2,3,4,5,6,7,8], 3)"
     ],
     "language": "python",
     "metadata": {},
     "outputs": [
      {
       "metadata": {},
       "output_type": "pyout",
       "prompt_number": 42,
       "text": [
        "2"
       ]
      }
     ],
     "prompt_number": 42
    },
    {
     "cell_type": "code",
     "collapsed": false,
     "input": [
      "## Use weave.blitz() to compile and run a NumPy expression\n",
      "a = np.random.random_integers(0,100,(3,50))\n",
      "print a\n",
      "np_expr = \"a[0,:] = (a[0,:] + a[1,:] + a[2,:])/3\"\n",
      "weave.blitz(np_expr)\n",
      "a"
     ],
     "language": "python",
     "metadata": {},
     "outputs": [
      {
       "output_type": "stream",
       "stream": "stdout",
       "text": [
        "[[77 56 60  2 65  1  0 52  5 92 56 10  0 65  4 16 55 99 42 58 29 63 23 37\n",
        "  91 39  5 81 14 82 50 44 91 42 61 76  0 19 46 62 66 28 94 36 35 76  6 51\n",
        "  44 34]\n",
        " [65 39 65 69 43  8 26  8 92  5 37  1 97 94 64 65 79 20 59 90 76 82 87 60\n",
        "  77 70 30 59 43 27 35 20  3 20 85 50 33 33 35  0 48  0 86 99 21 26  9 82\n",
        "  35 25]\n",
        " [71 95 93 17 94 17 64 94 16 71 21 98 19 70 55 49 93 36 10 95 26 18 92 37\n",
        "  26 25 81 82 71 83 16 96 97 78 61 92 77 19  2 31 82 43  3 79 38 76 62 40\n",
        "  46  6]]\n"
       ]
      },
      {
       "metadata": {},
       "output_type": "pyout",
       "prompt_number": 43,
       "text": [
        "array([[71, 63, 72, 29, 67,  8, 30, 51, 37, 56, 38, 36, 38, 76, 41, 43, 75,\n",
        "        51, 37, 81, 43, 54, 67, 44, 64, 44, 38, 74, 42, 64, 33, 53, 63, 46,\n",
        "        69, 72, 36, 23, 27, 31, 65, 23, 61, 71, 31, 59, 25, 57, 41, 21],\n",
        "       [65, 39, 65, 69, 43,  8, 26,  8, 92,  5, 37,  1, 97, 94, 64, 65, 79,\n",
        "        20, 59, 90, 76, 82, 87, 60, 77, 70, 30, 59, 43, 27, 35, 20,  3, 20,\n",
        "        85, 50, 33, 33, 35,  0, 48,  0, 86, 99, 21, 26,  9, 82, 35, 25],\n",
        "       [71, 95, 93, 17, 94, 17, 64, 94, 16, 71, 21, 98, 19, 70, 55, 49, 93,\n",
        "        36, 10, 95, 26, 18, 92, 37, 26, 25, 81, 82, 71, 83, 16, 96, 97, 78,\n",
        "        61, 92, 77, 19,  2, 31, 82, 43,  3, 79, 38, 76, 62, 40, 46,  6]])"
       ]
      }
     ],
     "prompt_number": 43
    },
    {
     "cell_type": "markdown",
     "metadata": {},
     "source": [
      "##Benchmarking in Python\n",
      "\n",
      "There are a number of ways to evaluate the performance of your Python code. Three useful modules are:\n",
      "\n",
      "- `time`\n",
      "- `timeit`\n",
      "- `profile`"
     ]
    },
    {
     "cell_type": "markdown",
     "metadata": {},
     "source": [
      "###`time` module"
     ]
    },
    {
     "cell_type": "code",
     "collapsed": false,
     "input": [
      "## Get runtime of searches\n",
      "import time\n",
      "import random\n",
      "\n",
      "def search_time(fun, N, M):\n",
      "    runtimes = []\n",
      "    nums = range(M)\n",
      "    start_time = time.time()\n",
      "    for i in range(N):\n",
      "        t0 = time.time()\n",
      "        cmd = fun + \"(nums, 3450)\"\n",
      "        idx = eval(cmd)\n",
      "        runtimes.append(time.time() - t0)\n",
      "    \n",
      "    print \"Total runtime: \", time.time() - start_time\n",
      "    print \"Mean runtime: \", sum(runtimes)/len(runtimes)\n",
      "    return None"
     ],
     "language": "python",
     "metadata": {},
     "outputs": [],
     "prompt_number": 44
    },
    {
     "cell_type": "code",
     "collapsed": false,
     "input": [
      "print \"Binary Search:\"\n",
      "search_time(\"bsearch\", 5000, 1000000)\n",
      "print \"\\nRecursive Binary Search:\"\n",
      "search_time(\"rec_bsearch\", 5000, 1000000)\n",
      "print \"\\nC Binary Search:\"\n",
      "search_time(\"c_int_bsearch\", 5000, 1000000)"
     ],
     "language": "python",
     "metadata": {},
     "outputs": [
      {
       "output_type": "stream",
       "stream": "stdout",
       "text": [
        "Binary Search:\n",
        "Total runtime: "
       ]
      },
      {
       "output_type": "stream",
       "stream": "stdout",
       "text": [
        " 0.165578126907\n",
        "Mean runtime:  3.22567939758e-05\n",
        "\n",
        "Recursive Binary Search:\n",
        "Total runtime: "
       ]
      },
      {
       "output_type": "stream",
       "stream": "stdout",
       "text": [
        " 0.170922040939\n",
        "Mean runtime:  3.34846973419e-05\n",
        "\n",
        "C Binary Search:\n",
        "Total runtime: "
       ]
      },
      {
       "output_type": "stream",
       "stream": "stdout",
       "text": [
        " 0.109416007996\n",
        "Mean runtime:  2.12083816528e-05\n"
       ]
      }
     ],
     "prompt_number": 45
    },
    {
     "cell_type": "markdown",
     "metadata": {},
     "source": [
      "###`timeit` module"
     ]
    },
    {
     "cell_type": "code",
     "collapsed": false,
     "input": [
      "import timeit\n",
      "\n",
      "## Get the runtime of a Python statement\n",
      "timeit.timeit(\"rec_bsearch(nums, 3450)\", setup=\"from __main__ import bsearch, rec_bsearch, c_int_bsearch; nums = range(1000000)\", number=5000)"
     ],
     "language": "python",
     "metadata": {},
     "outputs": [
      {
       "metadata": {},
       "output_type": "pyout",
       "prompt_number": 46,
       "text": [
        "0.07853507995605469"
       ]
      }
     ],
     "prompt_number": 46
    },
    {
     "cell_type": "code",
     "collapsed": false,
     "input": [
      "## Create a timer and run it multiple times\n",
      "timer = timeit.Timer(\"rec_bsearch(nums, 3450)\", setup=\"from __main__ import bsearch, rec_bsearch, c_int_bsearch; nums = range(1000000)\")\n",
      "timer.repeat(3, number=5000)"
     ],
     "language": "python",
     "metadata": {},
     "outputs": [
      {
       "metadata": {},
       "output_type": "pyout",
       "prompt_number": 47,
       "text": [
        "[0.07658600807189941, 0.05780196189880371, 0.06078696250915527]"
       ]
      }
     ],
     "prompt_number": 47
    },
    {
     "cell_type": "markdown",
     "metadata": {},
     "source": [
      "###`profile` module"
     ]
    },
    {
     "cell_type": "code",
     "collapsed": false,
     "input": [
      "import profile\n",
      "nums = range(10000000)\n",
      "profile.run(\"bsearch(nums, 30450)\")"
     ],
     "language": "python",
     "metadata": {},
     "outputs": [
      {
       "output_type": "stream",
       "stream": "stdout",
       "text": [
        "         5 function calls in 0.000 seconds\n",
        "\n",
        "   Ordered by: standard name\n",
        "\n",
        "   ncalls  tottime  percall  cumtime  percall filename:lineno(function)\n",
        "        1    0.000    0.000    0.000    0.000 :0(len)\n",
        "        1    0.000    0.000    0.000    0.000 :0(setprofile)\n",
        "        1    0.000    0.000    0.000    0.000 <ipython-input-36-da0951d148b4>:2(bsearch)\n",
        "        1    0.000    0.000    0.000    0.000 <string>:1(<module>)\n",
        "        1    0.000    0.000    0.000    0.000 profile:0(bsearch(nums, 30450))\n",
        "        0    0.000             0.000          profile:0(profiler)\n",
        "\n",
        "\n"
       ]
      }
     ],
     "prompt_number": 48
    },
    {
     "cell_type": "code",
     "collapsed": false,
     "input": [
      "profile.run(\"rec_bsearch(nums, 30450)\")"
     ],
     "language": "python",
     "metadata": {},
     "outputs": [
      {
       "output_type": "stream",
       "stream": "stdout",
       "text": [
        "         27 function calls (5 primitive calls) in 0.001 seconds\n",
        "\n",
        "   Ordered by: standard name\n",
        "\n",
        "   ncalls  tottime  percall  cumtime  percall filename:lineno(function)\n",
        "        1    0.000    0.000    0.000    0.000 :0(len)\n",
        "        1    0.000    0.000    0.000    0.000 :0(setprofile)\n",
        "     23/1    0.000    0.000    0.000    0.000 <ipython-input-39-70b647710504>:2(rec_bsearch)\n",
        "        1    0.000    0.000    0.000    0.000 <string>:1(<module>)\n",
        "        0    0.000             0.000          profile:0(profiler)\n",
        "        1    0.000    0.000    0.001    0.001 profile:0(rec_bsearch(nums, 30450))\n",
        "\n",
        "\n"
       ]
      }
     ],
     "prompt_number": 49
    },
    {
     "cell_type": "code",
     "collapsed": false,
     "input": [
      "profile.run(\"c_int_bsearch(nums, 30450)\")"
     ],
     "language": "python",
     "metadata": {},
     "outputs": [
      {
       "output_type": "stream",
       "stream": "stdout",
       "text": [
        "         7 function calls in 0.000 seconds\n",
        "\n",
        "   Ordered by: standard name\n",
        "\n",
        "   ncalls  tottime  percall  cumtime  percall filename:lineno(function)\n",
        "        1    0.000    0.000    0.000    0.000 :0(_getframe)\n",
        "        1    0.000    0.000    0.000    0.000 :0(apply)\n",
        "        1    0.000    0.000    0.000    0.000 :0(setprofile)\n",
        "        1    0.000    0.000    0.000    0.000 <ipython-input-41-dccaeb9f611f>:4(c_int_bsearch)\n",
        "        1    0.000    0.000    0.000    0.000 <string>:1(<module>)\n",
        "        1    0.000    0.000    0.000    0.000 inline_tools.py:144(inline)\n",
        "        1    0.000    0.000    0.000    0.000 profile:0(c_int_bsearch(nums, 30450))\n",
        "        0    0.000             0.000          profile:0(profiler)\n",
        "\n",
        "\n"
       ]
      }
     ],
     "prompt_number": 50
    },
    {
     "cell_type": "heading",
     "level": 2,
     "metadata": {},
     "source": [
      "In-Class Exercises"
     ]
    },
    {
     "cell_type": "code",
     "collapsed": false,
     "input": [
      "## Exercise 1.\n",
      "## Use cross-validation to compare two SVMs\n",
      "## Create boxplots of the scores from each fold of the CV\n",
      "##\n",
      "iris_class3 = svm.SVC(kernel=\"rbf\", C=0.15, probability=True)\n",
      "scores3 = cross_validation.cross_val_score(iris_class3, x_train, y_train, cv=5, scoring=\"accuracy\")\n",
      "np.mean(scores3)\n",
      "\n",
      "iris_class2 = svm.SVC(kernel=\"poly\", C=0.1, probability=True)\n",
      "scores2 = cross_validation.cross_val_score(iris_class2, x_train, y_train, cv=5, scoring=\"accuracy\")\n",
      "np.mean(scores2)\n",
      "\n"
     ],
     "language": "python",
     "metadata": {},
     "outputs": []
    },
    {
     "cell_type": "code",
     "collapsed": false,
     "input": [
      "## Exercise 2.\n",
      "## Implement bubble sort using Weave\n",
      "## Here is the Python version:\n",
      "def bsort(l):\n",
      "    l2 = l[:]\n",
      "    swaps = True\n",
      "    while swaps == True:\n",
      "        swaps = False\n",
      "        for i in range(len(l2)-1):\n",
      "            if l2[i] > l2[i+1]:\n",
      "                l2[i], l2[i+1] = l2[i+1], l2[i]\n",
      "                swaps = True\n",
      "    \n",
      "    return l2\n",
      "\n",
      "def c_int_bsort(l):\n",
      "    \"\"\"\n",
      "    Bubble sort written in C\n",
      "    \"\"\"\n",
      "    \n",
      "    ## C code\n",
      "    c_code = \"\"\"int N = l.length()-1;\n",
      "        int v1, v2;\n",
      "        int swaps = 1;\n",
      "        PyObject* val1 = NULL;\n",
      "        PyObject* val2 = NULL;\n",
      "        while(swaps)\n",
      "        {\n",
      "            swaps = 0;\n",
      "            for(int i = 0; i < N; i++)\n",
      "            {\n",
      "                val1 = PyList_GetItem(l,i);\n",
      "                val2 = PyList_GetItem(l,i+1);\n",
      "                v1 = py_to_int(val1, \"v1\");\n",
      "                v2 = py_to_int(val2, \"v2\");\n",
      "                if (v1 > v2)\n",
      "                {\n",
      "                    PyList_SetItem(l,i,val2);\n",
      "                    PyList_SetItem(l,i+1,val1);\n",
      "                    swaps=1;\n",
      "                }\n",
      "            }\n",
      "        }\n",
      "        return_val = l;\n",
      "    \"\"\"\n",
      "    \n",
      "    return weave.inline(c_code, ['l'])\n",
      "\n",
      "search_list = random.sample(range(100000),50)"
     ],
     "language": "python",
     "metadata": {},
     "outputs": [],
     "prompt_number": 53
    },
    {
     "cell_type": "heading",
     "level": 2,
     "metadata": {},
     "source": [
      "References"
     ]
    },
    {
     "cell_type": "markdown",
     "metadata": {},
     "source": [
      "- [http://scikit-learn.org/stable/modules/cross_validation.html](http://scikit-learn.org/stable/modules/cross_validation.html)\n",
      "- [http://scikit-learn.org/stable/modules/generated/sklearn.svm.SVC.html](http://scikit-learn.org/stable/modules/generated/sklearn.svm.SVC.html)\n",
      "- [http://docs.scipy.org/doc/scipy-0.14.0/reference/tutorial/weave.html](http://docs.scipy.org/doc/scipy-0.14.0/reference/tutorial/weave.html)\n",
      "- [https://docs.python.org/2/library/time.html](https://docs.python.org/2/library/time.html)\n",
      "- [https://docs.python.org/2/library/timeit.html](https://docs.python.org/2/library/timeit.html)\n",
      "- [https://docs.python.org/2/library/profile.html](https://docs.python.org/2/library/profile.html)"
     ]
    },
    {
     "cell_type": "heading",
     "level": 4,
     "metadata": {},
     "source": [
      "Last Updated: 3-Dec-2014"
     ]
    }
   ],
   "metadata": {}
  }
 ]
}