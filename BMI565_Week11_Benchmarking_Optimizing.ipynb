{
 "cells": [
  {
   "cell_type": "markdown",
   "metadata": {},
   "source": [
    "# BMI565: Bioinformatics Programming & Scripting"
   ]
  },
  {
   "cell_type": "markdown",
   "metadata": {},
   "source": [
    "#### (C) Michael Mooney (mooneymi@ohsu.edu)"
   ]
  },
  {
   "cell_type": "markdown",
   "metadata": {},
   "source": [
    "## Week 11: Benchmarking and Optimizing Python Code"
   ]
  },
  {
   "cell_type": "markdown",
   "metadata": {},
   "source": [
    "1. Benchmarking / Profiling in Python\n",
    "2. Optimizing Code with SciPy (Weave)\n",
    "3. Parallel Processing\n",
    "    - `Multiprocessing` module\n",
    "    - `pp` (Parallel Python) module\n",
    "4. Final Exam Review"
   ]
  },
  {
   "cell_type": "markdown",
   "metadata": {},
   "source": [
    "#### Requirements\n",
    "\n",
    "- Python 2.7\n",
    "- `time`, `timeit`, and `profile` modules\n",
    "- `scipy` and `numpy` modules\n",
    "- `multiprocessing` module\n",
    "- Parallel Python, `pp`, module\n",
    "\n",
    "** Note: Parallel Python can be installed with `pip install pp`."
   ]
  },
  {
   "cell_type": "markdown",
   "metadata": {},
   "source": [
    "## Benchmarking / Profiling\n",
    "\n",
    "There are a number of ways to evaluate the performance of your Python code. Three useful modules are:\n",
    "\n",
    "- `time`\n",
    "- `timeit`\n",
    "- `profile`"
   ]
  },
  {
   "cell_type": "code",
   "execution_count": 1,
   "metadata": {
    "collapsed": true
   },
   "outputs": [],
   "source": [
    "## Define a function that determines if a number is prime\n",
    "def isprime(n):\n",
    "    \"\"\"\n",
    "    Returns the number if it is prime, otherwise returns None.\n",
    "    \"\"\"\n",
    "    assert n > 0, \"Number must be greater than 0!\"\n",
    "    if n < 2: return None\n",
    "    for i in range(2,n):\n",
    "        if n % i == 0:\n",
    "            return None\n",
    "    return n\n",
    "\n",
    "def get_primes(min, max):\n",
    "    result = []\n",
    "    possible_primes = range(min,max+1)\n",
    "    for n in possible_primes:\n",
    "        result.append(isprime(n))\n",
    "\n",
    "    prime_nums = [n for n in result if n is not None]\n",
    "    return prime_nums"
   ]
  },
  {
   "cell_type": "code",
   "execution_count": 2,
   "metadata": {
    "collapsed": true
   },
   "outputs": [],
   "source": [
    "## Binary search function\n",
    "def bsearch(l, n):\n",
    "    s = 0\n",
    "    e = len(l) - 1\n",
    "    while True:\n",
    "        if s > e:\n",
    "            return None\n",
    "        mid = (s + e)/2\n",
    "        if l[mid] < n:\n",
    "            s = mid  + 1\n",
    "        elif l[mid] > n:\n",
    "            e = mid  - 1\n",
    "        else:\n",
    "            return mid"
   ]
  },
  {
   "cell_type": "code",
   "execution_count": 3,
   "metadata": {
    "collapsed": true
   },
   "outputs": [],
   "source": [
    "## Recursive binary search function\n",
    "def rec_bsearch(l,n,s=0,e=None):\n",
    "    if e is None: e = len(l) - 1\n",
    "    if s > e:\n",
    "        return None\n",
    "    mid = (s + e)/2\n",
    "    if n == l[mid]:\n",
    "        return mid\n",
    "    elif n < l[mid]:\n",
    "        return rec_bsearch(l,n,s,mid-1)\n",
    "    else:\n",
    "        return rec_bsearch(l,n,mid+1,e)"
   ]
  },
  {
   "cell_type": "markdown",
   "metadata": {},
   "source": [
    "### `time` module"
   ]
  },
  {
   "cell_type": "code",
   "execution_count": 4,
   "metadata": {
    "collapsed": true
   },
   "outputs": [],
   "source": [
    "import time\n",
    "\n",
    "def search_time(fun, N, M):\n",
    "    runtimes = []\n",
    "    nums = range(M)\n",
    "    start_time = time.time()\n",
    "    for i in range(N):\n",
    "        t0 = time.time()\n",
    "        cmd = fun + \"(nums, 3450)\"\n",
    "        idx = eval(cmd)\n",
    "        runtimes.append(time.time() - t0)\n",
    "    \n",
    "    print \"Total runtime: \", time.time() - start_time\n",
    "    print \"Mean runtime: \", sum(runtimes)/len(runtimes)\n",
    "    return None"
   ]
  },
  {
   "cell_type": "code",
   "execution_count": 5,
   "metadata": {
    "collapsed": false
   },
   "outputs": [
    {
     "name": "stdout",
     "output_type": "stream",
     "text": [
      "Binary Search:\n",
      "Total runtime:  0.0782740116119\n",
      "Mean runtime:  1.53031349182e-05\n"
     ]
    }
   ],
   "source": [
    "print \"Binary Search:\"\n",
    "search_time(\"bsearch\", 5000, 1000000)"
   ]
  },
  {
   "cell_type": "markdown",
   "metadata": {},
   "source": [
    "### `timeit` module"
   ]
  },
  {
   "cell_type": "code",
   "execution_count": 6,
   "metadata": {
    "collapsed": false
   },
   "outputs": [
    {
     "data": {
      "text/plain": [
       "0.0261228084564209"
      ]
     },
     "execution_count": 6,
     "metadata": {},
     "output_type": "execute_result"
    }
   ],
   "source": [
    "import timeit\n",
    "\n",
    "## Get the runtime of a Python statement\n",
    "timeit.timeit(\"bsearch(nums, 3450)\", setup=\"from __main__ import bsearch; nums = range(1000000)\", number=5000)"
   ]
  },
  {
   "cell_type": "code",
   "execution_count": 7,
   "metadata": {
    "collapsed": false
   },
   "outputs": [
    {
     "data": {
      "text/plain": [
       "[0.025300979614257812, 0.020846128463745117, 0.02072000503540039]"
      ]
     },
     "execution_count": 7,
     "metadata": {},
     "output_type": "execute_result"
    }
   ],
   "source": [
    "## Create a timer and run it multiple times\n",
    "timer = timeit.Timer(\"bsearch(nums, 3450)\", setup=\"from __main__ import bsearch; nums = range(1000000)\")\n",
    "timer.repeat(3, number=5000)"
   ]
  },
  {
   "cell_type": "markdown",
   "metadata": {},
   "source": [
    "### `profile` module"
   ]
  },
  {
   "cell_type": "code",
   "execution_count": 8,
   "metadata": {
    "collapsed": false
   },
   "outputs": [
    {
     "name": "stdout",
     "output_type": "stream",
     "text": [
      "         23 function calls (5 primitive calls) in 0.001 seconds\n",
      "\n",
      "   Ordered by: standard name\n",
      "\n",
      "   ncalls  tottime  percall  cumtime  percall filename:lineno(function)\n",
      "        1    0.000    0.000    0.000    0.000 :0(len)\n",
      "        1    0.000    0.000    0.000    0.000 :0(setprofile)\n",
      "     19/1    0.000    0.000    0.000    0.000 <ipython-input-3-3e47e1fd46da>:2(rec_bsearch)\n",
      "        1    0.000    0.000    0.000    0.000 <string>:1(<module>)\n",
      "        0    0.000             0.000          profile:0(profiler)\n",
      "        1    0.000    0.000    0.001    0.001 profile:0(rec_bsearch(nums, 3450))\n",
      "\n",
      "\n"
     ]
    }
   ],
   "source": [
    "import profile\n",
    "nums = range(10000000)\n",
    "profile.run(\"rec_bsearch(nums, 3450)\")"
   ]
  },
  {
   "cell_type": "markdown",
   "metadata": {},
   "source": [
    "## Scipy and `weave`\n",
    "\n",
    "`Weave` allows you to optimize your code by including C/C++ code within your Python program. The weave.inline() function will run C code and return the results to your Python program. The weave.blitz() function will compile NumPy expressions for faster execution."
   ]
  },
  {
   "cell_type": "code",
   "execution_count": 9,
   "metadata": {
    "collapsed": true
   },
   "outputs": [],
   "source": [
    "## The code below was adapted from the SciPy website:\n",
    "## http://docs.scipy.org/doc/scipy/reference/tutorial/weave.html\n",
    "\n",
    "## C binary search \n",
    "from scipy import weave\n",
    "import numpy as np\n",
    "\n",
    "def c_int_bsearch(l, n):\n",
    "    \"\"\"\n",
    "    Binary search written in C, using SciPy weave\n",
    "    \"\"\"\n",
    "    \n",
    "    ## C code for binary search of integers\n",
    "    c_code = \"\"\"int val, mid, s = 0;\n",
    "        int e = l.length() - 1;\n",
    "        PyObject *py_val;\n",
    "        while(1)\n",
    "        {\n",
    "            if (s > e)\n",
    "            {\n",
    "                return_val =  -1;\n",
    "                break;\n",
    "            }\n",
    "            mid =  (s + e) /2;\n",
    "            val = py_to_int(PyList_GetItem(l, mid), \"val\");\n",
    "            if (val < n)\n",
    "                s = mid + 1;\n",
    "            else if (val > n)\n",
    "                e = mid - 1;\n",
    "            else\n",
    "            {\n",
    "                return_val = mid;\n",
    "                break;\n",
    "            }\n",
    "        }\n",
    "    \"\"\"\n",
    "    \n",
    "    return weave.inline(c_code, ['l','n'])"
   ]
  },
  {
   "cell_type": "code",
   "execution_count": 10,
   "metadata": {
    "collapsed": false
   },
   "outputs": [
    {
     "data": {
      "text/plain": [
       "2"
      ]
     },
     "execution_count": 10,
     "metadata": {},
     "output_type": "execute_result"
    }
   ],
   "source": [
    "c_int_bsearch([1,2,3,4,5,6,7,8], 3)"
   ]
  },
  {
   "cell_type": "code",
   "execution_count": 11,
   "metadata": {
    "collapsed": false
   },
   "outputs": [
    {
     "name": "stdout",
     "output_type": "stream",
     "text": [
      "[[ 81  30  51  78  85  68  14  35   3  99  85  43  93  68  30  33   7  22\n",
      "   34  26  51  72  49  73  60  66  64  27  21  47   6  15  47  86   8  86\n",
      "   71  58  11   1  33  63 100  31  71  66  23  49  90  74]\n",
      " [ 85  42  61  55  31  93  57  21  32  93  11  82  55  20  95  97  22  67\n",
      "    7  55  35  45  59  47  61  87   7  47  83  49  38  41  58  62  18  24\n",
      "   86  80  81  18 100  87  64  61  39  12  51  76  81  76]\n",
      " [ 15  85  18  94  62  65  91  37  55  50  35  78  69   7  31  23  94  90\n",
      "   99  52  38  58  31  33  37  98   1  20 100  43  15  69  26  31  33  79\n",
      "   85  13  36  82   2  73  89  15  83  69  70  37  95  87]]\n",
      "\n",
      "[[ 60  52  43  75  59  75  54  31  30  80  43  67  72  31  52  51  41  59\n",
      "   46  44  41  58  46  51  52  83  24  31  68  46  19  41  43  59  19  63\n",
      "   80  50  42  33  45  74  84  35  64  49  48  54  88  79]\n",
      " [ 85  42  61  55  31  93  57  21  32  93  11  82  55  20  95  97  22  67\n",
      "    7  55  35  45  59  47  61  87   7  47  83  49  38  41  58  62  18  24\n",
      "   86  80  81  18 100  87  64  61  39  12  51  76  81  76]\n",
      " [ 15  85  18  94  62  65  91  37  55  50  35  78  69   7  31  23  94  90\n",
      "   99  52  38  58  31  33  37  98   1  20 100  43  15  69  26  31  33  79\n",
      "   85  13  36  82   2  73  89  15  83  69  70  37  95  87]]\n"
     ]
    }
   ],
   "source": [
    "## Use weave.blitz() to compile and run a NumPy expression\n",
    "a = np.random.randint(0,101,(3,50))\n",
    "print a\n",
    "print \n",
    "np_expr = \"a[0,:] = (a[0,:] + a[1,:] + a[2,:])/3\"\n",
    "weave.blitz(np_expr)\n",
    "print a"
   ]
  },
  {
   "cell_type": "markdown",
   "metadata": {},
   "source": [
    "## Parallel Processing\n",
    "\n",
    "Parallel processing is a technique for improving the performance of a computational task, based on the idea that large problems can often be split into multiple smaller problems. These smaller problems can then be solved simultaneously (in parallel). Given the constraints of processor design and development, parallel computing (multi-processor machines) is now a common way to improve computational power.\n",
    "\n",
    "There are numerous Python modules that allow you to take advantage of the computational power of multiple processors (the list below is not complete):\n",
    "\n",
    "[https://wiki.python.org/moin/ParallelProcessing](https://wiki.python.org/moin/ParallelProcessing)\n",
    "\n",
    "Keep in mind that there is always some amount of overhead cost due to splitting a large task into multiple smaller task and then gathering/compiling the individual results. The efficiency gains achieved with parallel processing will depend on the individual tasks being performed and the amount of communication (data transfer) required."
   ]
  },
  {
   "cell_type": "code",
   "execution_count": 12,
   "metadata": {
    "collapsed": false
   },
   "outputs": [],
   "source": [
    "import multiprocessing as mp\n",
    "import pp"
   ]
  },
  {
   "cell_type": "code",
   "execution_count": 13,
   "metadata": {
    "collapsed": false
   },
   "outputs": [
    {
     "name": "stdout",
     "output_type": "stream",
     "text": [
      "There are 1888 prime numbers between 30000 and 50000.\n",
      "Elapsed time: 11.852011919\n"
     ]
    }
   ],
   "source": [
    "## Find prime numbers serially\n",
    "min_prime = 30000\n",
    "max_prime = 50000\n",
    "\n",
    "t0 = time.time()\n",
    "prime_nums = get_primes(min_prime, max_prime)\n",
    "t1 = time.time()\n",
    "\n",
    "print \"There are %d prime numbers between %d and %d.\" % (len(prime_nums), min_prime, max_prime)\n",
    "print \"Elapsed time:\", t1 - t0"
   ]
  },
  {
   "cell_type": "code",
   "execution_count": 14,
   "metadata": {
    "collapsed": false
   },
   "outputs": [
    {
     "name": "stdout",
     "output_type": "stream",
     "text": [
      "         60008 function calls in 11.998 seconds\n",
      "\n",
      "   Ordered by: standard name\n",
      "\n",
      "   ncalls  tottime  percall  cumtime  percall filename:lineno(function)\n",
      "    20001    0.036    0.000    0.036    0.000 :0(append)\n",
      "    20002    3.823    0.000    3.823    0.000 :0(range)\n",
      "        1    0.000    0.000    0.000    0.000 :0(setprofile)\n",
      "        1    0.081    0.081   11.998   11.998 <ipython-input-1-4d94308a6ebf>:13(get_primes)\n",
      "    20001    8.057    0.000   11.880    0.001 <ipython-input-1-4d94308a6ebf>:2(isprime)\n",
      "        1    0.000    0.000   11.998   11.998 <string>:1(<module>)\n",
      "        1    0.000    0.000   11.998   11.998 profile:0(get_primes(min_prime, max_prime))\n",
      "        0    0.000             0.000          profile:0(profiler)\n",
      "\n",
      "\n"
     ]
    }
   ],
   "source": [
    "profile.run(\"get_primes(min_prime, max_prime)\")"
   ]
  },
  {
   "cell_type": "markdown",
   "metadata": {},
   "source": [
    "### `Multiprocessing` module\n",
    "\n",
    "`Multiprocessing` is a module in Python's standard library that allows you to spawn multiple Python processes. It is an easy way to take advantage of multiple cores on a single machine.\n",
    "\n",
    "[https://docs.python.org/2/library/multiprocessing.html](https://docs.python.org/2/library/multiprocessing.html)"
   ]
  },
  {
   "cell_type": "code",
   "execution_count": 15,
   "metadata": {
    "collapsed": false
   },
   "outputs": [
    {
     "data": {
      "text/plain": [
       "8"
      ]
     },
     "execution_count": 15,
     "metadata": {},
     "output_type": "execute_result"
    }
   ],
   "source": [
    "## Get number of CPUs\n",
    "mp.cpu_count()"
   ]
  },
  {
   "cell_type": "code",
   "execution_count": 16,
   "metadata": {
    "collapsed": false
   },
   "outputs": [
    {
     "name": "stdout",
     "output_type": "stream",
     "text": [
      "There are 1888 prime numbers between 30000 and 50000.\n",
      "Elapsed time: 4.24339699745\n"
     ]
    }
   ],
   "source": [
    "## Find prime numbers using parallel processes\n",
    "possible_primes = range(min_prime,max_prime+1)\n",
    "\n",
    "t2 = time.time()\n",
    "pool = mp.Pool(processes=3)\n",
    "result2 = pool.map(isprime, possible_primes)\n",
    "prime_nums2 = [n for n in result2 if n is not None]\n",
    "t3 = time.time()\n",
    "\n",
    "## Make sure to close the processes created by Pool\n",
    "pool.close()\n",
    "\n",
    "print \"There are %d prime numbers between %d and %d.\" % (len(prime_nums2), min_prime, max_prime) \n",
    "print \"Elapsed time:\", t3 - t2"
   ]
  },
  {
   "cell_type": "markdown",
   "metadata": {},
   "source": [
    "### `pp` (Parallel Python) module\n",
    "\n",
    "The Parallel Python module can be used to parallelize across multiple processors on a single machine, and also across multiple nodes of a computing cluster.\n",
    "\n",
    "[http://www.parallelpython.com/](http://www.parallelpython.com/)"
   ]
  },
  {
   "cell_type": "code",
   "execution_count": 17,
   "metadata": {
    "collapsed": false
   },
   "outputs": [
    {
     "name": "stdout",
     "output_type": "stream",
     "text": [
      "There are 1888 prime numbers between 30000 and 50000.\n",
      "Elapsed time: 7.1587061882\n"
     ]
    }
   ],
   "source": [
    "## Create pp job server\n",
    "job_server = pp.Server(ncpus=3)\n",
    "jobs = []\n",
    "\n",
    "t4 = time.time()\n",
    "## Submit jobs to pp server\n",
    "for i in possible_primes:\n",
    "    jobs.append(job_server.submit(isprime, (i,)))\n",
    "## Wait for all jobs to finish\n",
    "job_server.wait()\n",
    "prime_nums3 = [job() for job in jobs if job() is not None]\n",
    "t5 = time.time()\n",
    "\n",
    "## Close the processes created by pp\n",
    "job_server.destroy()\n",
    "\n",
    "## Print results\n",
    "print \"There are %d prime numbers between %d and %d.\" % (len(prime_nums3), min_prime, max_prime) \n",
    "print \"Elapsed time:\", t5 - t4"
   ]
  },
  {
   "cell_type": "markdown",
   "metadata": {},
   "source": [
    "## References\n",
    "\n",
    "- [https://wiki.python.org/moin/ParallelProcessing](https://wiki.python.org/moin/ParallelProcessing)\n",
    "- [http://docs.scipy.org/doc/scipy-0.14.0/reference/tutorial/weave.html](http://docs.scipy.org/doc/scipy-0.14.0/reference/tutorial/weave.html)\n",
    "- [https://docs.python.org/2/library/time.html](https://docs.python.org/2/library/time.html)\n",
    "- [https://docs.python.org/2/library/timeit.html](https://docs.python.org/2/library/timeit.html)\n",
    "- [https://docs.python.org/2/library/profile.html](https://docs.python.org/2/library/profile.html)"
   ]
  },
  {
   "cell_type": "markdown",
   "metadata": {},
   "source": [
    "#### Last Updated: 23-Sep-2016"
   ]
  }
 ],
 "metadata": {
  "anaconda-cloud": {},
  "kernelspec": {
   "display_name": "Python [default]",
   "language": "python",
   "name": "python2"
  },
  "language_info": {
   "codemirror_mode": {
    "name": "ipython",
    "version": 2
   },
   "file_extension": ".py",
   "mimetype": "text/x-python",
   "name": "python",
   "nbconvert_exporter": "python",
   "pygments_lexer": "ipython2",
   "version": "2.7.11"
  }
 },
 "nbformat": 4,
 "nbformat_minor": 0
}
