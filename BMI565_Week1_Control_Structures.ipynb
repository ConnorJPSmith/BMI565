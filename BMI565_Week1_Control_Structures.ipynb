{
 "cells": [
  {
   "cell_type": "markdown",
   "metadata": {},
   "source": [
    "# BMI 565: Bioinformatics Programming & Scripting"
   ]
  },
  {
   "cell_type": "markdown",
   "metadata": {},
   "source": [
    "#### (C) Michael Mooney (mooneymi@ohsu.edu)"
   ]
  },
  {
   "cell_type": "markdown",
   "metadata": {},
   "source": [
    "## Week 1 - Control Structures"
   ]
  },
  {
   "cell_type": "markdown",
   "metadata": {},
   "source": [
    "1. If/Else Blocks\n",
    "2. Iterable Objects, Sequences, Generators\n",
    "    * Some Useful Functions\n",
    "3. While Loops\n",
    "    * The `range()` function\n",
    "4. For Loops\n",
    "    * The `enumerate()` function\n",
    "5. List Comprehension"
   ]
  },
  {
   "cell_type": "markdown",
   "metadata": {},
   "source": [
    "#### Requirements\n",
    "- Python 2.7"
   ]
  },
  {
   "cell_type": "markdown",
   "metadata": {},
   "source": [
    "## If / Else Blocks"
   ]
  },
  {
   "cell_type": "markdown",
   "metadata": {},
   "source": [
    "`if` and `else` statements are used to control the order of code execution. In Python, blocks of code are defined using a colon (`:`) and indentation. For example:\n",
    "\n",
    "    if expression:\n",
    "        code block 1\n",
    "    else:\n",
    "        code block 2\n",
    "\n",
    "\\* Indentation must be consistent (don't mix spaces and tabs)."
   ]
  },
  {
   "cell_type": "markdown",
   "metadata": {},
   "source": [
    "### If / Else Examples"
   ]
  },
  {
   "cell_type": "code",
   "execution_count": 1,
   "metadata": {
    "collapsed": false
   },
   "outputs": [
    {
     "name": "stdout",
     "output_type": "stream",
     "text": [
      "Roll #1 is greater.\n"
     ]
    }
   ],
   "source": [
    "## Import the random module (random number generation)\n",
    "## Compare two dice rolls\n",
    "import random\n",
    "roll1 = random.randint(1,6)\n",
    "roll2 = random.randint(1,6)\n",
    "if roll1 > roll2:\n",
    "    print \"Roll #1 is greater.\""
   ]
  },
  {
   "cell_type": "code",
   "execution_count": 2,
   "metadata": {
    "collapsed": false
   },
   "outputs": [
    {
     "name": "stdout",
     "output_type": "stream",
     "text": [
      "Roll #1 is greater.\n"
     ]
    }
   ],
   "source": [
    "## Import the random module\n",
    "## Compare two dice rolls\n",
    "import random\n",
    "roll1 = random.randint(1,6)\n",
    "roll2 = random.randint(1,6)\n",
    "if roll1 > roll2:\n",
    "    print \"Roll #1 is greater.\"\n",
    "elif roll2 > roll1:\n",
    "    print \"Roll #2 is greater.\"\n",
    "else:\n",
    "    print \"The rolls are equal.\""
   ]
  },
  {
   "cell_type": "code",
   "execution_count": 3,
   "metadata": {
    "collapsed": false
   },
   "outputs": [
    {
     "name": "stdout",
     "output_type": "stream",
     "text": [
      "The rolls are equal.\n"
     ]
    }
   ],
   "source": [
    "## Use the pass statement to skip a block of code\n",
    "import random\n",
    "roll1 = random.randint(1,6)\n",
    "roll2 = random.randint(1,6)\n",
    "if roll1 > roll2:\n",
    "    print \"Roll #1 is greater.\"\n",
    "elif roll2 > roll1:\n",
    "    pass\n",
    "else:\n",
    "    print \"The rolls are equal.\""
   ]
  },
  {
   "cell_type": "markdown",
   "metadata": {},
   "source": [
    "## Iterable Objects, Sequences, Generators"
   ]
  },
  {
   "cell_type": "markdown",
   "metadata": {},
   "source": [
    "Loops can be used to repeat a certain function on multiple pieces of data. The data processed by a loop can be contained in any iterable object. In Python, an iterable object is any object capable of returning its members one at a time. Examples of iterable objects are: any sequence data type (list, tuple, strings), a dictionary, a file object, etc. A generator is a special kind of function that returns an iterator (i.e. it returns one value at a time). We'll cover these a little bit later (an example is `enumerate()` shown below). "
   ]
  },
  {
   "cell_type": "markdown",
   "metadata": {},
   "source": [
    "### Some Useful Functions"
   ]
  },
  {
   "cell_type": "code",
   "execution_count": 4,
   "metadata": {
    "collapsed": false
   },
   "outputs": [
    {
     "data": {
      "text/plain": [
       "[2, 4]"
      ]
     },
     "execution_count": 4,
     "metadata": {},
     "output_type": "execute_result"
    }
   ],
   "source": [
    "## Use the range() function to create a numeric list\n",
    "range(2,6,2)"
   ]
  },
  {
   "cell_type": "code",
   "execution_count": 5,
   "metadata": {
    "collapsed": false
   },
   "outputs": [
    {
     "name": "stdout",
     "output_type": "stream",
     "text": [
      "Help on built-in function range in module __builtin__:\n",
      "\n",
      "range(...)\n",
      "    range([start,] stop[, step]) -> list of integers\n",
      "    \n",
      "    Return a list containing an arithmetic progression of integers.\n",
      "    range(i, j) returns [i, i+1, i+2, ..., j-1]; start (!) defaults to 0.\n",
      "    When step is given, it specifies the increment (or decrement).\n",
      "    For example, range(4) returns [0, 1, 2, 3].  The end point is omitted!\n",
      "    These are exactly the valid indices for a list of 4 elements.\n",
      "\n"
     ]
    },
    {
     "data": {
      "text/plain": [
       "[0, 1, 2, 3, 4]"
      ]
     },
     "execution_count": 5,
     "metadata": {},
     "output_type": "execute_result"
    }
   ],
   "source": [
    "help(range)\n",
    "range(5)"
   ]
  },
  {
   "cell_type": "code",
   "execution_count": 6,
   "metadata": {
    "collapsed": false
   },
   "outputs": [
    {
     "data": {
      "text/plain": [
       "[(0, 2), (1, 3), (2, 4), (3, 5)]"
      ]
     },
     "execution_count": 6,
     "metadata": {},
     "output_type": "execute_result"
    }
   ],
   "source": [
    "## The enumerate() function produces an iterator of tuples\n",
    "## containing the index and value of the elements in a list\n",
    "list(enumerate(range(2,6)))"
   ]
  },
  {
   "cell_type": "markdown",
   "metadata": {},
   "source": [
    "## While Loops"
   ]
  },
  {
   "cell_type": "code",
   "execution_count": 7,
   "metadata": {
    "collapsed": false
   },
   "outputs": [
    {
     "name": "stdout",
     "output_type": "stream",
     "text": [
      "4\n",
      "5\n",
      "6\n",
      "7\n",
      "8\n",
      "9\n",
      "10\n",
      "11\n"
     ]
    }
   ],
   "source": [
    "## Create a list using the range() function\n",
    "L = range(4,12)\n",
    "\n",
    "## Iterate through the list\n",
    "i = 0\n",
    "while i < len(L):\n",
    "    print L[i]\n",
    "    i += 1"
   ]
  },
  {
   "cell_type": "code",
   "execution_count": 8,
   "metadata": {
    "collapsed": false
   },
   "outputs": [
    {
     "name": "stdout",
     "output_type": "stream",
     "text": [
      "It took 4 roll(s) to roll a 5\n"
     ]
    }
   ],
   "source": [
    "## How many dice rolls will it take to roll a 3?\n",
    "import random\n",
    "desired = 5\n",
    "cur_roll = None\n",
    "nrolls = 0\n",
    "\n",
    "## It is important to ensure that a loop's stop condition is \n",
    "## possible. Use an assert statement to check that the \n",
    "## desired number is between 1 and 6\n",
    "assert 1 <= desired <= 6, \"Desired roll must be between 1 and 6.\"\n",
    "\n",
    "## Role dice until the desired number is rolled and count \n",
    "## the number of rolls\n",
    "## Be careful using 'True' as the condition in a while loop!\n",
    "## Make sure there is an appropriate way to exit the \n",
    "## loop ('break' statement)\n",
    "while True:\n",
    "    cur_roll = random.randint(1,6)\n",
    "    nrolls = nrolls + 1\n",
    "    if cur_roll == desired:\n",
    "        ## the break statement exits the loop\n",
    "        break\n",
    "\n",
    "print \"It took %d roll(s) to roll a %d\" % (nrolls, desired)"
   ]
  },
  {
   "cell_type": "markdown",
   "metadata": {},
   "source": [
    "## For Loops"
   ]
  },
  {
   "cell_type": "code",
   "execution_count": 9,
   "metadata": {
    "collapsed": false
   },
   "outputs": [
    {
     "name": "stdout",
     "output_type": "stream",
     "text": [
      "0\n",
      "1\n",
      "2\n",
      "3\n",
      "4\n",
      "5\n",
      "6\n"
     ]
    }
   ],
   "source": [
    "## Iterate through list and print each element\n",
    "nrolls = 7\n",
    "for i in range(nrolls):\n",
    "    print i"
   ]
  },
  {
   "cell_type": "code",
   "execution_count": 10,
   "metadata": {
    "collapsed": false
   },
   "outputs": [
    {
     "name": "stdout",
     "output_type": "stream",
     "text": [
      "H\n",
      "e\n",
      "l\n",
      "l\n",
      "o\n"
     ]
    }
   ],
   "source": [
    "## Iterate through a string\n",
    "word = \"Hello\"\n",
    "for letter in word:\n",
    "    print letter"
   ]
  },
  {
   "cell_type": "code",
   "execution_count": 11,
   "metadata": {
    "collapsed": false
   },
   "outputs": [
    {
     "name": "stdout",
     "output_type": "stream",
     "text": [
      "0 H\n",
      "1 e\n",
      "2 l\n",
      "3 l\n",
      "4 o\n"
     ]
    }
   ],
   "source": [
    "## Use enumerate() to get an element's index while iterating \n",
    "## through a sequence\n",
    "for idx, letter in enumerate(word):\n",
    "    print idx, letter"
   ]
  },
  {
   "cell_type": "markdown",
   "metadata": {},
   "source": [
    "## List Comprehension\n",
    "A concise alternative to a for loop is a list comprehension. List comprehensions are used to iterate over a iterable object and to create a new list. The basic format is as follows:\n",
    "\n",
    "    [TASK for VARIABLE in ITERABLE if CONDITION]\n",
    "\n",
    "This is equivalent to:\n",
    "    \n",
    "    new_list = []\n",
    "    for VARIABLE in ITERABLE:\n",
    "        if CONDITION:\n",
    "            result = TASK\n",
    "            new_list.append(result)\n"
   ]
  },
  {
   "cell_type": "code",
   "execution_count": 12,
   "metadata": {
    "collapsed": false
   },
   "outputs": [
    {
     "data": {
      "text/plain": [
       "[1, 2, 3, 4, 5, 6, 7, 8, 9]"
      ]
     },
     "execution_count": 12,
     "metadata": {},
     "output_type": "execute_result"
    }
   ],
   "source": [
    "## Use list comprehension to create a new list\n",
    "[n+1 for n in range(9)]"
   ]
  },
  {
   "cell_type": "code",
   "execution_count": 13,
   "metadata": {
    "collapsed": false
   },
   "outputs": [
    {
     "data": {
      "text/plain": [
       "['C', 'i', 'r', 'a']"
      ]
     },
     "execution_count": 13,
     "metadata": {},
     "output_type": "execute_result"
    }
   ],
   "source": [
    "## List comprehension with a condition\n",
    "## Select every third element from sequence\n",
    "[letter for idx, letter in enumerate('California') if idx % 3 == 0]"
   ]
  },
  {
   "cell_type": "code",
   "execution_count": 14,
   "metadata": {
    "collapsed": false
   },
   "outputs": [
    {
     "data": {
      "text/plain": [
       "[3, 6, 9]"
      ]
     },
     "execution_count": 14,
     "metadata": {},
     "output_type": "execute_result"
    }
   ],
   "source": [
    "## You can also create a nested list comprehension\n",
    "## Create a matrix (a list of lists)\n",
    "mat = [[1,2,3],[4,5,6],[7,8,9]]\n",
    "\n",
    "## Iterate through the matrix, then iterate through\n",
    "## the rows, and create a list with elements divisible by 3\n",
    "[x for row in mat for x in row if x % 3==0]"
   ]
  },
  {
   "cell_type": "markdown",
   "metadata": {},
   "source": [
    "You can also create a generator version of a list comprehension, called a generator expression. These are more memory efficient, since they return one value at a time (rather than an entire list at once). Generator expressions can be useful when:\n",
    "- You only need to process one item at a time\n",
    "- The list is very large\n",
    "- You don't need the individual results, just a final answer"
   ]
  },
  {
   "cell_type": "code",
   "execution_count": 15,
   "metadata": {
    "collapsed": false
   },
   "outputs": [
    {
     "data": {
      "text/plain": [
       "18"
      ]
     },
     "execution_count": 15,
     "metadata": {},
     "output_type": "execute_result"
    }
   ],
   "source": [
    "sum(x for row in mat for x in row if x % 3==0)"
   ]
  },
  {
   "cell_type": "markdown",
   "metadata": {},
   "source": [
    "## In-Class Exercises"
   ]
  },
  {
   "cell_type": "code",
   "execution_count": null,
   "metadata": {
    "collapsed": false
   },
   "outputs": [],
   "source": [
    "## Exercise 1.\n",
    "## Generate a random nucleotide sequence [A,T,C,G] \n",
    "## using a while loop\n"
   ]
  },
  {
   "cell_type": "code",
   "execution_count": null,
   "metadata": {
    "collapsed": false
   },
   "outputs": [],
   "source": [
    "## Exercise 2.\n",
    "## Generate a random nucleotide sequence [A,T,C,G] \n",
    "## using a for loop\n"
   ]
  },
  {
   "cell_type": "code",
   "execution_count": null,
   "metadata": {
    "collapsed": false
   },
   "outputs": [],
   "source": [
    "## Exercise 3.\n",
    "## Use list comprehension to create a list of random \n",
    "## integers between 0 and 3\n"
   ]
  },
  {
   "cell_type": "code",
   "execution_count": null,
   "metadata": {
    "collapsed": false
   },
   "outputs": [],
   "source": [
    "## Exercise 4.\n",
    "## Use list comprehension to convert the list above \n",
    "## to a nucleotide sequence\n"
   ]
  },
  {
   "cell_type": "markdown",
   "metadata": {},
   "source": [
    "## References"
   ]
  },
  {
   "cell_type": "markdown",
   "metadata": {},
   "source": [
    "- <u>Python Essential Reference</u>, David Beazley, 4th Edition, Addison‐Wesley (2008)\n",
    "- <u>Problem Solving, Abstraction and Design Using C++</u>, Frank Friedman, Elliot Koffman, 4th Edition, Addison-Wesley (2004)\n",
    "- <u>Python for Bioinformatics</u>, Sebastian Bassi, CRC Press (2010)\n",
    "- [http://docs.python.org/](http://docs.python.org/)"
   ]
  },
  {
   "cell_type": "markdown",
   "metadata": {},
   "source": [
    "#### Last Updated: 21-Sep-2016"
   ]
  }
 ],
 "metadata": {
  "anaconda-cloud": {},
  "kernelspec": {
   "display_name": "Python [default]",
   "language": "python",
   "name": "python2"
  },
  "language_info": {
   "codemirror_mode": {
    "name": "ipython",
    "version": 2
   },
   "file_extension": ".py",
   "mimetype": "text/x-python",
   "name": "python",
   "nbconvert_exporter": "python",
   "pygments_lexer": "ipython2",
   "version": "2.7.11"
  }
 },
 "nbformat": 4,
 "nbformat_minor": 0
}
