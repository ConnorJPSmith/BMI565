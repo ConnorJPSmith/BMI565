{
 "metadata": {
  "name": "",
  "signature": "sha256:b45d93f795c612d3270a64928c810f1034ac2895b4c9166520f5001bd73e02c5"
 },
 "nbformat": 3,
 "nbformat_minor": 0,
 "worksheets": [
  {
   "cells": [
    {
     "cell_type": "heading",
     "level": 1,
     "metadata": {},
     "source": [
      "BMI 565: Bioinformatics Programming & Scripting"
     ]
    },
    {
     "cell_type": "heading",
     "level": 4,
     "metadata": {},
     "source": [
      "(C) 2015 Michael Mooney (mooneymi@ohsu.edu)"
     ]
    },
    {
     "cell_type": "heading",
     "level": 2,
     "metadata": {},
     "source": [
      "Week 1 - Control Structures"
     ]
    },
    {
     "cell_type": "markdown",
     "metadata": {},
     "source": [
      "1. If/Else Blocks\n",
      "2. Iterable Objects, Sequences, Generators\n",
      "    * Some Useful Functions\n",
      "3. While Loops\n",
      "    * The `range()` function\n",
      "4. For Loops\n",
      "    * The `enumerate()` function\n",
      "5. List Comprehension"
     ]
    },
    {
     "cell_type": "markdown",
     "metadata": {},
     "source": [
      "####Requirements\n",
      "- Python 2.7"
     ]
    },
    {
     "cell_type": "heading",
     "level": 2,
     "metadata": {},
     "source": [
      "If / Else Blocks"
     ]
    },
    {
     "cell_type": "markdown",
     "metadata": {},
     "source": [
      "`if` and `else` statements are used to control the order of code execution. In Python, blocks of code are defined using a colon (`:`) and indentation. For example:\n",
      "\n",
      "    if expression:\n",
      "        code block 1\n",
      "    else:\n",
      "        code block 2\n",
      "\n",
      "\\* Indentation must be consistent (don't mix spaces and tabs)."
     ]
    },
    {
     "cell_type": "markdown",
     "metadata": {},
     "source": [
      "###If / Else Examples"
     ]
    },
    {
     "cell_type": "code",
     "collapsed": false,
     "input": [
      "## Import the random module (random number generation)\n",
      "## Compare two dice rolls\n",
      "import random\n",
      "roll1 = random.randint(1,6)\n",
      "roll2 = random.randint(1,6)\n",
      "if roll1 > roll2:\n",
      "    print \"Roll #1 is greater.\""
     ],
     "language": "python",
     "metadata": {},
     "outputs": [
      {
       "output_type": "stream",
       "stream": "stdout",
       "text": [
        "Roll #1 is greater.\n"
       ]
      }
     ],
     "prompt_number": 1
    },
    {
     "cell_type": "code",
     "collapsed": false,
     "input": [
      "## Import the random module\n",
      "## Compare two dice rolls\n",
      "import random\n",
      "roll1 = random.randint(1,6)\n",
      "roll2 = random.randint(1,6)\n",
      "if roll1 > roll2:\n",
      "    print \"Roll #1 is greater.\"\n",
      "elif roll2 > roll1:\n",
      "    print \"Roll #2 is greater.\"\n",
      "else:\n",
      "    print \"The rolls are equal.\""
     ],
     "language": "python",
     "metadata": {},
     "outputs": [
      {
       "output_type": "stream",
       "stream": "stdout",
       "text": [
        "Roll #1 is greater.\n"
       ]
      }
     ],
     "prompt_number": 2
    },
    {
     "cell_type": "code",
     "collapsed": false,
     "input": [
      "## Use the pass statement to skip a block of code\n",
      "import random\n",
      "roll1 = random.randint(1,6)\n",
      "roll2 = random.randint(1,6)\n",
      "if roll1 > roll2:\n",
      "    print \"Roll #1 is greater.\"\n",
      "elif roll2 > roll1:\n",
      "    pass\n",
      "else:\n",
      "    print \"The rolls are equal.\""
     ],
     "language": "python",
     "metadata": {},
     "outputs": [
      {
       "output_type": "stream",
       "stream": "stdout",
       "text": [
        "The rolls are equal.\n"
       ]
      }
     ],
     "prompt_number": 3
    },
    {
     "cell_type": "heading",
     "level": 2,
     "metadata": {},
     "source": [
      "Iterable Objects, Sequences, Generators"
     ]
    },
    {
     "cell_type": "markdown",
     "metadata": {},
     "source": [
      "Loops can be used to repeat a certain function on multiple pieces of data. The data processed by a loop can be contained in any iterable object. In Python, an iterable object is any object capable of returning its members one at a time. Examples of iterable objects are: any sequence data type (list, tuple, strings), a dictionary, a file object, etc. A generator is a special kind of function that returns an iterator (i.e. it returns one value at a time). We'll cover these a little bit later (an example is `enumerate()` shown below). "
     ]
    },
    {
     "cell_type": "heading",
     "level": 3,
     "metadata": {},
     "source": [
      "Some Useful Functions"
     ]
    },
    {
     "cell_type": "code",
     "collapsed": false,
     "input": [
      "## Use the range() function to create a numeric list\n",
      "range(2,6,2)"
     ],
     "language": "python",
     "metadata": {},
     "outputs": [
      {
       "metadata": {},
       "output_type": "pyout",
       "prompt_number": 4,
       "text": [
        "[2, 4]"
       ]
      }
     ],
     "prompt_number": 4
    },
    {
     "cell_type": "code",
     "collapsed": false,
     "input": [
      "help(range)\n",
      "range(5)"
     ],
     "language": "python",
     "metadata": {},
     "outputs": [
      {
       "output_type": "stream",
       "stream": "stdout",
       "text": [
        "Help on built-in function range in module __builtin__:\n",
        "\n",
        "range(...)\n",
        "    range([start,] stop[, step]) -> list of integers\n",
        "    \n",
        "    Return a list containing an arithmetic progression of integers.\n",
        "    range(i, j) returns [i, i+1, i+2, ..., j-1]; start (!) defaults to 0.\n",
        "    When step is given, it specifies the increment (or decrement).\n",
        "    For example, range(4) returns [0, 1, 2, 3].  The end point is omitted!\n",
        "    These are exactly the valid indices for a list of 4 elements.\n",
        "\n"
       ]
      },
      {
       "metadata": {},
       "output_type": "pyout",
       "prompt_number": 5,
       "text": [
        "[0, 1, 2, 3, 4]"
       ]
      }
     ],
     "prompt_number": 5
    },
    {
     "cell_type": "code",
     "collapsed": false,
     "input": [
      "## The enumerate() function produces an iterator of tuples\n",
      "## containing the index and value of the elements in a list\n",
      "list(enumerate(range(2,6)))"
     ],
     "language": "python",
     "metadata": {},
     "outputs": [
      {
       "metadata": {},
       "output_type": "pyout",
       "prompt_number": 6,
       "text": [
        "[(0, 2), (1, 3), (2, 4), (3, 5)]"
       ]
      }
     ],
     "prompt_number": 6
    },
    {
     "cell_type": "heading",
     "level": 2,
     "metadata": {},
     "source": [
      "While Loops"
     ]
    },
    {
     "cell_type": "code",
     "collapsed": false,
     "input": [
      "## Create a list using the range() function\n",
      "L = range(4,12)\n",
      "\n",
      "## Iterate through the list\n",
      "i = 0\n",
      "while i < len(L):\n",
      "    print L[i]\n",
      "    i += 1"
     ],
     "language": "python",
     "metadata": {},
     "outputs": [
      {
       "output_type": "stream",
       "stream": "stdout",
       "text": [
        "4\n",
        "5\n",
        "6\n",
        "7\n",
        "8\n",
        "9\n",
        "10\n",
        "11\n"
       ]
      }
     ],
     "prompt_number": 7
    },
    {
     "cell_type": "code",
     "collapsed": false,
     "input": [
      "## How many dice rolls will it take to roll a 3?\n",
      "import random\n",
      "desired = 5\n",
      "cur_roll = None\n",
      "nrolls = 0\n",
      "\n",
      "## It is important to ensure that a loop's stop condition is possible\n",
      "## Use an assert statement to check that the desired number\n",
      "## is between 1 and 6\n",
      "assert 1 <= desired <= 6, \"Desired roll must be between 1 and 6.\"\n",
      "\n",
      "## Role dice until the desired number is rolled and count \n",
      "## the number of rolls\n",
      "## Be careful using 'True' as the condition in a while loop!\n",
      "## Make sure there is an appropriate way to exit the loop ('break' statement)\n",
      "while True:\n",
      "    cur_roll = random.randint(1,6)\n",
      "    nrolls = nrolls + 1\n",
      "    if cur_roll == desired:\n",
      "        ## the break statement exits the loop\n",
      "        break\n",
      "\n",
      "print \"It took %d roll(s) to roll a %d\" % (nrolls, desired)"
     ],
     "language": "python",
     "metadata": {},
     "outputs": [
      {
       "output_type": "stream",
       "stream": "stdout",
       "text": [
        "It took 4 roll(s) to roll a 5\n"
       ]
      }
     ],
     "prompt_number": 8
    },
    {
     "cell_type": "heading",
     "level": 2,
     "metadata": {},
     "source": [
      "For Loops"
     ]
    },
    {
     "cell_type": "code",
     "collapsed": false,
     "input": [
      "## Iterate through list and print each element\n",
      "nrolls = 7\n",
      "for i in range(nrolls):\n",
      "    print i"
     ],
     "language": "python",
     "metadata": {},
     "outputs": [
      {
       "output_type": "stream",
       "stream": "stdout",
       "text": [
        "0\n",
        "1\n",
        "2\n",
        "3\n",
        "4\n",
        "5\n",
        "6\n"
       ]
      }
     ],
     "prompt_number": 9
    },
    {
     "cell_type": "code",
     "collapsed": false,
     "input": [
      "## Iterate through a string\n",
      "word = \"Hello\"\n",
      "for letter in word:\n",
      "    print letter"
     ],
     "language": "python",
     "metadata": {},
     "outputs": [
      {
       "output_type": "stream",
       "stream": "stdout",
       "text": [
        "H\n",
        "e\n",
        "l\n",
        "l\n",
        "o\n"
       ]
      }
     ],
     "prompt_number": 10
    },
    {
     "cell_type": "code",
     "collapsed": false,
     "input": [
      "## Use enumerate() to get an element's index while iterating through a sequence\n",
      "for idx, letter in enumerate(word):\n",
      "    print idx, letter"
     ],
     "language": "python",
     "metadata": {},
     "outputs": [
      {
       "output_type": "stream",
       "stream": "stdout",
       "text": [
        "0 H\n",
        "1 e\n",
        "2 l\n",
        "3 l\n",
        "4 o\n"
       ]
      }
     ],
     "prompt_number": 11
    },
    {
     "cell_type": "markdown",
     "metadata": {},
     "source": [
      "##List Comprehension\n",
      "A concise alternative to a for loop is a list comprehension. List comprehension are used to iterate over a iterable object and to create a new list. The basic format is as follows:\n",
      "\n",
      "    [TASK for VARIABLE in ITERABLE if CONDITION]\n",
      "\n",
      "This is equivalent to:\n",
      "    \n",
      "    new_list = []\n",
      "    for VARIABLE in ITERABLE:\n",
      "        if CONDITION:\n",
      "            result = TASK\n",
      "            new_list.append(result)\n"
     ]
    },
    {
     "cell_type": "code",
     "collapsed": false,
     "input": [
      "## Use list comprehension to create a new list\n",
      "[n+1 for n in range(9)]"
     ],
     "language": "python",
     "metadata": {},
     "outputs": [
      {
       "metadata": {},
       "output_type": "pyout",
       "prompt_number": 12,
       "text": [
        "[1, 2, 3, 4, 5, 6, 7, 8, 9]"
       ]
      }
     ],
     "prompt_number": 12
    },
    {
     "cell_type": "code",
     "collapsed": false,
     "input": [
      "## List comprehension with a condition\n",
      "## Select every third element from sequence\n",
      "[letter for idx, letter in enumerate('California') if idx % 3 == 0]"
     ],
     "language": "python",
     "metadata": {},
     "outputs": [
      {
       "metadata": {},
       "output_type": "pyout",
       "prompt_number": 13,
       "text": [
        "['C', 'i', 'r', 'a']"
       ]
      }
     ],
     "prompt_number": 13
    },
    {
     "cell_type": "code",
     "collapsed": false,
     "input": [
      "## You can also create a nested list comprehension\n",
      "## Create a matrix (a list of lists)\n",
      "mat = [[1,2,3],[4,5,6],[7,8,9]]\n",
      "\n",
      "## Iterate through the matrix, then iterate through\n",
      "## the rows, and create a list with elements divisible by 3\n",
      "[x for row in mat for x in row if x % 3==0]"
     ],
     "language": "python",
     "metadata": {},
     "outputs": [
      {
       "metadata": {},
       "output_type": "pyout",
       "prompt_number": 14,
       "text": [
        "[3, 6, 9]"
       ]
      }
     ],
     "prompt_number": 14
    },
    {
     "cell_type": "markdown",
     "metadata": {},
     "source": [
      "You can also create a generator version of a list comprehension, called a generator expression. These are more memory efficient, since they return one value at a time (rather than an entire list at once). Generator expressions can be useful when:\n",
      "- You only need to process one item at a time\n",
      "- The list is very large\n",
      "- You don't need the individual results, just a final answer"
     ]
    },
    {
     "cell_type": "code",
     "collapsed": false,
     "input": [
      "sum(x for row in mat for x in row if x % 3==0)"
     ],
     "language": "python",
     "metadata": {},
     "outputs": [
      {
       "metadata": {},
       "output_type": "pyout",
       "prompt_number": 15,
       "text": [
        "18"
       ]
      }
     ],
     "prompt_number": 15
    },
    {
     "cell_type": "heading",
     "level": 2,
     "metadata": {},
     "source": [
      "In-Class Exercises"
     ]
    },
    {
     "cell_type": "code",
     "collapsed": false,
     "input": [
      "## Exercise 1.\n",
      "## Generate a random nucleotide sequence [A,T,C,G] using a while loop\n"
     ],
     "language": "python",
     "metadata": {},
     "outputs": []
    },
    {
     "cell_type": "code",
     "collapsed": false,
     "input": [
      "## Exercise 2.\n",
      "## Generate a random nucleotide sequence [A,T,C,G] using a for loop\n"
     ],
     "language": "python",
     "metadata": {},
     "outputs": []
    },
    {
     "cell_type": "code",
     "collapsed": false,
     "input": [
      "## Exercise 3.\n",
      "## Use list comprehension to create a list of random integers between 0 and 3\n"
     ],
     "language": "python",
     "metadata": {},
     "outputs": []
    },
    {
     "cell_type": "code",
     "collapsed": false,
     "input": [
      "## Exercise 4.\n",
      "## Use list comprehension to convert the list above to a nucleotide sequence\n"
     ],
     "language": "python",
     "metadata": {},
     "outputs": []
    },
    {
     "cell_type": "heading",
     "level": 2,
     "metadata": {},
     "source": [
      "References"
     ]
    },
    {
     "cell_type": "markdown",
     "metadata": {},
     "source": [
      "- <u>Python Essential Reference</u>, David Beazley, 4th Edition, Addison\u2010Wesley (2008)\n",
      "- <u>Problem Solving, Abstraction and Design Using C++</u>, Frank Friedman, Elliot Koffman, 4th Edition, Addison-Wesley (2004)\n",
      "- <u>Python for Bioinformatics</u>, Sebastian Bassi, CRC Press (2010)\n",
      "- [http://docs.python.org/](http://docs.python.org/)"
     ]
    },
    {
     "cell_type": "heading",
     "level": 4,
     "metadata": {},
     "source": [
      "Last Updated: 22-Sep-2015"
     ]
    }
   ],
   "metadata": {}
  }
 ]
}