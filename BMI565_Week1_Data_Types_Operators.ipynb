{
 "cells": [
  {
   "cell_type": "markdown",
   "metadata": {},
   "source": [
    "# BMI565: Bioinformatics Programming & Scripting"
   ]
  },
  {
   "cell_type": "markdown",
   "metadata": {},
   "source": [
    "#### (C) Michael Mooney (mooneymi@ohsu.edu)"
   ]
  },
  {
   "cell_type": "markdown",
   "metadata": {},
   "source": [
    "## Week 1: Documentation and Data Types"
   ]
  },
  {
   "cell_type": "markdown",
   "metadata": {},
   "source": [
    "1. Introduction and Why Python?\n",
    "2. Help, Documentation, Code Organization\n",
    "    - Help\n",
    "    - Comments and Docstrings\n",
    "3. None and Logical Values\n",
    "4. Numeric Data Types\n",
    "    - Numeric Operators\n",
    "5. Sequence Data Types\n",
    "    - Lists\n",
    "    - Tuples\n",
    "    - Sets\n",
    "    - Strings\n",
    "    - String Formatting\n",
    "6. Mapping Data Types\n",
    "    - Dictionaries\n",
    "7. A Quick Note on Python 2.7 vs. Python 3"
   ]
  },
  {
   "cell_type": "markdown",
   "metadata": {},
   "source": [
    "#### Requirements\n",
    "- Python 2.7\n",
    "- Miscellaneous Files\n",
    "    - `sequencing_vs_compute.jpg`"
   ]
  },
  {
   "cell_type": "markdown",
   "metadata": {},
   "source": [
    "## Introduction and Why Python?"
   ]
  },
  {
   "cell_type": "markdown",
   "metadata": {},
   "source": [
    "- <b>Bioinformatics:</b> The application of computer science to the fields of biology and medicine\n",
    "- <b>Programming:</b> The process of designing, writing, testing, debugging, and maintaining a list of computer instructions\n",
    "- <b>Scripting:</b> Creating a list of computer instructions that call one or more applications"
   ]
  },
  {
   "cell_type": "markdown",
   "metadata": {},
   "source": [
    "### Computational demands in molecular biology are increasing\n",
    "<img src=\"./images/sequencing_vs_compute.jpg\" width=\"500\" height=\"500\" align=\"left\" />"
   ]
  },
  {
   "cell_type": "markdown",
   "metadata": {},
   "source": [
    "### Compiled vs. Interpreted Languages\n",
    "\n",
    "<table align=\"left\">\n",
    "<tr><td style=\"text-align:center\"><b>Compiled Languages (e.g. C++)</b></td><td style=\"text-align:center\"><b>Interpreted Languages (e.g. Python)</b></td></tr>\n",
    "<tr><td style=\"text-align:center\">Code is converted from a high-level language<br /> and runs as machine code</td><td style=\"text-align:center\">Code runs on an interpreter and is converted <br />to machine code one instruction at a time</td></tr>\n",
    "<tr><td style=\"text-align:center\">Code is machine specific</td><td style=\"text-align:center\">Code is portable; can run on multiple platforms</td></tr>\n",
    "<tr><td style=\"text-align:center\">Tends to run faster</td><td style=\"text-align:center\">Smaller executable (script) size</td></tr>\n",
    "<tr><td style=\"text-align:center\">You can distribute standalone executables</td><td style=\"text-align:center\">An interpreter must be installed</td></tr>\n",
    "<tr><td style=\"text-align:center\">You need to recompile code after making changes</td><td style=\"text-align:center\">No need to recompile</td></tr>\n",
    "</table>"
   ]
  },
  {
   "cell_type": "markdown",
   "metadata": {},
   "source": [
    "### Python for Scientific Computing\n",
    "\n",
    "#### Some Python History\n",
    "- Created by Guido van Rossum (1989)\n",
    "- Originally created as a means to automate system admin tasks\n",
    "    - C programs took too long to write\n",
    "- van Rossum was a Monty Python fan!\n",
    "- Python became open source in 1991 (version .9)"
   ]
  },
  {
   "cell_type": "markdown",
   "metadata": {},
   "source": [
    "#### Scientific Computing\n",
    "\n",
    "There is a large community of Python developers creating tools for scientific applications. Here are few:"
   ]
  },
  {
   "cell_type": "markdown",
   "metadata": {},
   "source": [
    "- Numpy and Scipy\n",
    "    * Tools for working with large data arrays, Optimization, Linear Algebra, etc.\n",
    "    * [http://www.scipy.org](http://www.scipy.org)\n",
    "- BioPython\n",
    "    * Bioinformatics and Computational Biology\n",
    "    * [http://biopython.org/wiki/Biopython](http://biopython.org/wiki/Biopython)\n",
    "- Matplotlib\n",
    "    * Data Presentation, Plotting\n",
    "    * [http://matplotlib.sourceforge.net/](http://matplotlib.sourceforge.net/)\n",
    "- Scikit-learn\n",
    "    * Statistics and Machine Learning\n",
    "    * [http://scikit-learn.org/stable/](http://scikit-learn.org/stable/)"
   ]
  },
  {
   "cell_type": "markdown",
   "metadata": {},
   "source": [
    "### Writing and Running a Python Program\n",
    "\n",
    "A Python program is simply a text file containing commands that can be interpreted by the Python interpreter. It is convention to use the `.py` file extension. A Python program can be created with any text editor, but integrated development environments (IDEs) can make coding easier. IDEs have features such as syntax coloring, automatic indentation, code completion, etc. that can save you time and reduce errors. IDLE is the \"official\" Python IDE that is packaged with Python installations. Eclipse, Spyder, and Xcode are other examples of IDEs.\n",
    "\n",
    "Below is an example of a very simple Python program, which simply prints the message \"Hello, world!\" to the screen. The first line is called a \"shebang\" or \"hashbang\", which tells the operating system the location of the Python interpreter. \n",
    "\n",
    "    #!/usr/bin/python\n",
    "    \n",
    "    print \"Hello, world!\"\n",
    "\n",
    "<u>Try it out</u>: Copy and paste the above two lines into a text file and save it as `hello_world.py`. Then run the program by opening a terminal, changing to the the file's location and typing the following at the command-line:\n",
    "\n",
    "    python hello_world.py\n",
    "\n",
    "Alternatively, you can call the program directly, without explicitly calling the Python interpreter (this requires that the shebang be present on the first line). First you will need to make the file executable (using the `chmod` command), then you can call the program directly:\n",
    "\n",
    "    chmod 755 hello_world.py\n",
    "    ./hello_world.py"
   ]
  },
  {
   "cell_type": "markdown",
   "metadata": {},
   "source": [
    "## Python Help and Code Documentation"
   ]
  },
  {
   "cell_type": "markdown",
   "metadata": {},
   "source": [
    "Python's `help()` function can provide documentation about functions, modules, methods, etc. \n",
    "\n",
    "<a href=\"https://docs.python.org/2/\">Python's Online Documentation</a> is a great resource. \n",
    "\n",
    "And, of course, Google will provide plenty of information, examples, etc."
   ]
  },
  {
   "cell_type": "code",
   "execution_count": null,
   "metadata": {
    "collapsed": false
   },
   "outputs": [],
   "source": [
    "# For help on any function simply call help() with the function name as the parameter\n",
    "# For example, what does the len() function do?\n",
    "help(len)"
   ]
  },
  {
   "cell_type": "markdown",
   "metadata": {},
   "source": [
    "### Comments:  Please use them!"
   ]
  },
  {
   "cell_type": "markdown",
   "metadata": {},
   "source": [
    "Any text following a # is ignored by the python interpreter. Surrounding text with \"\"\" can be used to create multi-line comments.\n",
    "\n",
    "Comments can be purely descriptive (e.g. used to explain how code works), but can also serve a purpose when testing or debugging code. For instance, commenting out sections of your code can help you narrow down where an error is occuring.\n",
    "\n",
    "It is a good idea to write descriptive comments as you code, rather than going back after code is already written. Please use comments thoroughly so it is easy for others to interpret your code. \n",
    "\n",
    "All code submitted for homework assignments should include a block of comments at the top of the file that includes the following information:\n",
    "\n",
    "    # Your Name\n",
    "    # Assignment Number\n",
    "    # Date Submitted/Written\n",
    "    # A short description of what the code does\n",
    "    # An example of how the script should be run"
   ]
  },
  {
   "cell_type": "code",
   "execution_count": 2,
   "metadata": {
    "collapsed": false
   },
   "outputs": [
    {
     "name": "stdout",
     "output_type": "stream",
     "text": [
      "Hello\n"
     ]
    }
   ],
   "source": [
    "print \"Hello\"\n",
    "#print \"Good-bye\""
   ]
  },
  {
   "cell_type": "markdown",
   "metadata": {},
   "source": [
    "### Docstrings"
   ]
  },
  {
   "cell_type": "markdown",
   "metadata": {},
   "source": [
    "Docstrings are a good way to document your code. A docstring is a string literal that occurs as the first statement in a module, function, class or method definition. The info in a docstring will be shown when `help()` is called on the function, module, etc."
   ]
  },
  {
   "cell_type": "code",
   "execution_count": 3,
   "metadata": {
    "collapsed": false
   },
   "outputs": [],
   "source": [
    "def hello_world(n=1):\n",
    "    \"\"\"\n",
    "    This function prints the message \"Hello, world!\" a specified number of times.\n",
    "    \"\"\"\n",
    "    for i in range(n):\n",
    "        print \"Hello, world!\"\n"
   ]
  },
  {
   "cell_type": "code",
   "execution_count": 4,
   "metadata": {
    "collapsed": false
   },
   "outputs": [
    {
     "name": "stdout",
     "output_type": "stream",
     "text": [
      "Hello, world!\n",
      "Hello, world!\n"
     ]
    }
   ],
   "source": [
    "hello_world(2)"
   ]
  },
  {
   "cell_type": "code",
   "execution_count": 5,
   "metadata": {
    "collapsed": false
   },
   "outputs": [
    {
     "name": "stdout",
     "output_type": "stream",
     "text": [
      "Help on function hello_world in module __main__:\n",
      "\n",
      "hello_world(n=1)\n",
      "    This function prints the message \"Hello, world!\" a specified number of times.\n",
      "\n"
     ]
    }
   ],
   "source": [
    "help(hello_world)"
   ]
  },
  {
   "cell_type": "markdown",
   "metadata": {},
   "source": [
    "There are a number of very useful style guides for creating docstrings. Automated documentation programs, such as [Sphinx](http://sphinx-doc.org/) can parse docstrings that follow these guidelines, and allow you to quickly create web documentation of your programs. I highly recommend you get used to writing thorough docstrings in a standard format, so that your code is well documented.\n",
    "\n",
    "[Google Style Guide](http://sphinxcontrib-napoleon.readthedocs.org/en/latest/example_google.html#example-google)\n",
    "\n",
    "[Numpy Style Guide](http://sphinxcontrib-napoleon.readthedocs.org/en/latest/example_numpy.html#example-numpy)\n",
    "\n",
    "A quick example of a Google-style docstring for a function:\n",
    "\n",
    "    def hello_world(n=1):\n",
    "        \"\"\"\n",
    "        This function prints the message \"Hello, world!\" a specified number of times.\n",
    "        \n",
    "        Args:\n",
    "            n (int): The number of times to print the message.\n",
    "            \n",
    "        Returns:\n",
    "            None\n",
    "        \n",
    "        \"\"\"\n"
   ]
  },
  {
   "cell_type": "markdown",
   "metadata": {},
   "source": [
    "## Python Data Types"
   ]
  },
  {
   "cell_type": "markdown",
   "metadata": {},
   "source": [
    "## None and Logical Values"
   ]
  },
  {
   "cell_type": "markdown",
   "metadata": {},
   "source": [
    "`None` is the Python NULL value. NONE or none will not be interpreted as the `None` value.\n",
    "\n",
    "`None` is the default return value for Python functions (e.g. when no return value is specified)."
   ]
  },
  {
   "cell_type": "code",
   "execution_count": 6,
   "metadata": {
    "collapsed": false
   },
   "outputs": [
    {
     "name": "stdout",
     "output_type": "stream",
     "text": [
      "Hello, world!\n"
     ]
    }
   ],
   "source": [
    "x = hello_world()"
   ]
  },
  {
   "cell_type": "code",
   "execution_count": 8,
   "metadata": {
    "collapsed": false
   },
   "outputs": [
    {
     "name": "stdout",
     "output_type": "stream",
     "text": [
      "x == None\n"
     ]
    }
   ],
   "source": [
    "if x == None:\n",
    "    # This usually works\n",
    "    print \"x == None\"\n",
    "if x is not None:\n",
    "    # But this is the prefered way to compare to None\n",
    "    print \"x is None\"\n"
   ]
  },
  {
   "cell_type": "markdown",
   "metadata": {},
   "source": [
    "Logical values are specified with `True` or `False`. Again, these values must be specified exactly as `True` or `False` (e.g. not TRUE or true)."
   ]
  },
  {
   "cell_type": "code",
   "execution_count": 9,
   "metadata": {
    "collapsed": false
   },
   "outputs": [
    {
     "name": "stdout",
     "output_type": "stream",
     "text": [
      "True\n"
     ]
    }
   ],
   "source": [
    "x = True\n",
    "if x:\n",
    "    print(\"True\")\n",
    "\n",
    "if not x:\n",
    "    print(\"False\")"
   ]
  },
  {
   "cell_type": "markdown",
   "metadata": {},
   "source": [
    "### Logical Operators\n",
    "\n",
    "<table align=\"left\">\n",
    "<tr><td style=\"text-align:center\"><b>Operation</b></td><td><b>Description</b></td></tr>\n",
    "<tr><td style=\"text-align:center\">`x and y`</td><td>`True` if both `x` and `y` are `True`</td></tr>\n",
    "<tr><td style=\"text-align:center\">`x or y`</td><td>`True` if `x` or `y` is `True`</td></tr>\n",
    "<tr><td style=\"text-align:center\">`not x`</td><td>`True` if `x` is `False`</td></tr>\n",
    "<tr><td style=\"text-align:center\">`all(s)`</td><td>`True` only if all elements of `s` are `True`</td></tr>\n",
    "<tr><td style=\"text-align:center\">`any(s)`</td><td>`True` if any elements of `s` are `True`</td></tr>\n",
    "</table>"
   ]
  },
  {
   "cell_type": "code",
   "execution_count": 10,
   "metadata": {
    "collapsed": false
   },
   "outputs": [
    {
     "data": {
      "text/plain": [
       "True"
      ]
     },
     "execution_count": 10,
     "metadata": {},
     "output_type": "execute_result"
    }
   ],
   "source": [
    "True and False or (True and not False)"
   ]
  },
  {
   "cell_type": "code",
   "execution_count": 11,
   "metadata": {
    "collapsed": false
   },
   "outputs": [
    {
     "data": {
      "text/plain": [
       "False"
      ]
     },
     "execution_count": 11,
     "metadata": {},
     "output_type": "execute_result"
    }
   ],
   "source": [
    "## The all function returns True if all elements are True\n",
    "all([True, True, False])"
   ]
  },
  {
   "cell_type": "code",
   "execution_count": 12,
   "metadata": {
    "collapsed": false
   },
   "outputs": [
    {
     "data": {
      "text/plain": [
       "True"
      ]
     },
     "execution_count": 12,
     "metadata": {},
     "output_type": "execute_result"
    }
   ],
   "source": [
    "## The any() function returns True if any elements are True\n",
    "any([False, False, True])"
   ]
  },
  {
   "cell_type": "markdown",
   "metadata": {},
   "source": [
    "## Numeric Data Types"
   ]
  },
  {
   "cell_type": "markdown",
   "metadata": {},
   "source": [
    "- `int` - Integer, 32-bit precision, long integer in C <br />\n",
    "- `float` - Floating point, 64-bit precision, double in C <br />\n",
    "- `long` - Long integer: unlimited precision<br />\n",
    "- `complex` - Imaginary numbers: these have `.real` and `.imag` components"
   ]
  },
  {
   "cell_type": "markdown",
   "metadata": {},
   "source": [
    "### Numeric Operators"
   ]
  },
  {
   "cell_type": "markdown",
   "metadata": {},
   "source": [
    "<table align=\"left\">\n",
    "<tr><td style=\"text-align:center\"><b>Operator</b></td><td style=\"text-align:center\"><b>Example</b></td><td><b>Description</b></td></tr>\n",
    "<tr><td style=\"text-align:center\">`*`</td><td style=\"text-align:center\">`x * y`</td><td>Multiplication of `x` and `y`</td></tr>\n",
    "<tr><td style=\"text-align:center\">`/`</td><td style=\"text-align:center\">`x / y`</td><td>Quotient of `x` and `y`</td></tr>\n",
    "<tr><td style=\"text-align:center\">`//`</td><td style=\"text-align:center\">`x // y`</td><td>Floored quotient of `x` and `y`</td></tr>\n",
    "<tr><td style=\"text-align:center\">`%`</td><td style=\"text-align:center\">`x % y`</td><td>Remainder of `x / y`</td></tr>\n",
    "<tr><td style=\"text-align:center\">`**`</td><td style=\"text-align:center\">`x ** y`</td><td>`x` to the power `y`</td></tr>\n",
    "<tr><td style=\"text-align:center\">`+`</td><td style=\"text-align:center\">`x + y`</td><td>Addition of `x` and `y`</td></tr>\n",
    "<tr><td style=\"text-align:center\">`-`</td><td style=\"text-align:center\">`x - y`</td><td>Difference of `x` and `y`</td></tr>\n",
    "<tr><td style=\"text-align:center\">`-`</td><td style=\"text-align:center\">`-x`</td><td>Negation of `x`</td></tr>\n",
    "</table>"
   ]
  },
  {
   "cell_type": "markdown",
   "metadata": {},
   "source": [
    "### Other Numeric Operations\n",
    "<table align=\"left\">\n",
    "<tr><td style=\"text-align:center\"><b>Operation</b></td><td><b>Description</b></td></tr>\n",
    "<tr><td style=\"text-align:center\">`abs(x)`</td><td>Absolute value of `x`</td></tr>\n",
    "<tr><td style=\"text-align:center\">`pow(x, y)`</td><td>`x` to the power `y`</td></tr>\n",
    "<tr><td style=\"text-align:center\">`divmod(x)`</td><td>The pair `(x / y, x % y)`</td></tr>\n",
    "<tr><td style=\"text-align:center\">`int(x)`</td><td>`x` converted to integer</td></tr>\n",
    "<tr><td style=\"text-align:center\">`long(x)`</td><td>`x` converted to long</td></tr>\n",
    "<tr><td style=\"text-align:center\">`float(x)`</td><td>`x` converted to float</td></tr>\n",
    "<tr><td style=\"text-align:center\">`complex(re,im)`</td><td>A complex number with real part `re` and imaginary part `im` (defaults to 0)</td></tr>\n",
    "<tr><td style=\"text-align:center\">`c.conjugate(c)`</td><td>The conjugate of the complex number `c`</td></tr>\n",
    "</table>"
   ]
  },
  {
   "cell_type": "code",
   "execution_count": 13,
   "metadata": {
    "collapsed": false
   },
   "outputs": [
    {
     "data": {
      "text/plain": [
       "0"
      ]
     },
     "execution_count": 13,
     "metadata": {},
     "output_type": "execute_result"
    }
   ],
   "source": [
    "5/6"
   ]
  },
  {
   "cell_type": "code",
   "execution_count": 15,
   "metadata": {
    "collapsed": false
   },
   "outputs": [
    {
     "data": {
      "text/plain": [
       "0.8333333333333334"
      ]
     },
     "execution_count": 15,
     "metadata": {},
     "output_type": "execute_result"
    }
   ],
   "source": [
    "float(5)/6"
   ]
  },
  {
   "cell_type": "markdown",
   "metadata": {},
   "source": [
    "### Operator Precedence\n",
    "\n",
    "1. `()`\n",
    "2. `**`\n",
    "3. `+/-` (negation)\n",
    "4. `*,/,//,%`\n",
    "5. `+,- ` (addition and subtraction)\n",
    "6. `not`\n",
    "7. `and`\n",
    "8. `or`"
   ]
  },
  {
   "cell_type": "markdown",
   "metadata": {},
   "source": [
    "### Comparison Operators\n",
    "<table align=\"left\">\n",
    "<tr><td style=\"text-align:center\"><b>Operator</b></td><td style=\"text-align:center\"><b>Example</b></td><td><b>Description</b></td></tr>\n",
    "<tr><td style=\"text-align:center\">`<`</td><td style=\"text-align:center\">`x < y`</td><td>`x` less than `y`</td></tr>\n",
    "<tr><td style=\"text-align:center\">`>`</td><td style=\"text-align:center\">`x > y`</td><td>`x` greater than `y`</td></tr>\n",
    "<tr><td style=\"text-align:center\">`==`</td><td style=\"text-align:center\">`x == y`</td><td>`x` equals `y`</td></tr>\n",
    "<tr><td style=\"text-align:center\">`<=`</td><td style=\"text-align:center\">`x <= y`</td><td>`x` less than or equal to `y`</td></tr>\n",
    "<tr><td style=\"text-align:center\">`>=`</td><td style=\"text-align:center\">`x >= y`</td><td>`x` greater than or equal to `y`</td></tr>\n",
    "<tr><td style=\"text-align:center\">`!=`</td><td style=\"text-align:center\">`x != y`</td><td>`x` not equal to `y`</td></tr>\n",
    "</table>"
   ]
  },
  {
   "cell_type": "markdown",
   "metadata": {},
   "source": [
    "## Sequence Data Types"
   ]
  },
  {
   "cell_type": "markdown",
   "metadata": {},
   "source": [
    "### Lists"
   ]
  },
  {
   "cell_type": "markdown",
   "metadata": {},
   "source": [
    "Lists are ordered collections of data. Python lists are mutable data types, which means the individual elements of a list can be modified.\n",
    "\n",
    "#### List methods\n",
    "<table align=\"left\">\n",
    "<tr><td style=\"text-align:center\"><b>Method</b></td><td><b>Description</b></td></tr>\n",
    "<tr><td style=\"text-align:center\">`l.append(x)`</td><td>Appends `x` to the end of the list `l`</td></tr>\n",
    "<tr><td style=\"text-align:center\">`l.extend(y)`</td><td>Appends each element of the list `y` to the end of `l`.</td></tr>\n",
    "<tr><td style=\"text-align:center\">`l.insert(i, x)`</td><td>Inserts `x` at index `i`</td></tr>\n",
    "<tr><td style=\"text-align:center\">`l.sort()`</td><td>Sorts the list `l`</td></tr>\n",
    "<tr><td style=\"text-align:center\">`l.pop([i])`</td><td>Removes the element at position `i` and returns it. If `i` is not given, the last element will be removed.</td></tr>\n",
    "<tr><td style=\"text-align:center\">`l.reverse()`</td><td>Reverses the list `l`</td></tr>\n",
    "<tr><td style=\"text-align:center\">`l.index(x)`</td><td>Returns the index of `x`</td></tr>\n",
    "<tr><td style=\"text-align:center\">`l.remove(x)`</td><td>Removes the first instance of `x` in the list</td></tr>\n",
    "</table>"
   ]
  },
  {
   "cell_type": "markdown",
   "metadata": {},
   "source": [
    "\\*\\* Note: Methods such as `list.append()`, `list.extend()`, etc. do not return the updated list. They return `None`. So be careful about assigning the results of these methods to a variable and expecting a list.\n",
    "\n",
    "see [https://docs.python.org/2/tutorial/datastructures.html](https://docs.python.org/2/tutorial/datastructures.html) for more details"
   ]
  },
  {
   "cell_type": "code",
   "execution_count": 16,
   "metadata": {
    "collapsed": false
   },
   "outputs": [
    {
     "name": "stdout",
     "output_type": "stream",
     "text": [
      "Help on method_descriptor:\n",
      "\n",
      "sort(...)\n",
      "    L.sort(cmp=None, key=None, reverse=False) -- stable sort *IN PLACE*;\n",
      "    cmp(x, y) -> -1, 0, 1\n",
      "\n"
     ]
    }
   ],
   "source": [
    "help(list.sort)"
   ]
  },
  {
   "cell_type": "code",
   "execution_count": 17,
   "metadata": {
    "collapsed": false
   },
   "outputs": [
    {
     "data": {
      "text/plain": [
       "[1, 2, 3.5, 'A', 'B', 'C']"
      ]
     },
     "execution_count": 17,
     "metadata": {},
     "output_type": "execute_result"
    }
   ],
   "source": [
    "# Lists can contain multiple different data types\n",
    "list1 = [1,2,3.5,'A','B','C']\n",
    "list1"
   ]
  },
  {
   "cell_type": "code",
   "execution_count": 18,
   "metadata": {
    "collapsed": false
   },
   "outputs": [
    {
     "data": {
      "text/plain": [
       "True"
      ]
     },
     "execution_count": 18,
     "metadata": {},
     "output_type": "execute_result"
    }
   ],
   "source": [
    "x = list1.append('D')\n",
    "x is None"
   ]
  },
  {
   "cell_type": "code",
   "execution_count": 19,
   "metadata": {
    "collapsed": false
   },
   "outputs": [
    {
     "data": {
      "text/plain": [
       "[1, 2, 3.5, 'A', 'B', 'C', 'D']"
      ]
     },
     "execution_count": 19,
     "metadata": {},
     "output_type": "execute_result"
    }
   ],
   "source": [
    "list1"
   ]
  },
  {
   "cell_type": "code",
   "execution_count": null,
   "metadata": {
    "collapsed": true
   },
   "outputs": [],
   "source": []
  },
  {
   "cell_type": "code",
   "execution_count": 20,
   "metadata": {
    "collapsed": false
   },
   "outputs": [
    {
     "data": {
      "text/plain": [
       "7"
      ]
     },
     "execution_count": 20,
     "metadata": {},
     "output_type": "execute_result"
    }
   ],
   "source": [
    "## Use the len() function to get the length of any \n",
    "## sequence variable (list, string, tuple, etc.)\n",
    "len(list1)"
   ]
  },
  {
   "cell_type": "code",
   "execution_count": 21,
   "metadata": {
    "collapsed": false
   },
   "outputs": [
    {
     "data": {
      "text/plain": [
       "1"
      ]
     },
     "execution_count": 21,
     "metadata": {},
     "output_type": "execute_result"
    }
   ],
   "source": [
    "# You can access list elements with an index (starting with 0)\n",
    "list1[0]"
   ]
  },
  {
   "cell_type": "code",
   "execution_count": 22,
   "metadata": {
    "collapsed": false
   },
   "outputs": [
    {
     "data": {
      "text/plain": [
       "[1, 2, 3.5]"
      ]
     },
     "execution_count": 22,
     "metadata": {},
     "output_type": "execute_result"
    }
   ],
   "source": [
    "# You can access a subset of a list using slice notation\n",
    "# The first index is inclusive, and the second is exclusive, \n",
    "# so [0:3] will give you the first, second and third elements\n",
    "list1[0:3]"
   ]
  },
  {
   "cell_type": "code",
   "execution_count": 29,
   "metadata": {
    "collapsed": false
   },
   "outputs": [
    {
     "data": {
      "text/plain": [
       "[1, 3.5, 'B']"
      ]
     },
     "execution_count": 29,
     "metadata": {},
     "output_type": "execute_result"
    }
   ],
   "source": [
    "# You can also specify a 'step' to get, for instance,\n",
    "# every second element in the list. [0:-1:2] will give you\n",
    "# the first, third, fifth, etc. element excluding the last \n",
    "# element of the list [-1].\n",
    "list1[0:-1:2]"
   ]
  },
  {
   "cell_type": "code",
   "execution_count": 26,
   "metadata": {
    "collapsed": false
   },
   "outputs": [
    {
     "data": {
      "text/plain": [
       "'C'"
      ]
     },
     "execution_count": 26,
     "metadata": {},
     "output_type": "execute_result"
    }
   ],
   "source": [
    "list1[-2]"
   ]
  },
  {
   "cell_type": "code",
   "execution_count": 30,
   "metadata": {
    "collapsed": false
   },
   "outputs": [
    {
     "data": {
      "text/plain": [
       "[1, 2, 3.5, 'A', 'B', 'C', 'D']"
      ]
     },
     "execution_count": 30,
     "metadata": {},
     "output_type": "execute_result"
    }
   ],
   "source": [
    "# To specify the entire list don't enter start or end indices\n",
    "list1[:]"
   ]
  },
  {
   "cell_type": "markdown",
   "metadata": {},
   "source": [
    "### Copying Lists\n",
    "\n",
    "When you assign a list variable to another variable, you are simply creating a reference to the first list. This means that if the values of the first list are changed, so are the values of the second list. To create a new list that is a copy of another list, you should use the `list()` function or slice notation (see below). The `copy.deepcopy()` method can be used to copy lists of objects."
   ]
  },
  {
   "cell_type": "code",
   "execution_count": 31,
   "metadata": {
    "collapsed": false
   },
   "outputs": [
    {
     "data": {
      "text/plain": [
       "[1, 2, 3, 4]"
      ]
     },
     "execution_count": 31,
     "metadata": {},
     "output_type": "execute_result"
    }
   ],
   "source": [
    "# Create a new list\n",
    "A = [1,2,3,4]\n",
    "# Assign list A to a new variable\n",
    "B = A\n",
    "B"
   ]
  },
  {
   "cell_type": "code",
   "execution_count": 32,
   "metadata": {
    "collapsed": false
   },
   "outputs": [
    {
     "data": {
      "text/plain": [
       "[1, 2, 3, 4]"
      ]
     },
     "execution_count": 32,
     "metadata": {},
     "output_type": "execute_result"
    }
   ],
   "source": [
    "# Create a copy of list A\n",
    "C = list(A)\n",
    "C"
   ]
  },
  {
   "cell_type": "code",
   "execution_count": 33,
   "metadata": {
    "collapsed": false
   },
   "outputs": [
    {
     "data": {
      "text/plain": [
       "[1, 2, 3, 4]"
      ]
     },
     "execution_count": 33,
     "metadata": {},
     "output_type": "execute_result"
    }
   ],
   "source": [
    "# Another way to create a copy of list A\n",
    "D = A[:]\n",
    "D"
   ]
  },
  {
   "cell_type": "code",
   "execution_count": 34,
   "metadata": {
    "collapsed": false
   },
   "outputs": [
    {
     "data": {
      "text/plain": [
       "[1, 2, 16, 4]"
      ]
     },
     "execution_count": 34,
     "metadata": {},
     "output_type": "execute_result"
    }
   ],
   "source": [
    "# Change the value of the third element in list A\n",
    "A[2] = 16\n",
    "A"
   ]
  },
  {
   "cell_type": "code",
   "execution_count": 35,
   "metadata": {
    "collapsed": false
   },
   "outputs": [
    {
     "data": {
      "text/plain": [
       "[1, 2, 16, 4]"
      ]
     },
     "execution_count": 35,
     "metadata": {},
     "output_type": "execute_result"
    }
   ],
   "source": [
    "# The value of list B changes also! List B is simply a reference to list A.\n",
    "B"
   ]
  },
  {
   "cell_type": "code",
   "execution_count": 36,
   "metadata": {
    "collapsed": false
   },
   "outputs": [
    {
     "data": {
      "text/plain": [
       "[1, 2, 3, 4]"
      ]
     },
     "execution_count": 36,
     "metadata": {},
     "output_type": "execute_result"
    }
   ],
   "source": [
    "# List C is a new list (a copy of A) and its values did not change\n",
    "C"
   ]
  },
  {
   "cell_type": "code",
   "execution_count": 37,
   "metadata": {
    "collapsed": false
   },
   "outputs": [
    {
     "data": {
      "text/plain": [
       "[1, 2, 3, 4]"
      ]
     },
     "execution_count": 37,
     "metadata": {},
     "output_type": "execute_result"
    }
   ],
   "source": [
    "# Same for list D\n",
    "D"
   ]
  },
  {
   "cell_type": "code",
   "execution_count": 38,
   "metadata": {
    "collapsed": false
   },
   "outputs": [
    {
     "data": {
      "text/plain": [
       "[[1, 2, 16, 4], [1, 2, 3, 4]]"
      ]
     },
     "execution_count": 38,
     "metadata": {},
     "output_type": "execute_result"
    }
   ],
   "source": [
    "E = [A, C]\n",
    "E"
   ]
  },
  {
   "cell_type": "code",
   "execution_count": 43,
   "metadata": {
    "collapsed": false
   },
   "outputs": [
    {
     "data": {
      "text/plain": [
       "1"
      ]
     },
     "execution_count": 43,
     "metadata": {},
     "output_type": "execute_result"
    }
   ],
   "source": [
    "E[0][0]"
   ]
  },
  {
   "cell_type": "code",
   "execution_count": 39,
   "metadata": {
    "collapsed": false
   },
   "outputs": [],
   "source": [
    "# When using list() to create a copy of a list that contains objects \n",
    "# a new list will be created, but the elements of the list will\n",
    "# still be references to the objects\n",
    "F = list(E)"
   ]
  },
  {
   "cell_type": "code",
   "execution_count": 40,
   "metadata": {
    "collapsed": false
   },
   "outputs": [
    {
     "data": {
      "text/plain": [
       "[[1, 2, 16, 4], [1, 2, 3, 4]]"
      ]
     },
     "execution_count": 40,
     "metadata": {},
     "output_type": "execute_result"
    }
   ],
   "source": [
    "# Using the deepcopy() method will create a copy of a list and any \n",
    "# objects (e.g. other lists) that are elements of that list\n",
    "import copy\n",
    "G = copy.deepcopy(E)\n",
    "G"
   ]
  },
  {
   "cell_type": "code",
   "execution_count": 41,
   "metadata": {
    "collapsed": false
   },
   "outputs": [
    {
     "data": {
      "text/plain": [
       "[1, 2, 3, 20]"
      ]
     },
     "execution_count": 41,
     "metadata": {},
     "output_type": "execute_result"
    }
   ],
   "source": [
    "# Change the last element of list C\n",
    "C[-1] = 20\n",
    "C"
   ]
  },
  {
   "cell_type": "code",
   "execution_count": 44,
   "metadata": {
    "collapsed": false
   },
   "outputs": [
    {
     "data": {
      "text/plain": [
       "[[1, 2, 16, 4], [1, 2, 3, 20]]"
      ]
     },
     "execution_count": 44,
     "metadata": {},
     "output_type": "execute_result"
    }
   ],
   "source": [
    "F"
   ]
  },
  {
   "cell_type": "code",
   "execution_count": 45,
   "metadata": {
    "collapsed": false
   },
   "outputs": [
    {
     "data": {
      "text/plain": [
       "[[1, 2, 16, 4], [1, 2, 3, 4]]"
      ]
     },
     "execution_count": 45,
     "metadata": {},
     "output_type": "execute_result"
    }
   ],
   "source": [
    "G"
   ]
  },
  {
   "cell_type": "markdown",
   "metadata": {},
   "source": [
    "### Sets"
   ]
  },
  {
   "cell_type": "markdown",
   "metadata": {},
   "source": [
    "Sets are unordered collections of unique (non-duplicate) items. Sets are mutable, and are very useful for comparing collections of items.\n",
    "\n",
    "#### Set Methods\n",
    "\n",
    "<table align=\"left\">\n",
    "<tr><td style=\"text-align:center\"><b>Method</b></td><td style=\"text-align:center\"><b>Equivalent To</b></td><td><b>Description</b></td></tr>\n",
    "<tr><td style=\"text-align:center\">`s.union(x)`</td><td style=\"text-align:center\">`s | x`</td><td>Returns a new set containing the elements of `s` and the elements of `x`</td></tr>\n",
    "<tr><td style=\"text-align:center\">`s.intersection(x)`</td><td style=\"text-align:center\">`s & x`</td><td>Returns a new set containing only the elements in both `s` and `x`</td></tr>\n",
    "<tr><td style=\"text-align:center\">`s.difference(x)`</td><td style=\"text-align:center\">`s - x`</td><td>Returns a new set containing elements in `s` but not in `x`</td></tr>\n",
    "<tr><td style=\"text-align:center\">`s.symmetric_difference(x)`</td><td style=\"text-align:center\">`s ^ x`</td><td>Returns a set containing elements in either `s` or `x`, but not both</td></tr>\n",
    "<tr><td style=\"text-align:center\">`s.issubset(x)`</td><td style=\"text-align:center\">`s <= x`</td><td>Returns `True` if `x` contains all elements of `s`</td></tr>\n",
    "<tr><td style=\"text-align:center\">`s.issuperset(x)`</td><td style=\"text-align:center\">`s >= x`</td><td>Returns `True` if `s` contains all elements of `x`</td></tr>\n",
    "</table>"
   ]
  },
  {
   "cell_type": "markdown",
   "metadata": {},
   "source": [
    "#### Other Set Operations\n",
    "<table align=\"left\">\n",
    "<tr><td style=\"text-align:center\"><b>Operation</b></td><td><b>Description</b></td></tr>\n",
    "<tr><td style=\"text-align:center\">`s.add(y)`</td><td>Adds the value `y` to the set `s`</td></tr>\n",
    "<tr><td style=\"text-align:center\">`s.remove(y)`</td><td>Removes the value `y` from `s`. Returns an error if `y` is not in `s`.</td></tr>\n",
    "<tr><td style=\"text-align:center\">`s.discard(y)`</td><td>Removes the value `y` from `s` if present</td></tr>\n",
    "<tr><td style=\"text-align:center\">`s.update(z)`</td><td>Updates the set `s` by adding all elements from set `z`</td></tr>\n",
    "<tr><td style=\"text-align:center\">`s.clear()`</td><td>Removes all elements from `s`</td></tr>\n",
    "</table>"
   ]
  },
  {
   "cell_type": "markdown",
   "metadata": {},
   "source": [
    "see <a href=\"https://docs.python.org/2/library/stdtypes.html#set\">https://docs.python.org/2/library/stdtypes.html#set</a> for more details"
   ]
  },
  {
   "cell_type": "code",
   "execution_count": 46,
   "metadata": {
    "collapsed": false
   },
   "outputs": [],
   "source": [
    "## Create a set using the set() function\n",
    "s1 = set(['blue', 'yellow', 'red'])\n",
    "s2 = set(['orange', 'green', 'blue'])\n",
    "\n",
    "## Curly braces can also be used\n",
    "s3 = {'pink', 'purple'}"
   ]
  },
  {
   "cell_type": "code",
   "execution_count": 47,
   "metadata": {
    "collapsed": false
   },
   "outputs": [
    {
     "data": {
      "text/plain": [
       "{'blue'}"
      ]
     },
     "execution_count": 47,
     "metadata": {},
     "output_type": "execute_result"
    }
   ],
   "source": [
    "## Get the intersection of two sets\n",
    "s1 & s2"
   ]
  },
  {
   "cell_type": "markdown",
   "metadata": {},
   "source": [
    "### Tuples\n",
    "Tuples are immutable sequences. Tuples are similar to lists, but you can't change individual elements."
   ]
  },
  {
   "cell_type": "code",
   "execution_count": 48,
   "metadata": {
    "collapsed": false
   },
   "outputs": [
    {
     "data": {
      "text/plain": [
       "(1, 2, 3, 4)"
      ]
     },
     "execution_count": 48,
     "metadata": {},
     "output_type": "execute_result"
    }
   ],
   "source": [
    "## Tuples are created by placing parentheses around \n",
    "## a sequence of values separated by commas\n",
    "t1 = (1,2,3,4)\n",
    "t1"
   ]
  },
  {
   "cell_type": "code",
   "execution_count": 49,
   "metadata": {
    "collapsed": false
   },
   "outputs": [
    {
     "data": {
      "text/plain": [
       "('A',)"
      ]
     },
     "execution_count": 49,
     "metadata": {},
     "output_type": "execute_result"
    }
   ],
   "source": [
    "## To create a tuple with a single value, place a comma at the end\n",
    "t2 = ('A',)\n",
    "t2"
   ]
  },
  {
   "cell_type": "code",
   "execution_count": 50,
   "metadata": {
    "collapsed": false
   },
   "outputs": [
    {
     "ename": "TypeError",
     "evalue": "'tuple' object does not support item assignment",
     "output_type": "error",
     "traceback": [
      "\u001b[0;31m---------------------------------------------------------------------------\u001b[0m",
      "\u001b[0;31mTypeError\u001b[0m                                 Traceback (most recent call last)",
      "\u001b[0;32m<ipython-input-50-8507b9e227d6>\u001b[0m in \u001b[0;36m<module>\u001b[0;34m()\u001b[0m\n\u001b[1;32m      1\u001b[0m \u001b[0;31m## You can't change the elements of a tuple\u001b[0m\u001b[0;34m\u001b[0m\u001b[0;34m\u001b[0m\u001b[0m\n\u001b[0;32m----> 2\u001b[0;31m \u001b[0mt1\u001b[0m\u001b[0;34m[\u001b[0m\u001b[0;36m0\u001b[0m\u001b[0;34m]\u001b[0m \u001b[0;34m=\u001b[0m \u001b[0;36m3\u001b[0m\u001b[0;34m\u001b[0m\u001b[0m\n\u001b[0m",
      "\u001b[0;31mTypeError\u001b[0m: 'tuple' object does not support item assignment"
     ]
    }
   ],
   "source": [
    "## You can't change the elements of a tuple\n",
    "t1[0] = 3"
   ]
  },
  {
   "cell_type": "markdown",
   "metadata": {},
   "source": [
    "### Strings\n",
    "\n",
    "Strings are immutable sequences of characters, and can accessed much like lists. There are, of course, numerous methods that are specific to strings. Below are a few useful string methods\n",
    "\n",
    "#### String Methods\n",
    "<table align=\"left\">\n",
    "<tr><td style=\"text-align:center\"><b>Operation</b></td><td><b>Description</b></td></tr>\n",
    "<tr><td style=\"text-align:center\">`str.find(sub)`</td><td>Returns the lowest index where substring `sub` is found in `str`</td></tr>\n",
    "<tr><td style=\"text-align:center\">`str.replace(old, new)`</td><td>Returns a copy of `str` with all occurences of substring `old` replaced by `new`.</td></tr>\n",
    "<tr><td style=\"text-align:center\">`str.split([sep])`</td><td>Returns a list containing substrings of `str` using `sep` as the delimiter.</td></tr>\n",
    "<tr><td style=\"text-align:center\">`str.join(iterable)`</td><td>Returns a string that is a concatenation of the elements in<br /> `iterable`. The separator between elements is `str`.</td></tr>\n",
    "<tr><td style=\"text-align:center\">`str.strip([chars])`</td><td>Returns a copy of 'str' with leading and trailing `chars` removed. <br />If `chars` is not specified, whitespace will be removed.</td></tr>\n",
    "</table>"
   ]
  },
  {
   "cell_type": "markdown",
   "metadata": {},
   "source": [
    "see [https://docs.python.org/2/library/stdtypes.html#string-methods](https://docs.python.org/2/library/stdtypes.html#string-methods) for more details"
   ]
  },
  {
   "cell_type": "code",
   "execution_count": 51,
   "metadata": {
    "collapsed": false
   },
   "outputs": [
    {
     "data": {
      "text/plain": [
       "'hello'"
      ]
     },
     "execution_count": 51,
     "metadata": {},
     "output_type": "execute_result"
    }
   ],
   "source": [
    "## Define a string by placing quotes around a sequence of characters\n",
    "s1 = \"hello\"\n",
    "s1"
   ]
  },
  {
   "cell_type": "code",
   "execution_count": 52,
   "metadata": {
    "collapsed": false
   },
   "outputs": [
    {
     "data": {
      "text/plain": [
       "'5'"
      ]
     },
     "execution_count": 52,
     "metadata": {},
     "output_type": "execute_result"
    }
   ],
   "source": [
    "## Use the str() function to convert values to string\n",
    "str(5)"
   ]
  },
  {
   "cell_type": "code",
   "execution_count": 53,
   "metadata": {
    "collapsed": false
   },
   "outputs": [],
   "source": [
    "## Modify the string by replacing a substring\n",
    "s2 = s1.replace('h', 'H')"
   ]
  },
  {
   "cell_type": "code",
   "execution_count": 54,
   "metadata": {
    "collapsed": false
   },
   "outputs": [
    {
     "data": {
      "text/plain": [
       "'Hello'"
      ]
     },
     "execution_count": 54,
     "metadata": {},
     "output_type": "execute_result"
    }
   ],
   "source": [
    "s2"
   ]
  },
  {
   "cell_type": "code",
   "execution_count": 55,
   "metadata": {
    "collapsed": false
   },
   "outputs": [
    {
     "data": {
      "text/plain": [
       "['h', 'e', 'l', 'l', 'o']"
      ]
     },
     "execution_count": 55,
     "metadata": {},
     "output_type": "execute_result"
    }
   ],
   "source": [
    "## Create a list containing a string's characters\n",
    "list(s1)"
   ]
  },
  {
   "cell_type": "markdown",
   "metadata": {},
   "source": [
    "### Operations for Sequence Data Types\n",
    "\n",
    "<table align=\"left\">\n",
    "<tr><td style=\"text-align:center\"><b>Operation</b></td><td><b>Description</b></td></tr>\n",
    "<tr><td style=\"text-align:center\">`s + y`</td><td>Concatenates `s` and `y`</td></tr>\n",
    "<tr><td style=\"text-align:center\">`s * n`</td><td>Returns `n` copies of `s`</td></tr>\n",
    "<tr><td style=\"text-align:center\">`v1, v2, v3 = s`</td><td>Variable unpacking</td></tr>\n",
    "<tr><td style=\"text-align:center\">`x in s` <br /> `x not in s`</td><td>Determine membership. Returns `True` or `False`.</td></tr>\n",
    "<tr><td style=\"text-align:center\">`len(s)`</td><td>Returns the length of `s`.</td></tr>\n",
    "<tr><td style=\"text-align:center\">`min(s)`</td><td>Returns the minimum value in `s`.</td></tr>\n",
    "<tr><td style=\"text-align:center\">`max(s)`</td><td>Returns the maximum value in `s`.</td></tr>\n",
    "<tr><td style=\"text-align:center\">`sum(s)`</td><td>Returns the sum of `s` (elements of `s` must be numeric).</td></tr>\n",
    "</table>"
   ]
  },
  {
   "cell_type": "code",
   "execution_count": 56,
   "metadata": {
    "collapsed": false
   },
   "outputs": [
    {
     "data": {
      "text/plain": [
       "'hello Hello'"
      ]
     },
     "execution_count": 56,
     "metadata": {},
     "output_type": "execute_result"
    }
   ],
   "source": [
    "s1 + ' ' + s2"
   ]
  },
  {
   "cell_type": "code",
   "execution_count": 57,
   "metadata": {
    "collapsed": false
   },
   "outputs": [
    {
     "data": {
      "text/plain": [
       "False"
      ]
     },
     "execution_count": 57,
     "metadata": {},
     "output_type": "execute_result"
    }
   ],
   "source": [
    "'A' in s1"
   ]
  },
  {
   "cell_type": "markdown",
   "metadata": {},
   "source": [
    "### String Formatting"
   ]
  },
  {
   "cell_type": "markdown",
   "metadata": {},
   "source": [
    "The `%` operator can be used to control the formatting of string. This is useful for creating nice-looking output. The format is as follows:\n",
    "\n",
    "    \"<some-string> %<modifier><conversion-specifier>\" % (<a tuple of values>)\n",
    "\n",
    "#### Conversion Specifiers\n",
    "<table align=\"left\">\n",
    "<tr><td style=\"text-align:center\"><b>Character</b></td><td><b>Output Format</b></td></tr>\n",
    "<tr><td style=\"text-align:center\">`d` or `i`</td><td>Integer decimal</td></tr>\n",
    "<tr><td style=\"text-align:center\">`o`</td><td>Octal</td></tr>\n",
    "<tr><td style=\"text-align:center\">`x`</td><td>Hexadecimal</td></tr>\n",
    "<tr><td style=\"text-align:center\">`f`</td><td>Floating point decimal</td></tr>\n",
    "<tr><td style=\"text-align:center\">`e`</td><td>Floating point exponential format</td></tr>\n",
    "<tr><td style=\"text-align:center\">`s`</td><td>String</td></tr>\n",
    "</table>"
   ]
  },
  {
   "cell_type": "markdown",
   "metadata": {},
   "source": [
    "#### Formatting Modifiers\n",
    "1. A number specifying minimum field width\n",
    "2. A `.` separating the field width from the precision number\n",
    "3. A precision number specifying the number of characters to be printed from a string (or the number of digits after the decimal point for a floating point number)"
   ]
  },
  {
   "cell_type": "code",
   "execution_count": 58,
   "metadata": {
    "collapsed": false
   },
   "outputs": [
    {
     "data": {
      "text/plain": [
       "'My favorite number is 5'"
      ]
     },
     "execution_count": 58,
     "metadata": {},
     "output_type": "execute_result"
    }
   ],
   "source": [
    "## Create string using the % operator\n",
    "s2 = \"My favorite number is %d\" % (5,)\n",
    "s2"
   ]
  },
  {
   "cell_type": "code",
   "execution_count": 59,
   "metadata": {
    "collapsed": false
   },
   "outputs": [
    {
     "data": {
      "text/plain": [
       "\"This is pi displayed to 5 decimal points: '   3.14159'\""
      ]
     },
     "execution_count": 59,
     "metadata": {},
     "output_type": "execute_result"
    }
   ],
   "source": [
    "## More complicated formatting\n",
    "s3 = \"This is %s displayed to 5 decimal points: '%10.5f'\" % (\"pi\", 3.14159265359)\n",
    "s3"
   ]
  },
  {
   "cell_type": "markdown",
   "metadata": {},
   "source": [
    "#### Another (Newer) Way to Format Strings\n",
    "\n",
    "The `str.format()` method can also be used to format strings, using similar specifiers and modifiers as described above. In this case, however, placeholders in your string are denoted by curly braces (`{}`), and `'%'` is replaced with `':'`. The general format for the placeholder (or replacement field) is as follows:\n",
    "\n",
    "    { [field_name] [! conversion] [: format_spec] }\n",
    "\n",
    "[https://docs.python.org/2/library/string.html#formatstrings](https://docs.python.org/2/library/string.html#formatstrings)"
   ]
  },
  {
   "cell_type": "code",
   "execution_count": 60,
   "metadata": {
    "collapsed": false
   },
   "outputs": [
    {
     "data": {
      "text/plain": [
       "\"This is pi displayed to 5 decimal points: '   3.14159'\""
      ]
     },
     "execution_count": 60,
     "metadata": {},
     "output_type": "execute_result"
    }
   ],
   "source": [
    "## Format a string using the format() method\n",
    "s4 = \"This is {} displayed to 5 decimal points: '{:10.5f}'\"\n",
    "s4.format(\"pi\", 3.14159265359)"
   ]
  },
  {
   "cell_type": "markdown",
   "metadata": {},
   "source": [
    "#### Escape Characters\n",
    "<table align=\"left\">\n",
    "<tr><td style=\"text-align:center\"><b>Character</b></td><td><b>Output</b></td></tr>\n",
    "<tr><td style=\"text-align:center\">`\\\\`</td><td>Backslash</td></tr>\n",
    "<tr><td style=\"text-align:center\">`\\'`</td><td>Single quote</td></tr>\n",
    "<tr><td style=\"text-align:center\">`\\\"`</td><td>Double quote</td></tr>\n",
    "<tr><td style=\"text-align:center\">`\\n`</td><td>Newline</td></tr>\n",
    "<tr><td style=\"text-align:center\">`\\t`</td><td>Tab</td></tr>\n",
    "</table>"
   ]
  },
  {
   "cell_type": "code",
   "execution_count": 61,
   "metadata": {
    "collapsed": false
   },
   "outputs": [
    {
     "name": "stdout",
     "output_type": "stream",
     "text": [
      "Line1\n",
      "Line2\n"
     ]
    }
   ],
   "source": [
    "print \"Line1\\nLine2\""
   ]
  },
  {
   "cell_type": "markdown",
   "metadata": {},
   "source": [
    "## Mapping Data Types"
   ]
  },
  {
   "cell_type": "markdown",
   "metadata": {},
   "source": [
    "Dictionaries are unordered collections of `key:value` pairs. Keys must be hashable values (immutable data types). \n",
    "\n",
    "#### Dictionary Methods\n",
    "<table align=\"left\">\n",
    "<tr><td style=\"text-align:center\"><b>Method</b></td><td><b>Description</b></td></tr>\n",
    "<tr><td style=\"text-align:center\">`d.get(key[, default])`</td><td>Returns the value associated with `key` in `d`. If `key` doesn't exist, returns `default`, or `None` if `default` is not specified.</td></tr>\n",
    "<tr><td style=\"text-align:center\">`d.keys()`</td><td>Returns a list of the keys of `d`</td></tr>\n",
    "<tr><td style=\"text-align:center\">`d.values()`</td><td>Returns a list of the values of `d`</td></tr>\n",
    "<tr><td style=\"text-align:center\">`d.items()`</td><td>Returns a list of the keys:value pairs as tuples.</td></tr>\n",
    "<tr><td style=\"text-align:center\">`d.iteritems()`</td><td>Returns an iterator over the dictionary's `(key, value)` pairs.</td></tr>\n",
    "<tr><td style=\"text-align:center\">`d.update(y)`</td><td>Updates `d` with key:value pairs of `y` overwriting existing keys</td></tr>\n",
    "<tr><td style=\"text-align:center\">`d.pop(key[,default])`</td><td>If `key` is in `d` remove it and return its value. If the key does not exist, returns `default`, if provided, otherwise an error.</td></tr>\n",
    "</table>"
   ]
  },
  {
   "cell_type": "markdown",
   "metadata": {},
   "source": [
    "See [https://docs.python.org/2/library/stdtypes.html#mapping-types-dict](https://docs.python.org/2/library/stdtypes.html#mapping-types-dict) for more details"
   ]
  },
  {
   "cell_type": "code",
   "execution_count": 62,
   "metadata": {
    "collapsed": false
   },
   "outputs": [
    {
     "data": {
      "text/plain": [
       "{'A': 'blue', 'B': 'red'}"
      ]
     },
     "execution_count": 62,
     "metadata": {},
     "output_type": "execute_result"
    }
   ],
   "source": [
    "## Create a dictionary by placing curly brackets {}\n",
    "## around a comma delimited list of key:value pairs\n",
    "d1 = {'A':'blue', 'B':'red'}\n",
    "d1"
   ]
  },
  {
   "cell_type": "code",
   "execution_count": 63,
   "metadata": {
    "collapsed": false
   },
   "outputs": [
    {
     "data": {
      "text/plain": [
       "True"
      ]
     },
     "execution_count": 63,
     "metadata": {},
     "output_type": "execute_result"
    }
   ],
   "source": [
    "## Or call the dict() function on a list of tuples\n",
    "d2 = dict([('A', 'blue'), ('B', 'red')])\n",
    "d2 == d1"
   ]
  },
  {
   "cell_type": "code",
   "execution_count": 64,
   "metadata": {
    "collapsed": false
   },
   "outputs": [
    {
     "data": {
      "text/plain": [
       "[('A', 'blue'), ('B', 'red')]"
      ]
     },
     "execution_count": 64,
     "metadata": {},
     "output_type": "execute_result"
    }
   ],
   "source": [
    "## Get all keys and values as a list of tuples\n",
    "d1.items()"
   ]
  },
  {
   "cell_type": "code",
   "execution_count": 65,
   "metadata": {
    "collapsed": false
   },
   "outputs": [
    {
     "data": {
      "text/plain": [
       "'blue'"
      ]
     },
     "execution_count": 65,
     "metadata": {},
     "output_type": "execute_result"
    }
   ],
   "source": [
    "## Access the dictionary's values\n",
    "d1['A']"
   ]
  },
  {
   "cell_type": "code",
   "execution_count": 66,
   "metadata": {
    "collapsed": false
   },
   "outputs": [
    {
     "data": {
      "text/plain": [
       "'blue'"
      ]
     },
     "execution_count": 66,
     "metadata": {},
     "output_type": "execute_result"
    }
   ],
   "source": [
    "d1.get('A')"
   ]
  },
  {
   "cell_type": "markdown",
   "metadata": {},
   "source": [
    "## Python 2.7 vs. Python 3\n",
    "\n",
    "We will be using Python 2.7 in this course. The reason we use Python 2.7 is mainly for the sake of compatibility. It is still the default version installed on many systems and some third-party packages are not yet available for Python 3. However, Python 3 is over five years old now. It's important to understand what's new, so you'll be ready for the future.\n",
    "\n",
    "A good way to start getting your code ready for Python 3, while still using 2.7 is to make use of the [future compatibility package](http://python-future.org/index.html). For example, the following code imports two features that make Python 3 different from Python 2.7: the print function (no longer a print statement), and the division operator (no longer integer division)."
   ]
  },
  {
   "cell_type": "code",
   "execution_count": 67,
   "metadata": {
    "collapsed": false
   },
   "outputs": [
    {
     "name": "stdout",
     "output_type": "stream",
     "text": [
      "Hello World!\n"
     ]
    }
   ],
   "source": [
    "## Example of the printing in Python 2.7 -- print is a statement not a function\n",
    "print \"Hello World!\""
   ]
  },
  {
   "cell_type": "code",
   "execution_count": 68,
   "metadata": {
    "collapsed": false
   },
   "outputs": [
    {
     "name": "stdout",
     "output_type": "stream",
     "text": [
      "Hello World!\n"
     ]
    }
   ],
   "source": [
    "## Example of printing in Python 3\n",
    "from __future__ import print_function\n",
    "print(\"Hello World!\")"
   ]
  },
  {
   "cell_type": "code",
   "execution_count": 69,
   "metadata": {
    "collapsed": false
   },
   "outputs": [
    {
     "ename": "SyntaxError",
     "evalue": "invalid syntax (<ipython-input-69-5fcbae8c4c7b>, line 2)",
     "output_type": "error",
     "traceback": [
      "\u001b[0;36m  File \u001b[0;32m\"<ipython-input-69-5fcbae8c4c7b>\"\u001b[0;36m, line \u001b[0;32m2\u001b[0m\n\u001b[0;31m    print \"Hello World!\"\u001b[0m\n\u001b[0m                       ^\u001b[0m\n\u001b[0;31mSyntaxError\u001b[0m\u001b[0;31m:\u001b[0m invalid syntax\n"
     ]
    }
   ],
   "source": [
    "## What happens if I try the print statement now?\n",
    "print \"Hello World!\""
   ]
  },
  {
   "cell_type": "code",
   "execution_count": 70,
   "metadata": {
    "collapsed": false
   },
   "outputs": [
    {
     "data": {
      "text/plain": [
       "3"
      ]
     },
     "execution_count": 70,
     "metadata": {},
     "output_type": "execute_result"
    }
   ],
   "source": [
    "## Example of division in Python 2.7 -- integer division\n",
    "7/2"
   ]
  },
  {
   "cell_type": "code",
   "execution_count": 71,
   "metadata": {
    "collapsed": false
   },
   "outputs": [
    {
     "data": {
      "text/plain": [
       "3.5"
      ]
     },
     "execution_count": 71,
     "metadata": {},
     "output_type": "execute_result"
    }
   ],
   "source": [
    "## First convert one of the numbers to a floating point number\n",
    "float(7)/2"
   ]
  },
  {
   "cell_type": "code",
   "execution_count": 72,
   "metadata": {
    "collapsed": false
   },
   "outputs": [
    {
     "data": {
      "text/plain": [
       "3.5"
      ]
     },
     "execution_count": 72,
     "metadata": {},
     "output_type": "execute_result"
    }
   ],
   "source": [
    "## Example of division in Python 3\n",
    "from __future__ import division\n",
    "7/2"
   ]
  },
  {
   "cell_type": "markdown",
   "metadata": {},
   "source": [
    "#### ** All code for assignments in this class must run under Python 2.7. However, it is up to you whether you want to use the `__future__` package, as in the examples above, to get used to Python 3 syntax.\n",
    "\n",
    "#### You will see mostly 2.7 syntax in the class materials. "
   ]
  },
  {
   "cell_type": "markdown",
   "metadata": {},
   "source": [
    "## References"
   ]
  },
  {
   "cell_type": "markdown",
   "metadata": {},
   "source": [
    "- <u>Programming Languages</u>, Ravi Sethi, 2nd Edition, Addison‐Wesley (1996)\n",
    "- <u>Problem Solving, Abstraction and Design Using C++</u>, Frank Friedman, Elliot Koffman, 4th Edition, Addison-Wesley (2004)\n",
    "- <u>Python for Bioinformatics</u>, Sebastian Bassi, CRC Press (2010)"
   ]
  },
  {
   "cell_type": "markdown",
   "metadata": {},
   "source": [
    "#### Last Updated: 26-Jan-2016"
   ]
  }
 ],
 "metadata": {
  "kernelspec": {
   "display_name": "Python 2",
   "language": "python",
   "name": "python2"
  },
  "language_info": {
   "codemirror_mode": {
    "name": "ipython",
    "version": 2
   },
   "file_extension": ".py",
   "mimetype": "text/x-python",
   "name": "python",
   "nbconvert_exporter": "python",
   "pygments_lexer": "ipython2",
   "version": "2.7.11"
  }
 },
 "nbformat": 4,
 "nbformat_minor": 0
}
