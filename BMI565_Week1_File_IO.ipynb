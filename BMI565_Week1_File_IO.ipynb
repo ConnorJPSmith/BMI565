{
 "cells": [
  {
   "cell_type": "markdown",
   "metadata": {},
   "source": [
    "# BMI 565: Bioinformatics Programming & Scripting"
   ]
  },
  {
   "cell_type": "markdown",
   "metadata": {},
   "source": [
    "#### (C) 2015 Michael Mooney (mooneymi@ohsu.edu)"
   ]
  },
  {
   "cell_type": "markdown",
   "metadata": {},
   "source": [
    "## Week 1: File Input/Output"
   ]
  },
  {
   "cell_type": "markdown",
   "metadata": {},
   "source": [
    "1. Basic File I/O\n",
    "    * Methods for Reading from Files\n",
    "    * Writing to Files\n",
    "    * The `with` Statement\n",
    "2. Parsing Data Files\n",
    "3. The `csv` Module\n",
    "4. The `cPickle` Module"
   ]
  },
  {
   "cell_type": "markdown",
   "metadata": {},
   "source": [
    "#### Requirements\n",
    "- Python 2.7\n",
    "- `csv` module\n",
    "- `cPickle` module\n",
    "\n",
    "- Data Files\n",
    "    - `P00533.fasta`\n",
    "    - `annot_test.txt`"
   ]
  },
  {
   "cell_type": "markdown",
   "metadata": {},
   "source": [
    "## Basic File I/O"
   ]
  },
  {
   "cell_type": "markdown",
   "metadata": {},
   "source": [
    "### Opening Files"
   ]
  },
  {
   "cell_type": "code",
   "execution_count": 12,
   "metadata": {
    "collapsed": false
   },
   "outputs": [],
   "source": [
    "## Use the open() function to create a file handle object\n",
    "## The two parameters are the file path and the mode: \n",
    "## 'r' = read (default), 'w' = write, 'a' = append\n",
    "fh = open('P00533.fasta', 'r')"
   ]
  },
  {
   "cell_type": "code",
   "execution_count": 13,
   "metadata": {
    "collapsed": false
   },
   "outputs": [
    {
     "data": {
      "text/plain": [
       "<open file 'P00533.fasta', mode 'r' at 0x102744ed0>"
      ]
     },
     "execution_count": 13,
     "metadata": {},
     "output_type": "execute_result"
    }
   ],
   "source": [
    "fh"
   ]
  },
  {
   "cell_type": "markdown",
   "metadata": {},
   "source": [
    "### Methods for Reading from Files"
   ]
  },
  {
   "cell_type": "markdown",
   "metadata": {},
   "source": [
    "<table align=\"left\">\n",
    "<tr><td style=\"text-align:center\"><b>Method</b></td><td><b>Description</b></td></tr>\n",
    "<tr><td style=\"text-align:center\">`fh.read([size])`</td><td>Will read the file up to 'size' bytes. If 'size' is not specified the <br />entire file will be read. Returns a string.</td></tr>\n",
    "<tr><td style=\"text-align:center\">`fh.readline([size])`</td><td>Will read a single line up to 'size' bytes. If 'size' is not specified the <br />entire line is read. Returns a string.</td></tr>\n",
    "<tr><td style=\"text-align:center\">`fh.readlines([sizehint])`</td><td>Will read multiple lines and return a list containing each line.</td></tr>\n",
    "</table>"
   ]
  },
  {
   "cell_type": "code",
   "execution_count": 14,
   "metadata": {
    "collapsed": false
   },
   "outputs": [
    {
     "name": "stdout",
     "output_type": "stream",
     "text": [
      ">sp|P00533|EGFR_HUMAN Epidermal growth factor receptor OS=Homo sapiens GN=EGFR PE=1 SV=2\n",
      "MRPSGTAGAALLALLAALCPASRALEEKKVCQGTSNKLTQLGTFEDHFLSLQRMFNNCEV\n",
      "VLGNLEITYVQRNYDLSFLKTIQEVAGYVLIALNTVERIPLENLQIIRGNMYYENSYALA\n",
      "VLSNYDANKTGLKELPMRNLQEILHGAVRFSNNPALCNVESIQWRDIVSSDFLSNMSMDF\n",
      "QNHLGSCQKCDPSCPNGSCWGAGEENCQKLTKIICAQQCSGRCRGKSPSDCCHNQCAAGC\n",
      "TGPRESDCLVCRKFRDEATCKDTCPPLMLYNPTTYQMDVNPEGKYSFGATCVKKCPRNYV\n",
      "VTDHGSCVRACGADSYEMEEDGVRKCKKCEGPCRKVCNGIGIGEFKDSLSINATNIKHFK\n",
      "NCTSISGDLHILPVAFRGDSFTHTPPLDPQELDILKTVKEITGFLLIQAWPENRTDLHAF\n",
      "ENLEIIRGRTKQHGQFSLAVVSLNITSLGLRSLKEISDGDVIISGNKNLCYANTINWKKL\n",
      "FGTSGQKTKIISNRGENSCKATGQVCHALCSPEGCWGPEPRDCVSCRNVSRGRECVDKCN\n",
      "LLEGEPREFVENSECIQCHPECLPQAMNITCTGRGPDNCIQCAHYIDGPHCVKTCPAGVM\n",
      "GENNTLVWKYADAGHVCHLCHPNCTYGCTGPGLEGCPTNGPKIPSIATGMVGALLLLLVV\n",
      "ALGIGLFMRRRHIVRKRTLRRLLQERELVEPLTPSGEAPNQALLRILKETEFKKIKVLGS\n",
      "GAFGTVYKGLWIPEGEKVKIPVAIKELREATSPKANKEILDEAYVMASVDNPHVCRLLGI\n",
      "CLTSTVQLITQLMPFGCLLDYVREHKDNIGSQYLLNWCVQIAKGMNYLEDRRLVHRDLAA\n",
      "RNVLVKTPQHVKITDFGLAKLLGAEEKEYHAEGGKVPIKWMALESILHRIYTHQSDVWSY\n",
      "GVTVWELMTFGSKPYDGIPASEISSILEKGERLPQPPICTIDVYMIMVKCWMIDADSRPK\n",
      "FRELIIEFSKMARDPQRYLVIQGDERMHLPSPTDSNFYRALMDEEDMDDVVDADEYLIPQ\n",
      "QGFFSSPSTSRTPLLSSLSATSNNSTVACIDRNGLQSCPIKEDSFLQRYSSDPTGALTED\n",
      "SIDDTFLPVPEYINQSVPKRPAGSVQNPVYHNQPLNPAPSRDPHYQDPHSTAVGNPEYLN\n",
      "TVQPTCVNSTFDSPAHWAQKGSHQISLDNPDYQQDFFPKEAKPNGIFKGSTAENAEYLRV\n",
      "APQSSEFIGA\n",
      "\n"
     ]
    }
   ],
   "source": [
    "## Read the entire fasta file\n",
    "data = fh.read()\n",
    "print data"
   ]
  },
  {
   "cell_type": "markdown",
   "metadata": {},
   "source": [
    "### Closing the File"
   ]
  },
  {
   "cell_type": "code",
   "execution_count": null,
   "metadata": {
    "collapsed": false
   },
   "outputs": [],
   "source": [
    "fh.close()"
   ]
  },
  {
   "cell_type": "code",
   "execution_count": null,
   "metadata": {
    "collapsed": false
   },
   "outputs": [],
   "source": [
    "fh.read()"
   ]
  },
  {
   "cell_type": "markdown",
   "metadata": {},
   "source": [
    "### Methods for Writing to Files\n",
    "\n",
    "<table align=\"left\">\n",
    "<tr><td style=\"text-align:center\"><b>Method</b></td><td><b>Description</b></td></tr>\n",
    "<tr><td style=\"text-align:center\">`file.write(str)`</td><td>Writes the string `str` to the file.</td></tr>\n",
    "<tr><td style=\"text-align:center\">`fh.writelines(iterable)`</td><td>Writes each element of an iterable object (that produces strings)<br />to the file. It does not add line separators.</td></tr>\n",
    "</table>"
   ]
  },
  {
   "cell_type": "code",
   "execution_count": 7,
   "metadata": {
    "collapsed": false
   },
   "outputs": [],
   "source": [
    "## Use the open() function to create a file handle object\n",
    "## For writing use the 'a' or 'w' mode\n",
    "## Note: using the 'w' mode will overwrite an existing file\n",
    "fh = open('new_file.txt', 'w')"
   ]
  },
  {
   "cell_type": "code",
   "execution_count": 8,
   "metadata": {
    "collapsed": false
   },
   "outputs": [],
   "source": [
    "lines = ['Hello', 'World']\n",
    "fh.writelines(lines)"
   ]
  },
  {
   "cell_type": "code",
   "execution_count": 9,
   "metadata": {
    "collapsed": false
   },
   "outputs": [],
   "source": [
    "fh.close()"
   ]
  },
  {
   "cell_type": "markdown",
   "metadata": {},
   "source": [
    "### The 'with' Statement: A Context Manager"
   ]
  },
  {
   "cell_type": "markdown",
   "metadata": {},
   "source": [
    "The `with` statement implements a context manager. Special `__enter__()` and `__exit__()` methods are called when entering and exiting the `with` block of code. For a file handle, the `__exit__()` method is `fh.close()`, which ensures that the file is closed after exiting the block."
   ]
  },
  {
   "cell_type": "code",
   "execution_count": 10,
   "metadata": {
    "collapsed": false
   },
   "outputs": [
    {
     "data": {
      "text/plain": [
       "'>sp|P00533|EGFR_HUMAN Epidermal growth factor receptor OS=Homo sapiens GN=EGFR PE=1 SV=2'"
      ]
     },
     "execution_count": 10,
     "metadata": {},
     "output_type": "execute_result"
    }
   ],
   "source": [
    "## Using a context manager ensures the file is closed\n",
    "## at the end of the 'with' block\n",
    "with open('P00533.fasta') as fh:\n",
    "    lines = []\n",
    "    for line in fh:\n",
    "        lines.append(line.rstrip())\n",
    "\n",
    "## Print the first line\n",
    "lines[0]"
   ]
  },
  {
   "cell_type": "code",
   "execution_count": 11,
   "metadata": {
    "collapsed": false
   },
   "outputs": [
    {
     "data": {
      "text/plain": [
       "'MRPSGTAGAALLALLAALCPASRALEEKKVCQGTSNKLTQLGTFEDHFLSLQRMFNNCEV'"
      ]
     },
     "execution_count": 11,
     "metadata": {},
     "output_type": "execute_result"
    }
   ],
   "source": [
    "lines[1]"
   ]
  },
  {
   "cell_type": "markdown",
   "metadata": {},
   "source": [
    "## Parsing Data Files"
   ]
  },
  {
   "cell_type": "markdown",
   "metadata": {},
   "source": [
    "### Example 1:  Fasta File"
   ]
  },
  {
   "cell_type": "code",
   "execution_count": 15,
   "metadata": {
    "collapsed": false
   },
   "outputs": [
    {
     "data": {
      "text/plain": [
       "'>sp|P00533|EGFR_HUMAN Epidermal growth factor receptor OS=Homo sapiens GN=EGFR PE=1 SV=2\\n'"
      ]
     },
     "execution_count": 15,
     "metadata": {},
     "output_type": "execute_result"
    }
   ],
   "source": [
    "## Open the fasta file\n",
    "fh = open('P00533.fasta', 'r')\n",
    "## Read the first line of the file\n",
    "seq_description = fh.readline()\n",
    "seq_description"
   ]
  },
  {
   "cell_type": "code",
   "execution_count": 16,
   "metadata": {
    "collapsed": false
   },
   "outputs": [
    {
     "data": {
      "text/plain": [
       "'sp|P00533|EGFR_HUMAN Epidermal growth factor receptor OS=Homo sapiens GN=EGFR PE=1 SV=2'"
      ]
     },
     "execution_count": 16,
     "metadata": {},
     "output_type": "execute_result"
    }
   ],
   "source": [
    "## Clean up the first line to get the sequence description\n",
    "seq_description = seq_description.rstrip()[1:]\n",
    "seq_description"
   ]
  },
  {
   "cell_type": "code",
   "execution_count": 17,
   "metadata": {
    "collapsed": false
   },
   "outputs": [
    {
     "data": {
      "text/plain": [
       "'MRPSGTAGAALLALLAALCPASRALEEKKVCQGTSNKLTQLGTFEDHFLSLQRMFNNCEV'"
      ]
     },
     "execution_count": 17,
     "metadata": {},
     "output_type": "execute_result"
    }
   ],
   "source": [
    "## The file handle object is an iterable object and can\n",
    "## be used to iterate through the lines of a file.\n",
    "## The list comprehension below creates a list containing\n",
    "## each line of the file with the trailing newline \n",
    "## character removed.\n",
    "seq_list = [line.rstrip() for line in fh]\n",
    "seq_list[0]"
   ]
  },
  {
   "cell_type": "code",
   "execution_count": 20,
   "metadata": {
    "collapsed": false
   },
   "outputs": [
    {
     "data": {
      "text/plain": [
       "['MRPSGTAGAALLALLAALCPASRALEEKKVCQGTSNKLTQLGTFEDHFLSLQRMFNNCEV',\n",
       " 'VLGNLEITYVQRNYDLSFLKTIQEVAGYVLIALNTVERIPLENLQIIRGNMYYENSYALA']"
      ]
     },
     "execution_count": 20,
     "metadata": {},
     "output_type": "execute_result"
    }
   ],
   "source": [
    "seq_list[0:2]"
   ]
  },
  {
   "cell_type": "code",
   "execution_count": 21,
   "metadata": {
    "collapsed": false
   },
   "outputs": [
    {
     "data": {
      "text/plain": [
       "'MRPSGTAGAALLALLAALCPASRALEEKKVCQGTSNKLTQLGTFEDHFLSLQRMFNNCEVVLGNLEITYVQRNYDLSFLKTIQEVAGYVLIALNTVERIPLENLQIIRGNMYYENSYALAVLSNYDANKTGLKELPMRNLQEILHGAVRFSNNPALCNVESIQWRDIVSSDFLSNMSMDFQNHLGSCQKCDPSCPNGSCWGAGEENCQKLTKIICAQQCSGRCRGKSPSDCCHNQCAAGCTGPRESDCLVCRKFRDEATCKDTCPPLMLYNPTTYQMDVNPEGKYSFGATCVKKCPRNYVVTDHGSCVRACGADSYEMEEDGVRKCKKCEGPCRKVCNGIGIGEFKDSLSINATNIKHFKNCTSISGDLHILPVAFRGDSFTHTPPLDPQELDILKTVKEITGFLLIQAWPENRTDLHAFENLEIIRGRTKQHGQFSLAVVSLNITSLGLRSLKEISDGDVIISGNKNLCYANTINWKKLFGTSGQKTKIISNRGENSCKATGQVCHALCSPEGCWGPEPRDCVSCRNVSRGRECVDKCNLLEGEPREFVENSECIQCHPECLPQAMNITCTGRGPDNCIQCAHYIDGPHCVKTCPAGVMGENNTLVWKYADAGHVCHLCHPNCTYGCTGPGLEGCPTNGPKIPSIATGMVGALLLLLVVALGIGLFMRRRHIVRKRTLRRLLQERELVEPLTPSGEAPNQALLRILKETEFKKIKVLGSGAFGTVYKGLWIPEGEKVKIPVAIKELREATSPKANKEILDEAYVMASVDNPHVCRLLGICLTSTVQLITQLMPFGCLLDYVREHKDNIGSQYLLNWCVQIAKGMNYLEDRRLVHRDLAARNVLVKTPQHVKITDFGLAKLLGAEEKEYHAEGGKVPIKWMALESILHRIYTHQSDVWSYGVTVWELMTFGSKPYDGIPASEISSILEKGERLPQPPICTIDVYMIMVKCWMIDADSRPKFRELIIEFSKMARDPQRYLVIQGDERMHLPSPTDSNFYRALMDEEDMDDVVDADEYLIPQQGFFSSPSTSRTPLLSSLSATSNNSTVACIDRNGLQSCPIKEDSFLQRYSSDPTGALTEDSIDDTFLPVPEYINQSVPKRPAGSVQNPVYHNQPLNPAPSRDPHYQDPHSTAVGNPEYLNTVQPTCVNSTFDSPAHWAQKGSHQISLDNPDYQQDFFPKEAKPNGIFKGSTAENAEYLRVAPQSSEFIGA'"
      ]
     },
     "execution_count": 21,
     "metadata": {},
     "output_type": "execute_result"
    }
   ],
   "source": [
    "## Join the elements of the list to get the entire sequence\n",
    "seq = ''.join(seq_list)\n",
    "seq"
   ]
  },
  {
   "cell_type": "code",
   "execution_count": 22,
   "metadata": {
    "collapsed": false
   },
   "outputs": [],
   "source": [
    "fh.close()"
   ]
  },
  {
   "cell_type": "markdown",
   "metadata": {},
   "source": [
    "\\* Note: Ideally you would put all the above commands for Example 1 (excluding the `fh.close()`) inside a `with` block. Same for the other examples below."
   ]
  },
  {
   "cell_type": "markdown",
   "metadata": {},
   "source": [
    "### Example 2: Microarray Annotations"
   ]
  },
  {
   "cell_type": "code",
   "execution_count": 23,
   "metadata": {
    "collapsed": false
   },
   "outputs": [],
   "source": [
    "## Open the file\n",
    "fh = open('annot_test.txt')"
   ]
  },
  {
   "cell_type": "code",
   "execution_count": 24,
   "metadata": {
    "collapsed": false
   },
   "outputs": [
    {
     "data": {
      "text/plain": [
       "'ProbeID\\tPrimaryAccession\\tRefSeqAccession\\tGenbankAccession\\tUniGeneID\\tEntrezGeneID\\tGeneSymbol\\tGeneName\\tEnsemblID\\tTIGRID\\tGO\\tDescription\\tGenomicCoordinates\\tCytoband'"
      ]
     },
     "execution_count": 24,
     "metadata": {},
     "output_type": "execute_result"
    }
   ],
   "source": [
    "## Get the first line and remove the newline character\n",
    "first_line = fh.readline()\n",
    "first_line = first_line.rstrip()\n",
    "first_line"
   ]
  },
  {
   "cell_type": "code",
   "execution_count": 25,
   "metadata": {
    "collapsed": false
   },
   "outputs": [
    {
     "data": {
      "text/plain": [
       "['ProbeID',\n",
       " 'PrimaryAccession',\n",
       " 'RefSeqAccession',\n",
       " 'GenbankAccession',\n",
       " 'UniGeneID',\n",
       " 'EntrezGeneID',\n",
       " 'GeneSymbol',\n",
       " 'GeneName',\n",
       " 'EnsemblID',\n",
       " 'TIGRID',\n",
       " 'GO',\n",
       " 'Description',\n",
       " 'GenomicCoordinates',\n",
       " 'Cytoband']"
      ]
     },
     "execution_count": 25,
     "metadata": {},
     "output_type": "execute_result"
    }
   ],
   "source": [
    "## Get the column names\n",
    "column_names = first_line.split('\\t')\n",
    "column_names"
   ]
  },
  {
   "cell_type": "code",
   "execution_count": 26,
   "metadata": {
    "collapsed": false
   },
   "outputs": [
    {
     "data": {
      "text/plain": [
       "['A_23_P253586',\n",
       " 'NM_005128',\n",
       " 'NM_005128',\n",
       " 'NM_005128',\n",
       " 'Hs.204575',\n",
       " '9980',\n",
       " 'DOPEY2',\n",
       " 'dopey family member 2',\n",
       " 'ENST00000270190',\n",
       " 'THC2471394',\n",
       " 'GO:0000139(Golgi membrane)|GO:0003674(molecular_function)|GO:0006895(Golgi to endosome transport)|GO:0007029(endoplasmic reticulum organization and biogenesis)|GO:0007275(multicellular organismal development)',\n",
       " 'Homo sapiens dopey family member 2 (DOPEY2), mRNA [NM_005128]',\n",
       " 'chr21:36586364-36587509',\n",
       " 'hs|21q22.12']"
      ]
     },
     "execution_count": 26,
     "metadata": {},
     "output_type": "execute_result"
    }
   ],
   "source": [
    "## Read the rest of the file and create a list of lists.\n",
    "## For each line of the file, remove the newline character\n",
    "## and split the line to get the data in each column.\n",
    "data = [line.rstrip().split('\\t') for line in fh]\n",
    "data[0]"
   ]
  },
  {
   "cell_type": "code",
   "execution_count": 27,
   "metadata": {
    "collapsed": false
   },
   "outputs": [
    {
     "data": {
      "text/plain": [
       "['A_23_P217507',\n",
       " 'NM_004729',\n",
       " 'NM_004729',\n",
       " 'NM_004729',\n",
       " 'Hs.131452',\n",
       " '9189',\n",
       " 'ZBED1',\n",
       " 'zinc finger, BED-type containing 1',\n",
       " 'ENST00000381222',\n",
       " 'THC2461273',\n",
       " 'GO:0000228(nuclear chromosome)|GO:0003677(DNA binding)|GO:0004803(transposase activity)|GO:0005634(nucleus)|GO:0008270(zinc ion binding)|GO:0046872(metal ion binding)|GO:0046983(protein dimerization activity)',\n",
       " 'Homo sapiens zinc finger, BED-type containing 1 (ZBED1), mRNA [NM_004729]',\n",
       " 'chrY:2415173-2415114',\n",
       " 'hs|Yp11.31']"
      ]
     },
     "execution_count": 27,
     "metadata": {},
     "output_type": "execute_result"
    }
   ],
   "source": [
    "data[1]"
   ]
  },
  {
   "cell_type": "code",
   "execution_count": 28,
   "metadata": {
    "collapsed": false
   },
   "outputs": [],
   "source": [
    "## Close the file\n",
    "fh.close()"
   ]
  },
  {
   "cell_type": "markdown",
   "metadata": {},
   "source": [
    "## The csv Module"
   ]
  },
  {
   "cell_type": "markdown",
   "metadata": {},
   "source": [
    "The `csv` module can be used to read and parse delimited files."
   ]
  },
  {
   "cell_type": "code",
   "execution_count": 29,
   "metadata": {
    "collapsed": false
   },
   "outputs": [],
   "source": [
    "import csv\n",
    "fh = open('annot_test.txt')"
   ]
  },
  {
   "cell_type": "code",
   "execution_count": 30,
   "metadata": {
    "collapsed": false
   },
   "outputs": [
    {
     "data": {
      "text/plain": [
       "['ProbeID',\n",
       " 'PrimaryAccession',\n",
       " 'RefSeqAccession',\n",
       " 'GenbankAccession',\n",
       " 'UniGeneID',\n",
       " 'EntrezGeneID',\n",
       " 'GeneSymbol',\n",
       " 'GeneName',\n",
       " 'EnsemblID',\n",
       " 'TIGRID',\n",
       " 'GO',\n",
       " 'Description',\n",
       " 'GenomicCoordinates',\n",
       " 'Cytoband']"
      ]
     },
     "execution_count": 30,
     "metadata": {},
     "output_type": "execute_result"
    }
   ],
   "source": [
    "## Read the file with the csv.reader() method.\n",
    "## The csv.reader object is a generator and will split\n",
    "## each line of the file (using the specified delimiter), \n",
    "## and return a list.\n",
    "## The command below will read the entire file into a list of lists\n",
    "data = list(csv.reader(fh, delimiter='\\t'))\n",
    "\n",
    "## Print the list created from the first line of the file\n",
    "data[0]"
   ]
  },
  {
   "cell_type": "code",
   "execution_count": 31,
   "metadata": {
    "collapsed": false
   },
   "outputs": [
    {
     "data": {
      "text/plain": [
       "['A_23_P253586',\n",
       " 'NM_005128',\n",
       " 'NM_005128',\n",
       " 'NM_005128',\n",
       " 'Hs.204575',\n",
       " '9980',\n",
       " 'DOPEY2',\n",
       " 'dopey family member 2',\n",
       " 'ENST00000270190',\n",
       " 'THC2471394',\n",
       " 'GO:0000139(Golgi membrane)|GO:0003674(molecular_function)|GO:0006895(Golgi to endosome transport)|GO:0007029(endoplasmic reticulum organization and biogenesis)|GO:0007275(multicellular organismal development)',\n",
       " 'Homo sapiens dopey family member 2 (DOPEY2), mRNA [NM_005128]',\n",
       " 'chr21:36586364-36587509',\n",
       " 'hs|21q22.12']"
      ]
     },
     "execution_count": 31,
     "metadata": {},
     "output_type": "execute_result"
    }
   ],
   "source": [
    "## Print the list created from the second line of the file\n",
    "data[1]"
   ]
  },
  {
   "cell_type": "code",
   "execution_count": 32,
   "metadata": {
    "collapsed": false
   },
   "outputs": [],
   "source": [
    "## Close the file\n",
    "fh.close()"
   ]
  },
  {
   "cell_type": "markdown",
   "metadata": {},
   "source": [
    "### The csv.DictReader() Method"
   ]
  },
  {
   "cell_type": "code",
   "execution_count": 33,
   "metadata": {
    "collapsed": false
   },
   "outputs": [],
   "source": [
    "fh = open('annot_test.txt')"
   ]
  },
  {
   "cell_type": "code",
   "execution_count": 34,
   "metadata": {
    "collapsed": false
   },
   "outputs": [
    {
     "data": {
      "text/plain": [
       "{'Cytoband': 'hs|21q22.12',\n",
       " 'Description': 'Homo sapiens dopey family member 2 (DOPEY2), mRNA [NM_005128]',\n",
       " 'EnsemblID': 'ENST00000270190',\n",
       " 'EntrezGeneID': '9980',\n",
       " 'GO': 'GO:0000139(Golgi membrane)|GO:0003674(molecular_function)|GO:0006895(Golgi to endosome transport)|GO:0007029(endoplasmic reticulum organization and biogenesis)|GO:0007275(multicellular organismal development)',\n",
       " 'GenbankAccession': 'NM_005128',\n",
       " 'GeneName': 'dopey family member 2',\n",
       " 'GeneSymbol': 'DOPEY2',\n",
       " 'GenomicCoordinates': 'chr21:36586364-36587509',\n",
       " 'PrimaryAccession': 'NM_005128',\n",
       " 'ProbeID': 'A_23_P253586',\n",
       " 'RefSeqAccession': 'NM_005128',\n",
       " 'TIGRID': 'THC2471394',\n",
       " 'UniGeneID': 'Hs.204575'}"
      ]
     },
     "execution_count": 34,
     "metadata": {},
     "output_type": "execute_result"
    }
   ],
   "source": [
    "## Read the file with the csv.DictReader() method.\n",
    "## csv.DictReader() will split each line of the file\n",
    "## using the specified delimiter, and will return a\n",
    "## dictionary for each line, where the dictionary keys\n",
    "## are the column names.\n",
    "data = list(csv.DictReader(fh, delimiter='\\t'))\n",
    "\n",
    "## Print the dictionary created from the first line of the file\n",
    "data[0]"
   ]
  },
  {
   "cell_type": "code",
   "execution_count": 35,
   "metadata": {
    "collapsed": false
   },
   "outputs": [],
   "source": [
    "fh.close()"
   ]
  },
  {
   "cell_type": "markdown",
   "metadata": {},
   "source": [
    "### Writing to Files with csv"
   ]
  },
  {
   "cell_type": "code",
   "execution_count": 36,
   "metadata": {
    "collapsed": false
   },
   "outputs": [],
   "source": [
    "## First, get the data\n",
    "fh = open('annot_test.txt')\n",
    "data = list(csv.reader(fh, delimiter='\\t'))\n",
    "fh.close()\n",
    "\n",
    "## Open a file for writing\n",
    "fh = open('new_file.txt', 'w')"
   ]
  },
  {
   "cell_type": "code",
   "execution_count": 37,
   "metadata": {
    "collapsed": false
   },
   "outputs": [],
   "source": [
    "## Create a csv.writer() object\n",
    "w = csv.writer(fh, delimiter='\\t')\n",
    "## The writerow() method will create delimited string \n",
    "## from a list and will write that string to the file\n",
    "w.writerow(data[0])\n",
    "## The writerows() will do the same as above, but requires\n",
    "## a list of lists and will write mulitple lines\n",
    "w.writerows(data[1:])"
   ]
  },
  {
   "cell_type": "code",
   "execution_count": 38,
   "metadata": {
    "collapsed": false
   },
   "outputs": [],
   "source": [
    "fh.close()"
   ]
  },
  {
   "cell_type": "markdown",
   "metadata": {},
   "source": [
    "### A Useful Function: `zip()`\n",
    "`zip(x, y)` takes two lists and returns a list of tuples where the ith tuple represents the ith value from each original list."
   ]
  },
  {
   "cell_type": "code",
   "execution_count": 39,
   "metadata": {
    "collapsed": false
   },
   "outputs": [
    {
     "data": {
      "text/plain": [
       "[(1, 4), (2, 8), (3, 10)]"
      ]
     },
     "execution_count": 39,
     "metadata": {},
     "output_type": "execute_result"
    }
   ],
   "source": [
    "x = [1,2,3]\n",
    "y = [4,8,10]\n",
    "z = zip(x, y)\n",
    "z"
   ]
  },
  {
   "cell_type": "markdown",
   "metadata": {},
   "source": [
    "## Saving Python Objects to File with cPickle"
   ]
  },
  {
   "cell_type": "code",
   "execution_count": 40,
   "metadata": {
    "collapsed": false
   },
   "outputs": [],
   "source": [
    "import cPickle\n",
    "\n",
    "## Open a file in write mode\n",
    "fh = open('pickle_data.dat', 'w')\n",
    "\n",
    "## Save a python object to the file\n",
    "cPickle.dump(z, fh)\n",
    "\n",
    "## Close the file\n",
    "fh.close()"
   ]
  },
  {
   "cell_type": "code",
   "execution_count": 41,
   "metadata": {
    "collapsed": false
   },
   "outputs": [],
   "source": [
    "## Load a python object from a cPickle data file\n",
    "fh = open('pickle_data.dat')\n",
    "dat = cPickle.load(fh)\n",
    "\n",
    "## Close the file\n",
    "fh.close()"
   ]
  },
  {
   "cell_type": "code",
   "execution_count": 42,
   "metadata": {
    "collapsed": false
   },
   "outputs": [
    {
     "data": {
      "text/plain": [
       "[(1, 4), (2, 8), (3, 10)]"
      ]
     },
     "execution_count": 42,
     "metadata": {},
     "output_type": "execute_result"
    }
   ],
   "source": [
    "dat"
   ]
  },
  {
   "cell_type": "markdown",
   "metadata": {},
   "source": [
    "## In-Class Exercises"
   ]
  },
  {
   "cell_type": "code",
   "execution_count": null,
   "metadata": {
    "collapsed": false
   },
   "outputs": [],
   "source": [
    "## Exercise 1.\n",
    "## Parse the microarray annotation file and create \n",
    "## lists of Probe IDs and Gene Symbols\n",
    "## You'll need to have the 'annot_test.txt' file in the current directory\n"
   ]
  },
  {
   "cell_type": "code",
   "execution_count": null,
   "metadata": {
    "collapsed": false
   },
   "outputs": [],
   "source": [
    "## Exercise 2.\n",
    "## Iterate through the microarray annotations and\n",
    "## write, to a new file, only annotations for genes\n",
    "## that start with 'D'.\n",
    "## You'll need to have the 'annot_test.txt' file in the current directory\n"
   ]
  },
  {
   "cell_type": "markdown",
   "metadata": {},
   "source": [
    "## References"
   ]
  },
  {
   "cell_type": "markdown",
   "metadata": {},
   "source": [
    "- <u>Python Essential Reference</u>, David Beazley, 4th Edition, Addison‐Wesley (2008)\n",
    "- <u>Python for Bioinformatics</u>, Sebastian Bassi, CRC Press (2010)\n",
    "- [http://docs.python.org/](http://docs.python.org/)"
   ]
  },
  {
   "cell_type": "markdown",
   "metadata": {},
   "source": [
    "#### Last Updated: 22-Sep-2015"
   ]
  }
 ],
 "metadata": {
  "kernelspec": {
   "display_name": "Python 2",
   "language": "python",
   "name": "python2"
  },
  "language_info": {
   "codemirror_mode": {
    "name": "ipython",
    "version": 2
   },
   "file_extension": ".py",
   "mimetype": "text/x-python",
   "name": "python",
   "nbconvert_exporter": "python",
   "pygments_lexer": "ipython2",
   "version": "2.7.3"
  }
 },
 "nbformat": 4,
 "nbformat_minor": 0
}
