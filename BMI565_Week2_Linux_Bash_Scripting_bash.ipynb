{
 "cells": [
  {
   "cell_type": "markdown",
   "metadata": {},
   "source": [
    "# BMI565: Bioinformatics Programming & Scripting\n",
    "#### (C) Michael Mooney (mooneymi@ohsu.edu)\n",
    "## Week 2: Unix/Linux Commands and Bash Scripting"
   ]
  },
  {
   "cell_type": "markdown",
   "metadata": {},
   "source": [
    "1. Linux Background\n",
    "2. Basic Linux Commands\n",
    "    - Commands for Navigating the Directory Tree\n",
    "    - File Permissions\n",
    "    - Environment Variables\n",
    "    - Other Basic Utilities\n",
    "3. Input/Output Redirection\n",
    "    - STDIN and STDOUT\n",
    "    - Redirecting I/O: `>, >>, <`\n",
    "    - Pipes\n",
    "4. File Manipulation in Linux\n",
    "    - AWK\n",
    "    - sed\n",
    "    - cut and paste\n",
    "4. Bash Scripts\n",
    "    - Bash Control Structures\n",
    "    \n",
    "#### Requirements\n",
    "\n",
    "1. Bash interpreter\n",
    "2. Data Files\n",
    "    - `./data/book.xml`\n",
    "    - `./data/P00533.fasta`\n",
    "    - `./data/serotonin_data.txt`\n",
    "    - `./data/annot_test.txt`"
   ]
  },
  {
   "cell_type": "markdown",
   "metadata": {},
   "source": [
    "**Caution: This notebook depends on the bash interpreter and will not run on Windows. "
   ]
  },
  {
   "cell_type": "markdown",
   "metadata": {},
   "source": [
    "## Unix/Linux Background\n",
    "\n",
    "- Unix is an OS originally developed in 1969 at Bell Labs\n",
    "- Unix utilizes a kernel: the main OS program that connects applications with hardware\n",
    "- Designed to be portable, multi-tasking, and multi-user\n",
    "- Custom versions of Unix were being sold with server workstations. They were expensive and behaved differently.\n",
    "- Linux is an open-source, free version of Unix developed by Linus Torvalds (first released in 1991)\n",
    "- There are several Linux distributions available: Ubuntu, Fedora, Mint"
   ]
  },
  {
   "cell_type": "markdown",
   "metadata": {},
   "source": [
    "## Basic Linux Commands\n",
    "### Commands for Navigating the Directory Tree\n",
    "\n",
    "<table align=\"left\">\n",
    "<tr><td style=\"text-align:center\"><b>Command</b></td><td><b>Description</b></td></tr>\n",
    "<tr><td style=\"text-align:center\">`pwd`</td><td>Displays the current directory</td></tr>\n",
    "<tr><td style=\"text-align:center\">`mkdir [DIR]`</td><td>Creates a new directory</td></tr>\n",
    "<tr><td style=\"text-align:center\">`cd [DIR]`</td><td>Changes the current directory</td></tr>\n",
    "<tr><td style=\"text-align:center\">`ls [DIR]`</td><td>Lists the directory contents</td></tr>\n",
    "</table>"
   ]
  },
  {
   "cell_type": "markdown",
   "metadata": {},
   "source": [
    "Absolute Path: The entire directory path (starting from the root directory)\n",
    "\n",
    "Relative Path: The directory path relative to the current directory"
   ]
  },
  {
   "cell_type": "code",
   "execution_count": 1,
   "metadata": {
    "collapsed": false
   },
   "outputs": [
    {
     "name": "stdout",
     "output_type": "stream",
     "text": [
      "/Users/mooneymi/Documents/github/bioinformatics_programming\r\n"
     ]
    }
   ],
   "source": [
    "## Print the current working directory (absolute path is printed)\n",
    "pwd"
   ]
  },
  {
   "cell_type": "code",
   "execution_count": 2,
   "metadata": {
    "collapsed": false
   },
   "outputs": [
    {
     "name": "stdout",
     "output_type": "stream",
     "text": []
    }
   ],
   "source": [
    "## Change to a sub-directory called data\n",
    "## The following command uses the relative path to the data directory\n",
    "cd data"
   ]
  },
  {
   "cell_type": "code",
   "execution_count": 3,
   "metadata": {
    "collapsed": false
   },
   "outputs": [
    {
     "name": "stdout",
     "output_type": "stream",
     "text": [
      "/Users/mooneymi/Documents/github/bioinformatics_programming/data\r\n"
     ]
    }
   ],
   "source": [
    "## Print the current working directory again\n",
    "pwd"
   ]
  },
  {
   "cell_type": "code",
   "execution_count": 4,
   "metadata": {
    "collapsed": false
   },
   "outputs": [
    {
     "name": "stdout",
     "output_type": "stream",
     "text": []
    }
   ],
   "source": [
    "## You can also move to a directory by giving an absolute path\n",
    "cd /Users/mooneymi/Documents/github/bioinformatics_programming/data"
   ]
  },
  {
   "cell_type": "code",
   "execution_count": 5,
   "metadata": {
    "collapsed": false
   },
   "outputs": [
    {
     "name": "stdout",
     "output_type": "stream",
     "text": [
      "P00533.fasta\t\tegfr.gb\t\t\tnew_file.txt\r\n",
      "SHH.xml\t\t\tfile1.txt\t\tpickle_data.dat\r\n",
      "annot_test.txt\t\tfile2.txt\t\tserotonin_data.txt\r\n",
      "book.xml\t\tfiles.txt\t\tsorted_files.txt\r\n",
      "egfr.fasta\t\thello.txt\t\ttest.txt\r\n"
     ]
    }
   ],
   "source": [
    "## List the contents of the directory\n",
    "ls"
   ]
  },
  {
   "cell_type": "code",
   "execution_count": 6,
   "metadata": {
    "collapsed": false
   },
   "outputs": [
    {
     "name": "stdout",
     "output_type": "stream",
     "text": [
      "total 504\r\n",
      "-rw-r--r--  1 mooneymi  OHSUM01\\Domain Users     13 Sep 21 10:03 test.txt\r\n",
      "-rw-r--r--  1 mooneymi  OHSUM01\\Domain Users    161 Sep 21 10:02 sorted_files.txt\r\n",
      "-rw-r--r--  1 mooneymi  OHSUM01\\Domain Users    161 Sep 21 10:01 files.txt\r\n",
      "-rw-r--r--  1 mooneymi  OHSUM01\\Domain Users     14 Sep 21 10:01 hello.txt\r\n",
      "-rw-r--r--  1 mooneymi  OHSUM01\\Domain Users     43 Sep 21 08:53 pickle_data.dat\r\n",
      "-rw-r--r--  1 mooneymi  OHSUM01\\Domain Users   3712 Sep 21 08:53 new_file.txt\r\n",
      "-rw-r--r--  1 mooneymi  OHSUM01\\Domain Users     79 Aug  4 16:54 file2.txt\r\n",
      "-rw-r--r--  1 mooneymi  OHSUM01\\Domain Users    123 Aug  4 16:54 file1.txt\r\n",
      "-rw-r--r--  1 mooneymi  OHSUM01\\Domain Users   1320 Jul 18 15:08 P00533.fasta\r\n",
      "-rw-r--r--  1 mooneymi  OHSUM01\\Domain Users  99455 Jul 18 15:08 SHH.xml\r\n",
      "-rwxr--r--  1 mooneymi  OHSUM01\\Domain Users    299 Jul 18 15:08 book.xml\r\n",
      "-rw-r--r--  1 mooneymi  OHSUM01\\Domain Users   3370 Jul 18 15:08 egfr.fasta\r\n",
      "-rw-r--r--  1 mooneymi  OHSUM01\\Domain Users  38976 Jul 18 15:08 egfr.gb\r\n",
      "-rw-r--r--  1 mooneymi  OHSUM01\\Domain Users  62531 Jul 18 15:08 serotonin_data.txt\r\n",
      "-rw-r--r--@ 1 mooneymi  OHSUM01\\Domain Users   3712 Aug  7  2012 annot_test.txt\r\n"
     ]
    }
   ],
   "source": [
    "## List the contents in long form to see detailed info about the files\n",
    "## the -l option is for long form, the -t option sorts by time\n",
    "ls -lt"
   ]
  },
  {
   "cell_type": "code",
   "execution_count": 7,
   "metadata": {
    "collapsed": false
   },
   "outputs": [
    {
     "name": "stdout",
     "output_type": "stream",
     "text": []
    }
   ],
   "source": [
    "## Go back to parent directory (up one level in the tree)\n",
    "cd .."
   ]
  },
  {
   "cell_type": "code",
   "execution_count": 8,
   "metadata": {
    "collapsed": false
   },
   "outputs": [
    {
     "name": "stdout",
     "output_type": "stream",
     "text": [
      "/Users/mooneymi/Documents/github/bioinformatics_programming\r\n"
     ]
    }
   ],
   "source": [
    "pwd"
   ]
  },
  {
   "cell_type": "markdown",
   "metadata": {},
   "source": [
    "### File Permissions\n",
    "\n",
    "Every file and directory has three permission types:\n",
    "- Read\n",
    "- Write\n",
    "- Execute\n",
    "\n",
    "Each of the permission types are assigned at three different levels:\n",
    "- Owner\n",
    "- Group\n",
    "- Other\n",
    "\n",
    "File permissions can be changed with the `chmod` command:\n",
    "    chmod ### file\n",
    "\n",
    "The `###` above represents three integers that specify the permission types for the three groups. The permission types are coded as follows:\n",
    "\n",
    " - 4 = Read Only\n",
    " - 2 = Write Only\n",
    " - 1 = Execute Only\n",
    " - 0 = None\n",
    "\n",
    "To give multiple permission types, sum the respective numbers. \n",
    "\n",
    "#### Examples:\n",
    "The first example below gives read, write, and execute permissions for the `test.txt` file to everyone. The second example gives all permissions to the file owner, but only read and execute permissions to the group and others.\n",
    "\n",
    "    chmod 777 test.txt\n",
    "    \n",
    "    chmod 755 test.txt\n",
    "    "
   ]
  },
  {
   "cell_type": "code",
   "execution_count": 9,
   "metadata": {
    "collapsed": false
   },
   "outputs": [
    {
     "name": "stdout",
     "output_type": "stream",
     "text": [
      "total 504\r\n",
      "-rw-r--r--  1 mooneymi  OHSUM01\\Domain Users   1320 Jul 18 15:08 P00533.fasta\r\n",
      "-rw-r--r--  1 mooneymi  OHSUM01\\Domain Users  99455 Jul 18 15:08 SHH.xml\r\n",
      "-rw-r--r--@ 1 mooneymi  OHSUM01\\Domain Users   3712 Aug  7  2012 annot_test.txt\r\n",
      "-rwxr--r--  1 mooneymi  OHSUM01\\Domain Users    299 Jul 18 15:08 book.xml\r\n",
      "-rw-r--r--  1 mooneymi  OHSUM01\\Domain Users   3370 Jul 18 15:08 egfr.fasta\r\n",
      "-rw-r--r--  1 mooneymi  OHSUM01\\Domain Users  38976 Jul 18 15:08 egfr.gb\r\n",
      "-rw-r--r--  1 mooneymi  OHSUM01\\Domain Users    123 Aug  4 16:54 file1.txt\r\n",
      "-rw-r--r--  1 mooneymi  OHSUM01\\Domain Users     79 Aug  4 16:54 file2.txt\r\n",
      "-rw-r--r--  1 mooneymi  OHSUM01\\Domain Users    161 Sep 21 10:01 files.txt\r\n",
      "-rw-r--r--  1 mooneymi  OHSUM01\\Domain Users     14 Sep 21 10:01 hello.txt\r\n",
      "-rw-r--r--  1 mooneymi  OHSUM01\\Domain Users   3712 Sep 21 08:53 new_file.txt\r\n",
      "-rw-r--r--  1 mooneymi  OHSUM01\\Domain Users     43 Sep 21 08:53 pickle_data.dat\r\n",
      "-rw-r--r--  1 mooneymi  OHSUM01\\Domain Users  62531 Jul 18 15:08 serotonin_data.txt\r\n",
      "-rw-r--r--  1 mooneymi  OHSUM01\\Domain Users    161 Sep 21 10:02 sorted_files.txt\r\n",
      "-rw-r--r--  1 mooneymi  OHSUM01\\Domain Users     13 Sep 21 10:03 test.txt\r\n"
     ]
    }
   ],
   "source": [
    "## Change to the data directory again, and list the contents\n",
    "cd data\n",
    "ls -l"
   ]
  },
  {
   "cell_type": "code",
   "execution_count": 10,
   "metadata": {
    "collapsed": false
   },
   "outputs": [
    {
     "name": "stdout",
     "output_type": "stream",
     "text": []
    }
   ],
   "source": [
    "## Change the permissions of the book.xml file\n",
    "chmod 777 book.xml"
   ]
  },
  {
   "cell_type": "code",
   "execution_count": 11,
   "metadata": {
    "collapsed": false
   },
   "outputs": [
    {
     "name": "stdout",
     "output_type": "stream",
     "text": [
      "total 504\r\n",
      "-rw-r--r--  1 mooneymi  OHSUM01\\Domain Users   1320 Jul 18 15:08 P00533.fasta\r\n",
      "-rw-r--r--  1 mooneymi  OHSUM01\\Domain Users  99455 Jul 18 15:08 SHH.xml\r\n",
      "-rw-r--r--@ 1 mooneymi  OHSUM01\\Domain Users   3712 Aug  7  2012 annot_test.txt\r\n",
      "-rwxrwxrwx  1 mooneymi  OHSUM01\\Domain Users    299 Jul 18 15:08 book.xml\r\n",
      "-rw-r--r--  1 mooneymi  OHSUM01\\Domain Users   3370 Jul 18 15:08 egfr.fasta\r\n",
      "-rw-r--r--  1 mooneymi  OHSUM01\\Domain Users  38976 Jul 18 15:08 egfr.gb\r\n",
      "-rw-r--r--  1 mooneymi  OHSUM01\\Domain Users    123 Aug  4 16:54 file1.txt\r\n",
      "-rw-r--r--  1 mooneymi  OHSUM01\\Domain Users     79 Aug  4 16:54 file2.txt\r\n",
      "-rw-r--r--  1 mooneymi  OHSUM01\\Domain Users    161 Sep 21 10:01 files.txt\r\n",
      "-rw-r--r--  1 mooneymi  OHSUM01\\Domain Users     14 Sep 21 10:01 hello.txt\r\n",
      "-rw-r--r--  1 mooneymi  OHSUM01\\Domain Users   3712 Sep 21 08:53 new_file.txt\r\n",
      "-rw-r--r--  1 mooneymi  OHSUM01\\Domain Users     43 Sep 21 08:53 pickle_data.dat\r\n",
      "-rw-r--r--  1 mooneymi  OHSUM01\\Domain Users  62531 Jul 18 15:08 serotonin_data.txt\r\n",
      "-rw-r--r--  1 mooneymi  OHSUM01\\Domain Users    161 Sep 21 10:02 sorted_files.txt\r\n",
      "-rw-r--r--  1 mooneymi  OHSUM01\\Domain Users     13 Sep 21 10:03 test.txt\r\n"
     ]
    }
   ],
   "source": [
    "## View the directory again\n",
    "ls -l"
   ]
  },
  {
   "cell_type": "code",
   "execution_count": 12,
   "metadata": {
    "collapsed": false
   },
   "outputs": [
    {
     "name": "stdout",
     "output_type": "stream",
     "text": []
    }
   ],
   "source": [
    "## Now change the permissions back to read-only for the group and others\n",
    "chmod 744 book.xml"
   ]
  },
  {
   "cell_type": "markdown",
   "metadata": {},
   "source": [
    "### Environment Variables\n",
    "\n",
    "Environment variables hold information about the computer environment in which your programs are running. You can view all environment variables with the `env` command."
   ]
  },
  {
   "cell_type": "markdown",
   "metadata": {},
   "source": [
    "Environment variables are commonly used to tell the OS where programs and libraries are installed. For instance, the PATH environment variable tells the operating system where to look for executable programs. The PATH variable is simply a list of directories. When you attempt to execute a program the operating system will search these directories (in the order listed) for the program you requested. Many of the utilities we've talked about today are located in the /usr/bin or /bin folders. Because these directories are listed in the PATH variable, you won't need to explicitly tell the OS where the utility is located. You can see where a program is located with the `which` command:"
   ]
  },
  {
   "cell_type": "code",
   "execution_count": 13,
   "metadata": {
    "collapsed": false
   },
   "outputs": [
    {
     "name": "stdout",
     "output_type": "stream",
     "text": [
      "/Applications/anaconda/bin/python\r\n"
     ]
    }
   ],
   "source": [
    "which python"
   ]
  },
  {
   "cell_type": "code",
   "execution_count": 14,
   "metadata": {
    "collapsed": false
   },
   "outputs": [
    {
     "name": "stdout",
     "output_type": "stream",
     "text": [
      "/Applications/anaconda/bin:/Users/mooneymi/bin:/usr/local/bin:/usr/bin:/bin:/usr/sbin:/sbin\r\n"
     ]
    }
   ],
   "source": [
    "echo $PATH"
   ]
  },
  {
   "cell_type": "markdown",
   "metadata": {},
   "source": [
    "You can modify the PATH variable as follows (this will add the bin folder in your home directory to the PATH):"
   ]
  },
  {
   "cell_type": "code",
   "execution_count": 15,
   "metadata": {
    "collapsed": false
   },
   "outputs": [
    {
     "name": "stdout",
     "output_type": "stream",
     "text": []
    }
   ],
   "source": [
    "PATH=~/bin:$PATH"
   ]
  },
  {
   "cell_type": "markdown",
   "metadata": {},
   "source": [
    "The `export` command will make the variable available to any subshell (i.e. a shell script or other program)."
   ]
  },
  {
   "cell_type": "code",
   "execution_count": 16,
   "metadata": {
    "collapsed": false
   },
   "outputs": [
    {
     "name": "stdout",
     "output_type": "stream",
     "text": []
    }
   ],
   "source": [
    "export PATH"
   ]
  },
  {
   "cell_type": "markdown",
   "metadata": {},
   "source": [
    "Environment variables can be accessed (on the command-line or in a shell script) by placing a $ before the variable name. For example:"
   ]
  },
  {
   "cell_type": "code",
   "execution_count": 17,
   "metadata": {
    "collapsed": false
   },
   "outputs": [
    {
     "name": "stdout",
     "output_type": "stream",
     "text": [
      "/Users/mooneymi/bin:/Applications/anaconda/bin:/Users/mooneymi/bin:/usr/local/bin:/usr/bin:/bin:/usr/sbin:/sbin\r\n"
     ]
    }
   ],
   "source": [
    "echo $PATH"
   ]
  },
  {
   "cell_type": "markdown",
   "metadata": {},
   "source": [
    "**Note: Environment variables can be set automatically at login by putting the commands above into your login script (`~/.bash_profile`)."
   ]
  },
  {
   "cell_type": "markdown",
   "metadata": {},
   "source": [
    "### Other Basic Linux Utilities\n",
    "\n",
    "<table align=\"left\">\n",
    "<tr><td style=\"text-align:center\"><b>Command</b></td><td><b>Description</b></td></tr>\n",
    "<tr><td style=\"text-align:center\">`man [COMMAND]`</td><td>Displays the manual entry for the command</td></tr>\n",
    "<tr><td style=\"text-align:center\">`cat [OPTION] [FILE]`</td><td>Prints the entire file</td></tr>\n",
    "<tr><td style=\"text-align:center\">`head [OPTION] [FILE]`</td><td>Prints the first few lines of a file</td></tr>\n",
    "<tr><td style=\"text-align:center\">`tail [OPTION] [FILE]`</td><td>Prints the last few lines of a file</td></tr>\n",
    "<tr><td style=\"text-align:center\">`less [FILE]`</td><td>Displays a file and allows scrolling</td></tr>\n",
    "<tr><td style=\"text-align:center\">`wc [OPTION] [FILE]`</td><td>Returns the word and line count of a file</td></tr>\n",
    "<tr><td style=\"text-align:center\">`rm [OPTION] FILE`</td><td>Deletes a file</td></tr>\n",
    "<tr><td style=\"text-align:center\">`grep [OPTION] PATTERN [FILES]`</td><td>Searches files for a string pattern</td></tr>\n",
    "</table>\n"
   ]
  },
  {
   "cell_type": "markdown",
   "metadata": {},
   "source": [
    "**Caution: interactive commands that wait for user input, like `man` or `less`, won't work in the Jupyter notebook. Open a new terminal window to try those commands."
   ]
  },
  {
   "cell_type": "code",
   "execution_count": 18,
   "metadata": {
    "collapsed": false
   },
   "outputs": [
    {
     "name": "stdout",
     "output_type": "stream",
     "text": [
      ">sp|P00533|EGFR_HUMAN Epidermal growth factor receptor OS=Homo sapiens GN=EGFR PE=1 SV=2\r\n",
      "MRPSGTAGAALLALLAALCPASRALEEKKVCQGTSNKLTQLGTFEDHFLSLQRMFNNCEV\r\n",
      "VLGNLEITYVQRNYDLSFLKTIQEVAGYVLIALNTVERIPLENLQIIRGNMYYENSYALA\r\n",
      "VLSNYDANKTGLKELPMRNLQEILHGAVRFSNNPALCNVESIQWRDIVSSDFLSNMSMDF\r\n",
      "QNHLGSCQKCDPSCPNGSCWGAGEENCQKLTKIICAQQCSGRCRGKSPSDCCHNQCAAGC\r\n",
      "TGPRESDCLVCRKFRDEATCKDTCPPLMLYNPTTYQMDVNPEGKYSFGATCVKKCPRNYV\r\n",
      "VTDHGSCVRACGADSYEMEEDGVRKCKKCEGPCRKVCNGIGIGEFKDSLSINATNIKHFK\r\n",
      "NCTSISGDLHILPVAFRGDSFTHTPPLDPQELDILKTVKEITGFLLIQAWPENRTDLHAF\r\n",
      "ENLEIIRGRTKQHGQFSLAVVSLNITSLGLRSLKEISDGDVIISGNKNLCYANTINWKKL\r\n",
      "FGTSGQKTKIISNRGENSCKATGQVCHALCSPEGCWGPEPRDCVSCRNVSRGRECVDKCN\r\n"
     ]
    }
   ],
   "source": [
    "## Display the first few lines of a file\n",
    "cd /Users/mooneymi/Documents/github/bioinformatics_programming/data\n",
    "head P00533.fasta"
   ]
  },
  {
   "cell_type": "code",
   "execution_count": 19,
   "metadata": {
    "collapsed": false
   },
   "outputs": [
    {
     "name": "stdout",
     "output_type": "stream",
     "text": [
      "     251 serotonin_data.txt\r\n"
     ]
    }
   ],
   "source": [
    "## Count the lines of a file\n",
    "wc -l serotonin_data.txt"
   ]
  },
  {
   "cell_type": "markdown",
   "metadata": {},
   "source": [
    "#### Useful `grep` Parameters\n",
    "<table align=\"left\">\n",
    "<tr><td style=\"text-align:center\"><b>Option</b></td><td><b>Description</b></td></tr>\n",
    "<tr><td style=\"text-align:center\">`i`</td><td>Ignore case</td></tr>\n",
    "<tr><td style=\"text-align:center\">`c`</td><td>Print a count of matching lines</td></tr>\n",
    "<tr><td style=\"text-align:center\">`r`</td><td>Recursive searching (look in subdirectories)</td></tr>\n",
    "<tr><td style=\"text-align:center\">`l`</td><td>Only print filenames containing matches</td></tr>\n",
    "<tr><td style=\"text-align:center\">`n`</td><td>Include line numbers of matches within files</td></tr>\n",
    "</table>"
   ]
  },
  {
   "cell_type": "code",
   "execution_count": 20,
   "metadata": {
    "collapsed": false
   },
   "outputs": [
    {
     "name": "stdout",
     "output_type": "stream",
     "text": [
      "A_23_P253586\tNM_005128\tNM_005128\tNM_005128\tHs.204575\t9980\tDOPEY2\tdopey family member 2\tENST00000270190\tTHC2471394\tGO:0000139(Golgi membrane)|GO:0003674(molecular_function)|GO:0006895(Golgi to endosome transport)|GO:0007029(endoplasmic reticulum organization and biogenesis)|GO:0007275(multicellular organismal development)\tHomo sapiens dopey family member 2 (DOPEY2), mRNA [NM_005128]\tchr21:36586364-36587509\ths|21q22.12\r",
      "\r\n"
     ]
    }
   ],
   "source": [
    "## Search for probes on chromosome 21\n",
    "grep \"chr21\" annot_test.txt"
   ]
  },
  {
   "cell_type": "code",
   "execution_count": 21,
   "metadata": {
    "collapsed": false
   },
   "outputs": [
    {
     "name": "stdout",
     "output_type": "stream",
     "text": [
      "1\r\n"
     ]
    }
   ],
   "source": [
    "## How many lines match the pattern\n",
    "grep -c \"chr21\" annot_test.txt"
   ]
  },
  {
   "cell_type": "markdown",
   "metadata": {},
   "source": [
    "## I/O Redirection\n",
    "\n",
    "### STDIN and STDOUT\n",
    "\n",
    "STDIN (standard input), STDOUT (standard output), and STDERR (standard error) are pre-connected input and output channels for a computer program and its environment. The STDIN is the stream for data going into a program (typically keyboard input), STDOUT is the stream for data written by a program (typically the terminal that initiated the program), and STDERR is the stream used to report errors (again, typically this is the terminal that initiated the program).\n",
    "\n",
    "However, we are able to use I/O redirection so that program input can come from sources other than the keyboard, and so that output can go to destinations other than the screen. \n",
    "\n",
    "### `> , >>, <`\n",
    "\n",
    "The `>` and `>>` redirection characters can be used to redirect program output to a file. `>` causes the file to be overwritten (if it exists), while `>>` will append output to the end of an existing file.\n",
    "\n",
    "    echo 'Hello, world!' > hello.txt\n",
    "\n",
    "Likewise, we can supply input to a program from a file by using the `<` redirection character. \n",
    "\n",
    "    sort < files.txt > sorted_files.txt\n",
    "\n"
   ]
  },
  {
   "cell_type": "code",
   "execution_count": 22,
   "metadata": {
    "collapsed": false
   },
   "outputs": [
    {
     "name": "stdout",
     "output_type": "stream",
     "text": []
    }
   ],
   "source": [
    "echo 'Hello, world!' > hello.txt"
   ]
  },
  {
   "cell_type": "code",
   "execution_count": 23,
   "metadata": {
    "collapsed": false
   },
   "outputs": [
    {
     "name": "stdout",
     "output_type": "stream",
     "text": [
      "Hello, world!\r\n"
     ]
    }
   ],
   "source": [
    "cat hello.txt"
   ]
  },
  {
   "cell_type": "code",
   "execution_count": 24,
   "metadata": {
    "collapsed": false
   },
   "outputs": [
    {
     "name": "stdout",
     "output_type": "stream",
     "text": []
    }
   ],
   "source": [
    "## Write list of files to a text file\n",
    "ls -t > files.txt"
   ]
  },
  {
   "cell_type": "code",
   "execution_count": 25,
   "metadata": {
    "collapsed": false
   },
   "outputs": [
    {
     "name": "stdout",
     "output_type": "stream",
     "text": [
      "files.txt\r\n",
      "hello.txt\r\n",
      "test.txt\r\n",
      "sorted_files.txt\r\n",
      "pickle_data.dat\r\n",
      "new_file.txt\r\n",
      "file2.txt\r\n",
      "file1.txt\r\n",
      "P00533.fasta\r\n",
      "SHH.xml\r\n",
      "book.xml\r\n",
      "egfr.fasta\r\n",
      "egfr.gb\r\n",
      "serotonin_data.txt\r\n",
      "annot_test.txt\r\n"
     ]
    }
   ],
   "source": [
    "cat files.txt"
   ]
  },
  {
   "cell_type": "code",
   "execution_count": 26,
   "metadata": {
    "collapsed": false
   },
   "outputs": [
    {
     "name": "stdout",
     "output_type": "stream",
     "text": [
      "P00533.fasta\r\n",
      "SHH.xml\r\n",
      "annot_test.txt\r\n",
      "book.xml\r\n",
      "egfr.fasta\r\n",
      "egfr.gb\r\n",
      "file1.txt\r\n",
      "file2.txt\r\n",
      "files.txt\r\n",
      "hello.txt\r\n",
      "new_file.txt\r\n",
      "pickle_data.dat\r\n",
      "serotonin_data.txt\r\n",
      "sorted_files.txt\r\n",
      "test.txt\r\n"
     ]
    }
   ],
   "source": [
    "## Sort the file names and print to the screen\n",
    "sort < files.txt"
   ]
  },
  {
   "cell_type": "code",
   "execution_count": 27,
   "metadata": {
    "collapsed": false
   },
   "outputs": [
    {
     "name": "stdout",
     "output_type": "stream",
     "text": []
    }
   ],
   "source": [
    "## Or save the sorted file names to another text file\n",
    "sort < files.txt > sorted_files.txt"
   ]
  },
  {
   "cell_type": "markdown",
   "metadata": {},
   "source": [
    "### Pipes |\n",
    "\n",
    "Pipes are another form of redirection and can be used to redirect the output from one command to the input of another command. Any number of pipes or redirection characters can be strung together to perform multi-step tasks that might otherwise be cumbersome.\n",
    "\n",
    "    ls | sort > sorted_files.txt\n",
    "    \n",
    "    ls | wc -l > num_files.txt\n",
    "    \n",
    "    ls -lt | head -n 5\n",
    "    \n",
    "    ls -t | grep \".py$\" | sort | head -n 5"
   ]
  },
  {
   "cell_type": "code",
   "execution_count": 28,
   "metadata": {
    "collapsed": false
   },
   "outputs": [
    {
     "name": "stdout",
     "output_type": "stream",
     "text": [
      "      15\r\n"
     ]
    }
   ],
   "source": [
    "## How many files are in the current directory\n",
    "ls | wc -l"
   ]
  },
  {
   "cell_type": "code",
   "execution_count": 29,
   "metadata": {
    "collapsed": false
   },
   "outputs": [
    {
     "name": "stdout",
     "output_type": "stream",
     "text": [
      "total 504\r\n",
      "-rw-r--r--  1 mooneymi  OHSUM01\\Domain Users    178 Sep 21 11:10 sorted_files.txt\r\n",
      "-rw-r--r--  1 mooneymi  OHSUM01\\Domain Users    178 Sep 21 11:10 files.txt\r\n",
      "-rw-r--r--  1 mooneymi  OHSUM01\\Domain Users     14 Sep 21 11:10 hello.txt\r\n",
      "-rw-r--r--  1 mooneymi  OHSUM01\\Domain Users     13 Sep 21 10:03 test.txt\r\n"
     ]
    }
   ],
   "source": [
    "## Show a few of the most recently modified files\n",
    "ls -lt | head -n 5"
   ]
  },
  {
   "cell_type": "markdown",
   "metadata": {},
   "source": [
    "## File Manipulation in Linux\n",
    "\n",
    "### `AWK`\n",
    "\n",
    "`awk` can be used to easily manipulate delimited files. `awk` is a programming language in itself, and has many options that we won't cover here. The general structure of an `awk` command is as follows:\n",
    "\n",
    "    awk –F 'delimiter' 'condition {command}' file\n",
    "\n",
    "For more detailed info on `awk`: [http://tldp.org/LDP/Bash-Beginners-Guide/html/chap_06.html](http://tldp.org/LDP/Bash-Beginners-Guide/html/chap_06.html)\n",
    "\n",
    "#### `awk` Built-in Variables\n",
    "<table align=\"left\">\n",
    "<tr><td style=\"text-align:center\"><b>Variable</b></td><td><b>Description</b></td></tr>\n",
    "<tr><td style=\"text-align:center\">`NR`</td><td>The current row number</td></tr>\n",
    "<tr><td style=\"text-align:center\">`NF`</td><td>The number of fields in the line</td></tr>\n",
    "<tr><td style=\"text-align:center\">`$0`</td><td>The entire line</td></tr>\n",
    "<tr><td style=\"text-align:center\">`$n`</td><td>Where `n` is an integer, the nth field</td></tr>\n",
    "</table>"
   ]
  },
  {
   "cell_type": "markdown",
   "metadata": {},
   "source": [
    "#### Examples\n",
    "In the first example below will print the number of fields on the first line of the file `annot_test.txt`. The second example will print the first two fields from the first 10 lines of the file.\n",
    "\n",
    "    awk -F '\\t' 'NR==1 {print NF}' annot_test.txt\n",
    "    \n",
    "    awk -F '\\t' 'NR<=10 {print $1\"\\t\"$2}' annot_test.txt"
   ]
  },
  {
   "cell_type": "code",
   "execution_count": 30,
   "metadata": {
    "collapsed": false
   },
   "outputs": [
    {
     "name": "stdout",
     "output_type": "stream",
     "text": [
      "14\r\n"
     ]
    }
   ],
   "source": [
    "awk -F '\\t' 'NR==1 {print NF}' annot_test.txt"
   ]
  },
  {
   "cell_type": "code",
   "execution_count": 31,
   "metadata": {
    "collapsed": false
   },
   "outputs": [
    {
     "name": "stdout",
     "output_type": "stream",
     "text": [
      "ProbeID\tPrimaryAccession\r\n",
      "A_23_P253586\tNM_005128\r\n",
      "A_23_P217507\tNM_004729\r\n",
      "A_24_P538590\tAK092032\r\n",
      "A_24_P569294\tNM_021107\r\n",
      "A_23_P259451\tNM_007080\r\n",
      "A_32_P219520\tNM_014350\r\n",
      "A_32_P38619\tTHC2760960\r\n",
      "A_24_P153234\tA_24_P153234\r\n",
      "A_23_P76006\tNM_001235\r\n"
     ]
    }
   ],
   "source": [
    "awk -F '\\t' 'NR<=10 {print $1\"\\t\"$2}' annot_test.txt"
   ]
  },
  {
   "cell_type": "markdown",
   "metadata": {},
   "source": [
    "### `sed`\n",
    "\n",
    "`sed` is another powerful linux utility for manipulating files. It is particularly useful for quickly editing files (e.g. performing find-and-replace operations). Like `awk`, `sed` has numerous commands. For more information see the following: [http://tldp.org/LDP/Bash-Beginners-Guide/html/chap_05.html](http://tldp.org/LDP/Bash-Beginners-Guide/html/chap_05.html)"
   ]
  },
  {
   "cell_type": "code",
   "execution_count": 32,
   "metadata": {
    "collapsed": false
   },
   "outputs": [
    {
     "name": "stdout",
     "output_type": "stream",
     "text": []
    }
   ],
   "source": [
    "## Create a test file\n",
    "echo 'Hello World!' > test.txt"
   ]
  },
  {
   "cell_type": "code",
   "execution_count": 33,
   "metadata": {
    "collapsed": false
   },
   "outputs": [
    {
     "name": "stdout",
     "output_type": "stream",
     "text": [
      "Hello World!\r\n"
     ]
    }
   ],
   "source": [
    "## Print the contents of the file to the screen\n",
    "cat test.txt"
   ]
  },
  {
   "cell_type": "code",
   "execution_count": 34,
   "metadata": {
    "collapsed": false
   },
   "outputs": [
    {
     "name": "stdout",
     "output_type": "stream",
     "text": [
      "HeXXo WorXd!\r\n"
     ]
    }
   ],
   "source": [
    "## Use sed to replace all instances of l with X\n",
    "## The pattern is s (for substitution), / (just a delimiter), a pattern to match, /, the replacement, / g (for global)\n",
    "sed 's/l/X/g' test.txt "
   ]
  },
  {
   "cell_type": "code",
   "execution_count": 35,
   "metadata": {
    "collapsed": false
   },
   "outputs": [
    {
     "name": "stdout",
     "output_type": "stream",
     "text": [
      "HeXlo World!\r\n"
     ]
    }
   ],
   "source": [
    "## Omitting the 'g' at the end will tell sed to replace only the first occurence in the line\n",
    "sed 's/l/X/' test.txt "
   ]
  },
  {
   "cell_type": "markdown",
   "metadata": {},
   "source": [
    "### `cut`\n",
    "\n",
    "`cut` can be used to extract columns from a delimited file. The first example below will print the second and third columns of the file `annot_test.txt`. The second example will print the first four columns. The `-f` option tells the program to split on a delimiter (tab is default), while the `-c` option will split the file based on character position.\n",
    "\n",
    "    cut -f 2,3 annot_test.txt\n",
    "    \n",
    "    cut -f 1-4 annot_test.txt\n"
   ]
  },
  {
   "cell_type": "code",
   "execution_count": 36,
   "metadata": {
    "collapsed": false
   },
   "outputs": [
    {
     "name": "stdout",
     "output_type": "stream",
     "text": [
      "PrimaryAccession\tRefSeqAccession\r\n",
      "NM_005128\tNM_005128\r\n",
      "NM_004729\tNM_004729\r\n",
      "AK092032\t\r\n",
      "NM_021107\tNM_021107\r\n",
      "NM_007080\tNM_007080\r\n",
      "NM_014350\tNM_014350\r\n",
      "THC2760960\t\r\n",
      "A_24_P153234\t\r\n",
      "NM_001235\tNM_001235\r\n"
     ]
    }
   ],
   "source": [
    "cut -f 2,3 annot_test.txt"
   ]
  },
  {
   "cell_type": "code",
   "execution_count": 37,
   "metadata": {
    "collapsed": false
   },
   "outputs": [
    {
     "name": "stdout",
     "output_type": "stream",
     "text": [
      "ProbeID\tPrimaryAccession\tRefSeqAccession\tGenbankAccession\r\n",
      "A_23_P253586\tNM_005128\tNM_005128\tNM_005128\r\n",
      "A_23_P217507\tNM_004729\tNM_004729\tNM_004729\r\n",
      "A_24_P538590\tAK092032\t\tAK092032\r\n",
      "A_24_P569294\tNM_021107\tNM_021107\tNM_021107\r\n",
      "A_23_P259451\tNM_007080\tNM_007080\tNM_007080\r\n",
      "A_32_P219520\tNM_014350\tNM_014350\tNM_014350\r\n",
      "A_32_P38619\tTHC2760960\t\t\r\n",
      "A_24_P153234\tA_24_P153234\t\t\r\n",
      "A_23_P76006\tNM_001235\tNM_001235\tNM_001235\r\n"
     ]
    }
   ],
   "source": [
    "cut -f 1-4 annot_test.txt"
   ]
  },
  {
   "cell_type": "markdown",
   "metadata": {},
   "source": [
    "### `paste`\n",
    "\n",
    "`paste` can be used to merge two files. Each row of the input files will be concatenated, separted by a delimiter (tab is default) and printed to the screen. For example, using `paste` to combine two tab delimited input files, each with 2 columns and 10 rows, will result in 10 rows of 4 columns being printed to the screen. The `-d` option can be used to specify the delimiter.\n",
    "\n",
    "    paste file1.txt file2.txt\n",
    "    \n",
    "    paste -d ',' file1.txt file2.txt"
   ]
  },
  {
   "cell_type": "code",
   "execution_count": 38,
   "metadata": {
    "collapsed": false
   },
   "outputs": [
    {
     "name": "stdout",
     "output_type": "stream",
     "text": []
    }
   ],
   "source": [
    "cut -f 1 annot_test.txt > file1.txt"
   ]
  },
  {
   "cell_type": "code",
   "execution_count": 39,
   "metadata": {
    "collapsed": false
   },
   "outputs": [
    {
     "name": "stdout",
     "output_type": "stream",
     "text": []
    }
   ],
   "source": [
    "cut -f 3 annot_test.txt > file2.txt"
   ]
  },
  {
   "cell_type": "code",
   "execution_count": 40,
   "metadata": {
    "collapsed": false
   },
   "outputs": [
    {
     "name": "stdout",
     "output_type": "stream",
     "text": [
      "ProbeID\tRefSeqAccession\r\n",
      "A_23_P253586\tNM_005128\r\n",
      "A_23_P217507\tNM_004729\r\n",
      "A_24_P538590\t\r\n",
      "A_24_P569294\tNM_021107\r\n",
      "A_23_P259451\tNM_007080\r\n",
      "A_32_P219520\tNM_014350\r\n",
      "A_32_P38619\t\r\n",
      "A_24_P153234\t\r\n",
      "A_23_P76006\tNM_001235\r\n"
     ]
    }
   ],
   "source": [
    "paste file1.txt file2.txt"
   ]
  },
  {
   "cell_type": "code",
   "execution_count": 41,
   "metadata": {
    "collapsed": false
   },
   "outputs": [
    {
     "name": "stdout",
     "output_type": "stream",
     "text": [
      "ProbeID,RefSeqAccession\r\n",
      "A_23_P253586,NM_005128\r\n",
      "A_23_P217507,NM_004729\r\n",
      "A_24_P538590,\r\n",
      "A_24_P569294,NM_021107\r\n",
      "A_23_P259451,NM_007080\r\n",
      "A_32_P219520,NM_014350\r\n",
      "A_32_P38619,\r\n",
      "A_24_P153234,\r\n",
      "A_23_P76006,NM_001235\r\n"
     ]
    }
   ],
   "source": [
    "paste -d ',' file1.txt file2.txt"
   ]
  },
  {
   "cell_type": "markdown",
   "metadata": {},
   "source": [
    "## Bash Scripting\n",
    "\n",
    "#### Why Script?\n",
    "\n",
    "1. Automate repetitive tasks\n",
    "2. Create tailored sequences of commands\n",
    "3. Link together software tools written in different languages \n",
    "\n",
    "Writing a bash script is very similar to writing a Python program. A bash script is a text file containing commands that are interpreted by the bash interpreter. Just as in Python, the first line should contain a shebang (e.g. `#!/bin/bash`) indicating the location of the interpreter. To run a bash script you have two options:\n",
    "\n",
    "    bash my_script.sh\n",
    "    \n",
    "    chmod 755 my_script.sh\n",
    "    ./my_script.sh"
   ]
  },
  {
   "cell_type": "markdown",
   "metadata": {},
   "source": [
    "#### Local Variables\n",
    "\n",
    "You can assign user variables inside bash scripts with the format: `variable=value`. There must be no spaces between the `=` and the variable name or value. To access the variable, append a `$` to the front of the variable name.\n",
    "\n",
    "    first_name=\"John\"\n",
    "    \n",
    "Use the `echo` or `printf` commands to print output. `printf` accepts format specifiers much like in Python.\n",
    "    \n",
    "    echo $first_name"
   ]
  },
  {
   "cell_type": "markdown",
   "metadata": {},
   "source": [
    "#### Command-line Arguments\n",
    "\n",
    "To access command-line arguments within a bash script use the special variables `$1`, `$2`, `$3`, etc. For example, to supply a file name to script you would run the script as follows:\n",
    "\n",
    "    bash my_script.sh hello.txt\n",
    "    \n",
    "Within the script `my_script.sh` the filename argument might be used as follows:\n",
    "\n",
    "    filename=$1\n",
    "    \n",
    "    if [ -r $filename ]; then\n",
    "        linecount=$(wc -l $filename)\n",
    "        printf \"%s has %d lines\" $filename $linecount\n",
    "    fi\n",
    "\n",
    "#### Exit Status\n",
    "\n",
    "Programs return an exit status to indicate whether the program ran successfully or not (i.e. an error occured). An exit status of 0 indicates the command ran successfully. An exit status other than 0 indicates a failure, with specific codes indicating different errors (exact codes depend on the program). We can use the exit status of commands to make decisions in our scripts. For example, an exit status can be used as a condition in control structures (as seen below). The special variable `$?` holds the exit status of the previous command.\n",
    "\n",
    "    grep -q \"ATCG\" text.txt\n",
    "    if (( $? == 0 )); then\n",
    "        echo \"ATCG found.\"\n",
    "    fi\n",
    "\n",
    "### Bash Control Structures\n",
    "\n",
    "#### if/elif/else blocks\n",
    "\n",
    "\n",
    "    if [ condition1 ]; then\n",
    "        command block\n",
    "    elif [ condition2 ]; then\n",
    "        command block\n",
    "    else\n",
    "        command block\n",
    "    fi\n",
    "        "
   ]
  },
  {
   "cell_type": "markdown",
   "metadata": {},
   "source": [
    "#### Bash Conditions\n",
    "\n",
    "<table align=\"left\">\n",
    "<tr><td style=\"text-align:center\"><b>Variable</b></td><td><b>Description</b></td></tr>\n",
    "<tr><td style=\"text-align:center\">`[ -e file ]`</td><td>File exists</td></tr>\n",
    "<tr><td style=\"text-align:center\">`[ -d directory ]`</td><td>Directory exists</td></tr>\n",
    "<tr><td style=\"text-align:center\">`[ -r file ]`</td><td>File exists and is readable</td></tr>\n",
    "<tr><td style=\"text-align:center\">`[ -w file ]`</td><td>File exists and is writable</td></tr>\n",
    "<tr><td style=\"text-align:center\">`[ -x file ]`</td><td>File exists and is executable</td></tr>\n",
    "<tr><td style=\"text-align:center\">`[ STRING1 == STRING2 ]`</td><td>`STRING1` equals `STRING2`</td></tr>\n",
    "<tr><td style=\"text-align:center\">`[ STRING1 != STRING2 ]`</td><td>`STRING1` does not equal `STRING2`</td></tr>\n",
    "<tr><td style=\"text-align:center\">`[[ STRING =~ PATTERN ]]`</td><td>`STRING` matches RegEx pattern `PATTERN` (Note the double square braces).</td></tr>\n",
    "<tr><td style=\"text-align:center\">`[ NUM1 -eq NUM2 ]`</td><td>`NUM1` is equal to `NUM2`</td></tr>\n",
    "<tr><td style=\"text-align:center\">`[ NUM1 -ne NUM2 ]`</td><td>`NUM1` is not equal to `NUM2`</td></tr>\n",
    "<tr><td style=\"text-align:center\">`[ NUM1 -gt NUM2 ]`</td><td>`NUM1` is greater than `NUM2`</td></tr>\n",
    "<tr><td style=\"text-align:center\">`[ NUM1 -ge NUM2 ]`</td><td>`NUM1` is greater than or equal to `NUM2`</td></tr>\n",
    "<tr><td style=\"text-align:center\">`[ NUM1 -lt NUM2 ]`</td><td>`NUM1` is less than `NUM2`</td></tr>\n",
    "<tr><td style=\"text-align:center\">`[ NUM1 -le NUM2 ]`</td><td>`NUM1` is less than or equal to `NUM2`</td></tr>\n",
    "<tr><td style=\"text-align:center\">`(( NUM1 == NUM2 ))`</td><td>`NUM1` is equal to `NUM2` (Note the double parentheses--these conditions only accept integers; <br />`<, >, <=, >=, !=` operators can also be used).</td></tr>\n",
    "</table>"
   ]
  },
  {
   "cell_type": "markdown",
   "metadata": {},
   "source": [
    "Multiple conditions can be combined using 'and' and 'or' operators. The operators `-a` and `-o` are used within single brackets, while `&&` and `||` are used within double brackets."
   ]
  },
  {
   "cell_type": "markdown",
   "metadata": {
    "collapsed": true
   },
   "source": [
    "#### while loops\n",
    "\n",
    "    i=0\n",
    "    while [ $i -lt 10 ]; do\n",
    "    echo $i\n",
    "        i=$((i+1))\n",
    "    done"
   ]
  },
  {
   "cell_type": "markdown",
   "metadata": {
    "collapsed": true
   },
   "source": [
    "#### for loops\n",
    "\n",
    "There are a few different methods for constructing a `for` loop in bash. Here are some examples:\n",
    "\n",
    "    ## For loop example 1\n",
    "    for i in 1 2 3 4 5\n",
    "    do\n",
    "        echo $i\n",
    "    done\n",
    "    \n",
    "    ## For loop example 2\n",
    "    for file in $(ls)\n",
    "    do\n",
    "        if [ -r $file ]; then\n",
    "            echo \"'$file' is readable.\"\n",
    "        fi\n",
    "    done\n",
    "    \n",
    "    ## For loop example 3\n",
    "    for (( i=1; i<=5; i++ ))\n",
    "    do\n",
    "        echo $i\n",
    "    done"
   ]
  },
  {
   "cell_type": "markdown",
   "metadata": {
    "collapsed": true
   },
   "source": [
    "## In-Class Exercises"
   ]
  },
  {
   "cell_type": "markdown",
   "metadata": {
    "collapsed": true
   },
   "source": [
    "Exercise 1. \n",
    "\n",
    "Create two simple Python programs: one that generates a random DNA sequence to the STDOUT, and another that processes sequence data from STDIN (e.g. calculates the sequence length) and returns the result to STDOUT. Use the Python functions `sys.stdout.write()` and `sys.stdin.read()`. \n",
    "\n",
    "Construct a pipeline that calls the two Python programs, and saves the output to a file."
   ]
  },
  {
   "cell_type": "code",
   "execution_count": null,
   "metadata": {
    "collapsed": true
   },
   "outputs": [],
   "source": []
  },
  {
   "cell_type": "markdown",
   "metadata": {
    "collapsed": true
   },
   "source": [
    "Exercise 2.\n",
    "\n",
    "Write a bash script that takes a filename as an argument. The script should check that the file is a Python script (.py extension) and that it is readable, then print the first few lines to the screen."
   ]
  },
  {
   "cell_type": "markdown",
   "metadata": {},
   "source": [
    "Exercise 3.\n",
    "\n",
    "Write a script that will iterate through all files in the current directory and perform some action (or not) depending on the file contents (e.g. results of a `grep` command)."
   ]
  },
  {
   "cell_type": "markdown",
   "metadata": {
    "collapsed": true
   },
   "source": [
    "## References"
   ]
  },
  {
   "cell_type": "markdown",
   "metadata": {},
   "source": [
    "- Running Linux, Matt Welsh, Matthias Kalle Dalheimer, Lar Kaufman, O’Reilly (1999)\n",
    "- Classic Shell Scriptng, Arnold Robbins, Nelson HF Beebe, O'Reilly (2005)\n",
    "- [https://linuxacademy.com/blog/linux/conditions-in-bash-scripting-if-statements/](https://linuxacademy.com/blog/linux/conditions-in-bash-scripting-if-statements/)\n",
    "- [http://tldp.org/LDP/Bash-Beginners-Guide/html/index.html](http://tldp.org/LDP/Bash-Beginners-Guide/html/index.html)"
   ]
  },
  {
   "cell_type": "markdown",
   "metadata": {
    "collapsed": true
   },
   "source": [
    "#### Last Updated: 21-Sep-2016"
   ]
  }
 ],
 "metadata": {
  "anaconda-cloud": {},
  "kernelspec": {
   "display_name": "Bash",
   "language": "bash",
   "name": "bash"
  },
  "language_info": {
   "codemirror_mode": "shell",
   "file_extension": ".sh",
   "mimetype": "text/x-sh",
   "name": "bash"
  }
 },
 "nbformat": 4,
 "nbformat_minor": 0
}
