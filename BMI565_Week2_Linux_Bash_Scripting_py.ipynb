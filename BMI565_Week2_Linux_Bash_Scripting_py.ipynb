{
 "cells": [
  {
   "cell_type": "markdown",
   "metadata": {},
   "source": [
    "# BMI565: Bioinformatics Programming & Scripting\n",
    "#### (C) Michael Mooney (mooneymi@ohsu.edu)\n",
    "## Week 2: Unix/Linux Commands and Bash Scripting"
   ]
  },
  {
   "cell_type": "markdown",
   "metadata": {},
   "source": [
    "1. Linux Background\n",
    "2. Basic Linux Commands\n",
    "    - Commands for Navigating the Directory Tree\n",
    "    - File Permissions\n",
    "    - Other Basic Utilities\n",
    "3. Input/Output Redirection\n",
    "    - STDIN and STDOUT\n",
    "    - Redirecting I/O: `>, >>, <`\n",
    "    - Pipes    \n",
    "4. File Manipulation in Linux\n",
    "    - AWK\n",
    "    - sed\n",
    "    - cut and paste\n",
    "5. Bash Scripts\n",
    "    - Bash Control Structures"
   ]
  },
  {
   "cell_type": "markdown",
   "metadata": {},
   "source": [
    "## Unix/Linux Background\n",
    "\n",
    "- Unix is an OS originally developed in 1969 at Bell Labs\n",
    "- Unix utilizes a kernel: the main OS program that connects applications with hardware\n",
    "- Designed to be portable, multi-tasking, and multi-user\n",
    "- Custom versions of Unix were being sold with server workstations. They were expensive and behaved differently.\n",
    "- Linux is an open-source, free version of Unix developed by Linus Torvalds (first released in 1991)\n",
    "- There are several Linux distributions available: Ubuntu, Fedora, Mint"
   ]
  },
  {
   "cell_type": "markdown",
   "metadata": {},
   "source": [
    "## Basic Linux Commands\n",
    "### Commands for Navigating the Directory Tree\n",
    "\n",
    "<table align=\"left\">\n",
    "<tr><td style=\"text-align:center\"><b>Command</b></td><td><b>Description</b></td></tr>\n",
    "<tr><td style=\"text-align:center\">`pwd`</td><td>Displays the current directory</td></tr>\n",
    "<tr><td style=\"text-align:center\">`mkdir [DIR]`</td><td>Creates a new directory</td></tr>\n",
    "<tr><td style=\"text-align:center\">`cd [DIR]`</td><td>Changes the current directory</td></tr>\n",
    "<tr><td style=\"text-align:center\">`ls [DIR]`</td><td>Lists the directory contents</td></tr>\n",
    "</table>"
   ]
  },
  {
   "cell_type": "markdown",
   "metadata": {},
   "source": [
    "Absolute Path: The entire directory path (starting from the root directory)\n",
    "\n",
    "Relative Path: The directory path relative to the current directory\n",
    "\n",
    "#### Examples:\n",
    "\n",
    "    pwd\n",
    "    \n",
    "    cd scripts\n",
    "    \n",
    "    cd ..\n",
    "    \n",
    "    cd /home/users/mooneymi/scripts\n",
    "    \n",
    "    cd -"
   ]
  },
  {
   "cell_type": "markdown",
   "metadata": {},
   "source": [
    "### File Permissions\n",
    "\n",
    "Every file and directory has three permission types:\n",
    "- Read\n",
    "- Write\n",
    "- Execute\n",
    "\n",
    "Each of the permission types are assigned at three different levels:\n",
    "- Owner\n",
    "- Group\n",
    "- Other\n",
    "\n",
    "File permissions can be changed with the `chmod` command:\n",
    "    chmod ### file\n",
    "\n",
    "The `###` above represents three integers that specify the permission types for the three groups. The permission types are coded as follows:\n",
    "\n",
    " - 4 = Read Only\n",
    " - 2 = Write Only\n",
    " - 1 = Execute Only\n",
    " - 0 = None\n",
    "\n",
    "To give multiple permission types, sum the respective numbers. \n",
    "\n",
    "#### Examples:\n",
    "The first example below gives read, write, and execute permissions for the `test.txt` file to everyone. The second example gives all permissions to the file owner, but only read and execute permissions to the group and others.\n",
    "\n",
    "    chmod 777 test.txt\n",
    "    \n",
    "    chmod 755 test.txt\n",
    "    "
   ]
  },
  {
   "cell_type": "markdown",
   "metadata": {},
   "source": [
    "### Other Basic Linux Utilities\n",
    "\n",
    "<table align=\"left\">\n",
    "<tr><td style=\"text-align:center\"><b>Command</b></td><td><b>Description</b></td></tr>\n",
    "<tr><td style=\"text-align:center\">`man [COMMAND]`</td><td>Displays the manual entry for the command</td></tr>\n",
    "<tr><td style=\"text-align:center\">`cat [OPTION] [FILE]`</td><td>Prints the entire file</td></tr>\n",
    "<tr><td style=\"text-align:center\">`head [OPTION] [FILE]`</td><td>Prints the first few lines of a file</td></tr>\n",
    "<tr><td style=\"text-align:center\">`tail [OPTION] [FILE]`</td><td>Prints the last few lines of a file</td></tr>\n",
    "<tr><td style=\"text-align:center\">`less [FILE]`</td><td>Displays a file and allows scrolling</td></tr>\n",
    "<tr><td style=\"text-align:center\">`wc [OPTION] [FILE]`</td><td>Returns the word and line count of a file</td></tr>\n",
    "<tr><td style=\"text-align:center\">`rm [OPTION] FILE`</td><td>Deletes a file</td></tr>\n",
    "<tr><td style=\"text-align:center\">`grep [OPTION] PATTERN [FILES]`</td><td>Searches files for a string pattern</td></tr>\n",
    "</table>"
   ]
  },
  {
   "cell_type": "markdown",
   "metadata": {},
   "source": [
    "#### Examples:\n",
    "    man ls\n",
    "    \n",
    "    wc -l\n",
    "    \n",
    "    grep \"atcgggt\" sequence.txt\n",
    "    \n",
    "#### Useful `grep` Parameters\n",
    "<table align=\"left\">\n",
    "<tr><td style=\"text-align:center\"><b>Option</b></td><td><b>Description</b></td></tr>\n",
    "<tr><td style=\"text-align:center\">`i`</td><td>Ignore case</td></tr>\n",
    "<tr><td style=\"text-align:center\">`c`</td><td>Print a count of matching lines</td></tr>\n",
    "<tr><td style=\"text-align:center\">`r`</td><td>Recursive searching (look in subdirectories)</td></tr>\n",
    "<tr><td style=\"text-align:center\">`l`</td><td>Only print filenames containing matches</td></tr>\n",
    "<tr><td style=\"text-align:center\">`n`</td><td>Include line numbers of matches within files</td></tr>\n",
    "</table>"
   ]
  },
  {
   "cell_type": "markdown",
   "metadata": {},
   "source": [
    "## I/O Redirection\n",
    "\n",
    "### STDIN and STDOUT\n",
    "\n",
    "STDIN (standard input), STDOUT (standard output), and STDERR (standard error) are pre-connected input and output channels for a computer program and its environment. The STDIN is the stream for data going into a program (typically keyboard input), STDOUT is the stream for data written by a program (typically the terminal that initiated the program), and STDERR is the stream used to report errors (again, typically this is the terminal that initiated the program).\n",
    "\n",
    "However, we are able to use I/O redirection so that program input can come from sources other than the keyboard, and so that output can go to destinations other than the screen. \n",
    "\n",
    "### `> , >>, <`\n",
    "\n",
    "The `>` and `>>` redirection characters can be used to redirect program output to a file. `>` causes the file to be overwritten (if it exists), while `>>` will append output to the end of an existing file.\n",
    "\n",
    "    echo \"Hello, world!\" > hello.txt\n",
    "\n",
    "Likewise, we can supply input to a program from a file by using the `<` redirection character. \n",
    "\n",
    "    ls -t > files.txt\n",
    "    \n",
    "    sort < files.txt > sorted_files.txt\n",
    "\n",
    "### Pipes |\n",
    "\n",
    "Pipes are another form of redirection and can be used to redirect the output from one command to the input of another command. Any number of pipes or redirection characters can be strung together to perform multi-step tasks that might otherwise be cumbersome.\n",
    "\n",
    "    ls | sort > sorted_files.txt\n",
    "    \n",
    "    ls | wc -l > num_files.txt\n",
    "    \n",
    "    ls -lt | head -n 20\n",
    "    \n",
    "    ls -t | grep \".py$\" | sort | head -n 5"
   ]
  },
  {
   "cell_type": "markdown",
   "metadata": {},
   "source": [
    "## File Manipulation in Linux\n",
    "\n",
    "### `AWK`\n",
    "\n",
    "`awk` can be used to easily manipulate delimited files. The general structure of an `awk` command is as follows:\n",
    "\n",
    "    awk –F 'delimiter' 'condition {command}' file\n",
    "\n",
    "#### `awk` Built-in Variables\n",
    "<table align=\"left\">\n",
    "<tr><td style=\"text-align:center\"><b>Variable</b></td><td><b>Description</b></td></tr>\n",
    "<tr><td style=\"text-align:center\">`NR`</td><td>The current row number</td></tr>\n",
    "<tr><td style=\"text-align:center\">`NF`</td><td>The number of fields in the line</td></tr>\n",
    "<tr><td style=\"text-align:center\">`$0`</td><td>The entire line</td></tr>\n",
    "<tr><td style=\"text-align:center\">`$n`</td><td>Where `n` is an integer, the nth field</td></tr>\n",
    "</table>"
   ]
  },
  {
   "cell_type": "markdown",
   "metadata": {},
   "source": [
    "#### Examples\n",
    "In the first example below will print the number of fields on the first line of the file `annot_test.txt`. The second example will print the first two fields from the first 10 lines of the file.\n",
    "\n",
    "    awk -F '\\t' 'NR==1 {print NF}' annot_test.txt\n",
    "    \n",
    "    awk -F '\\t' 'NR<=10 {print $1\"\\t\"$2}' annot_test.txt"
   ]
  },
  {
   "cell_type": "markdown",
   "metadata": {},
   "source": [
    "### `sed`\n",
    "\n",
    "`sed` is another powerful linux utility for manipulating files. It is particularly useful for quickly editing files (e.g. performing find-and-replace operations). Like `awk`, `sed` has numerous commands. For more information see the following: [http://tldp.org/LDP/Bash-Beginners-Guide/html/chap_05.html](http://tldp.org/LDP/Bash-Beginners-Guide/html/chap_05.html)\n",
    "\n",
    "#### Examples\n",
    "\n",
    "    echo 'Hello World!' > test.txt\n",
    "    \n",
    "    sed 's/l/X/g' test.txt "
   ]
  },
  {
   "cell_type": "code",
   "execution_count": null,
   "metadata": {
    "collapsed": true
   },
   "outputs": [],
   "source": []
  },
  {
   "cell_type": "code",
   "execution_count": null,
   "metadata": {
    "collapsed": true
   },
   "outputs": [],
   "source": []
  },
  {
   "cell_type": "code",
   "execution_count": null,
   "metadata": {
    "collapsed": true
   },
   "outputs": [],
   "source": []
  },
  {
   "cell_type": "markdown",
   "metadata": {},
   "source": [
    "### `cut`\n",
    "\n",
    "`cut` can be used to extract columns from a delimed file. The first example below will print the second and third columns of the file `annot_test.txt`. The second example will print the first four columns. The `-f` option tells the program to split on a delimiter (tab is default), while the `-c` option will split the file based on character position.\n",
    "\n",
    "    cut -f 2,3 annot_test.txt\n",
    "    \n",
    "    cut -f 1-4 annot_test.txt\n"
   ]
  },
  {
   "cell_type": "markdown",
   "metadata": {},
   "source": [
    "### `paste`\n",
    "\n",
    "`paste` can be used to merge two files. Each row of the input files will be concatenated, separted by a delimiter (tab is default) and printed to the screen. For example, using `paste` to combine two tab delimited input files, each with 2 columns and 10 rows, will result in 10 rows of 4 columns being printed to the screen. The `-d` option can be used to specify the delimiter.\n",
    "\n",
    "    paste file1.txt file2.txt\n",
    "    \n",
    "    paste -d ' ' file1.txt file2.txt"
   ]
  },
  {
   "cell_type": "markdown",
   "metadata": {},
   "source": [
    "## Bash Scripting\n",
    "\n",
    "#### Why Script?\n",
    "\n",
    "1. Automate repetitive tasks\n",
    "2. Create tailored sequences of commands\n",
    "3. Link together software tools written in different languages \n",
    "\n",
    "Writing a bash script is very similar to writing a Python program. A bash script is a text file containing command that are interpreted by the bash interpreter. Just as in Python, the first line should contain a shebang (e.g. `#!/bin/bash`) indicating the location of the interpreter. To run a bash script you have two options:\n",
    "\n",
    "    bash my_script.sh\n",
    "    \n",
    "    chmod 755 my_script.sh\n",
    "    ./my_script.sh\n",
    "\n",
    "\n",
    "#### Linux Environment Variables\n",
    "\n",
    "Environment variables hold information about the computer environment in which your programs are running. You can view all environment variables with the `env` command:\n",
    "\n",
    "    env\n",
    "    \n",
    "The `PATH` environment variable tells the operating system where to look for executable programs. The `PATH` variable is simply a list of directories. When you attempt to execute a program the operating system will search these directories (in the order listed) for the program you requested. For instance, many of the utilities we've talked about today are located in the `/usr/bin` folder. Because this directory is listed in the `PATH` variable, you won't need to explicitly tell the OS where the utility is located. You can see where a program is located with the `which` command:\n",
    "\n",
    "    which paste\n",
    "    \n",
    "    which python\n",
    "\n",
    "\n",
    "You can modify the `PATH` variable as follows (this will add a folder in your home directory to the `PATH`):\n",
    "\n",
    "    PATH=~/bin:$PATH\n",
    "\n",
    "The export command will make the variable available to any subshell (i.e. a shell script).\n",
    "\n",
    "    export PATH\n",
    "\n",
    "Environment variables can also be accessed from within a bash script. Access the variable by placing a `$` before the variable name. For example:\n",
    "\n",
    "    echo $PATH\n",
    "\n",
    "\n",
    "#### Bash Variables\n",
    "\n",
    "You can assign user variables inside bash scripts with the format: `variable=value`. There must be no spaces between the `=` and the variable name or value. Just like above, to access the variable append a `$` to the front of the variable name.\n",
    "\n",
    "    first_name=\"John\"\n",
    "    \n",
    "Use the `echo` or `printf` commands to print output. `printf` accepts format specifiers much like in Python.\n",
    "    \n",
    "    echo $first_name\n",
    "    \n",
    "\n",
    "\n",
    "#### Command-line Arguments\n",
    "\n",
    "To access command-line arguments within a bash script use the special variables `$1`, `$2`, `$3`, etc. For example, to supply a file name to script you would run the script as follows:\n",
    "\n",
    "    bash my_script.sh filename\n",
    "    \n",
    "Within the script `my_script.sh` the `filename` argument might be used as follows:\n",
    "\n",
    "    filename=$1\n",
    "    \n",
    "    if [ -r $filename ]; then\n",
    "        linecount=$(wc -l $filename)\n",
    "        printf \"%s has %d lines\" $filename $linecount\n",
    "    fi\n",
    "\n",
    "#### Exit Status\n",
    "\n",
    "Programs return an exit status to indicate whether the program ran successfully or not (i.e. an error occured). An exit status of 0 indicates the command ran successfully. An exit status other than 0 indicates a failure, with specific codes indicating different errors (exact codes depend on the program). We can use the exit status of commands to make decisions in our scripts. For example, an exit status can be used as a condition in control structures (as seen below). The special variable `$?` holds the exit status of the previous command.\n",
    "\n",
    "    grep -q \"ATCG\" text.txt\n",
    "    if (( $? == 0 )); then\n",
    "        echo \"ATCG found.\"\n",
    "    fi\n",
    "\n",
    "### Bash Control Structures\n",
    "\n",
    "#### if/elif/else blocks\n",
    "\n",
    "\n",
    "    if [ condition1 ]; then\n",
    "        command block\n",
    "    elif [ condition2 ]; then\n",
    "        command block\n",
    "    else\n",
    "        command block\n",
    "    fi\n",
    "        "
   ]
  },
  {
   "cell_type": "markdown",
   "metadata": {},
   "source": [
    "#### Bash Conditions\n",
    "\n",
    "<table align=\"left\">\n",
    "<tr><td style=\"text-align:center\"><b>Variable</b></td><td><b>Description</b></td></tr>\n",
    "<tr><td style=\"text-align:center\">`[ -e file ]`</td><td>File exists</td></tr>\n",
    "<tr><td style=\"text-align:center\">`[ -d directory ]`</td><td>Directory exists</td></tr>\n",
    "<tr><td style=\"text-align:center\">`[ -r file ]`</td><td>File exists and is readable</td></tr>\n",
    "<tr><td style=\"text-align:center\">`[ -w file ]`</td><td>File exists and is writable</td></tr>\n",
    "<tr><td style=\"text-align:center\">`[ -x file ]`</td><td>File exists and is executable</td></tr>\n",
    "<tr><td style=\"text-align:center\">`[ STRING1 == STRING2 ]`</td><td>`STRING1` equals `STRING2`</td></tr>\n",
    "<tr><td style=\"text-align:center\">`[ STRING1 != STRING2 ]`</td><td>`STRING1` does not equal `STRING2`</td></tr>\n",
    "<tr><td style=\"text-align:center\">`[[ STRING =~ PATTERN ]]`</td><td>`STRING` matches RegEx pattern `PATTERN` (Note the double square braces).</td></tr>\n",
    "<tr><td style=\"text-align:center\">`[ NUM1 -eq NUM2 ]`</td><td>`NUM1` is equal to `NUM2`</td></tr>\n",
    "<tr><td style=\"text-align:center\">`[ NUM1 -ne NUM2 ]`</td><td>`NUM1` is not equal to `NUM2`</td></tr>\n",
    "<tr><td style=\"text-align:center\">`[ NUM1 -gt NUM2 ]`</td><td>`NUM1` is greater than `NUM2`</td></tr>\n",
    "<tr><td style=\"text-align:center\">`[ NUM1 -ge NUM2 ]`</td><td>`NUM1` is greater than or equal to `NUM2`</td></tr>\n",
    "<tr><td style=\"text-align:center\">`[ NUM1 -lt NUM2 ]`</td><td>`NUM1` is less than `NUM2`</td></tr>\n",
    "<tr><td style=\"text-align:center\">`[ NUM1 -le NUM2 ]`</td><td>`NUM1` is less than or equal to `NUM2`</td></tr>\n",
    "<tr><td style=\"text-align:center\">`(( NUM1 == NUM2 ))`</td><td>`NUM1` is equal to `NUM2` (Note the double parentheses--these conditions only accept integers; <br />`<, >, <=, >=, !=` operators can also be used).</td></tr>\n",
    "</table>"
   ]
  },
  {
   "cell_type": "markdown",
   "metadata": {},
   "source": [
    "Multiple conditions can be combined using 'and' and 'or' operators. The operators `-a` and `-o` are used within single brackets, while `&&` and `||` are used within double brackets."
   ]
  },
  {
   "cell_type": "markdown",
   "metadata": {},
   "source": [
    "#### while loops\n",
    "\n",
    "    i=0\n",
    "    while [ $i -lt 10 ]; do\n",
    "    echo $i\n",
    "        i=$((i+1))\n",
    "    done"
   ]
  },
  {
   "cell_type": "markdown",
   "metadata": {},
   "source": [
    "#### for loops\n",
    "\n",
    "There are a few different methods for constructing a `for` loop in bash. Here are some examples:\n",
    "\n",
    "    ## For loop example 1\n",
    "    for i in 1 2 3 4 5\n",
    "    do\n",
    "        echo $i\n",
    "    done\n",
    "    \n",
    "    ## For loop example 2\n",
    "    for file in $(ls)\n",
    "    do\n",
    "        if [ -r $file ]; then\n",
    "            echo \"'$file' is readable.\"\n",
    "        fi\n",
    "    done\n",
    "    \n",
    "    ## For loop example 3\n",
    "    for (( i=1; i<=5; i++ ))\n",
    "    do\n",
    "        echo $i\n",
    "    done"
   ]
  },
  {
   "cell_type": "markdown",
   "metadata": {},
   "source": [
    "## In-Class Exercises"
   ]
  },
  {
   "cell_type": "markdown",
   "metadata": {},
   "source": [
    "Exercise 1. \n",
    "\n",
    "Create two simple Python programs: one that generates a random DNA sequence to the STDOUT, and another that processes sequence data from STDIN (e.g. calculates the sequence length) and returns the result to STDOUT. Use the Python functions `sys.stdout.write()` and `sys.stdin.read()`. \n",
    "\n",
    "Construct a pipeline that calls the two Python programs, and saves the output to a file.\n",
    "\n",
    "Exercise 2.\n",
    "\n",
    "Write a bash script that takes a filename as an argument. The script should check that the file is a Python script (.py extension) and that it is readable, then print the first few lines to the screen.\n",
    "\n",
    "Exercise 3.\n",
    "\n",
    "Write a script that will iterate through all files in the current directory and perform some action (or not) depending on the file contents (e.g. results of a `grep` command)."
   ]
  },
  {
   "cell_type": "markdown",
   "metadata": {},
   "source": [
    "## References"
   ]
  },
  {
   "cell_type": "markdown",
   "metadata": {},
   "source": [
    "- Running Linux, Matt Welsh, Matthias Kalle Dalheimer, Lar Kaufman, O’Reilly (1999)\n",
    "- Classic Shell Scriptng, Arnold Robbins, Nelson HF Beebe, O'Reilly (2005)\n",
    "- [https://linuxacademy.com/blog/linux/conditions-in-bash-scripting-if-statements/](https://linuxacademy.com/blog/linux/conditions-in-bash-scripting-if-statements/)"
   ]
  },
  {
   "cell_type": "markdown",
   "metadata": {},
   "source": [
    "#### Last Updated: 22-Sep-2015"
   ]
  }
 ],
 "metadata": {
  "kernelspec": {
   "display_name": "Python 2",
   "language": "python",
   "name": "python2"
  },
  "language_info": {
   "codemirror_mode": {
    "name": "ipython",
    "version": 2
   },
   "file_extension": ".py",
   "mimetype": "text/x-python",
   "name": "python",
   "nbconvert_exporter": "python",
   "pygments_lexer": "ipython2",
   "version": "2.7.11"
  }
 },
 "nbformat": 4,
 "nbformat_minor": 0
}
