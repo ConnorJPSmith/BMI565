{
 "cells": [
  {
   "cell_type": "markdown",
   "metadata": {},
   "source": [
    "# BMI565: Bioinformatics Programming & Scripting"
   ]
  },
  {
   "cell_type": "markdown",
   "metadata": {},
   "source": [
    "#### (C) Michael Mooney (mooneymi@ohsu.edu)"
   ]
  },
  {
   "cell_type": "markdown",
   "metadata": {},
   "source": [
    "## Week 3: XML and Python"
   ]
  },
  {
   "cell_type": "markdown",
   "metadata": {},
   "source": [
    "1. XML Overview\n",
    "    - XML Format\n",
    "2. The Python ElementTree Class\n",
    "    - Reading XML\n",
    "    - Writing XML\n",
    "3. XML and Bioinformatics"
   ]
  },
  {
   "cell_type": "markdown",
   "metadata": {},
   "source": [
    "#### Requirements\n",
    "\n",
    "- Python 2.7\n",
    "- `xml.etree.ElementTree` module\n",
    "- Data Files\n",
    "    - `./data/book.xml`\n",
    "    - `./data/SHH.xml`\n",
    "- Miscellaneous Files\n",
    "    - `./images/book_tree.jpg`"
   ]
  },
  {
   "cell_type": "markdown",
   "metadata": {},
   "source": [
    "## XML Overview\n",
    "\n",
    "<b>XML</b> stands for E<u>x</u>tensible <u>M</u>arkup <u>L</u>anguage, and is a set of rules for encoding documents in a machine-readable format. In bioinformatics, XML is a commonly used format for sharing heterogenous data (as opposed to delimited files, where every record (row) contains the same data elements).\n",
    "\n",
    "The World Wide Web Consortium (W3C) oversaw XML development in 1996.\n",
    "\n",
    "#### XML Design Goals:\n",
    "1. XML shall be straightforwardly usable over the Internet\n",
    "2. XML shall support a wide variety of applications\n",
    "3. XML shall be compatible with Standard Generalized Markup Language (SGML)\n",
    "4. It shall be easy to write programs that process XML documents\n",
    "5. The number of optional features in XML is to be kept to the absolute minimum\n",
    "6. XML documents should be human-legible an reasonably clear\n",
    "7. The XML design should be prepared quickly\n",
    "8. The design of XML shall be formal and concise\n",
    "9. XML documents shall be easy to create\n",
    "10. Terseness in XML markup is of minimal importance\n",
    "\n",
    "#### Why can't we use CSV formats?\n",
    "1. We usually can, but...\n",
    "1. CSV files are not always human readable (other documentation is often necessary to identify data elements)\n",
    "2. Inconsistencies are more likely \n",
    "3. CSV files don't easily support multiple levels of data\n",
    "4. CSV files don't easily support addition details such as formatting or meta data (experimental protocols, etc.)\n"
   ]
  },
  {
   "cell_type": "markdown",
   "metadata": {},
   "source": [
    "#### UniProt Example: Sonic Hedgehog Protein\n",
    "\n",
    "[http://www.uniprot.org/uniprot/Q15465.xml](http://www.uniprot.org/uniprot/Q15465.xml)\n",
    "\n",
    "I've provided this file in the course materials, saved as `SHH.xml`."
   ]
  },
  {
   "cell_type": "markdown",
   "metadata": {},
   "source": [
    "### XML Format\n",
    "\n",
    "The first couple lines of an XML document contain information about the XML version used, the document structure and comments:\n",
    "\n",
    "#### Version\n",
    "    <?xml version='1.0' encoding='UTF-8'?>\n",
    "    \n",
    "#### Document Type Declaration\n",
    "    <uniprot xmlns=\"http://uniprot.org/uniprot\" xmlns:xsi=\"http://www.w3.org/2001/XMLSchema-instance\" xsi:schemaLocation=\"http://uniprot.org/uniprot http://www.uniprot.org/support/docs/uniprot.xsd\">\n",
    "\n",
    "#### XML Document Body\n",
    "\n",
    "The body of an XML document contains labeled data elements. Data elements can be nested to show relationships. Data labels are called \"tags\", which can also contain attributes (values are always strings) that provide additional information about the data.\n",
    "    \n",
    "    <parent_tag>\n",
    "        <child_tag attribute1=\"value1\" attrubute2=\"value2\">data</child_tag>\n",
    "    </parent_tag>\n",
    "\n",
    "It is subjective whether to provide additional information as attributes or additional date elements:\n",
    "\n",
    "    <contact birthdate=\"1-1-1980\">\n",
    "        <name>John Smith</name>\n",
    "    <contact>\n",
    "    \n",
    "    <contact>\n",
    "        <name>John Smith</name>\n",
    "        <birthdate>1-1-1980</birthdate>\n",
    "    </contact>\n",
    "\n",
    "#### DTD and XML Schema\n",
    "\n",
    "- Document Type Definitions (DTD) and XML Schemas are two ways of describing the structure and content of an XML document\n",
    "- XML Schemas (a.k.a. XML Schema Definitions or XSDs) were designed to improve upon the shortcomings of DTDs\n",
    "    - data type support\n",
    "    - namespace aware\n",
    "- Example: the UniProt XSD - [http://www.uniprot.org/support/docs/uniprot.xsd](http://www.uniprot.org/support/docs/uniprot.xsd)"
   ]
  },
  {
   "cell_type": "markdown",
   "metadata": {},
   "source": [
    "## ElementTree\n",
    "### Reading XML\n",
    "\n",
    "There are two strategies for reading an XML document:\n",
    "\n",
    "1. Document Object Model\n",
    "    - Read the entire file, analyze relationships between elements, and build a tree structure which can be navigated/searched\n",
    "    - Uses the innate organization of the data\n",
    "    - Examples: `minidom` and `elementtree` Python modules\n",
    "2. Event Driven Parsers (SAX or Simple API for XML)\n",
    "    - Read the XML file and report events, such as the start and end of an element\n",
    "    - Uses less memory, no tree construction\n",
    "    - Examples: `sax` and `elementtree` Python modules"
   ]
  },
  {
   "cell_type": "markdown",
   "metadata": {},
   "source": [
    "#### A Simple Example\n",
    "\n",
    "    <book>\n",
    "        <title>Nineteen Eighty‐Four</title>\n",
    "        <author>George Orwell</author>\n",
    "        <character>Winston Smith</character>\n",
    "        <character>Julia</character>\n",
    "    </book>\n",
    "\n",
    "    import xml.etree.ElementTree as et\n",
    "    tree = et.parse(\"1984.xml\")\n",
    "\n",
    "In the example above, `tree` is an ElementTree object containing a tree of the entire XML file. ElementTree objects are iterable objects. We can iterate through these object to access individual elements. Start by accessing the root of the tree. Each element object contains three main attributes: the tag name `tag`, the text inside the tag `text`, and the tag attributes `attrib`.\n",
    "\n",
    "    root_element = tree.getroot()\n",
    "    for element in root_element:\n",
    "        print element.tag\n",
    "        print element.text\n",
    "        print element.attrib\n",
    "\n",
    "<img src=\"./images/book_tree.jpg\" align=\"left\" width=\"700\" />"
   ]
  },
  {
   "cell_type": "markdown",
   "metadata": {},
   "source": [
    "#### Another Example: `book.xml`\n",
    "\n",
    "    <book>\n",
    "\t<title>Ender's Game</title>\n",
    "\t<author>Orson Scott Card</author>\n",
    "\t<chapter>Third</chapter>\n",
    "\t<chapter>Peter</chapter>\n",
    "\t<chapter>Graff</chapter>\n",
    "    <publication_info>\n",
    "\t\t<publisher location=\"New York\">Tor Books</publisher>\n",
    "\t\t<publication_date>1985</publication_date>\n",
    "\t</publication_info>\n",
    "    </book>"
   ]
  },
  {
   "cell_type": "code",
   "execution_count": 1,
   "metadata": {
    "collapsed": false
   },
   "outputs": [
    {
     "data": {
      "text/plain": [
       "<Element 'book' at 0x103fd35d0>"
      ]
     },
     "execution_count": 1,
     "metadata": {},
     "output_type": "execute_result"
    }
   ],
   "source": [
    "import xml.etree.ElementTree as et\n",
    "tree = et.parse('./data/book.xml')\n",
    "root_element = tree.getroot()\n",
    "root_element"
   ]
  },
  {
   "cell_type": "code",
   "execution_count": 2,
   "metadata": {
    "collapsed": false
   },
   "outputs": [
    {
     "data": {
      "text/plain": [
       "[<Element 'title' at 0x103fd3510>,\n",
       " <Element 'author' at 0x103fd3550>,\n",
       " <Element 'chapter' at 0x103fd3d90>,\n",
       " <Element 'chapter' at 0x103fd3dd0>,\n",
       " <Element 'chapter' at 0x103fd3e10>,\n",
       " <Element 'publication_info' at 0x103fd3e50>]"
      ]
     },
     "execution_count": 2,
     "metadata": {},
     "output_type": "execute_result"
    }
   ],
   "source": [
    "list(root_element)"
   ]
  },
  {
   "cell_type": "code",
   "execution_count": 3,
   "metadata": {
    "collapsed": false
   },
   "outputs": [
    {
     "data": {
      "text/plain": [
       "6"
      ]
     },
     "execution_count": 3,
     "metadata": {},
     "output_type": "execute_result"
    }
   ],
   "source": [
    "len(root_element)"
   ]
  },
  {
   "cell_type": "code",
   "execution_count": 4,
   "metadata": {
    "collapsed": false
   },
   "outputs": [
    {
     "name": "stdout",
     "output_type": "stream",
     "text": [
      "title: Ender's Game\n",
      "author: Orson Scott Card\n",
      "chapter: Third\n",
      "chapter: Peter\n",
      "chapter: Graff\n",
      "publication_info: \n"
     ]
    }
   ],
   "source": [
    "for element in root_element:\n",
    "    print element.tag + \":\", element.text.strip()"
   ]
  },
  {
   "cell_type": "code",
   "execution_count": 5,
   "metadata": {
    "collapsed": false
   },
   "outputs": [
    {
     "data": {
      "text/plain": [
       "<Element 'publication_info' at 0x103fd3e50>"
      ]
     },
     "execution_count": 5,
     "metadata": {},
     "output_type": "execute_result"
    }
   ],
   "source": [
    "root_element[5]"
   ]
  },
  {
   "cell_type": "code",
   "execution_count": 6,
   "metadata": {
    "collapsed": false
   },
   "outputs": [
    {
     "data": {
      "text/plain": [
       "2"
      ]
     },
     "execution_count": 6,
     "metadata": {},
     "output_type": "execute_result"
    }
   ],
   "source": [
    "len(root_element[5])"
   ]
  },
  {
   "cell_type": "code",
   "execution_count": 7,
   "metadata": {
    "collapsed": false
   },
   "outputs": [
    {
     "data": {
      "text/plain": [
       "[<Element 'publisher' at 0x103fd3e90>,\n",
       " <Element 'publication_date' at 0x103fd3ed0>]"
      ]
     },
     "execution_count": 7,
     "metadata": {},
     "output_type": "execute_result"
    }
   ],
   "source": [
    "list(root_element[5])"
   ]
  },
  {
   "cell_type": "code",
   "execution_count": 8,
   "metadata": {
    "collapsed": false
   },
   "outputs": [
    {
     "name": "stdout",
     "output_type": "stream",
     "text": [
      "title: Ender's Game ,  {}\n",
      "author: Orson Scott Card ,  {}\n",
      "chapter: Third ,  {}\n",
      "chapter: Peter ,  {}\n",
      "chapter: Graff ,  {}\n",
      "publication_info:  ,  {}\n",
      "\tpublisher: Tor Books ,  {'location': 'New York'}\n",
      "\tpublication_date: 1985 ,  {}\n"
     ]
    }
   ],
   "source": [
    "## Each element is iterable, which allows access\n",
    "## to child elements. Here we check the length of\n",
    "## each element to get the number of children\n",
    "for element in root_element:\n",
    "    if len(element) > 0:\n",
    "        print element.tag + \":\", element.text.strip(), \", \", element.attrib\n",
    "        for child in element:\n",
    "            print \"\\t\" + child.tag + \":\", child.text.strip(), \", \", child.attrib\n",
    "    else:\n",
    "        print element.tag + \":\", element.text.strip(), \", \", element.attrib"
   ]
  },
  {
   "cell_type": "markdown",
   "metadata": {},
   "source": [
    "#### ElementTree Element Methods\n",
    "\n",
    "<table align=\"left\">\n",
    "<tr><td style=\"text-align:center\"><b>Method</b></td><td><b>Description</b></td></tr>\n",
    "<tr><td style=\"text-align:center\">`Element.iter(tag=None)`</td><td>Creates a tree iterator with the current element as root.<br />If `tag` is specified, only those elements with a tag equal to `tag` are returned by the iterator.</td></tr>\n",
    "<tr><td style=\"text-align:center\">`Element.find(tag)`</td><td>Returns the first subelement with a tag equal to `tag` or `None` if no match.</td></tr>\n",
    "<tr><td style=\"text-align:center\">`Element.findall(tag)`</td><td>Returns a list of all matching subelements.</td></tr>\n",
    "</table>"
   ]
  },
  {
   "cell_type": "code",
   "execution_count": 9,
   "metadata": {
    "collapsed": false
   },
   "outputs": [
    {
     "data": {
      "text/plain": [
       "'Orson Scott Card'"
      ]
     },
     "execution_count": 9,
     "metadata": {},
     "output_type": "execute_result"
    }
   ],
   "source": [
    "author = root_element.find(\"author\")\n",
    "author.text"
   ]
  },
  {
   "cell_type": "code",
   "execution_count": 10,
   "metadata": {
    "collapsed": false
   },
   "outputs": [
    {
     "data": {
      "text/plain": [
       "['Third', 'Peter', 'Graff']"
      ]
     },
     "execution_count": 10,
     "metadata": {},
     "output_type": "execute_result"
    }
   ],
   "source": [
    "chapters = root_element.findall(\"chapter\")\n",
    "[c.text for c in chapters]"
   ]
  },
  {
   "cell_type": "markdown",
   "metadata": {},
   "source": [
    "If the XML file is very large, you may want to use an iterator, rather than creating a tree of the entire file all at once. The `iterparse()` method implements an event-driven parser. It will return an iterator of (event, element) tuples, where event indicates the part of an element encountered (e.g. the start tag or end tag). By default, only end events are returned. Since, `iterparse()` still creates a tree in memory, you can use the `Element.clear()` method to save memory. "
   ]
  },
  {
   "cell_type": "code",
   "execution_count": 11,
   "metadata": {
    "collapsed": false
   },
   "outputs": [
    {
     "name": "stdout",
     "output_type": "stream",
     "text": [
      "end\n",
      "title: Ender's Game\n",
      "end\n",
      "author: Orson Scott Card\n",
      "end\n",
      "chapter: Third\n",
      "end\n",
      "chapter: Peter\n",
      "end\n",
      "chapter: Graff\n",
      "end\n",
      "publisher: Tor Books\n",
      "end\n",
      "publication_date: 1985\n",
      "end\n",
      "publication_info: \n",
      "end\n",
      "book: \n"
     ]
    }
   ],
   "source": [
    "iter_et = et.iterparse('./data/book.xml')\n",
    "for event, element in iter_et:\n",
    "    print event\n",
    "    print element.tag + \":\", element.text.strip()"
   ]
  },
  {
   "cell_type": "code",
   "execution_count": 12,
   "metadata": {
    "collapsed": false
   },
   "outputs": [
    {
     "name": "stdout",
     "output_type": "stream",
     "text": [
      "title: Ender's Game\n",
      "author: Orson Scott Card\n",
      "chapter: Third\n",
      "chapter: Peter\n",
      "chapter: Graff\n",
      "publisher: Tor Books\n",
      "publication_date: 1985\n",
      "publication_info: \n"
     ]
    }
   ],
   "source": [
    "## Use clear() to clear each element after processing\n",
    "## including the root element\n",
    "iter_et = et.iterparse('./data/book.xml', events=['start', 'end'])\n",
    "event, root = iter_et.next()\n",
    "for event, element in iter_et:\n",
    "    if event == \"end\" and element.tag != root.tag:\n",
    "        print element.tag + \":\", element.text.strip()\n",
    "        element.clear()\n",
    "\n",
    "root.clear()"
   ]
  },
  {
   "cell_type": "markdown",
   "metadata": {},
   "source": [
    "#### XML Namespaces\n",
    "\n",
    "XML namespaces are used to create uniquely named elements and attributes in an XML document. Since a single document may contain element names from multiple vocabularies, ambiguity can arise from the same element name used for different entity definitions. The namespace is appended to the front of tag names to create unique names. In the UniProt example shown above, the attribute `xmlns=\"http://uniprot.org/uniprot\"` specifies the UniProt namespace (in the document type declaration.\n",
    "\n",
    "A document's namespace can be extracted from the root element:"
   ]
  },
  {
   "cell_type": "code",
   "execution_count": 13,
   "metadata": {
    "collapsed": false
   },
   "outputs": [
    {
     "data": {
      "text/plain": [
       "'{http://uniprot.org/uniprot}'"
      ]
     },
     "execution_count": 13,
     "metadata": {},
     "output_type": "execute_result"
    }
   ],
   "source": [
    "## Get the XML document's namespace\n",
    "import re\n",
    "shh_tree = et.parse('./data/SHH.xml')\n",
    "shh_root = shh_tree.getroot()\n",
    "namespace = re.match(r\"{.*}\", shh_root.tag).group()\n",
    "namespace"
   ]
  },
  {
   "cell_type": "code",
   "execution_count": 14,
   "metadata": {
    "collapsed": false
   },
   "outputs": [
    {
     "data": {
      "text/plain": [
       "'SHH_HUMAN'"
      ]
     },
     "execution_count": 14,
     "metadata": {},
     "output_type": "execute_result"
    }
   ],
   "source": [
    "## Append the namespace to any element name\n",
    "## you want to find\n",
    "entry = shh_root.find(namespace+'entry')\n",
    "entry.find(namespace+'name').text"
   ]
  },
  {
   "cell_type": "code",
   "execution_count": 15,
   "metadata": {
    "collapsed": false
   },
   "outputs": [
    {
     "data": {
      "text/plain": [
       "'SHH_HUMAN'"
      ]
     },
     "execution_count": 15,
     "metadata": {},
     "output_type": "execute_result"
    }
   ],
   "source": [
    "ns = {'uniprot':'http://uniprot.org/uniprot'}\n",
    "entry = shh_root.find('uniprot:entry', ns)\n",
    "entry.find(\"uniprot:name\", ns).text"
   ]
  },
  {
   "cell_type": "markdown",
   "metadata": {},
   "source": [
    "### Writing XML\n",
    "\n",
    "#### Methods for Writing XML\n",
    "<table align=\"left\">\n",
    "<tr><td style=\"text-align:center\"><b>Method</b></td><td><b>Description</b></td></tr>\n",
    "<tr><td style=\"text-align:center\">`et.Element(tag)`</td><td>Creates an element with the specified tag. Returns an element object.</td></tr>\n",
    "<tr><td style=\"text-align:center\">`et.SubElement(element, tag)`</td><td>Creates a child element under the specified element.</td></tr>\n",
    "<tr><td style=\"text-align:center\">`Element.set(key, value)`</td><td>Sets the attributes of an element.</td></tr>\n",
    "<tr><td style=\"text-align:center\">`et.ElementTree(root)`</td><td>Returns an ElementTree object.</td></tr>\n",
    "<tr><td style=\"text-align:center\">`ElementTree.write(file)`</td><td>Writes an ElementTree object to a file.</td></tr>\n",
    "</table>"
   ]
  },
  {
   "cell_type": "code",
   "execution_count": 16,
   "metadata": {
    "collapsed": false
   },
   "outputs": [],
   "source": [
    "## Create a simple XML file\n",
    "root = et.Element(\"book\")\n",
    "title = et.SubElement(root, \"title\")\n",
    "title.text = \"Nineteen Eighty-Four\"\n",
    "author = et.SubElement(root, \"author\")\n",
    "author.text = \"George Orwell\"\n",
    "\n",
    "pub_info = et.SubElement(root, \"publication_info\")\n",
    "pub = et.SubElement(pub_info, \"publisher\")\n",
    "pub.text = \"Secker and Warburg\"\n",
    "pub.attrib = {\"location\": \"London\"}\n",
    "tree = et.ElementTree(root)\n",
    "tree.write(\"1984.xml\")"
   ]
  },
  {
   "cell_type": "code",
   "execution_count": 17,
   "metadata": {
    "collapsed": false
   },
   "outputs": [
    {
     "data": {
      "text/plain": [
       "'<book><title>Nineteen Eighty-Four</title><author>George Orwell</author><publication_info><publisher location=\"London\">Secker and Warburg</publisher></publication_info></book>'"
      ]
     },
     "execution_count": 17,
     "metadata": {},
     "output_type": "execute_result"
    }
   ],
   "source": [
    "with open('1984.xml') as fh:\n",
    "    data = fh.read()\n",
    "data"
   ]
  },
  {
   "cell_type": "markdown",
   "metadata": {},
   "source": [
    "#### Drawbacks to XML?\n",
    "\n",
    "- More difficult to parse than CSV\n",
    "- Verbose syntax means larger files"
   ]
  },
  {
   "cell_type": "markdown",
   "metadata": {},
   "source": [
    "## XML and Bioinformatics\n",
    "#### SBML (Systems Biology Markup Language)\n",
    "- Used to communicate models of biological processes (cell-signaling pathways, regulatory networks). Models can represent:\n",
    "    - Chemical Equations\n",
    "    - Cellular Components: nucleus, cytoplasm, etc.\n",
    "    - Species: genomes, proteomes, etc.\n",
    "- Supported by many applications: [http://sbml.org/SBML_Software_Guide](http://sbml.org/SBML_Software_Guide)\n",
    "- [http://www.ebi.ac.uk/biomodels-main/](http://www.ebi.ac.uk/biomodels-main/)\n",
    "\n",
    "#### KGML (KEGG Markup Language)\n",
    "- A format for KEGG pathway maps\n",
    "    - [http://www.kegg.jp/kegg/xml/](http://www.kegg.jp/kegg/xml/)\n",
    "    \n",
    "#### PDBML (Protein Databank Markup Language)\n",
    "- Describes 3D protein structure\n",
    "    - relative atomic coordinates\n",
    "    - secondary structure assignment\n",
    "    - atomic connectivity\n",
    "- [http://www.rcsb.org/pdb/home/home.do](http://www.rcsb.org/pdb/home/home.do)\n",
    "- [http://pdbml.pdb.org/](http://pdbml.pdb.org/)"
   ]
  },
  {
   "cell_type": "markdown",
   "metadata": {},
   "source": [
    "## In-Class Exercises"
   ]
  },
  {
   "cell_type": "code",
   "execution_count": null,
   "metadata": {
    "collapsed": false
   },
   "outputs": [],
   "source": [
    "## Exercise 1.\n",
    "## Extract the title and author list for the \n",
    "## first reference in SHH.xml\n"
   ]
  },
  {
   "cell_type": "markdown",
   "metadata": {},
   "source": [
    "## References"
   ]
  },
  {
   "cell_type": "markdown",
   "metadata": {},
   "source": [
    "- <u>Python Essential Reference</u>, David Beazley, 4th Edition, Addison‐Wesley (2008)\n",
    "- <u>Python for Bioinformatics</u>, Sebastian Bassi, CRC Press (2010)\n",
    "- [http://en.wikipedia.org/wiki/XML](http://en.wikipedia.org/wiki/XML)\n",
    "- [http://docs.python.org/](http://docs.python.org/)\n",
    "- [https://docs.python.org/2/library/xml.etree.elementtree.html](https://docs.python.org/2/library/xml.etree.elementtree.html)"
   ]
  },
  {
   "cell_type": "markdown",
   "metadata": {},
   "source": [
    "#### Last Updated: 21-Sep-2016"
   ]
  }
 ],
 "metadata": {
  "kernelspec": {
   "display_name": "Python [default]",
   "language": "python",
   "name": "python2"
  },
  "language_info": {
   "codemirror_mode": {
    "name": "ipython",
    "version": 2
   },
   "file_extension": ".py",
   "mimetype": "text/x-python",
   "name": "python",
   "nbconvert_exporter": "python",
   "pygments_lexer": "ipython2",
   "version": "2.7.11"
  }
 },
 "nbformat": 4,
 "nbformat_minor": 0
}
