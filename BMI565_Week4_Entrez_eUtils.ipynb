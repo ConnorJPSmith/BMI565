{
 "cells": [
  {
   "cell_type": "markdown",
   "metadata": {},
   "source": [
    "# BMI565: Bioinformatics Programming & Scripting"
   ]
  },
  {
   "cell_type": "markdown",
   "metadata": {},
   "source": [
    "#### (C) 2015 Michael Mooney (mooneymi@ohsu.edu)"
   ]
  },
  {
   "cell_type": "markdown",
   "metadata": {},
   "source": [
    "## Week 4: BioPython - Entrez E-utilities"
   ]
  },
  {
   "cell_type": "markdown",
   "metadata": {},
   "source": [
    "1. NCBI - Entrez Databases\n",
    "2. E-Utils\n",
    "    - `Entrez.esearch()`\n",
    "    - `Entrez.esummary()`\n",
    "    - `Entrez.efetch()`\n",
    "    - `Entrez.epost()`\n",
    "    - `Entrez.einfo()`"
   ]
  },
  {
   "cell_type": "markdown",
   "metadata": {},
   "source": [
    "#### Requirements\n",
    "\n",
    "- Python 2.7\n",
    "- `Bio` (BioPython) module\n",
    "- Miscellaneous Files\n",
    "    - `ncbi_ids.jpg`"
   ]
  },
  {
   "cell_type": "markdown",
   "metadata": {},
   "source": [
    "## NCBI - Entrez Databases\n",
    "\n",
    "- Global Query Cross‐Database Search System\n",
    "    - Allows metasearch of NCBI health science repository\n",
    "    - National Center for Biotechnology Information (NBCI) started GenBank in 1992\n",
    "    - [http://www.ncbi.nlm.nih.gov/gquery/](http://www.ncbi.nlm.nih.gov/gquery/)\n",
    "- E-utilities\n",
    "    - Supported by NCBI to provide a stable interface to Entrez query and database system\n",
    "    - Queries are submitted via web URLs and XML formatted data is returned\n",
    "    - The `Entrez` module from BioPython provides a programming interface to E-utils\n",
    "        - Make no more than 3 queries per second (enforced by BioPython)\n",
    "        - Queries should be accompanied by your email address\n",
    "        - For large/regular queries consider downloading and accessing a local copy of the database"
   ]
  },
  {
   "cell_type": "markdown",
   "metadata": {},
   "source": [
    "## E-Utils\n",
    "\n",
    "[http://biopython.org/DIST/docs/tutorial/Tutorial.html](http://biopython.org/DIST/docs/tutorial/Tutorial.html)\n",
    "\n",
    "### `Entrez.esearch()`\n",
    "\n",
    "[http://www.ncbi.nlm.nih.gov/books/NBK25499/#chapter4.ESearch](http://www.ncbi.nlm.nih.gov/books/NBK25499/#chapter4.ESearch)\n",
    "\n",
    "The `Entrez.esearch()` function allows you to search specific NCBI databases for entries that match a specified search term. The function will return a list of unique identifiers (UIDs). The type of UID will depend on the database searched. By default, only the first 20 records are returned (use the `retmax` parameter to change this).\n",
    "\n",
    "<img src=\"ncbi_ids.jpg\" align=\"left\"/>"
   ]
  },
  {
   "cell_type": "code",
   "execution_count": 1,
   "metadata": {
    "collapsed": false
   },
   "outputs": [],
   "source": [
    "from Bio import Entrez"
   ]
  },
  {
   "cell_type": "code",
   "execution_count": 2,
   "metadata": {
    "collapsed": false
   },
   "outputs": [
    {
     "name": "stdout",
     "output_type": "stream",
     "text": [
      "Help on function esearch in module Bio.Entrez:\n",
      "\n",
      "esearch(db, term, **keywds)\n",
      "    ESearch runs an Entrez search and returns a handle to the results.\n",
      "    \n",
      "    ESearch searches and retrieves primary IDs (for use in EFetch, ELink\n",
      "    and ESummary) and term translations, and optionally retains results\n",
      "    for future use in the user's environment.\n",
      "    \n",
      "    See the online documentation for an explanation of the parameters:\n",
      "    http://www.ncbi.nlm.nih.gov/entrez/query/static/esearch_help.html\n",
      "    \n",
      "    Return a handle to the results which are always in XML format.\n",
      "    \n",
      "    Raises an IOError exception if there's a network error.\n",
      "    \n",
      "    Short example:\n",
      "    \n",
      "    >>> from Bio import Entrez\n",
      "    >>> Entrez.email = \"Your.Name.Here@example.org\"\n",
      "    >>> handle = Entrez.esearch(db=\"nucleotide\", retmax=10, term=\"opuntia[ORGN] accD\")\n",
      "    >>> record = Entrez.read(handle)\n",
      "    >>> handle.close()\n",
      "    >>> record[\"Count\"] >= 2\n",
      "    True\n",
      "    >>> \"156535671\" in record[\"IdList\"]\n",
      "    True\n",
      "    >>> \"156535673\" in record[\"IdList\"]\n",
      "    True\n",
      "\n"
     ]
    }
   ],
   "source": [
    "help(Entrez.esearch)"
   ]
  },
  {
   "cell_type": "code",
   "execution_count": 3,
   "metadata": {
    "collapsed": false
   },
   "outputs": [
    {
     "data": {
      "text/plain": [
       "[u'Count',\n",
       " u'RetMax',\n",
       " u'IdList',\n",
       " u'TranslationStack',\n",
       " u'TranslationSet',\n",
       " u'RetStart',\n",
       " u'QueryTranslation']"
      ]
     },
     "execution_count": 3,
     "metadata": {},
     "output_type": "execute_result"
    }
   ],
   "source": [
    "## Provide your email address\n",
    "email = \"mooneymi@ohsu.edu\"\n",
    "Entrez.email = email\n",
    "\n",
    "## Submit a query\n",
    "handle = Entrez.esearch(db=\"nuccore\", term=\"sonic\")\n",
    "\n",
    "## Entrez.read() parses XML results\n",
    "## A dictionary is returned\n",
    "record = Entrez.read(handle)\n",
    "record.keys()"
   ]
  },
  {
   "cell_type": "code",
   "execution_count": 4,
   "metadata": {
    "collapsed": false
   },
   "outputs": [
    {
     "data": {
      "text/plain": [
       "['939667258', '939667253', '939658198', '938331860', '938310796', '347300277', '938015244', '835902447', '938081197', '933798749', '936695958', '936604964', '932517886', '932500857', '751098281', '161760626', '930682176', '930648224', '675737685', '931213678']"
      ]
     },
     "execution_count": 4,
     "metadata": {},
     "output_type": "execute_result"
    }
   ],
   "source": [
    "ids = record[\"IdList\"]\n",
    "ids"
   ]
  },
  {
   "cell_type": "code",
   "execution_count": 5,
   "metadata": {
    "collapsed": false
   },
   "outputs": [
    {
     "data": {
      "text/plain": [
       "'1491'"
      ]
     },
     "execution_count": 5,
     "metadata": {},
     "output_type": "execute_result"
    }
   ],
   "source": [
    "record[\"Count\"]"
   ]
  },
  {
   "cell_type": "code",
   "execution_count": 6,
   "metadata": {
    "collapsed": false
   },
   "outputs": [],
   "source": [
    "handle.close()"
   ]
  },
  {
   "cell_type": "markdown",
   "metadata": {},
   "source": [
    "### `Entrez.esummary()`\n",
    "\n",
    "The `Entrez.esummary()` function provides a document summary for a specified UID. The provided summary is useful for initial filtering of the UID list returned by `Entrez.esearch()`.\n",
    "\n",
    "#### UIDs Matter!\n",
    "\n",
    "When searching multiple databases, make sure to use the appropriate UID for the given database. \n",
    "\n",
    "For example, <b>Gene ID != GI number</b> (although both are integers)."
   ]
  },
  {
   "cell_type": "code",
   "execution_count": 7,
   "metadata": {
    "collapsed": false
   },
   "outputs": [
    {
     "data": {
      "text/plain": [
       "[{'Status': 'live', 'Comment': '  ', 'Caption': 'XM_014442447', 'Title': 'PREDICTED: Microplitis demolitor sonic hedgehog protein A (LOC103570762), transcript variant X2, mRNA', 'CreateDate': '2015/10/19', 'Extra': 'gi|939667258|ref|XM_014442447.1|[939667258]', 'TaxId': 69319, 'ReplacedBy': '', u'Item': [], 'Length': 1283, 'Flags': 512, 'UpdateDate': '2015/10/19', u'Id': '939667258', 'Gi': 939667258}]"
      ]
     },
     "execution_count": 7,
     "metadata": {},
     "output_type": "execute_result"
    }
   ],
   "source": [
    "handle = Entrez.esummary(db=\"nuccore\", id=ids[0])\n",
    "summary = Entrez.read(handle)\n",
    "summary"
   ]
  },
  {
   "cell_type": "code",
   "execution_count": 8,
   "metadata": {
    "collapsed": false
   },
   "outputs": [
    {
     "name": "stdout",
     "output_type": "stream",
     "text": [
      "Status: live\n",
      "Comment:   \n",
      "Caption: XM_014442447\n",
      "Title: PREDICTED: Microplitis demolitor sonic hedgehog protein A (LOC103570762), transcript variant X2, mRNA\n",
      "CreateDate: 2015/10/19\n",
      "Extra: gi|939667258|ref|XM_014442447.1|[939667258]\n",
      "TaxId: 69319\n",
      "ReplacedBy: \n",
      "Item: []\n",
      "Length: 1283\n",
      "Flags: 512\n",
      "UpdateDate: 2015/10/19\n",
      "Id: 939667258\n",
      "Gi: 939667258\n"
     ]
    }
   ],
   "source": [
    "for k,v in summary[0].items():\n",
    "    print k+\":\", v"
   ]
  },
  {
   "cell_type": "code",
   "execution_count": 9,
   "metadata": {
    "collapsed": false
   },
   "outputs": [],
   "source": [
    "handle.close()"
   ]
  },
  {
   "cell_type": "markdown",
   "metadata": {},
   "source": [
    "### `Entrez.efetch`\n",
    "\n",
    "The `Entrez.efetch()` function retrieves entire records in a specified format. In addition to the `database` and `id` parameters, you can specify the retrieval type `rettype` and retrieval mode `retmode` parameters. \n",
    "\n",
    "[http://www.ncbi.nlm.nih.gov/books/NBK25499/#_chapter4_EFetch_](http://www.ncbi.nlm.nih.gov/books/NBK25499/#_chapter4_EFetch_)"
   ]
  },
  {
   "cell_type": "code",
   "execution_count": 10,
   "metadata": {
    "collapsed": false
   },
   "outputs": [
    {
     "name": "stdout",
     "output_type": "stream",
     "text": [
      ">gi|939667258|ref|XM_014442447.1| PREDICTED: Microplitis demolitor sonic hedgehog protein A (LOC103570762), transcript variant X2, mRNA\n",
      "AACTCCATGGGATTTTCGTGGTACGGGAATAATATTGGCATCTTTTGAGAGATGAGTAAGGACGCGGAAT\n",
      "GCAGGGTGGCCATCGTTGGGGCAGAGAGTCGGCGAGTGACCGCACGAGAGGATCGATCGAGATTTCGATT\n",
      "GACGAAGTGGTGAACGAGAGCTGGCCAGTGTTTGAGAACAAGAATCAGAGATGTAAAGAGAGACTGAATA\n",
      "CATTAGCGATATCTGTAATGAATCAATGGCCAGGAGTTAAATTACGTGTTACCGAAGGCTGGGATGAAGA\n",
      "CGGAAAACACGCGACTGATTCACTTCATTACGAAGGACGCGCCGTCGATGTAACGACAAGTGATCGAGAT\n",
      "CGATCTAAGTATGGAATGCTCGCAAGACTCGCGATTGAAGCTGGCTTCGACTGGGTCTACTACGAATCGC\n",
      "GATCTCATATTCACTGTTCCGTTAAATCAGAATCATCATCAGTTGGAAAATCTGGTGGTTGTTTCCCAGG\n",
      "AAAAAGTAAAATCCGTACTTCCAATGGTATCCAAAAATCATTATCGGATCTCCAAGTCGGTGAGAAAATA\n",
      "GCAGCGTTAGATTCAAGAGGGAACGTTATATACAGCGAGGTCTTGGCGTTTATGGACCGTCAGCCAATGG\n",
      "AAAAACGACAGTTTATAAAACTGACGACATCATCAGGAAAACATTTGACCCTAACACCCGCACATTTGGT\n",
      "ACCCGTTAAGCAAAACGACGTAGAAACAGTTACTTTCTCTGCTCGTGTTAAAATCGGGGACCGTATCTTG\n",
      "GTCCAGGATAACATTCCGTCAACGTCATCAGCTCTGCCCGAGTCTAGATTACGCTGGGACACCGTAATCG\n",
      "AGGCTAAATTAATTCTCGATAGTGGGGTCTATGCTCCACTAACTTCCGAGGGTACTGTTTTAATTGACGA\n",
      "TGTCGTTGCATCGTGTTACGCACTCGTCGATAGTCAAACTATCGCGCACTACGCATTTATGCCATTTAGA\n",
      "TTTATTCATTCAATCCAATTGTACTTTGAAAGCATCCATACATTTATCTTCCCCCACTCGCAAAAATATA\n",
      "CCCATAGAAATAATAACAATATTAATAATAATTATAATATTAATACTAATGACATTAATGTTGAGGATGA\n",
      "GGCGGATTTCGAGCTTAGCAACGAAATCGAGCAGACCCGCGAGGACTCACAGCCTCAAGGTGTTCATTGG\n",
      "TACCCGTCATTCCTTTACAAAATATCATTATATATATTACCGTCCTCAATGATCTATTAATTAATTTAAT\n",
      "TAAGTAAATTATAAAATTTGATA\n",
      "\n",
      "\n"
     ]
    }
   ],
   "source": [
    "## Use Entrez.efetch() to get a fasta record\n",
    "handle = Entrez.efetch(db=\"nuccore\", id=ids[0], rettype=\"fasta\", retmode=\"txt\")\n",
    "\n",
    "## Here we use the handle's read() method, not Entrez.read(),\n",
    "## since the retmode parameter is text, not XML\n",
    "fasta_record = handle.read()\n",
    "print fasta_record"
   ]
  },
  {
   "cell_type": "code",
   "execution_count": 11,
   "metadata": {
    "collapsed": false
   },
   "outputs": [],
   "source": [
    "handle.close()"
   ]
  },
  {
   "cell_type": "code",
   "execution_count": 12,
   "metadata": {
    "collapsed": false
   },
   "outputs": [
    {
     "data": {
      "text/plain": [
       "[u'TSeq_accver',\n",
       " u'TSeq_sequence',\n",
       " u'TSeq_length',\n",
       " u'TSeq_taxid',\n",
       " u'TSeq_orgname',\n",
       " u'TSeq_gi',\n",
       " u'TSeq_seqtype',\n",
       " u'TSeq_defline']"
      ]
     },
     "execution_count": 12,
     "metadata": {},
     "output_type": "execute_result"
    }
   ],
   "source": [
    "## Use Entrez.efetch() to get a fasta record\n",
    "handle = Entrez.efetch(db=\"nuccore\", id=ids[0], rettype=\"fasta\", retmode=\"xml\")\n",
    "\n",
    "## Use Entrez.read() to parse XML output\n",
    "fasta_record = Entrez.read(handle)\n",
    "fasta_record[0].keys()"
   ]
  },
  {
   "cell_type": "code",
   "execution_count": 17,
   "metadata": {
    "collapsed": false
   },
   "outputs": [
    {
     "data": {
      "text/plain": [
       "'69319'"
      ]
     },
     "execution_count": 17,
     "metadata": {},
     "output_type": "execute_result"
    }
   ],
   "source": [
    "fasta_record[0]['TSeq_taxid']"
   ]
  },
  {
   "cell_type": "code",
   "execution_count": 18,
   "metadata": {
    "collapsed": false
   },
   "outputs": [],
   "source": [
    "handle.close()"
   ]
  },
  {
   "cell_type": "markdown",
   "metadata": {},
   "source": [
    "#### Downloading Records in Bulk\n",
    "\n",
    "Multiple IDs can be supplied to `Entrez.efetch()` as a comma separated list. "
   ]
  },
  {
   "cell_type": "code",
   "execution_count": 29,
   "metadata": {
    "collapsed": false
   },
   "outputs": [
    {
     "name": "stdout",
     "output_type": "stream",
     "text": [
      "939667258,939667253,939658198\n"
     ]
    }
   ],
   "source": [
    "print ','.join(ids[0:3])"
   ]
  },
  {
   "cell_type": "code",
   "execution_count": 20,
   "metadata": {
    "collapsed": false
   },
   "outputs": [
    {
     "name": "stdout",
     "output_type": "stream",
     "text": [
      ">gi|939667258|ref|XM_014442447.1| PREDICTED: Microplitis demolitor sonic hedgehog protein A (LOC103570762), transcript variant X2, mRNA\n",
      "AACTCCATGGGATTTTCGTGGTACGGGAATAATATTGGCATCTTTTGAGAGATGAGTAAGGACGCGGAAT\n",
      "GCAGGGTGGCCATCGTTGGGGCAGAGAGTCGGCGAGTGACCGCACGAGAGGATCGATCGAGATTTCGATT\n",
      "GACGAAGTGGTGAACGAGAGCTGGCCAGTGTTTGAGAACAAGAATCAGAGATGTAAAGAGAGACTGAATA\n",
      "CATTAGCGATATCTGTAATGAATCAATGGCCAGGAGTTAAATTACGTGTTACCGAAGGCTGGGATGAAGA\n",
      "CGGAAAACACGCGACTGATTCACTTCATTACGAAGGACGCGCCGTCGATGTAACGACAAGTGATCGAGAT\n",
      "CGATCTAAGTATGGAATGCTCGCAAGACTCGCGATTGAAGCTGGCTTCGACTGGGTCTACTACGAATCGC\n",
      "GATCTCATATTCACTGTTCCGTTAAATCAGAATCATCATCAGTTGGAAAATCTGGTGGTTGTTTCCCAGG\n",
      "AAAAAGTAAAATCCGTACTTCCAATGGTATCCAAAAATCATTATCGGATCTCCAAGTCGGTGAGAAAATA\n",
      "GCAGCGTTAGATTCAAGAGGGAACGTTATATACAGCGAGGTCTTGGCGTTTATGGACCGTCAGCCAATGG\n",
      "AAAAACGACAGTTTATAAAACTGACGACATCATCAGGAAAACATTTGACCCTAACACCCGCACATTTGGT\n",
      "ACCCGTTAAGCAAAACGACGTAGAAACAGTTACTTTCTCTGCTCGTGTTAAAATCGGGGACCGTATCTTG\n",
      "GTCCAGGATAACATTCCGTCAACGTCATCAGCTCTGCCCGAGTCTAGATTACGCTGGGACACCGTAATCG\n",
      "AGGCTAAATTAATTCTCGATAGTGGGGTCTATGCTCCACTAACTTCCGAGGGTACTGTTTTAATTGACGA\n",
      "TGTCGTTGCATCGTGTTACGCACTCGTCGATAGTCAAACTATCGCGCACTACGCATTTATGCCATTTAGA\n",
      "TTTATTCATTCAATCCAATTGTACTTTGAAAGCATCCATACATTTATCTTCCCCCACTCGCAAAAATATA\n",
      "CCCATAGAAATAATAACAATATTAATAATAATTATAATATTAATACTAATGACATTAATGTTGAGGATGA\n",
      "GGCGGATTTCGAGCTTAGCAACGAAATCGAGCAGACCCGCGAGGACTCACAGCCTCAAGGTGTTCATTGG\n",
      "TACCCGTCATTCCTTTACAAAATATCATTATATATATTACCGTCCTCAATGATCTATTAATTAATTTAAT\n",
      "TAAGTAAATTATAAAATTTGATA\n",
      "\n",
      ">gi|939667253|ref|XM_008548614.2| PREDICTED: Microplitis demolitor sonic hedgehog protein A (LOC103570762), transcript variant X1, mRNA\n",
      "CTCCTGGTGGGAGAAATCGCGTTAACTCTAGCCCGCATCTAAGCCTATGGTTTTCGTGTTGCTCCTCAAT\n",
      "GTCCAACGTGCATCTCTGGCTCGCAATCCGAACCCATGTCATTTCTCGGCATCTGACCGTCAGGTAAACG\n",
      "TCACTTTAAAGTTAAACAAAGTTTACTTTAAATCCGTTATTTAAAGCCCAAAGTTAATTCACAGATTAAA\n",
      "TCCCCCGACACTCCTGCCAGTGATTACTATTACTCCAAGGGATGTCTATTTATTTAAGTGACTTGTGCTG\n",
      "TTTCTATTGATTATTTTGTGTGTGTTTTCTTCTTTGTGCATTGTTTATTTATTTATTTATTTATTTATAT\n",
      "TTATATTTATATGTATATATATATATATGTATATTTAAATGTTGGTTTCAAAAGTGAATTGGTAGTGGTG\n",
      "TTAAGTATTTGTTGGAGATATTTGAACCAAGGGGTGTGATGCCCTGGTTATCATGGTTCGTCGTGAGTGA\n",
      "GGAAAGAGGTCAGAGGTGGTCGTTTTATTCGACACCTTGGCTCAGTGTGTGTTGCAGTAAATATTTAATA\n",
      "AGCCACATCAAACCCCAGTATCATCTCTCCTACAATAACTTGAATTCCCATAACGGCTACTTGGATAATT\n",
      "GTAATTGCAACTGCCCGAAAGTGGTGATTCCATCAGCCACGTGATTATGGTGCACCAAAGAGACACGGCG\n",
      "CGGCCGGTCTCGTACCTGCGTCATCATCACTATCATCACTATCACCATTGTCATCACCACCATCACCGTA\n",
      "ACAATAATTACAGTAGTTATAATAGCAATAATAATAACCAAGATGTTAACAAAAATCATCACAATGAGAA\n",
      "CCAACACGGGCGTTGTCGCACAACAAAACGTACCAGACCACCACCAAGGATATTATTGGTAATTCTGCTG\n",
      "AGCTTCTGGCTACCGGCACTGGAAAGTCCCGGGGTCCTGGCCTGTGGTCCCGGACGGGGTGGCGGCCGAC\n",
      "GACCCATTTTACGTAAATTAACCCCTTTAGTTTTCAAACAGCATGTGCCGAACGTAAGTGAAAACACATT\n",
      "GACTGCGAGTGGACTCTCCGAGGGTCGCGTTTCCCGGCATGACTCGAGGTTCCGTGATCTAGTGCCTAAT\n",
      "TACAACGCGGACATTATTTTCAAGGATGAGGAAGGCACCGGAGCCGATCGACTCATGACACAGAGATGTA\n",
      "AAGAGAGACTGAATACATTAGCGATATCTGTAATGAATCAATGGCCAGGAGTTAAATTACGTGTTACCGA\n",
      "AGGCTGGGATGAAGACGGAAAACACGCGACTGATTCACTTCATTACGAAGGACGCGCCGTCGATGTAACG\n",
      "ACAAGTGATCGAGATCGATCTAAGTATGGAATGCTCGCAAGACTCGCGATTGAAGCTGGCTTCGACTGGG\n",
      "TCTACTACGAATCGCGATCTCATATTCACTGTTCCGTTAAATCAGAATCATCATCAGTTGGAAAATCTGG\n",
      "TGGTTGTTTCCCAGGAAAAAGTAAAATCCGTACTTCCAATGGTATCCAAAAATCATTATCGGATCTCCAA\n",
      "GTCGGTGAGAAAATAGCAGCGTTAGATTCAAGAGGGAACGTTATATACAGCGAGGTCTTGGCGTTTATGG\n",
      "ACCGTCAGCCAATGGAAAAACGACAGTTTATAAAACTGACGACATCATCAGGAAAACATTTGACCCTAAC\n",
      "ACCCGCACATTTGGTACCCGTTAAGCAAAACGACGTAGAAACAGTTACTTTCTCTGCTCGTGTTAAAATC\n",
      "GGGGACCGTATCTTGGTCCAGGATAACATTCCGTCAACGTCATCAGCTCTGCCCGAGTCTAGATTACGCT\n",
      "GGGACACCGTAATCGAGGCTAAATTAATTCTCGATAGTGGGGTCTATGCTCCACTAACTTCCGAGGGTAC\n",
      "TGTTTTAATTGACGATGTCGTTGCATCGTGTTACGCACTCGTCGATAGTCAAACTATCGCGCACTACGCA\n",
      "TTTATGCCATTTAGATTTATTCATTCAATCCAATTGTACTTTGAAAGCATCCATACATTTATCTTCCCCC\n",
      "ACTCGCAAAAATATACCCATAGAAATAATAACAATATTAATAATAATTATAATATTAATACTAATGACAT\n",
      "TAATGTTGAGGATGAGGCGGATTTCGAGCTTAGCAACGAAATCGAGCAGACCCGCGAGGACTCACAGCCT\n",
      "CAAGGTGTTCATTGGTACCCGTCATTCCTTTACAAAATATCATTATATATATTACCGTCCTCAATGATCT\n",
      "ATTAATTAATTTAATTAAGTAAATTATAAAATTTGATA\n",
      "\n",
      ">gi|939658198|ref|XM_014421795.1| PREDICTED: Halyomorpha halys sonic hedgehog protein A (LOC106681471), mRNA\n",
      "TGCCGATGGGGGTAAGGTGATGTGGCTAGCTTGGCTGTTAGCTGTGAGCGTGTGCCTGATGGGGGCGGGA\n",
      "GCCTGTGGCCCGGGCCGGGGGGCCGGCAGGAGGAGGAACGCACCCCTCAGTCCTCTAGTCTTCAAGCAGC\n",
      "ACGTCCCCAATGTGAGCGAGGGCACCCTCGCCGCCAGCGGGCTCGTCGAAGGCAGGATCACCAGGGTCGA\n",
      "CAAGAGGTTCCTCGATCTTGTGCCTAACTACAATCCGGACATCATCTTCAAGGATGAGGAGGGCACCGGT\n",
      "GCGGATCGCCTCATGACACAGAGGTGCATGGAGAAACTGAACACGTTGGCTATCTCAGTGATGAACCAGT\n",
      "GGCCCGGCGTCAAGCTGCGGGTGACGGAGGGCTGGGATGAGGAGGGCTACCACGCCGTGGACTCGCTCCA\n",
      "TTACGAGGGCCGCGCCGTGGACATCACTACCAGTGACAGGGACCGCTCCAAGTACGGGATGCTAGCGAGG\n",
      "CTAGCGGTGGAAGCGGGCTTCGACTGGGTCTACTATGAGTCCAGGGCGCACATCCATTGTTCCGTTAAAT\n",
      "CAGAATCTTCTCAAGCAGCTAAGAATGGAGGATGTTTCACCGGAAACAGCACTGTTGAAGTACCTGGAGG\n",
      "AGGGAAGAAGAAACTGTCAGACTTGAAAATTGGGGACGAAGTTGCCACCTATGACAATGGCAAAATTGTT\n",
      "TATTCTGAGGTAATAATGTTCTTAGATAGGAACCCTGACAGCAGAAGGCAGTTTTTGGAGATCAATACTA\n",
      "CATCCACCAATCTGCGGGTAACTCCACAACATCTCCTCATAAGAGTAAAGAGTAATAACACATTGGAGAA\n",
      "TGTATTTGCAGCTAGGATAAAATTAGGAGATGTTCTCTTGGTTAGCTCGGATAAAGGTGAACTCCGTCAA\n",
      "GAAAAAGTTATTAATTCCAAATTAGTTCTTGATATAGGAGTATATGCTCCTTTGACTAAAACCGGAACTG\n",
      "TGATAGTTGATAGGGTTGTTGCATCTTGTTATGCAGTTATAGAAAGCCAAACCATAGCTCATTTAGCTTT\n",
      "TGCACCTATAAGATTATATGTAAATGCAAAGGAGGCTATTTCTAGGTTTTACAGCCTAGTTACATTCCGT\n",
      "CAAAGTTCTGTGCATTCTAAAGAGACTGCAGTGAAAGGAATACCTTGGTATCCTTTTTTCTTATATAAAT\n",
      "TTTCATCCTATGTTGCACCAAAATTTTTAATGTATGACACAAGTGATGTGAATGAAGTATGAAGAAAACT\n",
      "AGTTAATTAATAGTTTATATAAGATTAATCATTAGAGCCTTGTTTGGTCATTAAAGAGCTGCTGACTCCT\n",
      "CAAAATATTGTTAAATTTACCATTAATATAGTACTTGATATGAATTAGGATTCACAAAATTTTTAGAGGG\n",
      "CGAGTATATTCTTGTAGTAAAAAAAATTGACAGTTATGATTTATTAAATTAATCACTAGAACTGCAAAAT\n",
      "ATAAAAATCGAATCATAATATTTCATTAATGGAGTTGTTTTTTAAATAAATGAATTAAACCAAACAGTCC\n",
      "TTTCTCTTGGCTCTGCAAGAACGCTTATTTAAAAATTACCTAAAAGACTTAACATTTGTTACATATTTAA\n",
      "TTTATATATTTTTTATTTATAAAT\n",
      "\n",
      "\n"
     ]
    }
   ],
   "source": [
    "## Use Entrez.efetch() to get a fasta record\n",
    "handle = Entrez.efetch(db=\"nuccore\", id='939667258,939667253,939658198', rettype=\"fasta\", retmode=\"text\")\n",
    "\n",
    "## Here we use the handle's read() method, not Entrez.read(),\n",
    "## since the retmode parameter is text, not XML\n",
    "fasta_records = handle.read()\n",
    "print fasta_records"
   ]
  },
  {
   "cell_type": "code",
   "execution_count": 21,
   "metadata": {
    "collapsed": false
   },
   "outputs": [],
   "source": [
    "handle.close()"
   ]
  },
  {
   "cell_type": "markdown",
   "metadata": {},
   "source": [
    "### `Entrez.epost()`\n",
    "\n",
    "Alternatively, use the `Entrez.epost()` function to cache a large number of IDs (too many IDs can make the URL-based requests fail). This function uploads the ID list to the NCBI servers and returns a `WebEnv` value and a `QueryKey` value that can be supplied to `Entrez.efetch()` to retrieve the query results.\n",
    "\n",
    "[http://www.ncbi.nlm.nih.gov/books/NBK25499/#_chapter4_EPost_](http://www.ncbi.nlm.nih.gov/books/NBK25499/#_chapter4_EPost_)"
   ]
  },
  {
   "cell_type": "code",
   "execution_count": 22,
   "metadata": {
    "collapsed": false
   },
   "outputs": [
    {
     "name": "stdout",
     "output_type": "stream",
     "text": [
      ">gi|939667258|ref|XM_014442447.1| PREDICTED: Microplitis demolitor sonic hedgehog protein A (LOC103570762), transcript variant X2, mRNA\n",
      "AACTCCATGGGATTTTCGTGGTACGGGAATAATATTGGCATCTTTTGAGAGATGAGTAAGGACGCGGAAT\n",
      "GCAGGGTGGCCATCGTTGGGGCAGAGAGTCGGCGAGTGACCGCACGAGAGGATCGATCGAGATTTCGATT\n",
      "GACGAAGTGGTGAACGAGAGCTGGCCAGTGTTTGAGAACAAGAATCAGAGATGTAAAGAGAGACTGAATA\n",
      "CATTAGCGATATCTGTAATGAATCAATGGCCAGGAGTTAAATTACGTGTTACCGAAGGCTGGGATGAAGA\n",
      "CGGAAAACACGCGACTGATTCACTTCATTACGAAGGACGCGCCGTCGATGTAACGACAAGTGATCGAGAT\n",
      "CGATCTAAGTATGGAATGCTCGCAAGACTCGCGATTGAAGCTGGCTTCGACTGGGTCTACTACGAATCGC\n",
      "GATCTCATATTCACTGTTCCGTTAAATCAGAATCATCATCAGTTGGAAAATCTGGTGGTTGTTTCCCAGG\n",
      "AAAAAGTAAAATCCGTACTTCCAATGGTATCCAAAAATCATTATCGGATCTCCAAGTCGGTGAGAAAATA\n",
      "GCAGCGTTAGATTCAAGAGGGAACGTTATATACAGCGAGGTCTTGGCGTTTATGGACCGTCAGCCAATGG\n",
      "AAAAACGACAGTTTATAAAACTGACGACATCATCAGGAAAACATTTGACCCTAACACCCGCACATTTGGT\n",
      "ACCCGTTAAGCAAAACGACGTAGAAACAGTTACTTTCTCTGCTCGTGTTAAAATCGGGGACCGTATCTTG\n",
      "GTCCAGGATAACATTCCGTCAACGTCATCAGCTCTGCCCGAGTCTAGATTACGCTGGGACACCGTAATCG\n",
      "AGGCTAAATTAATTCTCGATAGTGGGGTCTATGCTCCACTAACTTCCGAGGGTACTGTTTTAATTGACGA\n",
      "TGTCGTTGCATCGTGTTACGCACTCGTCGATAGTCAAACTATCGCGCACTACGCATTTATGCCATTTAGA\n",
      "TTTATTCATTCAATCCAATTGTACTTTGAAAGCATCCATACATTTATCTTCCCCCACTCGCAAAAATATA\n",
      "CCCATAGAAATAATAACAATATTAATAATAATTATAATATTAATACTAATGACATTAATGTTGAGGATGA\n",
      "GGCGGATTTCGAGCTTAGCAACGAAATCGAGCAGACCCGCGAGGACTCACAGCCTCAAGGTGTTCATTGG\n",
      "TACCCGTCATTCCTTTACAAAATATCATTATATATATTACCGTCCTCAATGATCTATTAATTAATTTAAT\n",
      "TAAGTAAATTATAAAATTTGATA\n",
      "\n",
      ">gi|939667253|ref|XM_008548614.2| PREDICTED: Microplitis demolitor sonic hedgehog protein A (LOC103570762), transcript variant X1, mRNA\n",
      "CTCCTGGTGGGAGAAATCGCGTTAACTCTAGCCCGCATCTAAGCCTATGGTTTTCGTGTTGCTCCTCAAT\n",
      "GTCCAACGTGCATCTCTGGCTCGCAATCCGAACCCATGTCATTTCTCGGCATCTGACCGTCAGGTAAACG\n",
      "TCACTTTAAAGTTAAACAAAGTTTACTTTAAATCCGTTATTTAAAGCCCAAAGTTAATTCACAGATTAAA\n",
      "TCCCCCGACACTCCTGCCAGTGATTACTATTACTCCAAGGGATGTCTATTTATTTAAGTGACTTGTGCTG\n",
      "TTTCTATTGATTATTTTGTGTGTGTTTTCTTCTTTGTGCATTGTTTATTTATTTATTTATTTATTTATAT\n",
      "TTATATTTATATGTATATATATATATATGTATATTTAAATGTTGGTTTCAAAAGTGAATTGGTAGTGGTG\n",
      "TTAAGTATTTGTTGGAGATATTTGAACCAAGGGGTGTGATGCCCTGGTTATCATGGTTCGTCGTGAGTGA\n",
      "GGAAAGAGGTCAGAGGTGGTCGTTTTATTCGACACCTTGGCTCAGTGTGTGTTGCAGTAAATATTTAATA\n",
      "AGCCACATCAAACCCCAGTATCATCTCTCCTACAATAACTTGAATTCCCATAACGGCTACTTGGATAATT\n",
      "GTAATTGCAACTGCCCGAAAGTGGTGATTCCATCAGCCACGTGATTATGGTGCACCAAAGAGACACGGCG\n",
      "CGGCCGGTCTCGTACCTGCGTCATCATCACTATCATCACTATCACCATTGTCATCACCACCATCACCGTA\n",
      "ACAATAATTACAGTAGTTATAATAGCAATAATAATAACCAAGATGTTAACAAAAATCATCACAATGAGAA\n",
      "CCAACACGGGCGTTGTCGCACAACAAAACGTACCAGACCACCACCAAGGATATTATTGGTAATTCTGCTG\n",
      "AGCTTCTGGCTACCGGCACTGGAAAGTCCCGGGGTCCTGGCCTGTGGTCCCGGACGGGGTGGCGGCCGAC\n",
      "GACCCATTTTACGTAAATTAACCCCTTTAGTTTTCAAACAGCATGTGCCGAACGTAAGTGAAAACACATT\n",
      "GACTGCGAGTGGACTCTCCGAGGGTCGCGTTTCCCGGCATGACTCGAGGTTCCGTGATCTAGTGCCTAAT\n",
      "TACAACGCGGACATTATTTTCAAGGATGAGGAAGGCACCGGAGCCGATCGACTCATGACACAGAGATGTA\n",
      "AAGAGAGACTGAATACATTAGCGATATCTGTAATGAATCAATGGCCAGGAGTTAAATTACGTGTTACCGA\n",
      "AGGCTGGGATGAAGACGGAAAACACGCGACTGATTCACTTCATTACGAAGGACGCGCCGTCGATGTAACG\n",
      "ACAAGTGATCGAGATCGATCTAAGTATGGAATGCTCGCAAGACTCGCGATTGAAGCTGGCTTCGACTGGG\n",
      "TCTACTACGAATCGCGATCTCATATTCACTGTTCCGTTAAATCAGAATCATCATCAGTTGGAAAATCTGG\n",
      "TGGTTGTTTCCCAGGAAAAAGTAAAATCCGTACTTCCAATGGTATCCAAAAATCATTATCGGATCTCCAA\n",
      "GTCGGTGAGAAAATAGCAGCGTTAGATTCAAGAGGGAACGTTATATACAGCGAGGTCTTGGCGTTTATGG\n",
      "ACCGTCAGCCAATGGAAAAACGACAGTTTATAAAACTGACGACATCATCAGGAAAACATTTGACCCTAAC\n",
      "ACCCGCACATTTGGTACCCGTTAAGCAAAACGACGTAGAAACAGTTACTTTCTCTGCTCGTGTTAAAATC\n",
      "GGGGACCGTATCTTGGTCCAGGATAACATTCCGTCAACGTCATCAGCTCTGCCCGAGTCTAGATTACGCT\n",
      "GGGACACCGTAATCGAGGCTAAATTAATTCTCGATAGTGGGGTCTATGCTCCACTAACTTCCGAGGGTAC\n",
      "TGTTTTAATTGACGATGTCGTTGCATCGTGTTACGCACTCGTCGATAGTCAAACTATCGCGCACTACGCA\n",
      "TTTATGCCATTTAGATTTATTCATTCAATCCAATTGTACTTTGAAAGCATCCATACATTTATCTTCCCCC\n",
      "ACTCGCAAAAATATACCCATAGAAATAATAACAATATTAATAATAATTATAATATTAATACTAATGACAT\n",
      "TAATGTTGAGGATGAGGCGGATTTCGAGCTTAGCAACGAAATCGAGCAGACCCGCGAGGACTCACAGCCT\n",
      "CAAGGTGTTCATTGGTACCCGTCATTCCTTTACAAAATATCATTATATATATTACCGTCCTCAATGATCT\n",
      "ATTAATTAATTTAATTAAGTAAATTATAAAATTTGATA\n",
      "\n",
      ">gi|939658198|ref|XM_014421795.1| PREDICTED: Halyomorpha halys sonic hedgehog protein A (LOC106681471), mRNA\n",
      "TGCCGATGGGGGTAAGGTGATGTGGCTAGCTTGGCTGTTAGCTGTGAGCGTGTGCCTGATGGGGGCGGGA\n",
      "GCCTGTGGCCCGGGCCGGGGGGCCGGCAGGAGGAGGAACGCACCCCTCAGTCCTCTAGTCTTCAAGCAGC\n",
      "ACGTCCCCAATGTGAGCGAGGGCACCCTCGCCGCCAGCGGGCTCGTCGAAGGCAGGATCACCAGGGTCGA\n",
      "CAAGAGGTTCCTCGATCTTGTGCCTAACTACAATCCGGACATCATCTTCAAGGATGAGGAGGGCACCGGT\n",
      "GCGGATCGCCTCATGACACAGAGGTGCATGGAGAAACTGAACACGTTGGCTATCTCAGTGATGAACCAGT\n",
      "GGCCCGGCGTCAAGCTGCGGGTGACGGAGGGCTGGGATGAGGAGGGCTACCACGCCGTGGACTCGCTCCA\n",
      "TTACGAGGGCCGCGCCGTGGACATCACTACCAGTGACAGGGACCGCTCCAAGTACGGGATGCTAGCGAGG\n",
      "CTAGCGGTGGAAGCGGGCTTCGACTGGGTCTACTATGAGTCCAGGGCGCACATCCATTGTTCCGTTAAAT\n",
      "CAGAATCTTCTCAAGCAGCTAAGAATGGAGGATGTTTCACCGGAAACAGCACTGTTGAAGTACCTGGAGG\n",
      "AGGGAAGAAGAAACTGTCAGACTTGAAAATTGGGGACGAAGTTGCCACCTATGACAATGGCAAAATTGTT\n",
      "TATTCTGAGGTAATAATGTTCTTAGATAGGAACCCTGACAGCAGAAGGCAGTTTTTGGAGATCAATACTA\n",
      "CATCCACCAATCTGCGGGTAACTCCACAACATCTCCTCATAAGAGTAAAGAGTAATAACACATTGGAGAA\n",
      "TGTATTTGCAGCTAGGATAAAATTAGGAGATGTTCTCTTGGTTAGCTCGGATAAAGGTGAACTCCGTCAA\n",
      "GAAAAAGTTATTAATTCCAAATTAGTTCTTGATATAGGAGTATATGCTCCTTTGACTAAAACCGGAACTG\n",
      "TGATAGTTGATAGGGTTGTTGCATCTTGTTATGCAGTTATAGAAAGCCAAACCATAGCTCATTTAGCTTT\n",
      "TGCACCTATAAGATTATATGTAAATGCAAAGGAGGCTATTTCTAGGTTTTACAGCCTAGTTACATTCCGT\n",
      "CAAAGTTCTGTGCATTCTAAAGAGACTGCAGTGAAAGGAATACCTTGGTATCCTTTTTTCTTATATAAAT\n",
      "TTTCATCCTATGTTGCACCAAAATTTTTAATGTATGACACAAGTGATGTGAATGAAGTATGAAGAAAACT\n",
      "AGTTAATTAATAGTTTATATAAGATTAATCATTAGAGCCTTGTTTGGTCATTAAAGAGCTGCTGACTCCT\n",
      "CAAAATATTGTTAAATTTACCATTAATATAGTACTTGATATGAATTAGGATTCACAAAATTTTTAGAGGG\n",
      "CGAGTATATTCTTGTAGTAAAAAAAATTGACAGTTATGATTTATTAAATTAATCACTAGAACTGCAAAAT\n",
      "ATAAAAATCGAATCATAATATTTCATTAATGGAGTTGTTTTTTAAATAAATGAATTAAACCAAACAGTCC\n",
      "TTTCTCTTGGCTCTGCAAGAACGCTTATTTAAAAATTACCTAAAAGACTTAACATTTGTTACATATTTAA\n",
      "TTTATATATTTTTTATTTATAAAT\n",
      "\n",
      "\n"
     ]
    }
   ],
   "source": [
    "## Use Entrez.epost() to cache multiple IDs\n",
    "handle = Entrez.epost(db=\"nuccore\", id=','.join(ids[0:3]))\n",
    "epost_results = Entrez.read(handle)\n",
    "web_env = epost_results['WebEnv']\n",
    "query_key = epost_results['QueryKey']\n",
    "handle.close()\n",
    "\n",
    "## Use the WebEnv and QueryKey values to retrieve\n",
    "## the query results with Entrez.efetch()\n",
    "handle = Entrez.efetch(db=\"nuccore\", rettype=\"fasta\", retmode=\"text\", webenv=web_env, query_key=query_key)\n",
    "fasta_records = handle.read()\n",
    "print fasta_records"
   ]
  },
  {
   "cell_type": "markdown",
   "metadata": {},
   "source": [
    "### `Entrez.einfo()`\n",
    "\n",
    "The `Entrez.einfo()` function can be used to retrieve information about the structure of Entrez databases."
   ]
  },
  {
   "cell_type": "code",
   "execution_count": 23,
   "metadata": {
    "collapsed": false
   },
   "outputs": [
    {
     "name": "stdout",
     "output_type": "stream",
     "text": [
      "<?xml version=\"1.0\" encoding=\"UTF-8\"?>\n",
      "<!DOCTYPE eInfoResult PUBLIC \"-//NLM//DTD einfo 20130322//EN\" \"http://eutils.ncbi.nlm.nih.gov/eutils/dtd/20130322/einfo.dtd\">\n",
      "<eInfoResult>\n",
      "<DbList>\n",
      "\n",
      "\t<DbName>pubmed</DbName>\n",
      "\t<DbName>protein</DbName>\n",
      "\t<DbName>nuccore</DbName>\n",
      "\t<DbName>nucleotide</DbName>\n",
      "\t<DbName>nucgss</DbName>\n",
      "\t<DbName>nucest</DbName>\n",
      "\t<DbName>structure</DbName>\n",
      "\t<DbName>genome</DbName>\n",
      "\t<DbName>gpipe</DbName>\n",
      "\t<DbName>annotinfo</DbName>\n",
      "\t<DbName>assembly</DbName>\n",
      "\t<DbName>bioproject</DbName>\n",
      "\t<DbName>biosample</DbName>\n",
      "\t<DbName>blastdbinfo</DbName>\n",
      "\t<DbName>books</DbName>\n",
      "\t<DbName>cdd</DbName>\n",
      "\t<DbName>clinvar</DbName>\n",
      "\t<DbName>clone</DbName>\n",
      "\t<DbName>gap</DbName>\n",
      "\t<DbName>gapplus</DbName>\n",
      "\t<DbName>grasp</DbName>\n",
      "\t<DbName>dbvar</DbName>\n",
      "\t<DbName>epigenomics</DbName>\n",
      "\t<DbName>gene</DbName>\n",
      "\t<DbName>gds</DbName>\n",
      "\t<DbName>geoprofiles</DbName>\n",
      "\t<DbName>homologene</DbName>\n",
      "\t<DbName>medgen</DbName>\n",
      "\t<DbName>mesh</DbName>\n",
      "\t<DbName>ncbisearch</DbName>\n",
      "\t<DbName>nlmcatalog</DbName>\n",
      "\t<DbName>omim</DbName>\n",
      "\t<DbName>orgtrack</DbName>\n",
      "\t<DbName>pmc</DbName>\n",
      "\t<DbName>popset</DbName>\n",
      "\t<DbName>probe</DbName>\n",
      "\t<DbName>proteinclusters</DbName>\n",
      "\t<DbName>pcassay</DbName>\n",
      "\t<DbName>biosystems</DbName>\n",
      "\t<DbName>pccompound</DbName>\n",
      "\t<DbName>pcsubstance</DbName>\n",
      "\t<DbName>pubmedhealth</DbName>\n",
      "\t<DbName>seqannot</DbName>\n",
      "\t<DbName>snp</DbName>\n",
      "\t<DbName>sra</DbName>\n",
      "\t<DbName>taxonomy</DbName>\n",
      "\t<DbName>unigene</DbName>\n",
      "\t<DbName>gencoll</DbName>\n",
      "\t<DbName>gtr</DbName>\n",
      "</DbList>\n",
      "\n",
      "</eInfoResult>\n",
      "\n"
     ]
    }
   ],
   "source": [
    "## To list available databases\n",
    "handle = Entrez.einfo()\n",
    "result = handle.read()\n",
    "print result"
   ]
  },
  {
   "cell_type": "code",
   "execution_count": 24,
   "metadata": {
    "collapsed": false
   },
   "outputs": [],
   "source": [
    "handle.close()"
   ]
  },
  {
   "cell_type": "code",
   "execution_count": 25,
   "metadata": {
    "collapsed": false
   },
   "outputs": [
    {
     "name": "stdout",
     "output_type": "stream",
     "text": [
      "[u'DbList']\n"
     ]
    },
    {
     "data": {
      "text/plain": [
       "['pubmed', 'protein', 'nuccore', 'nucleotide', 'nucgss', 'nucest', 'structure', 'genome', 'gpipe', 'annotinfo', 'assembly', 'bioproject', 'biosample', 'blastdbinfo', 'books', 'cdd', 'clinvar', 'clone', 'gap', 'gapplus', 'grasp', 'dbvar', 'epigenomics', 'gene', 'gds', 'geoprofiles', 'homologene', 'medgen', 'mesh', 'ncbisearch', 'nlmcatalog', 'omim', 'orgtrack', 'pmc', 'popset', 'probe', 'proteinclusters', 'pcassay', 'biosystems', 'pccompound', 'pcsubstance', 'pubmedhealth', 'seqannot', 'snp', 'sra', 'taxonomy', 'unigene', 'gencoll', 'gtr']"
      ]
     },
     "execution_count": 25,
     "metadata": {},
     "output_type": "execute_result"
    }
   ],
   "source": [
    "## Or you can parse the XML\n",
    "handle = Entrez.einfo()\n",
    "result = Entrez.read(handle)\n",
    "print result.keys()\n",
    "result['DbList']"
   ]
  },
  {
   "cell_type": "code",
   "execution_count": 26,
   "metadata": {
    "collapsed": false
   },
   "outputs": [],
   "source": [
    "handle.close()"
   ]
  },
  {
   "cell_type": "markdown",
   "metadata": {},
   "source": [
    "\n",
    "\n",
    "By specifying the database name when calling `Entrez.einfo()` database field information can be retrieved."
   ]
  },
  {
   "cell_type": "code",
   "execution_count": 27,
   "metadata": {
    "collapsed": false
   },
   "outputs": [
    {
     "name": "stdout",
     "output_type": "stream",
     "text": [
      "ALL: All terms from all searchable fields\n",
      "UID: Unique number assigned to each sequence\n",
      "FILT: Limits the records\n",
      "WORD: Free text associated with record\n",
      "TITL: Words in definition line\n",
      "KYWD: Nonstandardized terms provided by submitter\n",
      "AUTH: Author(s) of publication\n",
      "JOUR: Journal abbreviation of publication\n",
      "VOL: Volume number of publication\n",
      "ISS: Issue number of publication\n",
      "PAGE: Page number(s) of publication\n",
      "ORGN: Scientific and common names of organism, and all higher levels of taxonomy\n",
      "ACCN: Accession number of sequence\n",
      "PACC: Does not include retired secondary accessions\n",
      "GENE: Name of gene associated with sequence\n",
      "PROT: Name of protein associated with sequence\n",
      "ECNO: EC number for enzyme or CAS registry number\n",
      "PDAT: Date sequence added to GenBank\n",
      "MDAT: Date of last update\n",
      "SUBS: CAS chemical name or MEDLINE Substance Name\n",
      "PROP: Classification by source qualifiers and molecule type\n",
      "SQID: String identifier for sequence\n",
      "GPRJ: BioProject\n",
      "SLEN: Length of sequence\n",
      "FKEY: Feature annotated on sequence\n",
      "PORG: Scientific and common names of primary organism, and all higher levels of taxonomy\n",
      "COMP: Component accessions for an assembly\n",
      "ASSM: Assembly\n",
      "DIV: Division\n",
      "STRN: Strain\n",
      "ISOL: Isolate\n",
      "CULT: Cultivar\n",
      "BRD: Breed\n",
      "BIOS: BioSample\n"
     ]
    }
   ],
   "source": [
    "## To get info about a specific database\n",
    "handle = Entrez.einfo(db=\"nuccore\")\n",
    "result = Entrez.read(handle)\n",
    "for field in result['DbInfo']['FieldList']:\n",
    "    print \"%(Name)s: %(Description)s\" % field"
   ]
  },
  {
   "cell_type": "code",
   "execution_count": 28,
   "metadata": {
    "collapsed": false
   },
   "outputs": [],
   "source": [
    "handle.close()"
   ]
  },
  {
   "cell_type": "markdown",
   "metadata": {},
   "source": [
    "## In-Class Exercises"
   ]
  },
  {
   "cell_type": "code",
   "execution_count": null,
   "metadata": {
    "collapsed": false
   },
   "outputs": [],
   "source": [
    "## Exercise 1.\n",
    "## Use the Entrez BioPython module to retrieve fasta records\n",
    "## for 3 Refseq mRNA sequences for the P53 gene.\n",
    "## Use the following search term: \n",
    "## \"TP53[Gene] AND Homo sapiens[Organism] AND mRNA[Filter] AND Refseq[Filter]\"\n",
    "##\n",
    "## Remember to provide your email address\n",
    "##\n"
   ]
  },
  {
   "cell_type": "code",
   "execution_count": null,
   "metadata": {
    "collapsed": false
   },
   "outputs": [],
   "source": [
    "## Exercise 2.\n",
    "## Parse the 3 fasta records and save each sequence in\n",
    "## a separate fasta file.\n",
    "##\n"
   ]
  },
  {
   "cell_type": "markdown",
   "metadata": {},
   "source": [
    "## References\n",
    "\n",
    "- Python for Bioinformatics, Sebastian Bassi, CRC Press (2010)\n",
    "- [http://en.wikipedia.org/wiki/Entrez](http://en.wikipedia.org/wiki/Entrez)\n",
    "- [http://www.ncbi.nlm.nih.gov/books/NBK1058/](http://www.ncbi.nlm.nih.gov/books/NBK1058/)\n",
    "- [http://www.ncbi.nlm.nih.gov/books/NBK25499/](http://www.ncbi.nlm.nih.gov/books/NBK25499/)\n",
    "- [http://biopython.org/DIST/docs/tutorial/Tutorial.html](http://biopython.org/DIST/docs/tutorial/Tutorial.html)\n",
    "- [http://biopython.org/DIST/docs/api/](http://biopython.org/DIST/docs/api/)"
   ]
  },
  {
   "cell_type": "markdown",
   "metadata": {},
   "source": [
    "#### Last Updated: 16-Oct-2015"
   ]
  }
 ],
 "metadata": {
  "kernelspec": {
   "display_name": "Python 2",
   "language": "python",
   "name": "python2"
  },
  "language_info": {
   "codemirror_mode": {
    "name": "ipython",
    "version": 2
   },
   "file_extension": ".py",
   "mimetype": "text/x-python",
   "name": "python",
   "nbconvert_exporter": "python",
   "pygments_lexer": "ipython2",
   "version": "2.7.3"
  }
 },
 "nbformat": 4,
 "nbformat_minor": 0
}
