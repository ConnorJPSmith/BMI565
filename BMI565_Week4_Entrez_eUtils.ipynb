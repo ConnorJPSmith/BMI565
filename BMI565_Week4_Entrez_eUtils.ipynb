{
 "cells": [
  {
   "cell_type": "markdown",
   "metadata": {},
   "source": [
    "# BMI565: Bioinformatics Programming & Scripting"
   ]
  },
  {
   "cell_type": "markdown",
   "metadata": {},
   "source": [
    "#### (C) Michael Mooney (mooneymi@ohsu.edu)"
   ]
  },
  {
   "cell_type": "markdown",
   "metadata": {},
   "source": [
    "## Week 4: BioPython - Entrez E-utilities"
   ]
  },
  {
   "cell_type": "markdown",
   "metadata": {},
   "source": [
    "1. NCBI - Entrez Databases\n",
    "2. E-Utils\n",
    "    - `Entrez.esearch()`\n",
    "    - `Entrez.esummary()`\n",
    "    - `Entrez.efetch()`\n",
    "    - `Entrez.epost()`\n",
    "    - `Entrez.einfo()`"
   ]
  },
  {
   "cell_type": "markdown",
   "metadata": {},
   "source": [
    "#### Requirements\n",
    "\n",
    "- Python 2.7\n",
    "- `Bio` (BioPython) module\n",
    "- Miscellaneous Files\n",
    "    - `./images/ncbi_ids.jpg`"
   ]
  },
  {
   "cell_type": "markdown",
   "metadata": {},
   "source": [
    "## NCBI - Entrez Databases\n",
    "\n",
    "- Global Query Cross‐Database Search System\n",
    "    - Allows metasearch of NCBI health science repository\n",
    "    - National Center for Biotechnology Information (NBCI) started GenBank in 1992\n",
    "    - [http://www.ncbi.nlm.nih.gov/gquery/](http://www.ncbi.nlm.nih.gov/gquery/)\n",
    "- E-utilities\n",
    "    - Supported by NCBI to provide a stable interface to Entrez query and database system\n",
    "    - Queries are submitted via web URLs and XML formatted data is returned\n",
    "    - The `Entrez` module from BioPython provides a programming interface to E-utils\n",
    "        - Make no more than 3 queries per second (enforced by BioPython)\n",
    "        - Queries should be accompanied by your email address\n",
    "        - For large/regular queries consider downloading and accessing a local copy of the database"
   ]
  },
  {
   "cell_type": "markdown",
   "metadata": {},
   "source": [
    "## E-Utils\n",
    "\n",
    "[http://biopython.org/DIST/docs/tutorial/Tutorial.html](http://biopython.org/DIST/docs/tutorial/Tutorial.html)\n",
    "\n",
    "### `Entrez.esearch()`\n",
    "\n",
    "[http://www.ncbi.nlm.nih.gov/books/NBK25499/#chapter4.ESearch](http://www.ncbi.nlm.nih.gov/books/NBK25499/#chapter4.ESearch)\n",
    "\n",
    "The `Entrez.esearch()` function allows you to search specific NCBI databases for entries that match a specified search term. The function will return a list of unique identifiers (UIDs). The type of UID will depend on the database searched. By default, only the first 20 records are returned (use the `retmax` parameter to change this).\n",
    "\n",
    "<img src=\"./images/ncbi_ids.jpg\" align=\"left\"/>"
   ]
  },
  {
   "cell_type": "code",
   "execution_count": 1,
   "metadata": {
    "collapsed": false
   },
   "outputs": [],
   "source": [
    "from Bio import Entrez"
   ]
  },
  {
   "cell_type": "code",
   "execution_count": 2,
   "metadata": {
    "collapsed": false
   },
   "outputs": [
    {
     "name": "stdout",
     "output_type": "stream",
     "text": [
      "Help on function esearch in module Bio.Entrez:\n",
      "\n",
      "esearch(db, term, **keywds)\n",
      "    ESearch runs an Entrez search and returns a handle to the results.\n",
      "    \n",
      "    ESearch searches and retrieves primary IDs (for use in EFetch, ELink\n",
      "    and ESummary) and term translations, and optionally retains results\n",
      "    for future use in the user's environment.\n",
      "    \n",
      "    See the online documentation for an explanation of the parameters:\n",
      "    http://www.ncbi.nlm.nih.gov/books/NBK25499/#chapter4.ESearch\n",
      "    \n",
      "    Return a handle to the results which are always in XML format.\n",
      "    \n",
      "    Raises an IOError exception if there's a network error.\n",
      "    \n",
      "    Short example:\n",
      "    \n",
      "    >>> from Bio import Entrez\n",
      "    >>> Entrez.email = \"Your.Name.Here@example.org\"\n",
      "    >>> handle = Entrez.esearch(db=\"nucleotide\", retmax=10, term=\"opuntia[ORGN] accD\")\n",
      "    >>> record = Entrez.read(handle)\n",
      "    >>> handle.close()\n",
      "    >>> record[\"Count\"] >= 2\n",
      "    True\n",
      "    >>> \"156535671\" in record[\"IdList\"]\n",
      "    True\n",
      "    >>> \"156535673\" in record[\"IdList\"]\n",
      "    True\n",
      "\n"
     ]
    }
   ],
   "source": [
    "help(Entrez.esearch)"
   ]
  },
  {
   "cell_type": "code",
   "execution_count": 3,
   "metadata": {
    "collapsed": false
   },
   "outputs": [
    {
     "data": {
      "text/plain": [
       "[u'Count',\n",
       " u'RetMax',\n",
       " u'IdList',\n",
       " u'TranslationStack',\n",
       " u'TranslationSet',\n",
       " u'RetStart',\n",
       " u'QueryTranslation']"
      ]
     },
     "execution_count": 3,
     "metadata": {},
     "output_type": "execute_result"
    }
   ],
   "source": [
    "## Provide your email address\n",
    "email = \"mooneymi@ohsu.edu\"\n",
    "Entrez.email = email\n",
    "\n",
    "## Submit a query\n",
    "handle = Entrez.esearch(db=\"nuccore\", term=\"sonic\")\n",
    "\n",
    "## Entrez.read() parses XML results\n",
    "## A dictionary is returned\n",
    "record = Entrez.read(handle)\n",
    "record.keys()"
   ]
  },
  {
   "cell_type": "code",
   "execution_count": 4,
   "metadata": {
    "collapsed": false
   },
   "outputs": [
    {
     "data": {
      "text/plain": [
       "['1069367975', '1068953341', '1068410221', '1067363796', '537544658', '523425758', '523425713', '523425712', '523425711', '343403755', '343403754', '300797327', '300797306', '300795276', '237874193', '214010161', '190343019', '90403596', '214829617', '164565443']"
      ]
     },
     "execution_count": 4,
     "metadata": {},
     "output_type": "execute_result"
    }
   ],
   "source": [
    "ids = record[\"IdList\"]\n",
    "ids"
   ]
  },
  {
   "cell_type": "code",
   "execution_count": 5,
   "metadata": {
    "collapsed": false
   },
   "outputs": [
    {
     "data": {
      "text/plain": [
       "'1654'"
      ]
     },
     "execution_count": 5,
     "metadata": {},
     "output_type": "execute_result"
    }
   ],
   "source": [
    "record[\"Count\"]"
   ]
  },
  {
   "cell_type": "code",
   "execution_count": 6,
   "metadata": {
    "collapsed": false
   },
   "outputs": [],
   "source": [
    "handle.close()"
   ]
  },
  {
   "cell_type": "markdown",
   "metadata": {},
   "source": [
    "### `Entrez.esummary()`\n",
    "\n",
    "The `Entrez.esummary()` function provides a document summary for a specified UID. The provided summary is useful for initial filtering of the UID list returned by `Entrez.esearch()`.\n",
    "\n",
    "#### UIDs Matter!\n",
    "\n",
    "When searching multiple databases, make sure to use the appropriate UID for the given database. \n",
    "\n",
    "For example, <b>Gene ID != GI number</b> (although both are integers)."
   ]
  },
  {
   "cell_type": "code",
   "execution_count": 7,
   "metadata": {
    "collapsed": false
   },
   "outputs": [
    {
     "data": {
      "text/plain": [
       "[{'Status': 'live', 'Comment': '  ', 'Caption': 'XM_018269025', 'Title': 'PREDICTED: Xenopus laevis sonic hedgehog protein-like (LOC108719826), mRNA', 'CreateDate': '2016/09/20', 'Extra': 'gi|1069367975|ref|XM_018269025.1|[1069367975]', 'TaxId': 8355, 'ReplacedBy': '', u'Item': [], 'Length': 2160, 'Flags': 512, 'UpdateDate': '2016/09/20', u'Id': '1069367975', 'Gi': 1069367975}]"
      ]
     },
     "execution_count": 7,
     "metadata": {},
     "output_type": "execute_result"
    }
   ],
   "source": [
    "handle = Entrez.esummary(db=\"nuccore\", id=ids[0])\n",
    "summary = Entrez.read(handle)\n",
    "summary"
   ]
  },
  {
   "cell_type": "code",
   "execution_count": 8,
   "metadata": {
    "collapsed": false
   },
   "outputs": [
    {
     "name": "stdout",
     "output_type": "stream",
     "text": [
      "Status: live\n",
      "Comment:   \n",
      "Caption: XM_018269025\n",
      "Title: PREDICTED: Xenopus laevis sonic hedgehog protein-like (LOC108719826), mRNA\n",
      "CreateDate: 2016/09/20\n",
      "Extra: gi|1069367975|ref|XM_018269025.1|[1069367975]\n",
      "TaxId: 8355\n",
      "ReplacedBy: \n",
      "Item: []\n",
      "Length: 2160\n",
      "Flags: 512\n",
      "UpdateDate: 2016/09/20\n",
      "Id: 1069367975\n",
      "Gi: 1069367975\n"
     ]
    }
   ],
   "source": [
    "for k,v in summary[0].items():\n",
    "    print k+\":\", v"
   ]
  },
  {
   "cell_type": "code",
   "execution_count": 9,
   "metadata": {
    "collapsed": false
   },
   "outputs": [],
   "source": [
    "handle.close()"
   ]
  },
  {
   "cell_type": "markdown",
   "metadata": {},
   "source": [
    "### `Entrez.efetch`\n",
    "\n",
    "The `Entrez.efetch()` function retrieves entire records in a specified format. In addition to the `database` and `id` parameters, you can specify the retrieval type `rettype` and retrieval mode `retmode` parameters. \n",
    "\n",
    "[http://www.ncbi.nlm.nih.gov/books/NBK25499/#_chapter4_EFetch_](http://www.ncbi.nlm.nih.gov/books/NBK25499/#_chapter4_EFetch_)"
   ]
  },
  {
   "cell_type": "code",
   "execution_count": 10,
   "metadata": {
    "collapsed": false
   },
   "outputs": [
    {
     "name": "stdout",
     "output_type": "stream",
     "text": [
      ">gi|1069367975|ref|XM_018269025.1| PREDICTED: Xenopus laevis sonic hedgehog protein-like (LOC108719826), mRNA\n",
      "CCCAGTCTCACAGGCGGCGGCAGCAGCTCCCTCCTATTGCTTCTCTGCTTCTTCTCATTTGTCCCTAATT\n",
      "ACTGTCTCCCATGTGTTCTGTGAGTGGGGAGCAGCACCCTGGACTTTGTGCCCCTGTCTTGTCTGGGGTC\n",
      "GGTGGATAGTGGGGTCGGCGGGACGGACAAGTGATCCAGCAGGACAGACACATCCTCTGAGCCTTTCATG\n",
      "TCATTGGCTTCGCTCGGACGAGATGTCGGTTGCGACTGGAATTCTGCTGTTGGGCTTCACCTGTTCCCTG\n",
      "CTGATCCCCCCCGGGTTGTCCTGTGGACCTGGCAGAGGAATTGGCAAGAGGAGACACCCCAAGAAACTCA\n",
      "CCCCTCTCGTCTACAAACAGTTTATCCCCAACGTGGCGGAGAAGACCCTGGGGGCCAGCGGCAGATACGA\n",
      "AGGAAAGATCGCGAGCAACTCGGATCGCTTTAAAGAATTGACCCCCAATTATAACCCAGATATTGTATTT\n",
      "AAAGACGAGGAGAACACGGGGGCGGACCGGCTCATGACTCAGAGATGTAAAGACAAACTGAACGCACTCG\n",
      "CAATCTCCGTGATGAACCAGTGGCCGGGGGTGAAGCTGCGGGTGACGGAGGGGTGGGATGAGGACGGGCA\n",
      "CCACTTGGAGGAGTCGTTACATTATGAGGGGAGGGCAGTGGACATCACCACGTCGGACCGGGACCGCAGT\n",
      "AAATACGGAATGTTGGCCCGACTGGCGGTGGAGGCCGGGTTCGACTGGGTCTATTACGAGTCCAAAGCTC\n",
      "ATATTCACTGTTCGGTCAAAGCAGAGAACTCAGTGGCGGCCAAGTCTGGTGGTTGTTTCCCTGCTGGTGC\n",
      "CGAGGTGATGGTGGAACTTGGTGGCACCAAAGCGGTGAAAGACCTGCGCCCGGGGGACCGCGTCCTTTCA\n",
      "TCTGACGCGCAAGGGAACCTGCTCTACAGCGACTTCCTCCTGTTCATTGACCAGCAGCATGACGTCAAGA\n",
      "AGCTCTTTTACGTCATCGAAACGTCTCATCCTCGGAGAAGAATCAGGTTGACGGCGGCCCACCTGCTTTT\n",
      "TGTGGCTCAGGTCAACGGCAGCAGGTCTTTCAAGTCTGTGTTTGCCAGCAGCATCCAACCTGGAGACATC\n",
      "ATTTATTCAGCAGATCCCAGGGCCATGGCCTTAAACGAGGTGAAGGTGGAGAAGGTTGGCCTTGAGGAGG\n",
      "ACACTGGAGCTTATGCTCCTCTAACTGCCCATGGGACTCTGGTTATAGACCAGGTGCTGTCCTCCTGCTA\n",
      "TGCACTCATTGAGGAACATACCTGGGCCCACCTGGCATTCGCCCCACTCAGGTTTGGCTTGAGCCTCTCC\n",
      "CCTTATCTCTTCCCCAAAGACTCCAGTCCTTCACCTCAATCTCACCACCAACTTGACTCCAGTCCTTCAC\n",
      "CTCAATCTCACCACCAACCTGAAGGAATCCACTGGTACTCCCAGCTCCTTTATCAACTAGGGACTTGGCT\n",
      "TCTGGACAGCAACTCCCTGCACCCCTTGGGAATGGCAACGAAATCCAGTTGAAAAATTCCACTTCATTGA\n",
      "CAATAAAGACTTTATTTTATTATTTCACTAGAACTTGTCTAAAGTAGACACTTAAAGGGAAAGAGCCCAG\n",
      "ATTTTTTTCCTTTCCTGGTTCTGTTTATTTTATTTCTCTCCCCCTTCCTTTTTTTTTTAATATTATTTTC\n",
      "GGAATTTTTTTTCGATTTCCTACTGAATATTTATTTGAATAGATGTTTAAAATGGACATTGGAGAAGCCT\n",
      "TAAATAGTTTGCTAATTTATTATCACTTATACTTTGGGAGGGGGTTGTCTTGGTGAGCCCCTCCCCCTCC\n",
      "CAAAAAAACATTCAGCAGAGTCTATTTTTCTACATGTCACTTATGTTCTAACTTTCACAAAAAATGTTTA\n",
      "AAAAACACATTTATCATGAATTTCTCCCCCACCCCTTTCATCTCCAGACAAGACCTTCCAAGGAGGTGCC\n",
      "CCCCCAGCTATTAAGTTCTCCCCCCATTTTTAGTGTTAACCTATATGTAAAACGACTTGTCTGGGCGAGG\n",
      "TTCAATAAATTATATTTTTATACCGAGAATTGTAAATTAGATTTTTGCAGAAAACAGAATGACATTTCGT\n",
      "TTTCCAAAATAGTTGTACATTACGAGAATATATTATTTTTAATTTAAAGACAGTTTCACA\n",
      "\n",
      "\n"
     ]
    }
   ],
   "source": [
    "## Use Entrez.efetch() to get a fasta record\n",
    "handle = Entrez.efetch(db=\"nuccore\", id=ids[0], rettype=\"fasta\", retmode=\"txt\")\n",
    "\n",
    "## Here we use the handle's read() method, not Entrez.read(),\n",
    "## since the retmode parameter is text, not XML\n",
    "fasta_record = handle.read()\n",
    "print fasta_record"
   ]
  },
  {
   "cell_type": "code",
   "execution_count": 11,
   "metadata": {
    "collapsed": false
   },
   "outputs": [],
   "source": [
    "handle.close()"
   ]
  },
  {
   "cell_type": "code",
   "execution_count": 12,
   "metadata": {
    "collapsed": false
   },
   "outputs": [
    {
     "data": {
      "text/plain": [
       "[u'TSeq_accver',\n",
       " u'TSeq_sequence',\n",
       " u'TSeq_length',\n",
       " u'TSeq_taxid',\n",
       " u'TSeq_orgname',\n",
       " u'TSeq_gi',\n",
       " u'TSeq_seqtype',\n",
       " u'TSeq_defline']"
      ]
     },
     "execution_count": 12,
     "metadata": {},
     "output_type": "execute_result"
    }
   ],
   "source": [
    "## Use Entrez.efetch() to get a fasta record\n",
    "handle = Entrez.efetch(db=\"nuccore\", id=ids[0], rettype=\"fasta\", retmode=\"xml\")\n",
    "\n",
    "## Use Entrez.read() to parse XML output\n",
    "fasta_record = Entrez.read(handle)\n",
    "fasta_record[0].keys()"
   ]
  },
  {
   "cell_type": "code",
   "execution_count": 13,
   "metadata": {
    "collapsed": false
   },
   "outputs": [
    {
     "data": {
      "text/plain": [
       "'8355'"
      ]
     },
     "execution_count": 13,
     "metadata": {},
     "output_type": "execute_result"
    }
   ],
   "source": [
    "fasta_record[0]['TSeq_taxid']"
   ]
  },
  {
   "cell_type": "code",
   "execution_count": 14,
   "metadata": {
    "collapsed": false
   },
   "outputs": [],
   "source": [
    "handle.close()"
   ]
  },
  {
   "cell_type": "markdown",
   "metadata": {},
   "source": [
    "#### Downloading Records in Bulk\n",
    "\n",
    "Multiple IDs can be supplied to `Entrez.efetch()` as a comma separated list. "
   ]
  },
  {
   "cell_type": "code",
   "execution_count": 15,
   "metadata": {
    "collapsed": false
   },
   "outputs": [
    {
     "name": "stdout",
     "output_type": "stream",
     "text": [
      "1069367975,1068953341,1068410221\n"
     ]
    }
   ],
   "source": [
    "print ','.join(ids[0:3])"
   ]
  },
  {
   "cell_type": "code",
   "execution_count": 16,
   "metadata": {
    "collapsed": false
   },
   "outputs": [
    {
     "name": "stdout",
     "output_type": "stream",
     "text": [
      ">gi|1069367975|ref|XM_018269025.1| PREDICTED: Xenopus laevis sonic hedgehog protein-like (LOC108719826), mRNA\n",
      "CCCAGTCTCACAGGCGGCGGCAGCAGCTCCCTCCTATTGCTTCTCTGCTTCTTCTCATTTGTCCCTAATT\n",
      "ACTGTCTCCCATGTGTTCTGTGAGTGGGGAGCAGCACCCTGGACTTTGTGCCCCTGTCTTGTCTGGGGTC\n",
      "GGTGGATAGTGGGGTCGGCGGGACGGACAAGTGATCCAGCAGGACAGACACATCCTCTGAGCCTTTCATG\n",
      "TCATTGGCTTCGCTCGGACGAGATGTCGGTTGCGACTGGAATTCTGCTGTTGGGCTTCACCTGTTCCCTG\n",
      "CTGATCCCCCCCGGGTTGTCCTGTGGACCTGGCAGAGGAATTGGCAAGAGGAGACACCCCAAGAAACTCA\n",
      "CCCCTCTCGTCTACAAACAGTTTATCCCCAACGTGGCGGAGAAGACCCTGGGGGCCAGCGGCAGATACGA\n",
      "AGGAAAGATCGCGAGCAACTCGGATCGCTTTAAAGAATTGACCCCCAATTATAACCCAGATATTGTATTT\n",
      "AAAGACGAGGAGAACACGGGGGCGGACCGGCTCATGACTCAGAGATGTAAAGACAAACTGAACGCACTCG\n",
      "CAATCTCCGTGATGAACCAGTGGCCGGGGGTGAAGCTGCGGGTGACGGAGGGGTGGGATGAGGACGGGCA\n",
      "CCACTTGGAGGAGTCGTTACATTATGAGGGGAGGGCAGTGGACATCACCACGTCGGACCGGGACCGCAGT\n",
      "AAATACGGAATGTTGGCCCGACTGGCGGTGGAGGCCGGGTTCGACTGGGTCTATTACGAGTCCAAAGCTC\n",
      "ATATTCACTGTTCGGTCAAAGCAGAGAACTCAGTGGCGGCCAAGTCTGGTGGTTGTTTCCCTGCTGGTGC\n",
      "CGAGGTGATGGTGGAACTTGGTGGCACCAAAGCGGTGAAAGACCTGCGCCCGGGGGACCGCGTCCTTTCA\n",
      "TCTGACGCGCAAGGGAACCTGCTCTACAGCGACTTCCTCCTGTTCATTGACCAGCAGCATGACGTCAAGA\n",
      "AGCTCTTTTACGTCATCGAAACGTCTCATCCTCGGAGAAGAATCAGGTTGACGGCGGCCCACCTGCTTTT\n",
      "TGTGGCTCAGGTCAACGGCAGCAGGTCTTTCAAGTCTGTGTTTGCCAGCAGCATCCAACCTGGAGACATC\n",
      "ATTTATTCAGCAGATCCCAGGGCCATGGCCTTAAACGAGGTGAAGGTGGAGAAGGTTGGCCTTGAGGAGG\n",
      "ACACTGGAGCTTATGCTCCTCTAACTGCCCATGGGACTCTGGTTATAGACCAGGTGCTGTCCTCCTGCTA\n",
      "TGCACTCATTGAGGAACATACCTGGGCCCACCTGGCATTCGCCCCACTCAGGTTTGGCTTGAGCCTCTCC\n",
      "CCTTATCTCTTCCCCAAAGACTCCAGTCCTTCACCTCAATCTCACCACCAACTTGACTCCAGTCCTTCAC\n",
      "CTCAATCTCACCACCAACCTGAAGGAATCCACTGGTACTCCCAGCTCCTTTATCAACTAGGGACTTGGCT\n",
      "TCTGGACAGCAACTCCCTGCACCCCTTGGGAATGGCAACGAAATCCAGTTGAAAAATTCCACTTCATTGA\n",
      "CAATAAAGACTTTATTTTATTATTTCACTAGAACTTGTCTAAAGTAGACACTTAAAGGGAAAGAGCCCAG\n",
      "ATTTTTTTCCTTTCCTGGTTCTGTTTATTTTATTTCTCTCCCCCTTCCTTTTTTTTTTAATATTATTTTC\n",
      "GGAATTTTTTTTCGATTTCCTACTGAATATTTATTTGAATAGATGTTTAAAATGGACATTGGAGAAGCCT\n",
      "TAAATAGTTTGCTAATTTATTATCACTTATACTTTGGGAGGGGGTTGTCTTGGTGAGCCCCTCCCCCTCC\n",
      "CAAAAAAACATTCAGCAGAGTCTATTTTTCTACATGTCACTTATGTTCTAACTTTCACAAAAAATGTTTA\n",
      "AAAAACACATTTATCATGAATTTCTCCCCCACCCCTTTCATCTCCAGACAAGACCTTCCAAGGAGGTGCC\n",
      "CCCCCAGCTATTAAGTTCTCCCCCCATTTTTAGTGTTAACCTATATGTAAAACGACTTGTCTGGGCGAGG\n",
      "TTCAATAAATTATATTTTTATACCGAGAATTGTAAATTAGATTTTTGCAGAAAACAGAATGACATTTCGT\n",
      "TTTCCAAAATAGTTGTACATTACGAGAATATATTATTTTTAATTTAAAGACAGTTTCACA\n",
      "\n",
      ">gi|1068953341|gb|GEGE00000000.1|GEGE01000000 TSA: Opsanus beta, transcriptome shotgun assembly\n",
      "\n",
      ">gi|1068410221|ref|XM_018196101.1| PREDICTED: Atta colombica sonic hedgehog protein A (LOC108689365), mRNA\n",
      "AACTCTTTCTCTTTCTTTTTCTTTCTCCCTCCCGTCACGTGCACCTGTCTTCGTTTACCTGGTAAACGCC\n",
      "CCGCCCCGGCCAATAGAGGTACAGCGGGCCTCGTGACGTCAGTCACGCGTACCAGGAGGCCCTAGGTGGA\n",
      "GGGGCGAGATCATCCACCACTACCTTTGGAGGCCACGAAAGCCTCACGGGGACCAGCCCGACCAGCAGCT\n",
      "AGCAGCAGCCAGCGGCGGTGGTCTCGCTGGCCGTTTGCCGCGGGGTGGGGGCAGGAAGAGGGGTACTCCT\n",
      "GGACCTGGTCAGACCAAAGAAACAACGCAGGAATACCCACCGAAACCCATCCTGCATTTCCCACCACCGG\n",
      "CTCGTCCGGAAAACGTGCGCTAGCTTCCGGACGTCGTTCGTCCGAGTTCAGTCAAGTGAGTCGACTCGCA\n",
      "CGTACCTTCTCTTCGACGAAAACGATTGCAGAGGGTTCCACTCCGGAAAGACGGGAGTGTTGGCTTGGCG\n",
      "CGTGTCGACGAGAATTTAAAGGGCCCAGTACCGGTAGAGAGAACGTCGATCAATCGAGGAAATTCGGCTT\n",
      "AGAATAATTCTCTGTGAGACAGCATTTAGGATGCAGAAAGATCCCTTCTCGTAAATTCTCCAATTTGGTA\n",
      "TTACGAGTTAATGATATCCCGGTGTGGTGACCGTATGTCACCTCCTTACGGTAATCAAAAGAGAAAAAAA\n",
      "GAGGATCTTTTTTCGATCCTCCTAGAGATAGTAGCCTCGCCATAGTCAATCTTCGCCGATCTGTCGATCG\n",
      "CTCGTGTTCAGATTCTCTCGGTGAATTATCATTTAGTTTTTGATCGGTCGCGCGCGGAGTTTAACAACGC\n",
      "AATACGGGGATCACATCGGTGGTAAGAGTGCGTGCACGGGGGGTGTGTGATGCCCTGGTTATGGTTAAGC\n",
      "GTGAGTGAGGTCAGTGGCAAGAGGCGGAGAAGAAGAATCGGTAGCAGAACGTCAAGCGGATTGTCACCCT\n",
      "CGTCATCGTTGTTGCTGCTGCCGCCGCCGTTGTTACCGCTGTCGTCGTCATCGTCGTTCTCCCAGCCGTT\n",
      "CTGGAGACGACGAGAGCAGTGACCGCGCAAGGTCGACCTCGAGGCAGAGGCACGCGATTATGGTGCACCA\n",
      "TTATCACCGTCGCCGCGGCCTCCAGGCGACCCACCACTATGCCATTGGGAGTCGCGTAGGCACTTCGCTC\n",
      "TTTCAGATTCTTCTGTTATTCCTCAGCCTCTGGCTGCCTGTGCTCGATAACAGTGGTTTTGCTTTGGCGT\n",
      "GCGGACCCGGCAGAGGCGCCGGCCGACGGCCGAATCTGAGGAAGCTTACTCCTCTGGTCTTCAAACAGCA\n",
      "TGTGCCAAATGTCAGCGAGAACACCTTACCGGCGAGCGGACTCAGTGAGGGACGGATTACTAGATATGAC\n",
      "CCCAGGTTCCGAGACCTGGTACCCAATTATAACACGGACATCATCTTTAAGGACGAGGAAGGCTCTGGCG\n",
      "CTGATCGTCTCATGACACAGAGGTGCAAGGAGAAACTTAACACTTTGGCGATCTCGGTGATGAACCAGTG\n",
      "GCCCGGAGTGAAACTGCGAGTTGTCGAAGGTTGGGACGAGGAAGGCATGCATGCGACAGATTCCCTGCAC\n",
      "TACGAGGGACGTGCCGTCGACGTGACGACGAGCGATCGCGATCGCTCCAAGTACGGGATGTTGGCGAGAC\n",
      "TCGCTGTCGAGGCAGGTTTCGACTGGGTTTACTATGAGTCCAGGTCGCACATACATTGCTCCGTCAAGTC\n",
      "TGAATCATCTTCAGCGGGTAAATCTGGTGGTTGCTTTCCCGGGAGGAGTCTGGTCCGAACGGAGGATGGT\n",
      "AGTACGAAGAGGTTGGACGATGTGCGTCTCGGCGACCGTATCGCCGCTGTGGACTCCCGTGGCGACGTGG\n",
      "TGTACAGCGAGGTGATCGCTTTCTTGGATCGTTCTCCATCCGAGAGGAGACAGTTCATCCGATTGACGAC\n",
      "CAAGTCTGGCCGAGTGCTCACGTTAACGCCAGCGCATTTGGTGCCAATGGAGAGTGGTTCAGTGTTTGCC\n",
      "GCCAACGTGCAACCCGGCGATAAGATCCTCGTGAGCGACGCCGATGTAGCGAGCGCGAAGAACGAAGTGG\n",
      "ATAATCGTTTGCGATGGGACAGTGTCAACGAAACGAAATTGGTCATCGAGGAAGGAGTTTACGCTCCGCT\n",
      "TACGATGGAAGGTAATCTCTTCGTAGACGACGTCGTCGCATCCTGCTACGCCATTGTCAACAGTCAGTCG\n",
      "CTAGCACATTACTCCTTCCTACCGTTAAGGATTTGGCATAGCGTGACATCCTTTTTCCTGCAAAGGTTGG\n",
      "ACGACGTAAAACACTTTGCGACAAGACATAACGATGTATCCAGAACAGAATCGACAATGAGAGGAGAGCA\n",
      "AGAGGGTATCCATTGGTACGCATCGGTGCTTTATTCACTGTCCTTCTACGTGTTACCATCGAAAATGATC\n",
      "TACAACTGA\n",
      "\n",
      "\n"
     ]
    }
   ],
   "source": [
    "## Use Entrez.efetch() to get a fasta record\n",
    "handle = Entrez.efetch(db=\"nuccore\", id='1069367975,1068953341,1068410221', rettype=\"fasta\", retmode=\"text\")\n",
    "\n",
    "## Here we use the handle's read() method, not Entrez.read(),\n",
    "## since the retmode parameter is text, not XML\n",
    "fasta_records = handle.read()\n",
    "print fasta_records"
   ]
  },
  {
   "cell_type": "code",
   "execution_count": 17,
   "metadata": {
    "collapsed": false
   },
   "outputs": [],
   "source": [
    "handle.close()"
   ]
  },
  {
   "cell_type": "markdown",
   "metadata": {},
   "source": [
    "### `Entrez.epost()`\n",
    "\n",
    "Alternatively, use the `Entrez.epost()` function to cache a large number of IDs (too many IDs can make the URL-based requests fail). This function uploads the ID list to the NCBI servers and returns a `WebEnv` value and a `QueryKey` value that can be supplied to `Entrez.efetch()` to retrieve the query results.\n",
    "\n",
    "[http://www.ncbi.nlm.nih.gov/books/NBK25499/#_chapter4_EPost_](http://www.ncbi.nlm.nih.gov/books/NBK25499/#_chapter4_EPost_)"
   ]
  },
  {
   "cell_type": "code",
   "execution_count": 18,
   "metadata": {
    "collapsed": false
   },
   "outputs": [
    {
     "name": "stdout",
     "output_type": "stream",
     "text": [
      ">gi|1069367975|ref|XM_018269025.1| PREDICTED: Xenopus laevis sonic hedgehog protein-like (LOC108719826), mRNA\n",
      "CCCAGTCTCACAGGCGGCGGCAGCAGCTCCCTCCTATTGCTTCTCTGCTTCTTCTCATTTGTCCCTAATT\n",
      "ACTGTCTCCCATGTGTTCTGTGAGTGGGGAGCAGCACCCTGGACTTTGTGCCCCTGTCTTGTCTGGGGTC\n",
      "GGTGGATAGTGGGGTCGGCGGGACGGACAAGTGATCCAGCAGGACAGACACATCCTCTGAGCCTTTCATG\n",
      "TCATTGGCTTCGCTCGGACGAGATGTCGGTTGCGACTGGAATTCTGCTGTTGGGCTTCACCTGTTCCCTG\n",
      "CTGATCCCCCCCGGGTTGTCCTGTGGACCTGGCAGAGGAATTGGCAAGAGGAGACACCCCAAGAAACTCA\n",
      "CCCCTCTCGTCTACAAACAGTTTATCCCCAACGTGGCGGAGAAGACCCTGGGGGCCAGCGGCAGATACGA\n",
      "AGGAAAGATCGCGAGCAACTCGGATCGCTTTAAAGAATTGACCCCCAATTATAACCCAGATATTGTATTT\n",
      "AAAGACGAGGAGAACACGGGGGCGGACCGGCTCATGACTCAGAGATGTAAAGACAAACTGAACGCACTCG\n",
      "CAATCTCCGTGATGAACCAGTGGCCGGGGGTGAAGCTGCGGGTGACGGAGGGGTGGGATGAGGACGGGCA\n",
      "CCACTTGGAGGAGTCGTTACATTATGAGGGGAGGGCAGTGGACATCACCACGTCGGACCGGGACCGCAGT\n",
      "AAATACGGAATGTTGGCCCGACTGGCGGTGGAGGCCGGGTTCGACTGGGTCTATTACGAGTCCAAAGCTC\n",
      "ATATTCACTGTTCGGTCAAAGCAGAGAACTCAGTGGCGGCCAAGTCTGGTGGTTGTTTCCCTGCTGGTGC\n",
      "CGAGGTGATGGTGGAACTTGGTGGCACCAAAGCGGTGAAAGACCTGCGCCCGGGGGACCGCGTCCTTTCA\n",
      "TCTGACGCGCAAGGGAACCTGCTCTACAGCGACTTCCTCCTGTTCATTGACCAGCAGCATGACGTCAAGA\n",
      "AGCTCTTTTACGTCATCGAAACGTCTCATCCTCGGAGAAGAATCAGGTTGACGGCGGCCCACCTGCTTTT\n",
      "TGTGGCTCAGGTCAACGGCAGCAGGTCTTTCAAGTCTGTGTTTGCCAGCAGCATCCAACCTGGAGACATC\n",
      "ATTTATTCAGCAGATCCCAGGGCCATGGCCTTAAACGAGGTGAAGGTGGAGAAGGTTGGCCTTGAGGAGG\n",
      "ACACTGGAGCTTATGCTCCTCTAACTGCCCATGGGACTCTGGTTATAGACCAGGTGCTGTCCTCCTGCTA\n",
      "TGCACTCATTGAGGAACATACCTGGGCCCACCTGGCATTCGCCCCACTCAGGTTTGGCTTGAGCCTCTCC\n",
      "CCTTATCTCTTCCCCAAAGACTCCAGTCCTTCACCTCAATCTCACCACCAACTTGACTCCAGTCCTTCAC\n",
      "CTCAATCTCACCACCAACCTGAAGGAATCCACTGGTACTCCCAGCTCCTTTATCAACTAGGGACTTGGCT\n",
      "TCTGGACAGCAACTCCCTGCACCCCTTGGGAATGGCAACGAAATCCAGTTGAAAAATTCCACTTCATTGA\n",
      "CAATAAAGACTTTATTTTATTATTTCACTAGAACTTGTCTAAAGTAGACACTTAAAGGGAAAGAGCCCAG\n",
      "ATTTTTTTCCTTTCCTGGTTCTGTTTATTTTATTTCTCTCCCCCTTCCTTTTTTTTTTAATATTATTTTC\n",
      "GGAATTTTTTTTCGATTTCCTACTGAATATTTATTTGAATAGATGTTTAAAATGGACATTGGAGAAGCCT\n",
      "TAAATAGTTTGCTAATTTATTATCACTTATACTTTGGGAGGGGGTTGTCTTGGTGAGCCCCTCCCCCTCC\n",
      "CAAAAAAACATTCAGCAGAGTCTATTTTTCTACATGTCACTTATGTTCTAACTTTCACAAAAAATGTTTA\n",
      "AAAAACACATTTATCATGAATTTCTCCCCCACCCCTTTCATCTCCAGACAAGACCTTCCAAGGAGGTGCC\n",
      "CCCCCAGCTATTAAGTTCTCCCCCCATTTTTAGTGTTAACCTATATGTAAAACGACTTGTCTGGGCGAGG\n",
      "TTCAATAAATTATATTTTTATACCGAGAATTGTAAATTAGATTTTTGCAGAAAACAGAATGACATTTCGT\n",
      "TTTCCAAAATAGTTGTACATTACGAGAATATATTATTTTTAATTTAAAGACAGTTTCACA\n",
      "\n",
      ">gi|1068953341|gb|GEGE00000000.1|GEGE01000000 TSA: Opsanus beta, transcriptome shotgun assembly\n",
      "\n",
      ">gi|1068410221|ref|XM_018196101.1| PREDICTED: Atta colombica sonic hedgehog protein A (LOC108689365), mRNA\n",
      "AACTCTTTCTCTTTCTTTTTCTTTCTCCCTCCCGTCACGTGCACCTGTCTTCGTTTACCTGGTAAACGCC\n",
      "CCGCCCCGGCCAATAGAGGTACAGCGGGCCTCGTGACGTCAGTCACGCGTACCAGGAGGCCCTAGGTGGA\n",
      "GGGGCGAGATCATCCACCACTACCTTTGGAGGCCACGAAAGCCTCACGGGGACCAGCCCGACCAGCAGCT\n",
      "AGCAGCAGCCAGCGGCGGTGGTCTCGCTGGCCGTTTGCCGCGGGGTGGGGGCAGGAAGAGGGGTACTCCT\n",
      "GGACCTGGTCAGACCAAAGAAACAACGCAGGAATACCCACCGAAACCCATCCTGCATTTCCCACCACCGG\n",
      "CTCGTCCGGAAAACGTGCGCTAGCTTCCGGACGTCGTTCGTCCGAGTTCAGTCAAGTGAGTCGACTCGCA\n",
      "CGTACCTTCTCTTCGACGAAAACGATTGCAGAGGGTTCCACTCCGGAAAGACGGGAGTGTTGGCTTGGCG\n",
      "CGTGTCGACGAGAATTTAAAGGGCCCAGTACCGGTAGAGAGAACGTCGATCAATCGAGGAAATTCGGCTT\n",
      "AGAATAATTCTCTGTGAGACAGCATTTAGGATGCAGAAAGATCCCTTCTCGTAAATTCTCCAATTTGGTA\n",
      "TTACGAGTTAATGATATCCCGGTGTGGTGACCGTATGTCACCTCCTTACGGTAATCAAAAGAGAAAAAAA\n",
      "GAGGATCTTTTTTCGATCCTCCTAGAGATAGTAGCCTCGCCATAGTCAATCTTCGCCGATCTGTCGATCG\n",
      "CTCGTGTTCAGATTCTCTCGGTGAATTATCATTTAGTTTTTGATCGGTCGCGCGCGGAGTTTAACAACGC\n",
      "AATACGGGGATCACATCGGTGGTAAGAGTGCGTGCACGGGGGGTGTGTGATGCCCTGGTTATGGTTAAGC\n",
      "GTGAGTGAGGTCAGTGGCAAGAGGCGGAGAAGAAGAATCGGTAGCAGAACGTCAAGCGGATTGTCACCCT\n",
      "CGTCATCGTTGTTGCTGCTGCCGCCGCCGTTGTTACCGCTGTCGTCGTCATCGTCGTTCTCCCAGCCGTT\n",
      "CTGGAGACGACGAGAGCAGTGACCGCGCAAGGTCGACCTCGAGGCAGAGGCACGCGATTATGGTGCACCA\n",
      "TTATCACCGTCGCCGCGGCCTCCAGGCGACCCACCACTATGCCATTGGGAGTCGCGTAGGCACTTCGCTC\n",
      "TTTCAGATTCTTCTGTTATTCCTCAGCCTCTGGCTGCCTGTGCTCGATAACAGTGGTTTTGCTTTGGCGT\n",
      "GCGGACCCGGCAGAGGCGCCGGCCGACGGCCGAATCTGAGGAAGCTTACTCCTCTGGTCTTCAAACAGCA\n",
      "TGTGCCAAATGTCAGCGAGAACACCTTACCGGCGAGCGGACTCAGTGAGGGACGGATTACTAGATATGAC\n",
      "CCCAGGTTCCGAGACCTGGTACCCAATTATAACACGGACATCATCTTTAAGGACGAGGAAGGCTCTGGCG\n",
      "CTGATCGTCTCATGACACAGAGGTGCAAGGAGAAACTTAACACTTTGGCGATCTCGGTGATGAACCAGTG\n",
      "GCCCGGAGTGAAACTGCGAGTTGTCGAAGGTTGGGACGAGGAAGGCATGCATGCGACAGATTCCCTGCAC\n",
      "TACGAGGGACGTGCCGTCGACGTGACGACGAGCGATCGCGATCGCTCCAAGTACGGGATGTTGGCGAGAC\n",
      "TCGCTGTCGAGGCAGGTTTCGACTGGGTTTACTATGAGTCCAGGTCGCACATACATTGCTCCGTCAAGTC\n",
      "TGAATCATCTTCAGCGGGTAAATCTGGTGGTTGCTTTCCCGGGAGGAGTCTGGTCCGAACGGAGGATGGT\n",
      "AGTACGAAGAGGTTGGACGATGTGCGTCTCGGCGACCGTATCGCCGCTGTGGACTCCCGTGGCGACGTGG\n",
      "TGTACAGCGAGGTGATCGCTTTCTTGGATCGTTCTCCATCCGAGAGGAGACAGTTCATCCGATTGACGAC\n",
      "CAAGTCTGGCCGAGTGCTCACGTTAACGCCAGCGCATTTGGTGCCAATGGAGAGTGGTTCAGTGTTTGCC\n",
      "GCCAACGTGCAACCCGGCGATAAGATCCTCGTGAGCGACGCCGATGTAGCGAGCGCGAAGAACGAAGTGG\n",
      "ATAATCGTTTGCGATGGGACAGTGTCAACGAAACGAAATTGGTCATCGAGGAAGGAGTTTACGCTCCGCT\n",
      "TACGATGGAAGGTAATCTCTTCGTAGACGACGTCGTCGCATCCTGCTACGCCATTGTCAACAGTCAGTCG\n",
      "CTAGCACATTACTCCTTCCTACCGTTAAGGATTTGGCATAGCGTGACATCCTTTTTCCTGCAAAGGTTGG\n",
      "ACGACGTAAAACACTTTGCGACAAGACATAACGATGTATCCAGAACAGAATCGACAATGAGAGGAGAGCA\n",
      "AGAGGGTATCCATTGGTACGCATCGGTGCTTTATTCACTGTCCTTCTACGTGTTACCATCGAAAATGATC\n",
      "TACAACTGA\n",
      "\n",
      "\n"
     ]
    }
   ],
   "source": [
    "## Use Entrez.epost() to cache multiple IDs\n",
    "handle = Entrez.epost(db=\"nuccore\", id=','.join(ids[0:3]))\n",
    "epost_results = Entrez.read(handle)\n",
    "web_env = epost_results['WebEnv']\n",
    "query_key = epost_results['QueryKey']\n",
    "handle.close()\n",
    "\n",
    "## Use the WebEnv and QueryKey values to retrieve\n",
    "## the query results with Entrez.efetch()\n",
    "handle = Entrez.efetch(db=\"nuccore\", rettype=\"fasta\", retmode=\"text\", webenv=web_env, query_key=query_key)\n",
    "fasta_records = handle.read()\n",
    "print fasta_records"
   ]
  },
  {
   "cell_type": "markdown",
   "metadata": {},
   "source": [
    "### `Entrez.einfo()`\n",
    "\n",
    "The `Entrez.einfo()` function can be used to retrieve information about the structure of Entrez databases."
   ]
  },
  {
   "cell_type": "code",
   "execution_count": 19,
   "metadata": {
    "collapsed": false
   },
   "outputs": [
    {
     "name": "stdout",
     "output_type": "stream",
     "text": [
      "<?xml version=\"1.0\" encoding=\"UTF-8\" ?>\n",
      "<!DOCTYPE eInfoResult PUBLIC \"-//NLM//DTD einfo 20130322//EN\" \"https://eutils.ncbi.nlm.nih.gov/eutils/dtd/20130322/einfo.dtd\">\n",
      "<eInfoResult>\n",
      "<DbList>\n",
      "\n",
      "\t<DbName>pubmed</DbName>\n",
      "\t<DbName>protein</DbName>\n",
      "\t<DbName>nuccore</DbName>\n",
      "\t<DbName>nucleotide</DbName>\n",
      "\t<DbName>nucgss</DbName>\n",
      "\t<DbName>nucest</DbName>\n",
      "\t<DbName>structure</DbName>\n",
      "\t<DbName>genome</DbName>\n",
      "\t<DbName>annotinfo</DbName>\n",
      "\t<DbName>assembly</DbName>\n",
      "\t<DbName>bioproject</DbName>\n",
      "\t<DbName>biosample</DbName>\n",
      "\t<DbName>blastdbinfo</DbName>\n",
      "\t<DbName>books</DbName>\n",
      "\t<DbName>cdd</DbName>\n",
      "\t<DbName>clinvar</DbName>\n",
      "\t<DbName>clone</DbName>\n",
      "\t<DbName>gap</DbName>\n",
      "\t<DbName>gapplus</DbName>\n",
      "\t<DbName>grasp</DbName>\n",
      "\t<DbName>dbvar</DbName>\n",
      "\t<DbName>gene</DbName>\n",
      "\t<DbName>gds</DbName>\n",
      "\t<DbName>geoprofiles</DbName>\n",
      "\t<DbName>homologene</DbName>\n",
      "\t<DbName>medgen</DbName>\n",
      "\t<DbName>mesh</DbName>\n",
      "\t<DbName>ncbisearch</DbName>\n",
      "\t<DbName>nlmcatalog</DbName>\n",
      "\t<DbName>omim</DbName>\n",
      "\t<DbName>orgtrack</DbName>\n",
      "\t<DbName>pmc</DbName>\n",
      "\t<DbName>popset</DbName>\n",
      "\t<DbName>probe</DbName>\n",
      "\t<DbName>proteinclusters</DbName>\n",
      "\t<DbName>pcassay</DbName>\n",
      "\t<DbName>biosystems</DbName>\n",
      "\t<DbName>pccompound</DbName>\n",
      "\t<DbName>pcsubstance</DbName>\n",
      "\t<DbName>pubmedhealth</DbName>\n",
      "\t<DbName>seqannot</DbName>\n",
      "\t<DbName>snp</DbName>\n",
      "\t<DbName>sra</DbName>\n",
      "\t<DbName>taxonomy</DbName>\n",
      "\t<DbName>unigene</DbName>\n",
      "\t<DbName>gencoll</DbName>\n",
      "\t<DbName>gtr</DbName>\n",
      "</DbList>\n",
      "\n",
      "</eInfoResult>\n",
      "\n"
     ]
    }
   ],
   "source": [
    "## To list available databases\n",
    "handle = Entrez.einfo()\n",
    "result = handle.read()\n",
    "print result"
   ]
  },
  {
   "cell_type": "code",
   "execution_count": 20,
   "metadata": {
    "collapsed": false
   },
   "outputs": [],
   "source": [
    "handle.close()"
   ]
  },
  {
   "cell_type": "code",
   "execution_count": 21,
   "metadata": {
    "collapsed": false
   },
   "outputs": [
    {
     "name": "stdout",
     "output_type": "stream",
     "text": [
      "[u'DbList']\n"
     ]
    },
    {
     "data": {
      "text/plain": [
       "['pubmed', 'protein', 'nuccore', 'nucleotide', 'nucgss', 'nucest', 'structure', 'genome', 'annotinfo', 'assembly', 'bioproject', 'biosample', 'blastdbinfo', 'books', 'cdd', 'clinvar', 'clone', 'gap', 'gapplus', 'grasp', 'dbvar', 'gene', 'gds', 'geoprofiles', 'homologene', 'medgen', 'mesh', 'ncbisearch', 'nlmcatalog', 'omim', 'orgtrack', 'pmc', 'popset', 'probe', 'proteinclusters', 'pcassay', 'biosystems', 'pccompound', 'pcsubstance', 'pubmedhealth', 'seqannot', 'snp', 'sra', 'taxonomy', 'unigene', 'gencoll', 'gtr']"
      ]
     },
     "execution_count": 21,
     "metadata": {},
     "output_type": "execute_result"
    }
   ],
   "source": [
    "## Or you can parse the XML\n",
    "handle = Entrez.einfo()\n",
    "result = Entrez.read(handle)\n",
    "print result.keys()\n",
    "result['DbList']"
   ]
  },
  {
   "cell_type": "code",
   "execution_count": 22,
   "metadata": {
    "collapsed": false
   },
   "outputs": [],
   "source": [
    "handle.close()"
   ]
  },
  {
   "cell_type": "markdown",
   "metadata": {},
   "source": [
    "\n",
    "\n",
    "By specifying the database name when calling `Entrez.einfo()` database field information can be retrieved."
   ]
  },
  {
   "cell_type": "code",
   "execution_count": 23,
   "metadata": {
    "collapsed": false
   },
   "outputs": [
    {
     "name": "stdout",
     "output_type": "stream",
     "text": [
      "ALL: All terms from all searchable fields\n",
      "UID: Unique number assigned to each sequence\n",
      "FILT: Limits the records\n",
      "WORD: Free text associated with record\n",
      "TITL: Words in definition line\n",
      "KYWD: Nonstandardized terms provided by submitter\n",
      "AUTH: Author(s) of publication\n",
      "JOUR: Journal abbreviation of publication\n",
      "VOL: Volume number of publication\n",
      "ISS: Issue number of publication\n",
      "PAGE: Page number(s) of publication\n",
      "ORGN: Scientific and common names of organism, and all higher levels of taxonomy\n",
      "ACCN: Accession number of sequence\n",
      "PACC: Does not include retired secondary accessions\n",
      "GENE: Name of gene associated with sequence\n",
      "PROT: Name of protein associated with sequence\n",
      "ECNO: EC number for enzyme or CAS registry number\n",
      "PDAT: Date sequence added to GenBank\n",
      "MDAT: Date of last update\n",
      "SUBS: CAS chemical name or MEDLINE Substance Name\n",
      "PROP: Classification by source qualifiers and molecule type\n",
      "SQID: String identifier for sequence\n",
      "GPRJ: BioProject\n",
      "SLEN: Length of sequence\n",
      "FKEY: Feature annotated on sequence\n",
      "PORG: Scientific and common names of primary organism, and all higher levels of taxonomy\n",
      "COMP: Component accessions for an assembly\n",
      "ASSM: Assembly\n",
      "DIV: Division\n",
      "STRN: Strain\n",
      "ISOL: Isolate\n",
      "CULT: Cultivar\n",
      "BRD: Breed\n",
      "BIOS: BioSample\n"
     ]
    }
   ],
   "source": [
    "## To get info about a specific database\n",
    "handle = Entrez.einfo(db=\"nuccore\")\n",
    "result = Entrez.read(handle)\n",
    "for field in result['DbInfo']['FieldList']:\n",
    "    print \"%(Name)s: %(Description)s\" % field"
   ]
  },
  {
   "cell_type": "code",
   "execution_count": 24,
   "metadata": {
    "collapsed": false
   },
   "outputs": [],
   "source": [
    "handle.close()"
   ]
  },
  {
   "cell_type": "markdown",
   "metadata": {},
   "source": [
    "## In-Class Exercises"
   ]
  },
  {
   "cell_type": "code",
   "execution_count": null,
   "metadata": {
    "collapsed": false
   },
   "outputs": [],
   "source": [
    "## Exercise 1.\n",
    "## Use the Entrez BioPython module to retrieve fasta records\n",
    "## for 3 Refseq mRNA sequences for the P53 gene.\n",
    "## Use the following search term: \n",
    "## \"TP53[Gene] AND Homo sapiens[Organism] AND mRNA[Filter] AND Refseq[Filter]\"\n",
    "##\n",
    "## Remember to provide your email address\n",
    "##\n"
   ]
  },
  {
   "cell_type": "code",
   "execution_count": null,
   "metadata": {
    "collapsed": false
   },
   "outputs": [],
   "source": [
    "## Exercise 2.\n",
    "## Parse the 3 fasta records and save each sequence in\n",
    "## a separate fasta file.\n",
    "##\n"
   ]
  },
  {
   "cell_type": "markdown",
   "metadata": {},
   "source": [
    "## References\n",
    "\n",
    "- Python for Bioinformatics, Sebastian Bassi, CRC Press (2010)\n",
    "- [http://en.wikipedia.org/wiki/Entrez](http://en.wikipedia.org/wiki/Entrez)\n",
    "- [http://www.ncbi.nlm.nih.gov/books/NBK1058/](http://www.ncbi.nlm.nih.gov/books/NBK1058/)\n",
    "- [http://www.ncbi.nlm.nih.gov/books/NBK25499/](http://www.ncbi.nlm.nih.gov/books/NBK25499/)\n",
    "- [http://biopython.org/DIST/docs/tutorial/Tutorial.html](http://biopython.org/DIST/docs/tutorial/Tutorial.html)\n",
    "- [http://biopython.org/DIST/docs/api/](http://biopython.org/DIST/docs/api/)"
   ]
  },
  {
   "cell_type": "markdown",
   "metadata": {},
   "source": [
    "#### Last Updated: 21-Sep-2016"
   ]
  }
 ],
 "metadata": {
  "anaconda-cloud": {},
  "kernelspec": {
   "display_name": "Python [default]",
   "language": "python",
   "name": "python2"
  },
  "language_info": {
   "codemirror_mode": {
    "name": "ipython",
    "version": 2
   },
   "file_extension": ".py",
   "mimetype": "text/x-python",
   "name": "python",
   "nbconvert_exporter": "python",
   "pygments_lexer": "ipython2",
   "version": "2.7.11"
  }
 },
 "nbformat": 4,
 "nbformat_minor": 0
}
