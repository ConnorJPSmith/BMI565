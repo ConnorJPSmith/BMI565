{
 "cells": [
  {
   "cell_type": "markdown",
   "metadata": {},
   "source": [
    "# BMI565: Bioinformatics Programming & Scripting\n"
   ]
  },
  {
   "cell_type": "markdown",
   "metadata": {},
   "source": [
    "## Week 4: HTML and Web Scraping\n",
    "\n",
    "** * Thanks to Ryan Swan for these materials.**"
   ]
  },
  {
   "cell_type": "markdown",
   "metadata": {},
   "source": [
    "1. HTML\n",
    "    * Organization of HTML files\n",
    "2. LXML Package\n",
    "    * HTML as a tree structure\n",
    "    * XPath queries\n",
    "    * Element objects\n",
    "    * HTML tag attributes\n",
    "3. Beautiful Soup\n",
    "    * Soup objects and methods\n",
    "    * Using tag attributes with BeautifulSoup\n",
    "4. The Web Developers Console\n",
    "5. A note about APIs and `robots.txt`\n",
    "\n",
    "#### Requirements\n",
    "\n",
    "1. Python 2.7\n",
    "2. `lxml` module\n",
    "3. `urllib` module\n",
    "4. `BeautifulSoup (beautifulsoup4)` module\n",
    "5. `io` module\n",
    "\n",
    "The first three modules should be included in the current Anaconda distribution. `io` is included as part of the base python distribution."
   ]
  },
  {
   "cell_type": "markdown",
   "metadata": {},
   "source": [
    "## HTML\n",
    "\n",
    "Just like anything else on a computer, the internet is made up of code. At the computer level, most pages look about like this:"
   ]
  },
  {
   "cell_type": "markdown",
   "metadata": {},
   "source": [
    "    <html>\n",
    "    <head>\n",
    "        <title>Hey look, a webpage!</title>\n",
    "    </head>\n",
    "    <body>\n",
    "        <p>webpage goes here</p>\n",
    "    </body>\n",
    "    </html>"
   ]
  },
  {
   "cell_type": "markdown",
   "metadata": {},
   "source": [
    "Granted, most pages are much more complicated, but this page will run just fine on a standard browser if loaded.\n",
    "\n",
    "Hypertext Markup Language (HTML) is the basis for most pages that are served on the internet. Like other markup languages, it's primarily concerned with telling you how to display a document, with an emphasis on formatting and annotation.\n",
    "\n",
    "HTML is actually very similar to XML (Extensible Markup Language), with the caveat that it also contains presentation semantics, which are attributes that specify how information is meant to be displayed or arranged on a screen. But overall, the nested format is almost exactly like an XML document, and because of that, we can extract information from a standard HTML page exactly the same way we would from an XML document."
   ]
  },
  {
   "cell_type": "markdown",
   "metadata": {},
   "source": [
    "## LXML package\n",
    "\n",
    "The LXML package for Python contains methods to read HTML pages like a tree structure. It uses a querying syntax called XML Path Language (XPath) to parse the tree structure and return relevent information from the document.\n",
    "\n",
    "Before we get started, it helps to have an idea of some of the ways that HTML arranges documents. Most scrapable HTML data is contained in tables like the one at http://www.bioinformatics.org/sms/iupac.html. HTML tables are arranged in the following format:"
   ]
  },
  {
   "cell_type": "markdown",
   "metadata": {},
   "source": [
    "    <table>\n",
    "        <tr>\n",
    "            <td></td>\n",
    "            <td></td>\n",
    "            <td></td>\n",
    "            ...\n",
    "        </tr>\n",
    "        <tr>\n",
    "            ...\n",
    "        </tr>\n",
    "    </table>"
   ]
  },
  {
   "cell_type": "markdown",
   "metadata": {},
   "source": [
    "This general format specifies table rows and table dividers, where each divider is a different column. The data in the table is contained inside each of the nested <td></td> tag pairs. \n",
    "\n",
    "XPath querying allows us to find specific kinds of elements and their contents. For example:"
   ]
  },
  {
   "cell_type": "code",
   "execution_count": 1,
   "metadata": {
    "collapsed": true
   },
   "outputs": [],
   "source": [
    "from lxml import etree\n",
    "from urllib import urlopen # lets us open files from web addresses\n",
    "from io import StringIO # This will help us deal with string inputs\n",
    "\n",
    "## Get the code from the url\n",
    "html = urlopen(\"http://www.bioinformatics.org/sms/iupac.html\").read()\n",
    "\n",
    "## First we have some housekeeping. StringIO wants to see a unicode string, \n",
    "## so we have to change the encoding on our html so it can be read.\n",
    "\n",
    "html = html.decode('utf-8')\n",
    "\n",
    "## Next we have to create a parser that will read the info from the HTML \n",
    "## file and tell it what kind of data it will be receiving\n",
    "\n",
    "parser = etree.HTMLParser()\n",
    "tree = etree.parse(StringIO(html),parser)"
   ]
  },
  {
   "cell_type": "markdown",
   "metadata": {},
   "source": [
    "We now have the webpage represented as a tree of data, just like an XML object. We can do all sorts of things now.\n",
    "\n",
    "We can print the entire tree structure to the screen:"
   ]
  },
  {
   "cell_type": "code",
   "execution_count": 2,
   "metadata": {
    "collapsed": false
   },
   "outputs": [
    {
     "name": "stdout",
     "output_type": "stream",
     "text": [
      "\t<Element head at 0x106825440>\n",
      "\t\t<Element meta at 0x106825560>\n",
      "\t\t<Element meta at 0x106825518>\n",
      "\t\t<Element meta at 0x1068255a8>\n",
      "\t\t<Element title at 0x106825560>\n",
      "\t<Element body at 0x1068254d0>\n",
      "\t\t<Element table at 0x106825560>\n",
      "\t\t\t<Element tr at 0x1068255a8>\n",
      "\t\t\t\t<Element td at 0x1068255f0>\n",
      "\t\t\t\t\t<Element font at 0x106825680>\n",
      "\t\t\t\t<Element td at 0x106825638>\n",
      "\t\t\t\t\t<Element font at 0x1068255f0>\n",
      "\t\t\t<Element tr at 0x106825518>\n",
      "\t\t\t\t<Element td at 0x1068255a8>\n",
      "\t\t\t\t<Element td at 0x106825710>\n",
      "\t\t\t<Element tr at 0x106825638>\n",
      "\t\t\t\t<Element td at 0x106825518>\n",
      "\t\t\t\t<Element td at 0x1068255a8>\n",
      "\t\t\t<Element tr at 0x106825710>\n",
      "\t\t\t\t<Element td at 0x106825638>\n",
      "\t\t\t\t<Element td at 0x106825518>\n",
      "\t\t\t<Element tr at 0x1068255a8>\n",
      "\t\t\t\t<Element td at 0x106825710>\n",
      "\t\t\t\t<Element td at 0x106825638>\n",
      "\t\t\t<Element tr at 0x106825518>\n",
      "\t\t\t\t<Element td at 0x1068255a8>\n",
      "\t\t\t\t<Element td at 0x106825710>\n",
      "\t\t\t<Element tr at 0x106825638>\n",
      "\t\t\t\t<Element td at 0x106825518>\n",
      "\t\t\t\t<Element td at 0x1068255a8>\n",
      "\t\t\t<Element tr at 0x106825710>\n",
      "\t\t\t\t<Element td at 0x106825638>\n",
      "\t\t\t\t<Element td at 0x106825518>\n",
      "\t\t\t<Element tr at 0x1068255a8>\n",
      "\t\t\t\t<Element td at 0x106825710>\n",
      "\t\t\t\t<Element td at 0x106825638>\n",
      "\t\t\t<Element tr at 0x106825518>\n",
      "\t\t\t\t<Element td at 0x1068255a8>\n",
      "\t\t\t\t<Element td at 0x106825710>\n",
      "\t\t\t<Element tr at 0x106825638>\n",
      "\t\t\t\t<Element td at 0x106825518>\n",
      "\t\t\t\t<Element td at 0x1068255a8>\n",
      "\t\t\t<Element tr at 0x106825710>\n",
      "\t\t\t\t<Element td at 0x106825638>\n",
      "\t\t\t\t<Element td at 0x106825518>\n",
      "\t\t\t<Element tr at 0x1068255a8>\n",
      "\t\t\t\t<Element td at 0x106825710>\n",
      "\t\t\t\t<Element td at 0x106825638>\n",
      "\t\t\t<Element tr at 0x106825518>\n",
      "\t\t\t\t<Element td at 0x1068255a8>\n",
      "\t\t\t\t<Element td at 0x106825710>\n",
      "\t\t\t<Element tr at 0x106825638>\n",
      "\t\t\t\t<Element td at 0x106825518>\n",
      "\t\t\t\t<Element td at 0x1068255a8>\n",
      "\t\t\t<Element tr at 0x106825710>\n",
      "\t\t\t\t<Element td at 0x106825638>\n",
      "\t\t\t\t<Element td at 0x106825518>\n",
      "\t\t\t<Element tr at 0x1068255a8>\n",
      "\t\t\t\t<Element td at 0x106825710>\n",
      "\t\t\t\t<Element td at 0x106825518>\n",
      "\t\t<Element br at 0x106825440>\n",
      "\t\t<Element table at 0x1068255a8>\n",
      "\t\t\t<Element tr at 0x106825710>\n",
      "\t\t\t\t<Element td at 0x106825560>\n",
      "\t\t\t\t\t<Element font at 0x1068255f0>\n",
      "\t\t\t\t<Element td at 0x106825518>\n",
      "\t\t\t\t\t<Element font at 0x106825560>\n",
      "\t\t\t\t<Element td at 0x1068255f0>\n",
      "\t\t\t\t\t<Element font at 0x106825518>\n",
      "\t\t\t<Element tr at 0x106825440>\n",
      "\t\t\t\t<Element td at 0x106825710>\n",
      "\t\t\t\t<Element td at 0x106825638>\n",
      "\t\t\t\t<Element td at 0x106825560>\n",
      "\t\t\t<Element tr at 0x1068255f0>\n",
      "\t\t\t\t<Element td at 0x106825440>\n",
      "\t\t\t\t<Element td at 0x106825638>\n",
      "\t\t\t\t<Element td at 0x106825710>\n",
      "\t\t\t<Element tr at 0x106825560>\n",
      "\t\t\t\t<Element td at 0x1068255f0>\n",
      "\t\t\t\t<Element td at 0x106825638>\n",
      "\t\t\t\t<Element td at 0x106825440>\n",
      "\t\t\t<Element tr at 0x106825710>\n",
      "\t\t\t\t<Element td at 0x106825560>\n",
      "\t\t\t\t<Element td at 0x106825638>\n",
      "\t\t\t\t<Element td at 0x1068255f0>\n",
      "\t\t\t<Element tr at 0x106825440>\n",
      "\t\t\t\t<Element td at 0x106825710>\n",
      "\t\t\t\t<Element td at 0x106825638>\n",
      "\t\t\t\t<Element td at 0x106825560>\n",
      "\t\t\t<Element tr at 0x1068255f0>\n",
      "\t\t\t\t<Element td at 0x106825440>\n",
      "\t\t\t\t<Element td at 0x106825638>\n",
      "\t\t\t\t<Element td at 0x106825710>\n",
      "\t\t\t<Element tr at 0x106825560>\n",
      "\t\t\t\t<Element td at 0x1068255f0>\n",
      "\t\t\t\t<Element td at 0x106825638>\n",
      "\t\t\t\t<Element td at 0x106825440>\n",
      "\t\t\t<Element tr at 0x106825710>\n",
      "\t\t\t\t<Element td at 0x106825560>\n",
      "\t\t\t\t<Element td at 0x106825638>\n",
      "\t\t\t\t<Element td at 0x1068255f0>\n",
      "\t\t\t<Element tr at 0x106825440>\n",
      "\t\t\t\t<Element td at 0x106825710>\n",
      "\t\t\t\t<Element td at 0x106825638>\n",
      "\t\t\t\t<Element td at 0x106825680>\n",
      "\t\t\t<Element tr at 0x1068255f0>\n",
      "\t\t\t\t<Element td at 0x106825440>\n",
      "\t\t\t\t<Element td at 0x106825638>\n",
      "\t\t\t\t<Element td at 0x106825710>\n",
      "\t\t\t<Element tr at 0x106825680>\n",
      "\t\t\t\t<Element td at 0x1068255f0>\n",
      "\t\t\t\t<Element td at 0x106825638>\n",
      "\t\t\t\t<Element td at 0x106825440>\n",
      "\t\t\t<Element tr at 0x106825710>\n",
      "\t\t\t\t<Element td at 0x106825680>\n",
      "\t\t\t\t<Element td at 0x106825638>\n",
      "\t\t\t\t<Element td at 0x1068255f0>\n",
      "\t\t\t<Element tr at 0x106825440>\n",
      "\t\t\t\t<Element td at 0x106825710>\n",
      "\t\t\t\t<Element td at 0x106825638>\n",
      "\t\t\t\t<Element td at 0x106825680>\n",
      "\t\t\t<Element tr at 0x1068255f0>\n",
      "\t\t\t\t<Element td at 0x106825440>\n",
      "\t\t\t\t<Element td at 0x106825638>\n",
      "\t\t\t\t<Element td at 0x106825710>\n",
      "\t\t\t<Element tr at 0x106825680>\n",
      "\t\t\t\t<Element td at 0x1068255f0>\n",
      "\t\t\t\t<Element td at 0x106825638>\n",
      "\t\t\t\t<Element td at 0x106825440>\n",
      "\t\t\t<Element tr at 0x106825710>\n",
      "\t\t\t\t<Element td at 0x106825680>\n",
      "\t\t\t\t<Element td at 0x106825638>\n",
      "\t\t\t\t<Element td at 0x1068255f0>\n",
      "\t\t\t<Element tr at 0x106825440>\n",
      "\t\t\t\t<Element td at 0x106825710>\n",
      "\t\t\t\t<Element td at 0x106825638>\n",
      "\t\t\t\t<Element td at 0x106825680>\n",
      "\t\t\t<Element tr at 0x1068255f0>\n",
      "\t\t\t\t<Element td at 0x106825440>\n",
      "\t\t\t\t<Element td at 0x106825638>\n",
      "\t\t\t\t<Element td at 0x106825710>\n",
      "\t\t\t<Element tr at 0x106825680>\n",
      "\t\t\t\t<Element td at 0x1068255f0>\n",
      "\t\t\t\t<Element td at 0x106825638>\n",
      "\t\t\t\t<Element td at 0x106825440>\n",
      "\t\t\t<Element tr at 0x106825710>\n",
      "\t\t\t\t<Element td at 0x106825680>\n",
      "\t\t\t\t<Element td at 0x106825440>\n",
      "\t\t\t\t<Element td at 0x106825560>\n"
     ]
    }
   ],
   "source": [
    "## This function looks in each element node, and if it has \n",
    "## contents it performs the same action on the descendent node\n",
    "## Note that this is an example of recursion - a function \n",
    "## that calls itself.\n",
    "\n",
    "def parseTree(e,t='\\t'):\n",
    "    for i in e:\n",
    "        print str(t) + str(i)\n",
    "        parseTree(i,t=t + '\\t')\n",
    "\n",
    "parseTree(tree.getroot())"
   ]
  },
  {
   "cell_type": "markdown",
   "metadata": {},
   "source": [
    "And we can also navigate the tree just like an XML file:"
   ]
  },
  {
   "cell_type": "code",
   "execution_count": 3,
   "metadata": {
    "collapsed": false
   },
   "outputs": [
    {
     "name": "stdout",
     "output_type": "stream",
     "text": [
      "<Element head at 0x105aeb518>\n",
      "\t<Element meta at 0x106825710>\n",
      "\t<Element meta at 0x106825638>\n",
      "\t<Element meta at 0x106825680>\n",
      "\t<Element title at 0x106825560>\n",
      "<Element body at 0x106825440>\n",
      "\t<Element table at 0x105aeb518>\n",
      "\t<Element br at 0x106825680>\n",
      "\t<Element table at 0x106825710>\n"
     ]
    }
   ],
   "source": [
    "root = tree.getroot()\n",
    "\n",
    "for e in root:\n",
    "    print e\n",
    "    for i in e:\n",
    "        print '\\t' + str(i)"
   ]
  },
  {
   "cell_type": "markdown",
   "metadata": {},
   "source": [
    "The etree returned has \"elements\" that are represented similarly to list objects. They can be indexed and iterated through the same way. However they also carry additional information.\n",
    "\n",
    "Using the xpath() method of an etree, we are able to explicitly index areas that we would like to access. For example, here we pull the entire table from the document as one entity."
   ]
  },
  {
   "cell_type": "code",
   "execution_count": 4,
   "metadata": {
    "collapsed": false
   },
   "outputs": [],
   "source": [
    "table = tree.xpath('body/table')"
   ]
  },
  {
   "cell_type": "markdown",
   "metadata": {},
   "source": [
    "We've now focused on one specific part of the HTML document - the table of values.\n",
    "\n",
    "If we want to be less focused, we can also find specific elements based on attribute tags. For example, the table containing the tree letter amino acid codes contains the tag \"cols='3'\" specifying that it has three columns. We can use this attribute to extract these tags in particular."
   ]
  },
  {
   "cell_type": "code",
   "execution_count": 5,
   "metadata": {
    "collapsed": false
   },
   "outputs": [
    {
     "data": {
      "text/plain": [
       "[<Element table at 0x106825710>]"
      ]
     },
     "execution_count": 5,
     "metadata": {},
     "output_type": "execute_result"
    }
   ],
   "source": [
    "amino = tree.xpath(\"\"\"//table[@cols='3']\"\"\")\n",
    "amino"
   ]
  },
  {
   "cell_type": "markdown",
   "metadata": {},
   "source": [
    "We can use the .text attribute of the element to print out the data we've found."
   ]
  },
  {
   "cell_type": "code",
   "execution_count": 6,
   "metadata": {
    "collapsed": false
   },
   "outputs": [
    {
     "name": "stdout",
     "output_type": "stream",
     "text": [
      "None\n",
      "None\n",
      "None\n",
      "A\n",
      "Ala\n",
      "Alanine\n",
      "C\n",
      "Cys\n",
      "Cysteine\n",
      "D\n",
      "Asp\n",
      "Aspartic Acid\n",
      "E\n",
      "Glu\n",
      "Glutamic Acid\n",
      "F\n",
      "Phe\n",
      "Phenylalanine\n",
      "G\n",
      "Gly\n",
      "Glycine\n",
      "H\n",
      "His\n",
      "Histidine\n",
      "I\n",
      "Ile\n",
      "Isoleucine\n",
      "K\n",
      "Lys\n",
      "Lysine\n",
      "L\n",
      "Leu\n",
      "Leucine\n",
      "M\n",
      "Met\n",
      "Methionine\n",
      "N\n",
      "Asn\n",
      "Asparagine\n",
      "P\n",
      "Pro\n",
      "Proline\n",
      "Q\n",
      "Gln\n",
      "Glutamine\n",
      "R\n",
      "Arg\n",
      "Arginine\n",
      "S\n",
      "Ser\n",
      "Serine\n",
      "T\n",
      "Thr\n",
      "Threonine\n",
      "V\n",
      "Val\n",
      "Valine\n",
      "W\n",
      "Trp\n",
      "Tryptophan\n",
      "Y\n",
      "Tyr\n",
      "Tyrosine\n"
     ]
    }
   ],
   "source": [
    "for row in amino[0]:\n",
    "    for cell in row:\n",
    "        print cell.text"
   ]
  },
  {
   "cell_type": "markdown",
   "metadata": {},
   "source": [
    "We could also do the same thing using the text function which is built into xpath queries:"
   ]
  },
  {
   "cell_type": "code",
   "execution_count": 7,
   "metadata": {
    "collapsed": false
   },
   "outputs": [
    {
     "name": "stdout",
     "output_type": "stream",
     "text": [
      "IUPAC amino acid code\n",
      "Three letter code\n",
      "Amino acid\n",
      "A\n",
      "Ala\n",
      "Alanine\n",
      "C\n",
      "Cys\n",
      "Cysteine\n",
      "D\n",
      "Asp\n",
      "Aspartic Acid\n",
      "E\n",
      "Glu\n",
      "Glutamic Acid\n",
      "F\n",
      "Phe\n",
      "Phenylalanine\n",
      "G\n",
      "Gly\n",
      "Glycine\n",
      "H\n",
      "His\n",
      "Histidine\n",
      "I\n",
      "Ile\n",
      "Isoleucine\n",
      "K\n",
      "Lys\n",
      "Lysine\n",
      "L\n",
      "Leu\n",
      "Leucine\n",
      "M\n",
      "Met\n",
      "Methionine\n",
      "N\n",
      "Asn\n",
      "Asparagine\n",
      "P\n",
      "Pro\n",
      "Proline\n",
      "Q\n",
      "Gln\n",
      "Glutamine\n",
      "R\n",
      "Arg\n",
      "Arginine\n",
      "S\n",
      "Ser\n",
      "Serine\n",
      "T\n",
      "Thr\n",
      "Threonine\n",
      "V\n",
      "Val\n",
      "Valine\n",
      "W\n",
      "Trp\n",
      "Tryptophan\n",
      "Y\n",
      "Tyr\n",
      "Tyrosine\n"
     ]
    }
   ],
   "source": [
    "for i in tree.xpath(\"\"\"//table[@cols='3']/tr/td//text()\"\"\"):\n",
    "    print i"
   ]
  },
  {
   "cell_type": "markdown",
   "metadata": {},
   "source": [
    "We can now start using for loops to write more interesting queries, and convert the entire table to data we can use.\n",
    "\n",
    "One thing to keep in mind is that once you have focused on a particular part of the tree, your position is defined relative to that node. However, the element still contains the full information about the whole HTML document's tree. You are able to start a query with the absolute path of the full tree with `/` or you are able to use `.` in order to define a query relative to your current position. Here we use the `.` operator to define a relative path to our element object."
   ]
  },
  {
   "cell_type": "code",
   "execution_count": 8,
   "metadata": {
    "collapsed": false
   },
   "outputs": [
    {
     "name": "stdout",
     "output_type": "stream",
     "text": [
      "['IUPAC amino acid code', 'Three letter code', 'Amino acid']\n",
      "['A', 'Ala', 'Alanine']\n",
      "['C', 'Cys', 'Cysteine']\n",
      "['D', 'Asp', 'Aspartic Acid']\n",
      "['E', 'Glu', 'Glutamic Acid']\n",
      "['F', 'Phe', 'Phenylalanine']\n",
      "['G', 'Gly', 'Glycine']\n",
      "['H', 'His', 'Histidine']\n",
      "['I', 'Ile', 'Isoleucine']\n",
      "['K', 'Lys', 'Lysine']\n",
      "['L', 'Leu', 'Leucine']\n",
      "['M', 'Met', 'Methionine']\n",
      "['N', 'Asn', 'Asparagine']\n",
      "['P', 'Pro', 'Proline']\n",
      "['Q', 'Gln', 'Glutamine']\n",
      "['R', 'Arg', 'Arginine']\n",
      "['S', 'Ser', 'Serine']\n",
      "['T', 'Thr', 'Threonine']\n",
      "['V', 'Val', 'Valine']\n",
      "['W', 'Trp', 'Tryptophan']\n",
      "['Y', 'Tyr', 'Tyrosine']\n"
     ]
    }
   ],
   "source": [
    "table = tree.xpath('body/table')\n",
    "\n",
    "# In this expression, we're interested in the second table found\n",
    "# Remember to use the relative path root\n",
    "for tr in amino[0].xpath('./tr'):\n",
    "    print tr.xpath('./td//text()')"
   ]
  },
  {
   "cell_type": "markdown",
   "metadata": {},
   "source": [
    "This data is now in the correct format to be tidied up and written out to a CSV file using the CSV package or loaded into a data analysis package in order to compare the data available."
   ]
  },
  {
   "cell_type": "markdown",
   "metadata": {},
   "source": [
    "## Beautiful Soup \n",
    "\n",
    "While that was certainly a fun demonstration of how HTML is organized and can be digested for further analysis, manual XPath evaluations can be a tedious process. Beautiful Soup is a package meant to make the process of getting information from web documents much simpler.\n",
    "\n",
    "In Beautiful Soup, we first import the package in order to create a \"soup\" object. Here we use the html object that we acquired earlier."
   ]
  },
  {
   "cell_type": "code",
   "execution_count": 9,
   "metadata": {
    "collapsed": false
   },
   "outputs": [],
   "source": [
    "from bs4 import BeautifulSoup as bs\n",
    "\n",
    "soup = bs(html, \"lxml\")"
   ]
  },
  {
   "cell_type": "markdown",
   "metadata": {},
   "source": [
    "From here we can perform all sorts of different manipulations on the data, and Beautiful Soup takes care of the many of the details behind the scenes. For example, we can print the entire page as an indented object:"
   ]
  },
  {
   "cell_type": "code",
   "execution_count": 10,
   "metadata": {
    "collapsed": false
   },
   "outputs": [
    {
     "name": "stdout",
     "output_type": "stream",
     "text": [
      "<!DOCTYPE html PUBLIC \"-//w3c//dtd html 4.0 transitional//en\">\n",
      "<html>\n",
      " <head>\n",
      "  <meta content=\"text/html; charset=utf-8\" http-equiv=\"Content-Type\"/>\n",
      "  <meta content=\"Mozilla/4.72 [en] (Win98; I) [Netscape]\" name=\"GENERATOR\"/>\n",
      "  <meta content=\"Paul Stothard\" name=\"Author\"/>\n",
      "  <title>\n",
      "   IUPAC Codes\n",
      "  </title>\n",
      " </head>\n",
      " <body alink=\"#0000FF\" bgcolor=\"#FFFFCC\" link=\"#0000FF\" text=\"#000000\" vlink=\"#551A8B\">\n",
      "  <table border=\"\" cellpadding=\"2\" cellspacing=\"0\" cols=\"2\" width=\"350\">\n",
      "   <tr>\n",
      "    <td bgcolor=\"#B0C4DE\">\n",
      "     <font color=\"#000000\">\n",
      "      IUPAC nucleotide code\n",
      "     </font>\n",
      "    </td>\n",
      "    <td bgcolor=\"#B0C4DE\">\n",
      "     <font color=\"#000000\">\n",
      "      Base\n",
      "     </font>\n",
      "    </td>\n",
      "   </tr>\n",
      "   <tr>\n",
      "    <td>\n",
      "     A\n",
      "    </td>\n",
      "    <td>\n",
      "     Adenine\n",
      "    </td>\n",
      "   </tr>\n",
      "   <tr>\n",
      "    <td>\n",
      "     C\n",
      "    </td>\n",
      "    <td>\n",
      "     Cytosine\n",
      "    </td>\n",
      "   </tr>\n",
      "   <tr>\n",
      "    <td>\n",
      "     G\n",
      "    </td>\n",
      "    <td>\n",
      "     Guanine\n",
      "    </td>\n",
      "   </tr>\n",
      "   <tr>\n",
      "    <td>\n",
      "     T (or U)\n",
      "    </td>\n",
      "    <td>\n",
      "     Thymine (or Uracil)\n",
      "    </td>\n",
      "   </tr>\n",
      "   <tr>\n",
      "    <td>\n",
      "     R\n",
      "    </td>\n",
      "    <td>\n",
      "     A or G\n",
      "    </td>\n",
      "   </tr>\n",
      "   <tr>\n",
      "    <td>\n",
      "     Y\n",
      "    </td>\n",
      "    <td>\n",
      "     C or T\n",
      "    </td>\n",
      "   </tr>\n",
      "   <tr>\n",
      "    <td>\n",
      "     S\n",
      "    </td>\n",
      "    <td>\n",
      "     G or C\n",
      "    </td>\n",
      "   </tr>\n",
      "   <tr>\n",
      "    <td>\n",
      "     W\n",
      "    </td>\n",
      "    <td>\n",
      "     A or T\n",
      "    </td>\n",
      "   </tr>\n",
      "   <tr>\n",
      "    <td>\n",
      "     K\n",
      "    </td>\n",
      "    <td>\n",
      "     G or T\n",
      "    </td>\n",
      "   </tr>\n",
      "   <tr>\n",
      "    <td>\n",
      "     M\n",
      "    </td>\n",
      "    <td>\n",
      "     A or C\n",
      "    </td>\n",
      "   </tr>\n",
      "   <tr>\n",
      "    <td>\n",
      "     B\n",
      "    </td>\n",
      "    <td>\n",
      "     C or G or T\n",
      "    </td>\n",
      "   </tr>\n",
      "   <tr>\n",
      "    <td>\n",
      "     D\n",
      "    </td>\n",
      "    <td>\n",
      "     A or G or T\n",
      "    </td>\n",
      "   </tr>\n",
      "   <tr>\n",
      "    <td>\n",
      "     H\n",
      "    </td>\n",
      "    <td>\n",
      "     A or C or T\n",
      "    </td>\n",
      "   </tr>\n",
      "   <tr>\n",
      "    <td>\n",
      "     V\n",
      "    </td>\n",
      "    <td>\n",
      "     A or C or G\n",
      "    </td>\n",
      "   </tr>\n",
      "   <tr>\n",
      "    <td>\n",
      "     N\n",
      "    </td>\n",
      "    <td>\n",
      "     any base\n",
      "    </td>\n",
      "   </tr>\n",
      "   <tr>\n",
      "    <td>\n",
      "     . or -\n",
      "    </td>\n",
      "    <td>\n",
      "     gap\n",
      "    </td>\n",
      "   </tr>\n",
      "  </table>\n",
      "  <br/>\n",
      "  <table border=\"\" cellpadding=\"2\" cellspacing=\"0\" cols=\"3\" width=\"350\">\n",
      "   <tr>\n",
      "    <td bgcolor=\"#B0C4DE\">\n",
      "     <font color=\"#000000\">\n",
      "      IUPAC amino acid code\n",
      "     </font>\n",
      "    </td>\n",
      "    <td bgcolor=\"#B0C4DE\">\n",
      "     <font color=\"#000000\">\n",
      "      Three letter code\n",
      "     </font>\n",
      "    </td>\n",
      "    <td bgcolor=\"#B0C4DE\">\n",
      "     <font color=\"#000000\">\n",
      "      Amino acid\n",
      "     </font>\n",
      "    </td>\n",
      "   </tr>\n",
      "   <tr>\n",
      "    <td>\n",
      "     A\n",
      "    </td>\n",
      "    <td>\n",
      "     Ala\n",
      "    </td>\n",
      "    <td>\n",
      "     Alanine\n",
      "    </td>\n",
      "   </tr>\n",
      "   <tr>\n",
      "    <td>\n",
      "     C\n",
      "    </td>\n",
      "    <td>\n",
      "     Cys\n",
      "    </td>\n",
      "    <td>\n",
      "     Cysteine\n",
      "    </td>\n",
      "   </tr>\n",
      "   <tr>\n",
      "    <td>\n",
      "     D\n",
      "    </td>\n",
      "    <td>\n",
      "     Asp\n",
      "    </td>\n",
      "    <td>\n",
      "     Aspartic Acid\n",
      "    </td>\n",
      "   </tr>\n",
      "   <tr>\n",
      "    <td>\n",
      "     E\n",
      "    </td>\n",
      "    <td>\n",
      "     Glu\n",
      "    </td>\n",
      "    <td>\n",
      "     Glutamic Acid\n",
      "    </td>\n",
      "   </tr>\n",
      "   <tr>\n",
      "    <td>\n",
      "     F\n",
      "    </td>\n",
      "    <td>\n",
      "     Phe\n",
      "    </td>\n",
      "    <td>\n",
      "     Phenylalanine\n",
      "    </td>\n",
      "   </tr>\n",
      "   <tr>\n",
      "    <td>\n",
      "     G\n",
      "    </td>\n",
      "    <td>\n",
      "     Gly\n",
      "    </td>\n",
      "    <td>\n",
      "     Glycine\n",
      "    </td>\n",
      "   </tr>\n",
      "   <tr>\n",
      "    <td>\n",
      "     H\n",
      "    </td>\n",
      "    <td>\n",
      "     His\n",
      "    </td>\n",
      "    <td>\n",
      "     Histidine\n",
      "    </td>\n",
      "   </tr>\n",
      "   <tr>\n",
      "    <td>\n",
      "     I\n",
      "    </td>\n",
      "    <td>\n",
      "     Ile\n",
      "    </td>\n",
      "    <td>\n",
      "     Isoleucine\n",
      "    </td>\n",
      "   </tr>\n",
      "   <tr>\n",
      "    <td>\n",
      "     K\n",
      "    </td>\n",
      "    <td>\n",
      "     Lys\n",
      "    </td>\n",
      "    <td>\n",
      "     Lysine\n",
      "    </td>\n",
      "   </tr>\n",
      "   <tr>\n",
      "    <td>\n",
      "     L\n",
      "    </td>\n",
      "    <td>\n",
      "     Leu\n",
      "    </td>\n",
      "    <td>\n",
      "     Leucine\n",
      "    </td>\n",
      "   </tr>\n",
      "   <tr>\n",
      "    <td>\n",
      "     M\n",
      "    </td>\n",
      "    <td>\n",
      "     Met\n",
      "    </td>\n",
      "    <td>\n",
      "     Methionine\n",
      "    </td>\n",
      "   </tr>\n",
      "   <tr>\n",
      "    <td>\n",
      "     N\n",
      "    </td>\n",
      "    <td>\n",
      "     Asn\n",
      "    </td>\n",
      "    <td>\n",
      "     Asparagine\n",
      "    </td>\n",
      "   </tr>\n",
      "   <tr>\n",
      "    <td>\n",
      "     P\n",
      "    </td>\n",
      "    <td>\n",
      "     Pro\n",
      "    </td>\n",
      "    <td>\n",
      "     Proline\n",
      "    </td>\n",
      "   </tr>\n",
      "   <tr>\n",
      "    <td>\n",
      "     Q\n",
      "    </td>\n",
      "    <td>\n",
      "     Gln\n",
      "    </td>\n",
      "    <td>\n",
      "     Glutamine\n",
      "    </td>\n",
      "   </tr>\n",
      "   <tr>\n",
      "    <td>\n",
      "     R\n",
      "    </td>\n",
      "    <td>\n",
      "     Arg\n",
      "    </td>\n",
      "    <td>\n",
      "     Arginine\n",
      "    </td>\n",
      "   </tr>\n",
      "   <tr>\n",
      "    <td>\n",
      "     S\n",
      "    </td>\n",
      "    <td>\n",
      "     Ser\n",
      "    </td>\n",
      "    <td>\n",
      "     Serine\n",
      "    </td>\n",
      "   </tr>\n",
      "   <tr>\n",
      "    <td>\n",
      "     T\n",
      "    </td>\n",
      "    <td>\n",
      "     Thr\n",
      "    </td>\n",
      "    <td>\n",
      "     Threonine\n",
      "    </td>\n",
      "   </tr>\n",
      "   <tr>\n",
      "    <td>\n",
      "     V\n",
      "    </td>\n",
      "    <td>\n",
      "     Val\n",
      "    </td>\n",
      "    <td>\n",
      "     Valine\n",
      "    </td>\n",
      "   </tr>\n",
      "   <tr>\n",
      "    <td>\n",
      "     W\n",
      "    </td>\n",
      "    <td>\n",
      "     Trp\n",
      "    </td>\n",
      "    <td>\n",
      "     Tryptophan\n",
      "    </td>\n",
      "   </tr>\n",
      "   <tr>\n",
      "    <td>\n",
      "     Y\n",
      "    </td>\n",
      "    <td>\n",
      "     Tyr\n",
      "    </td>\n",
      "    <td>\n",
      "     Tyrosine\n",
      "    </td>\n",
      "   </tr>\n",
      "  </table>\n",
      " </body>\n",
      "</html>\n",
      "\n"
     ]
    }
   ],
   "source": [
    "print(soup.prettify())"
   ]
  },
  {
   "cell_type": "markdown",
   "metadata": {},
   "source": [
    "We can also call specific tags and have them returned instantly. For example, this will return all the tables in the document:"
   ]
  },
  {
   "cell_type": "code",
   "execution_count": 11,
   "metadata": {
    "collapsed": false
   },
   "outputs": [
    {
     "data": {
      "text/plain": [
       "[<table border=\"\" cellpadding=\"2\" cellspacing=\"0\" cols=\"2\" width=\"350\">\\n<tr>\\n<td bgcolor=\"#B0C4DE\"><font color=\"#000000\">IUPAC nucleotide code</font></td>\\n<td bgcolor=\"#B0C4DE\"><font color=\"#000000\">Base</font></td>\\n</tr>\\n<tr>\\n<td>A</td>\\n<td>Adenine</td>\\n</tr>\\n<tr>\\n<td>C</td>\\n<td>Cytosine</td>\\n</tr>\\n<tr>\\n<td>G</td>\\n<td>Guanine</td>\\n</tr>\\n<tr>\\n<td>T (or U)</td>\\n<td>Thymine (or Uracil)</td>\\n</tr>\\n<tr>\\n<td>R</td>\\n<td>A or G</td>\\n</tr>\\n<tr>\\n<td>Y</td>\\n<td>C or T</td>\\n</tr>\\n<tr>\\n<td>S</td>\\n<td>G or C</td>\\n</tr>\\n<tr>\\n<td>W</td>\\n<td>A or T</td>\\n</tr>\\n<tr>\\n<td>K</td>\\n<td>G or T</td>\\n</tr>\\n<tr>\\n<td>M</td>\\n<td>A or C</td>\\n</tr>\\n<tr>\\n<td>B</td>\\n<td>C or G or T</td>\\n</tr>\\n<tr>\\n<td>D</td>\\n<td>A or G or T</td>\\n</tr>\\n<tr>\\n<td>H</td>\\n<td>A or C or T</td>\\n</tr>\\n<tr>\\n<td>V</td>\\n<td>A or C or G</td>\\n</tr>\\n<tr>\\n<td>N</td>\\n<td>any base</td>\\n</tr>\\n<tr>\\n<td>. or -</td>\\n<td>gap</td>\\n</tr>\\n</table>,\n",
       " <table border=\"\" cellpadding=\"2\" cellspacing=\"0\" cols=\"3\" width=\"350\">\\n<tr>\\n<td bgcolor=\"#B0C4DE\"><font color=\"#000000\">IUPAC amino acid code</font></td>\\n<td bgcolor=\"#B0C4DE\"><font color=\"#000000\">Three letter code</font></td>\\n<td bgcolor=\"#B0C4DE\"><font color=\"#000000\">Amino acid</font></td>\\n</tr>\\n<tr>\\n<td>A</td>\\n<td>Ala</td>\\n<td>Alanine</td>\\n</tr>\\n<tr>\\n<td>C</td>\\n<td>Cys</td>\\n<td>Cysteine</td>\\n</tr>\\n<tr>\\n<td>D</td>\\n<td>Asp</td>\\n<td>Aspartic Acid</td>\\n</tr>\\n<tr>\\n<td>E</td>\\n<td>Glu</td>\\n<td>Glutamic Acid</td>\\n</tr>\\n<tr>\\n<td>F</td>\\n<td>Phe</td>\\n<td>Phenylalanine</td>\\n</tr>\\n<tr>\\n<td>G</td>\\n<td>Gly</td>\\n<td>Glycine</td>\\n</tr>\\n<tr>\\n<td>H</td>\\n<td>His</td>\\n<td>Histidine</td>\\n</tr>\\n<tr>\\n<td>I</td>\\n<td>Ile</td>\\n<td>Isoleucine</td>\\n</tr>\\n<tr>\\n<td>K</td>\\n<td>Lys</td>\\n<td>Lysine</td>\\n</tr>\\n<tr>\\n<td>L</td>\\n<td>Leu</td>\\n<td>Leucine</td>\\n</tr>\\n<tr>\\n<td>M</td>\\n<td>Met</td>\\n<td>Methionine</td>\\n</tr>\\n<tr>\\n<td>N</td>\\n<td>Asn</td>\\n<td>Asparagine</td>\\n</tr>\\n<tr>\\n<td>P</td>\\n<td>Pro</td>\\n<td>Proline</td>\\n</tr>\\n<tr>\\n<td>Q</td>\\n<td>Gln</td>\\n<td>Glutamine</td>\\n</tr>\\n<tr>\\n<td>R</td>\\n<td>Arg</td>\\n<td>Arginine</td>\\n</tr>\\n<tr>\\n<td>S</td>\\n<td>Ser</td>\\n<td>Serine</td>\\n</tr>\\n<tr>\\n<td>T</td>\\n<td>Thr</td>\\n<td>Threonine</td>\\n</tr>\\n<tr>\\n<td>V</td>\\n<td>Val</td>\\n<td>Valine</td>\\n</tr>\\n<tr>\\n<td>W</td>\\n<td>Trp</td>\\n<td>Tryptophan</td>\\n</tr>\\n<tr>\\n<td>Y</td>\\n<td>Tyr</td>\\n<td>Tyrosine</td>\\n</tr>\\n</table>]"
      ]
     },
     "execution_count": 11,
     "metadata": {},
     "output_type": "execute_result"
    }
   ],
   "source": [
    "tables = soup.find_all(\"table\")\n",
    "tables"
   ]
  },
  {
   "cell_type": "markdown",
   "metadata": {},
   "source": [
    "From this object we can find that the table we're interested in lives at index 1. \n",
    "\n",
    "We also have the ability to find the table we're interested in by finding attributes that make it unique in the HTML document and using the soup.find() method."
   ]
  },
  {
   "cell_type": "code",
   "execution_count": 12,
   "metadata": {
    "collapsed": false
   },
   "outputs": [
    {
     "data": {
      "text/plain": [
       "<table border=\"\" cellpadding=\"2\" cellspacing=\"0\" cols=\"3\" width=\"350\">\\n<tr>\\n<td bgcolor=\"#B0C4DE\"><font color=\"#000000\">IUPAC amino acid code</font></td>\\n<td bgcolor=\"#B0C4DE\"><font color=\"#000000\">Three letter code</font></td>\\n<td bgcolor=\"#B0C4DE\"><font color=\"#000000\">Amino acid</font></td>\\n</tr>\\n<tr>\\n<td>A</td>\\n<td>Ala</td>\\n<td>Alanine</td>\\n</tr>\\n<tr>\\n<td>C</td>\\n<td>Cys</td>\\n<td>Cysteine</td>\\n</tr>\\n<tr>\\n<td>D</td>\\n<td>Asp</td>\\n<td>Aspartic Acid</td>\\n</tr>\\n<tr>\\n<td>E</td>\\n<td>Glu</td>\\n<td>Glutamic Acid</td>\\n</tr>\\n<tr>\\n<td>F</td>\\n<td>Phe</td>\\n<td>Phenylalanine</td>\\n</tr>\\n<tr>\\n<td>G</td>\\n<td>Gly</td>\\n<td>Glycine</td>\\n</tr>\\n<tr>\\n<td>H</td>\\n<td>His</td>\\n<td>Histidine</td>\\n</tr>\\n<tr>\\n<td>I</td>\\n<td>Ile</td>\\n<td>Isoleucine</td>\\n</tr>\\n<tr>\\n<td>K</td>\\n<td>Lys</td>\\n<td>Lysine</td>\\n</tr>\\n<tr>\\n<td>L</td>\\n<td>Leu</td>\\n<td>Leucine</td>\\n</tr>\\n<tr>\\n<td>M</td>\\n<td>Met</td>\\n<td>Methionine</td>\\n</tr>\\n<tr>\\n<td>N</td>\\n<td>Asn</td>\\n<td>Asparagine</td>\\n</tr>\\n<tr>\\n<td>P</td>\\n<td>Pro</td>\\n<td>Proline</td>\\n</tr>\\n<tr>\\n<td>Q</td>\\n<td>Gln</td>\\n<td>Glutamine</td>\\n</tr>\\n<tr>\\n<td>R</td>\\n<td>Arg</td>\\n<td>Arginine</td>\\n</tr>\\n<tr>\\n<td>S</td>\\n<td>Ser</td>\\n<td>Serine</td>\\n</tr>\\n<tr>\\n<td>T</td>\\n<td>Thr</td>\\n<td>Threonine</td>\\n</tr>\\n<tr>\\n<td>V</td>\\n<td>Val</td>\\n<td>Valine</td>\\n</tr>\\n<tr>\\n<td>W</td>\\n<td>Trp</td>\\n<td>Tryptophan</td>\\n</tr>\\n<tr>\\n<td>Y</td>\\n<td>Tyr</td>\\n<td>Tyrosine</td>\\n</tr>\\n</table>"
      ]
     },
     "execution_count": 12,
     "metadata": {},
     "output_type": "execute_result"
    }
   ],
   "source": [
    "table = soup.find(\"table\",{\"width\":\"350\",\"cols\":\"3\"})\n",
    "table"
   ]
  },
  {
   "cell_type": "markdown",
   "metadata": {},
   "source": [
    "From either of these we can easily extract the rest of the information as follows."
   ]
  },
  {
   "cell_type": "code",
   "execution_count": 13,
   "metadata": {
    "collapsed": false
   },
   "outputs": [
    {
     "name": "stdout",
     "output_type": "stream",
     "text": [
      "[u'IUPAC amino acid code', u'Three letter code', u'Amino acid']\n",
      "[u'A', u'Ala', u'Alanine']\n",
      "[u'C', u'Cys', u'Cysteine']\n",
      "[u'D', u'Asp', u'Aspartic Acid']\n",
      "[u'E', u'Glu', u'Glutamic Acid']\n",
      "[u'F', u'Phe', u'Phenylalanine']\n",
      "[u'G', u'Gly', u'Glycine']\n",
      "[u'H', u'His', u'Histidine']\n",
      "[u'I', u'Ile', u'Isoleucine']\n",
      "[u'K', u'Lys', u'Lysine']\n",
      "[u'L', u'Leu', u'Leucine']\n",
      "[u'M', u'Met', u'Methionine']\n",
      "[u'N', u'Asn', u'Asparagine']\n",
      "[u'P', u'Pro', u'Proline']\n",
      "[u'Q', u'Gln', u'Glutamine']\n",
      "[u'R', u'Arg', u'Arginine']\n",
      "[u'S', u'Ser', u'Serine']\n",
      "[u'T', u'Thr', u'Threonine']\n",
      "[u'V', u'Val', u'Valine']\n",
      "[u'W', u'Trp', u'Tryptophan']\n",
      "[u'Y', u'Tyr', u'Tyrosine']\n"
     ]
    }
   ],
   "source": [
    "for row in table.findAll(\"tr\"):\n",
    "    cells = row.findAll(\"td\")\n",
    "    newCells = list()\n",
    "    for c in cells:\n",
    "        newCells.append(c.get_text())\n",
    "    print newCells"
   ]
  },
  {
   "cell_type": "markdown",
   "metadata": {},
   "source": [
    "And again we're ready to move on to tidying up the data and getting ready to do actual analysis.\n",
    "\n",
    "Scraping tables is just a fraction of what is able to be done with these packages. It's also possible to create web crawlers that automatically index entire websites and extract relevant information. It's also possible to create bots that monitor websites and update themselves when something changes, or to get images, links, or any other class of information represented in HTML. It's also possible to write interfaces that will pull information from Javascript applications and other scripting languages."
   ]
  },
  {
   "cell_type": "markdown",
   "metadata": {},
   "source": [
    "## The Developer's Console\n",
    "\n",
    "Both Chrome and Firefox are equipped with a developer's console, meant for debugging code while writing websites. This console can also be used to see what elements your computer is interfacing with while you surf the web. \n",
    "\n",
    "To open the developer's console in firefox, press Ctrl+Shift+K in Windows or Cmd+Opt+K in OSX. The network tab will allow you to see what information is being sent when, while the Inspector tab allows you to hover over code and see what element of the page it represents. \n",
    "\n",
    "Chrome's developer console can be accessed with Ctrl+Shift+J on Windows or Cmd+Opt+J on OSX. While the tabs are named slightly differently, the functions are essentially the same. Notably, Chrome provides native support for web scraping, though the data it gives are usually oriented more toward the organization of entire sites and less toward acquiring data from an individual page.\n",
    "\n",
    "If you plan on getting data from the web, this is an invaluable tool that will save you a lot of time finding out where data is stored.\n",
    "\n",
    "## A Word On APIs And robots.txt\n",
    "\n",
    "Before scraping a site, it is worth taking a couple of things into account in order to make sure that you are a good citizen of the web.  The robots.txt file located in the root directory of most websites will usually give you an idea of which directories are and are not allowed for web scraping. It is good practice if you are scraping a large amount of data to make sure that you adhere to the areas that are described by robots.txt with the \"Allow:\" tag. \n",
    "\n",
    "Many sites also provide an Application Programming Interface (API) that allows you to acquire information directly without scraping web data from the HTML interface, saving both you and the site manager time and money. If an API is available, it is almost always advisable to make use of it."
   ]
  },
  {
   "cell_type": "markdown",
   "metadata": {},
   "source": [
    "## In Class Exercises"
   ]
  },
  {
   "cell_type": "code",
   "execution_count": null,
   "metadata": {
    "collapsed": true
   },
   "outputs": [],
   "source": [
    "## Using either lxml or BeautifulSoup, scrape the values from the first \n",
    "## table which contains nucleotides and their corresponding name\n",
    "## Create a dictionary from these values where the nucleotide is the key.\n"
   ]
  },
  {
   "cell_type": "code",
   "execution_count": null,
   "metadata": {
    "collapsed": true
   },
   "outputs": [],
   "source": [
    "## Using the query above, write the data from the table to a csv file\n"
   ]
  },
  {
   "cell_type": "markdown",
   "metadata": {},
   "source": [
    "## References\n",
    "\n",
    "- [LXML HTML Xpath Tutorial](http://lxml.de/parsing.html)\n",
    "- [BeautifulSoup Documentation](http://www.crummy.com/software/BeautifulSoup/bs4/doc/)\n",
    "- [XPath Syntax Guide](http://www.w3schools.com/xsl/xpath_syntax.asp)"
   ]
  }
 ],
 "metadata": {
  "kernelspec": {
   "display_name": "Python [default]",
   "language": "python",
   "name": "python2"
  },
  "language_info": {
   "codemirror_mode": {
    "name": "ipython",
    "version": 2
   },
   "file_extension": ".py",
   "mimetype": "text/x-python",
   "name": "python",
   "nbconvert_exporter": "python",
   "pygments_lexer": "ipython2",
   "version": "2.7.11"
  }
 },
 "nbformat": 4,
 "nbformat_minor": 0
}
