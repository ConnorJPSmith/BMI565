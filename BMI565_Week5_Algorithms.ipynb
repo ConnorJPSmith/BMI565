{
 "cells": [
  {
   "cell_type": "markdown",
   "metadata": {},
   "source": [
    "# BMI565: Bioinformatics Programming & Scripting"
   ]
  },
  {
   "cell_type": "markdown",
   "metadata": {},
   "source": [
    "#### (C) 2015 Michael Mooney (mooneymi@ohsu.edu)"
   ]
  },
  {
   "cell_type": "markdown",
   "metadata": {},
   "source": [
    "## Week 5: Graph Algorithms"
   ]
  },
  {
   "cell_type": "markdown",
   "metadata": {},
   "source": [
    "1. Graph Algorithms\n",
    "    - Stacks and Queues\n",
    "    - Depth-first search\n",
    "    - Breadth-first search\n",
    "    - Best-first search\n",
    "2. Algorithm Analysis\n",
    "    - Big O notation\n",
    "    - Examples"
   ]
  },
  {
   "cell_type": "markdown",
   "metadata": {},
   "source": [
    "#### Requirements\n",
    "\n",
    "- Python 2.7\n",
    "- `networkx` module\n",
    "- `matplotlib` module"
   ]
  },
  {
   "cell_type": "code",
   "execution_count": 1,
   "metadata": {
    "collapsed": false
   },
   "outputs": [],
   "source": [
    "%matplotlib inline\n",
    "import networkx as nx\n",
    "import matplotlib.pyplot as plt"
   ]
  },
  {
   "cell_type": "markdown",
   "metadata": {},
   "source": [
    "## Graph Algorithms\n",
    "\n",
    "### Stacks and Queues"
   ]
  },
  {
   "cell_type": "code",
   "execution_count": 2,
   "metadata": {
    "collapsed": false
   },
   "outputs": [
    {
     "data": {
      "text/plain": [
       "'A'"
      ]
     },
     "execution_count": 2,
     "metadata": {},
     "output_type": "execute_result"
    }
   ],
   "source": [
    "## Create a stack using a list\n",
    "stack1 = []\n",
    "\n",
    "## Add to the stack\n",
    "stack1.append('A')\n",
    "\n",
    "## Remove from the stack\n",
    "stack1.pop()"
   ]
  },
  {
   "cell_type": "code",
   "execution_count": 3,
   "metadata": {
    "collapsed": false
   },
   "outputs": [
    {
     "data": {
      "text/plain": [
       "'A'"
      ]
     },
     "execution_count": 3,
     "metadata": {},
     "output_type": "execute_result"
    }
   ],
   "source": [
    "## Create a queue using a list\n",
    "queue1 = []\n",
    "\n",
    "## Add to the queue\n",
    "queue1.append('A')\n",
    "queue1.append('B')\n",
    "\n",
    "## Remove from the queue\n",
    "queue1.pop(0)"
   ]
  },
  {
   "cell_type": "markdown",
   "metadata": {},
   "source": [
    "** Note: Queues implemented in this way will not be efficent for very large lists, since the elements have to be shifted everytime an element is removed from the beginning of the queue. Use the data structures available in the `collections` module for more optimized queues. \n",
    "\n",
    "[https://docs.python.org/2/library/collections.html](https://docs.python.org/2/library/collections.html)"
   ]
  },
  {
   "cell_type": "markdown",
   "metadata": {},
   "source": [
    "### Depth-first Search\n",
    "\n",
    "Depth-first search is a graph traversal algorithm that traverses a graph by traveling the entire depth of each branch before backtracking and moving to the next branch."
   ]
  },
  {
   "cell_type": "code",
   "execution_count": 4,
   "metadata": {
    "collapsed": false
   },
   "outputs": [
    {
     "data": {
      "image/png": "[encoded data removed]",
      "text/plain": [
       "<matplotlib.figure.Figure at 0x107bdca90>"
      ]
     },
     "metadata": {},
     "output_type": "display_data"
    }
   ],
   "source": [
    "G2 = nx.Graph()\n",
    "G2.add_edges_from([('A','B'),('B','C'),('B','D'),('A','E'),('E','F'),('E','G')])\n",
    "pos = {'A':(3,2), 'B':(1,1), 'C':(0,0), 'D':(2,0), 'E':(5,1), 'F':(4,0), 'G':(6,0)}\n",
    "nx.draw(G2, pos, node_color=\"lightblue\", node_size=800, with_labels=True, arrows=False)"
   ]
  },
  {
   "cell_type": "markdown",
   "metadata": {},
   "source": [
    "### Breadth-first Search\n",
    "\n",
    "Breadth-first search, as opposed to depth-first search, first visits all nodes on a particular level before moving down the branch."
   ]
  },
  {
   "cell_type": "code",
   "execution_count": 5,
   "metadata": {
    "collapsed": false
   },
   "outputs": [
    {
     "data": {
      "image/png": "[encoded data removed]",
      "text/plain": [
       "<matplotlib.figure.Figure at 0x107be7150>"
      ]
     },
     "metadata": {},
     "output_type": "display_data"
    }
   ],
   "source": [
    "G2 = nx.Graph()\n",
    "G2.add_edges_from([('A','B'),('A','C'),('B','D'),('B','E'),('C','F'),('C','G')])\n",
    "pos = {'A':(3,2), 'B':(1,1), 'D':(0,0), 'E':(2,0), 'C':(5,1), 'F':(4,0), 'G':(6,0)}\n",
    "nx.draw(G2, pos, node_color=\"lightblue\", node_size=800, with_labels=True, arrows=False)"
   ]
  },
  {
   "cell_type": "markdown",
   "metadata": {},
   "source": [
    "### Best-first Search\n",
    "\n",
    "Best-first search is a graph traversal algorith that uses a heuristic to decide with nodes to visit as it steps through the graph. In the example below, a 'distance' attribute has been attached to each node representing the distance from the root node. This distance will be used as the heuristic for the search."
   ]
  },
  {
   "cell_type": "code",
   "execution_count": 6,
   "metadata": {
    "collapsed": false
   },
   "outputs": [
    {
     "data": {
      "image/png": "[encoded data removed]",
      "text/plain": [
       "<matplotlib.figure.Figure at 0x107c8a3d0>"
      ]
     },
     "metadata": {},
     "output_type": "display_data"
    }
   ],
   "source": [
    "G3 = nx.Graph()\n",
    "G3.add_edges_from([('A','C'),('A','B'),('B','D'),('B','F'),('D','E'),('C','E')])\n",
    "G3.node['A']['distance'] = 0\n",
    "G3.node['B']['distance'] = 3\n",
    "G3.node['C']['distance'] = 4\n",
    "G3.node['D']['distance'] = 4\n",
    "G3.node['E']['distance'] = 5\n",
    "G3.node['F']['distance'] = 6\n",
    "pos = {'A':(3,3), 'B':(4,2), 'C':(2.5,1), 'D':(3,1), 'E':(2.5,0), 'F':(5,1)}\n",
    "nx.draw(G3, pos, node_color=\"lightblue\", node_size=800, with_labels=True)"
   ]
  },
  {
   "cell_type": "markdown",
   "metadata": {},
   "source": [
    "What would the search path from A to E be?"
   ]
  },
  {
   "cell_type": "markdown",
   "metadata": {},
   "source": [
    "## Algorithm Analysis"
   ]
  },
  {
   "cell_type": "markdown",
   "metadata": {},
   "source": [
    "Time complexity and space complexity are two measures used to describe the efficiency of an algorithm. Time complexity estimates the average amount of time an algorithm will need to run, and is usually described by the number of elementary operations (e.g., comparisions, or file reads, etc.) the algorithm will perform. Space complexity estimates the amount of memory an algorithm will need to run. We'll focus on time-complexity here."
   ]
  },
  {
   "cell_type": "markdown",
   "metadata": {},
   "source": [
    "### Big O Notation"
   ]
  },
  {
   "cell_type": "markdown",
   "metadata": {},
   "source": [
    "An algorithm's time complexity is often expressed using big O notation, which is used to simplify the limiting behavior of a function. In this case, the function describes the time complexity of an algorithm given some input. Here are some general rules:\n",
    "\n",
    "    - If the function f(x) is the sum of multiple terms, only the one with the largest growth rate is kept\n",
    "    - Constants and coefficients that do not depend on x are omitted\n",
    "    \n",
    "For example, the function `f(x) = 6x^4 + 3x^2 + 5` would be reduced to:  O(x^4).\n",
    "\n",
    "\n",
    "[http://en.wikipedia.org/wiki/Computational_complexity_theory](http://en.wikipedia.org/wiki/Computational_complexity_theory)\n",
    "\n",
    "[http://en.wikipedia.org/wiki/Big_O_notation](http://en.wikipedia.org/wiki/Big_O_notation)"
   ]
  },
  {
   "cell_type": "markdown",
   "metadata": {},
   "source": [
    "### Examples\n",
    "\n",
    "#### Bubble sort\n",
    "\n",
    "Bubble sort is a sorting algorithm that works by repeatedly iterating through a list and swapping adjacent elements. It stops when it is able to iterate through the entire list without making any swaps.\n",
    "\n",
    "    ## The list to be sorted\n",
    "    [4,1,3,5]\n",
    "    \n",
    "    ## Iteration 1.\n",
    "    [4,1,3,5] ## compare 4 and 1, swap: [1,4,3,5]\n",
    "    [1,4,3,5] ## compare 4 and 3, swap: [1,3,4,5]\n",
    "    [1,3,4,5] ## compare 4 and 5, no swap [1,3,4,5]\n",
    "    \n",
    "    ## Iteration 2.\n",
    "    [1,3,4,5] ## no swaps necessary\n",
    "\n",
    "In the worse-case scenario (a reverse sorted list) the algorithm would have to make `(n-1)+(n-2)+(n-3)+...+(n-(n-1))` swaps. This reduces to `n(n-1)/2`, so the big O notation would be O(n^2). The algorithm will not be efficient for very large lists."
   ]
  },
  {
   "cell_type": "markdown",
   "metadata": {},
   "source": [
    "#### Binary search\n",
    "\n",
    "The binary search algorithm searches a sorted list by repeatedly split the list in half and search the appropriate sublist.\n",
    "\n",
    "    ## The list to be searched\n",
    "    [1,2,3,4,5,6,7,8,9,10,11,12,13,14,15]\n",
    "    \n",
    "    ## Search for 13\n",
    "    ## Step 1.\n",
    "    [1,2,3,4,5,6,7,8,9,10,11,12,13,14,15] ## Find the middle element and compare to target, 13 > 8\n",
    "    \n",
    "    ## Step 2.\n",
    "    [9,10,11,12,13,14,15] ## Find the middle element of sublist and compare to target, 13 > 12\n",
    "    \n",
    "    ## Step 3.\n",
    "    [13,14,15] ## Find middle element of sublist and compare to target, 13 < 14\n",
    "    \n",
    "    ## Step 4.\n",
    "    [13] ## Find middle element of sublist and compare to target, 13 == 13. Target found!\n"
   ]
  },
  {
   "cell_type": "markdown",
   "metadata": {},
   "source": [
    "Since the list is being cut in half at each step, the maximum number of comparisons made by the binary search algorithm will be `log(n)+1`. So, the big O notation would be O(log(n))."
   ]
  },
  {
   "cell_type": "markdown",
   "metadata": {},
   "source": [
    "## In-Class Exercises"
   ]
  },
  {
   "cell_type": "code",
   "execution_count": 1,
   "metadata": {
    "collapsed": false
   },
   "outputs": [
    {
     "data": {
      "text/plain": [
       "[1, 2, 3, 6, 7, 8]"
      ]
     },
     "execution_count": 1,
     "metadata": {},
     "output_type": "execute_result"
    }
   ],
   "source": [
    "## Exercise 1.\n",
    "## Implement the bubble sort algorithm.\n",
    "## Sort the following list [8,7,3,1,2,6]\n",
    "##\n",
    "def bubble(L):\n",
    "    N = len(L)\n",
    "    swap = True\n",
    "    while swap:\n",
    "        swap = False\n",
    "        for i in range(N-1):\n",
    "            if L[i] > L[i+1]:\n",
    "                L[i], L[i+1] = L[i+1], L[i]\n",
    "                swap = True\n",
    "    return L\n",
    "\n",
    "bubble([8,7,3,1,2,6])    "
   ]
  },
  {
   "cell_type": "code",
   "execution_count": null,
   "metadata": {
    "collapsed": true
   },
   "outputs": [],
   "source": [
    "## Exercise 2.\n",
    "## Implement the binary search algorithm\n",
    "## Search the following list [1,3,6,18,32,45,99,101,102,251,322]\n",
    "##\n",
    "def binary(L, target, start=0, stop=len(L)-1):\n",
    "    "
   ]
  },
  {
   "cell_type": "markdown",
   "metadata": {},
   "source": [
    "## References\n",
    "- [http://networkx.github.io/documentation/latest/index.html](http://networkx.github.io/documentation/latest/index.html)"
   ]
  },
  {
   "cell_type": "markdown",
   "metadata": {},
   "source": [
    "#### Last Updated: 20-Oct-2015"
   ]
  }
 ],
 "metadata": {
  "kernelspec": {
   "display_name": "Python 2",
   "language": "python",
   "name": "python2"
  },
  "language_info": {
   "codemirror_mode": {
    "name": "ipython",
    "version": 2
   },
   "file_extension": ".py",
   "mimetype": "text/x-python",
   "name": "python",
   "nbconvert_exporter": "python",
   "pygments_lexer": "ipython2",
   "version": "2.7.3"
  }
 },
 "nbformat": 4,
 "nbformat_minor": 0
}
