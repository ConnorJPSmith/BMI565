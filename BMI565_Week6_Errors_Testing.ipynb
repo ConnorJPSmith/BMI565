{
 "cells": [
  {
   "cell_type": "markdown",
   "metadata": {},
   "source": [
    "# BMI565: Bioinformatics Programming & Scripting"
   ]
  },
  {
   "cell_type": "markdown",
   "metadata": {},
   "source": [
    "#### (C) Michael Mooney (mooneymi@ohsu.edu)"
   ]
  },
  {
   "cell_type": "markdown",
   "metadata": {},
   "source": [
    "## Week 6: Error Handling, Exceptions, and Code Testing"
   ]
  },
  {
   "cell_type": "markdown",
   "metadata": {},
   "source": [
    "1. Exceptions\n",
    "    - try/except statements\n",
    "    - Custom exceptions\n",
    "2. Error Handling\n",
    "    - Assert statements\n",
    "3. Code Testing\n",
    "    - `doctest` module\n",
    "    - Test cases"
   ]
  },
  {
   "cell_type": "markdown",
   "metadata": {},
   "source": [
    "#### Requirements\n",
    "- Python 2.7\n",
    "- `doctest` module"
   ]
  },
  {
   "cell_type": "markdown",
   "metadata": {},
   "source": [
    "## Exceptions\n",
    "\n",
    "An exception is a signal that an error has occured during code execution. A traceback message will be displayed giving information about the particular error, including the type an location of the error. Normally, an exception will cause a program to halt, but we can plan ahead to detect and manage errors in a more useful way.\n",
    "\n",
    "Python will automatically detect errors and <i>raise</i> exceptions, but we can also raise exceptions manually.\n",
    "\n",
    "    raise RuntimeError(\"Halt program!\")\n",
    "\n",
    "List of built-in Python exceptions: [http://docs.python.org/library/exceptions.html](http://docs.python.org/library/exceptions.html)"
   ]
  },
  {
   "cell_type": "markdown",
   "metadata": {},
   "source": [
    "### try/except statements\n",
    "\n",
    "Try/except statements allow us to detect errors and take some sort of corrective action (or provide a more informative message to the user), rather than simply halting the program.\n",
    "\n",
    "    try:\n",
    "        # error prone code\n",
    "    except:\n",
    "        # code in case an exception is raised\n",
    "    else:\n",
    "        # code in case no exception is raised\n",
    "    finally:\n",
    "        # code executed with or without exception"
   ]
  },
  {
   "cell_type": "code",
   "execution_count": 1,
   "metadata": {
    "collapsed": false
   },
   "outputs": [
    {
     "name": "stdout",
     "output_type": "stream",
     "text": [
      "Error Detected!\n"
     ]
    }
   ],
   "source": [
    "## Use a try/except block to catch possible errors\n",
    "try:\n",
    "    a = 0\n",
    "    print 3/a\n",
    "    fh = open(\"foo.txt\")\n",
    "except:\n",
    "    print \"Error Detected!\""
   ]
  },
  {
   "cell_type": "code",
   "execution_count": 2,
   "metadata": {
    "collapsed": false
   },
   "outputs": [
    {
     "name": "stdout",
     "output_type": "stream",
     "text": [
      "3\n",
      "Problem opening file!\n",
      "other code\n"
     ]
    }
   ],
   "source": [
    "## Use a try/except block to catch specific errors\n",
    "try:\n",
    "    a = 1\n",
    "    print 3/a\n",
    "    fh = open(\"foo.txt\")\n",
    "except ZeroDivisionError:\n",
    "    print \"You can't divide by zero!\"\n",
    "    raise ZeroDivisionError(\"'a' = 0\")\n",
    "except IOError:\n",
    "    print \"Problem opening file!\"\n",
    "\n",
    "print \"other code\""
   ]
  },
  {
   "cell_type": "code",
   "execution_count": 3,
   "metadata": {
    "collapsed": false
   },
   "outputs": [
    {
     "name": "stdout",
     "output_type": "stream",
     "text": [
      "2\n",
      "No such file or directory\n",
      "[Errno 2] No such file or directory: 'foo.txt'\n"
     ]
    }
   ],
   "source": [
    "## Access information about errors\n",
    "try:\n",
    "    x = 4/1\n",
    "    fh = open(\"foo.txt\")\n",
    "except ZeroDivisionError as err:\n",
    "    print str(err)\n",
    "except IOError as err:\n",
    "    print err.errno\n",
    "    print err.strerror\n",
    "    print str(err)"
   ]
  },
  {
   "cell_type": "markdown",
   "metadata": {},
   "source": [
    "### Custom Exceptions\n",
    "\n",
    "We can create custom exceptions to detect errors, halt the program, and inform the user."
   ]
  },
  {
   "cell_type": "code",
   "execution_count": 4,
   "metadata": {
    "collapsed": false
   },
   "outputs": [],
   "source": [
    "## Inherit from the Exception class to create a custom exception\n",
    "class NotEvenNumberError(Exception):\n",
    "    def __init__(self, num):\n",
    "        self.num = num\n",
    "        Exception.__init__(self, num)\n",
    "    def __str__(self):\n",
    "        return str(self.num) + \" is not an even number!\""
   ]
  },
  {
   "cell_type": "code",
   "execution_count": 5,
   "metadata": {
    "collapsed": false
   },
   "outputs": [
    {
     "ename": "NotEvenNumberError",
     "evalue": "3 is not an even number!",
     "output_type": "error",
     "traceback": [
      "\u001b[0;31m---------------------------------------------------------------------------\u001b[0m",
      "\u001b[0;31mNotEvenNumberError\u001b[0m                        Traceback (most recent call last)",
      "\u001b[0;32m<ipython-input-5-ab0a7cde6b0c>\u001b[0m in \u001b[0;36m<module>\u001b[0;34m()\u001b[0m\n\u001b[1;32m      2\u001b[0m \u001b[0mn\u001b[0m \u001b[0;34m=\u001b[0m \u001b[0;36m3\u001b[0m\u001b[0;34m\u001b[0m\u001b[0m\n\u001b[1;32m      3\u001b[0m \u001b[0;32mif\u001b[0m \u001b[0mn\u001b[0m \u001b[0;34m%\u001b[0m \u001b[0;36m2\u001b[0m \u001b[0;34m!=\u001b[0m \u001b[0;36m0\u001b[0m\u001b[0;34m:\u001b[0m\u001b[0;34m\u001b[0m\u001b[0m\n\u001b[0;32m----> 4\u001b[0;31m     \u001b[0;32mraise\u001b[0m \u001b[0mNotEvenNumberError\u001b[0m\u001b[0;34m(\u001b[0m\u001b[0mn\u001b[0m\u001b[0;34m)\u001b[0m\u001b[0;34m\u001b[0m\u001b[0m\n\u001b[0m\u001b[1;32m      5\u001b[0m \u001b[0;32melse\u001b[0m\u001b[0;34m:\u001b[0m\u001b[0;34m\u001b[0m\u001b[0m\n\u001b[1;32m      6\u001b[0m     \u001b[0;32mprint\u001b[0m \u001b[0;34m\"Even number!\"\u001b[0m\u001b[0;34m\u001b[0m\u001b[0m\n",
      "\u001b[0;31mNotEvenNumberError\u001b[0m: 3 is not an even number!"
     ]
    }
   ],
   "source": [
    "## Detect and raise the exception\n",
    "n = 3\n",
    "if n % 2 != 0:\n",
    "    raise NotEvenNumberError(n)\n",
    "else:\n",
    "    print \"Even number!\""
   ]
  },
  {
   "cell_type": "markdown",
   "metadata": {},
   "source": [
    "## Error Handling\n",
    "\n",
    "- Syntax Errors\n",
    "    - Invalid Python syntax will result in an error before the code is executed\n",
    "- Run-time Errors\n",
    "    - An error detected during execution (such as dividing by zero, or a missing file) results in an exception being raised\n",
    "- Logic Errors\n",
    "    - These errors are not detected by Python and may result in faulty output\n",
    "    \n",
    "To avoid errors and debug code use the following techniques:\n",
    "\n",
    "1. Give clear instructions/documentation regarding expected input\n",
    "2. Check input \n",
    "3. Use assert statements\n",
    "4. Use print statements to monitor results of code\n",
    "5. Use test cases\n",
    "\n",
    "### Assert Statements\n",
    "\n",
    "Assert statements are a convinient way to insert debugging tests into a program:\n",
    "\n",
    "    assert test, \"message\"  ## message is displayed if test is False"
   ]
  },
  {
   "cell_type": "code",
   "execution_count": 6,
   "metadata": {
    "collapsed": false
   },
   "outputs": [
    {
     "ename": "AssertionError",
     "evalue": "'a' is not an even number!",
     "output_type": "error",
     "traceback": [
      "\u001b[0;31m---------------------------------------------------------------------------\u001b[0m",
      "\u001b[0;31mAssertionError\u001b[0m                            Traceback (most recent call last)",
      "\u001b[0;32m<ipython-input-6-1d1e5786fad3>\u001b[0m in \u001b[0;36m<module>\u001b[0;34m()\u001b[0m\n\u001b[1;32m      1\u001b[0m \u001b[0ma\u001b[0m \u001b[0;34m=\u001b[0m \u001b[0;36m3\u001b[0m\u001b[0;34m\u001b[0m\u001b[0m\n\u001b[0;32m----> 2\u001b[0;31m \u001b[0;32massert\u001b[0m \u001b[0ma\u001b[0m \u001b[0;34m%\u001b[0m \u001b[0;36m2\u001b[0m \u001b[0;34m==\u001b[0m \u001b[0;36m0\u001b[0m\u001b[0;34m,\u001b[0m \u001b[0;34m\"'a' is not an even number!\"\u001b[0m\u001b[0;34m\u001b[0m\u001b[0m\n\u001b[0m",
      "\u001b[0;31mAssertionError\u001b[0m: 'a' is not an even number!"
     ]
    }
   ],
   "source": [
    "a = 3\n",
    "assert a % 2 == 0, \"'a' is not an even number!\""
   ]
  },
  {
   "cell_type": "markdown",
   "metadata": {},
   "source": [
    "#### Assert Examples\n",
    "    \n",
    "    ## Use assert statements to test function output\n",
    "    \n",
    "    ## Example 1.\n",
    "    expected = 41000\n",
    "    agilent_probes = read_probes(“data.txt”)\n",
    "    assert len(agilent_probes) == expected, \"Only %d of %d probes read.\" % (len(agilent_probes), expected)\n",
    "    \n",
    "    ## Example 2.\n",
    "    prob = run_analysis(data)\n",
    "    assert 0 <= prob <= 1, \"Error: invalid probability\""
   ]
  },
  {
   "cell_type": "markdown",
   "metadata": {},
   "source": [
    "## Code Testing\n",
    "\n",
    "The `doctest` module allows you to put code tests within the docstrings of a module, function definition, etc. These tests can then be run to determine if your code is running as expected. \n",
    "\n",
    "Tests are added to a doctest by placing `>>>` before the code to run (additional lines of a test can be specified by `...`). The line following the test should contain the expected output. For example:\n",
    "\n",
    "    \"\"\"\n",
    "    >>> len(range(10))\n",
    "    10\n",
    "    \"\"\"\n",
    "\n",
    "A common way to test the functionality of a module is to run the tests when the module is run from the command-line:\n",
    "\n",
    "    if __name__ == \"__main__\":\n",
    "        import doctest\n",
    "        doctest.testmod()\n"
   ]
  },
  {
   "cell_type": "markdown",
   "metadata": {},
   "source": [
    "Let's say we've created a module named `shapes` containing the following:\n",
    "\n",
    "    def squareArea(sideLength):\n",
    "        \"\"\"\n",
    "        This function calculates the area of a square with a given length.\n",
    "        \n",
    "        Code tests:\n",
    "        >>> squareArea(2)\n",
    "        4\n",
    "        \n",
    "        >>> squareArea(10)  # This test should fail\n",
    "        99\n",
    "        \"\"\"\n",
    "        return sideLength*sideLength\n",
    "    \n",
    "    \n",
    "    if __name__ == \"__main__\":\n",
    "        import doctest\n",
    "        doctest.testmod()\n"
   ]
  },
  {
   "cell_type": "markdown",
   "metadata": {},
   "source": [
    "If we have many tests to run, including them in the docstrings may make our code cluttered. We can also put tests in a separate text file and run them as follows:\n",
    "\n",
    "    import doctest\n",
    "    doctest.testfile(\"tests.txt\")"
   ]
  },
  {
   "cell_type": "markdown",
   "metadata": {},
   "source": [
    "### Writing Code Tests\n",
    "\n",
    "It is good practice to write tests before you code. This ensures code modularity (important when working on a larger project), and traceability when code is modified.\n",
    "\n",
    "#### Example\n",
    "We need to write a function called `matchCATA()`, which searches a sequence for 'CATA' and returns the number of matches.\n",
    "\n",
    "What tests would we want the function to pass? When should we return an error?\n",
    "\n",
    "- `matchCATA(\"ATCCATA\")` = ?\n",
    "- `matchCATA(\"\")` = ?\n",
    "- `matchCATA(\"12345\")` = ?"
   ]
  },
  {
   "cell_type": "markdown",
   "metadata": {},
   "source": [
    "### Test Cases\n",
    "- Isolate a small part of a real dataset to use for testing\n",
    "- Make sure that the test data is representative of real data (not just a trivial case)\n",
    "- Test data can be real or simulated.\n",
    "- Test cases are important for communicating with stakeholders and running example code (demos)\n",
    "\n",
    "#### Rigorous testing is how code improves\n",
    "\n",
    "- Many software projects incorporate a testing framework to ensure each software component works as expected\n",
    "- There are many different type of tests: unit tests for a single component, integrative tests for multiple components\n",
    "- Test are run regularly to ensure code is not broken as changes are made\n",
    "- Versioning systems are very useful when working on larger projects, particularly when working collaboratively\n",
    "\n",
    "Dr. Cohen's Software Engineering course (BMI546) covers software testing in more detail."
   ]
  },
  {
   "cell_type": "markdown",
   "metadata": {},
   "source": [
    "## In-Class Exercises"
   ]
  },
  {
   "cell_type": "code",
   "execution_count": null,
   "metadata": {
    "collapsed": false
   },
   "outputs": [],
   "source": [
    "## Exercise 1.\n",
    "## Create a custom exception 'MissingFileError' that prints \n",
    "## the current directory and the directory contents when \n",
    "## a file can't be opened.\n",
    "## Hint: use os.getcwd() and os.listdir()\n",
    "##"
   ]
  },
  {
   "cell_type": "markdown",
   "metadata": {},
   "source": [
    "## References\n",
    "\n",
    "- <u>Python for Bioinformatics</u>, Sebastian Bassi, CRC Press (2010)\n",
    "- <u>Python Essential Reference</u>, David Beazley, 4th Edition, Addison‐Wesley (2008)\n",
    "- [http://docs.python.org/](http://docs.python.org/)"
   ]
  },
  {
   "cell_type": "markdown",
   "metadata": {},
   "source": [
    "#### Last Updated: 22-Sep-2016"
   ]
  }
 ],
 "metadata": {
  "kernelspec": {
   "display_name": "Python [default]",
   "language": "python",
   "name": "python2"
  },
  "language_info": {
   "codemirror_mode": {
    "name": "ipython",
    "version": 2
   },
   "file_extension": ".py",
   "mimetype": "text/x-python",
   "name": "python",
   "nbconvert_exporter": "python",
   "pygments_lexer": "ipython2",
   "version": "2.7.11"
  }
 },
 "nbformat": 4,
 "nbformat_minor": 0
}
