{
 "cells": [
  {
   "cell_type": "markdown",
   "metadata": {},
   "source": [
    "# BMI565: Bioinformatics Programming & Scripting"
   ]
  },
  {
   "cell_type": "markdown",
   "metadata": {},
   "source": [
    "#### (C) 2015 Michael Mooney (mooneymi@ohsu.edu)"
   ]
  },
  {
   "cell_type": "markdown",
   "metadata": {},
   "source": [
    "## Week 8: NumPy and matplotlib"
   ]
  },
  {
   "cell_type": "markdown",
   "metadata": {},
   "source": [
    "1. Scientific Computing in Python\n",
    "2. Numpy\n",
    "    - Numpy Arrays\n",
    "    - Element-wise Operations\n",
    "    - Boolean Indexing\n",
    "3. Plotting with `matplotlib`\n",
    "4. Scipy\n",
    "    - Mann-Whitney Rank Test"
   ]
  },
  {
   "cell_type": "markdown",
   "metadata": {},
   "source": [
    "#### Requirements\n",
    "\n",
    "- Python 2.7\n",
    "- `numpy` module\n",
    "- `matplotlib` module\n",
    "- `scipy` module\n",
    "- Miscellaneous Files\n",
    "    - `heat_map.jpg`"
   ]
  },
  {
   "cell_type": "markdown",
   "metadata": {},
   "source": [
    "## Scientific Computing Packages\n",
    "\n",
    "- <b>Numpy</b>: provides support for creating and efficiently manipulation large data structures (arrays, multi-dimensional arrays, matrices, etc.)\n",
    "- <b>Matplotlib</b>: provides visualization of data through graphical plots (requires numpy)\n",
    "- <b>Scipy</b>: provides a collection of mathematical algorithms for scientific computing\n",
    "- Scikit-learn: a collection of machine-learning algorithms\n",
    "- Pandas: data analysis tools, including specialized data structures\n",
    "- Statistical Packages:\n",
    "    - Statsmodels: \n",
    "    - Rpy2: provides an interface between Python and R"
   ]
  },
  {
   "cell_type": "code",
   "execution_count": 3,
   "metadata": {
    "collapsed": false
   },
   "outputs": [],
   "source": [
    "%matplotlib inline"
   ]
  },
  {
   "cell_type": "code",
   "execution_count": 4,
   "metadata": {
    "collapsed": false
   },
   "outputs": [],
   "source": [
    "import numpy as np\n",
    "import matplotlib.pyplot as plt\n",
    "import scipy as sp"
   ]
  },
  {
   "cell_type": "markdown",
   "metadata": {},
   "source": [
    "## Numpy\n",
    "\n",
    "### Numpy Arrays\n",
    "\n",
    "Why are numpy arrays so efficient?\n",
    "- Arrays are of a fixed size\n",
    "- Stored in contiguous blocks of memory\n",
    "- Arrays contain a single data type\n",
    "- Vectorized (element-wise) operations\n",
    "\n",
    "Indexing, slicing and iterating over arrays works the same as for lists. "
   ]
  },
  {
   "cell_type": "code",
   "execution_count": 5,
   "metadata": {
    "collapsed": false
   },
   "outputs": [
    {
     "data": {
      "text/plain": [
       "array([1, 2, 3])"
      ]
     },
     "execution_count": 5,
     "metadata": {},
     "output_type": "execute_result"
    }
   ],
   "source": [
    "## Create an array from a list\n",
    "myarray = np.array([1,2,3])\n",
    "myarray"
   ]
  },
  {
   "cell_type": "code",
   "execution_count": 6,
   "metadata": {
    "collapsed": false
   },
   "outputs": [
    {
     "data": {
      "text/plain": [
       "array([[1, 2, 3],\n",
       "       [4, 5, 6]])"
      ]
     },
     "execution_count": 6,
     "metadata": {},
     "output_type": "execute_result"
    }
   ],
   "source": [
    "## Create a multi-dimensional array from a list of lists\n",
    "myarray2 = np.array([[1,2,3],[4,5,6]])\n",
    "myarray2"
   ]
  },
  {
   "cell_type": "code",
   "execution_count": 7,
   "metadata": {
    "collapsed": false
   },
   "outputs": [
    {
     "data": {
      "text/plain": [
       "(2, 3)"
      ]
     },
     "execution_count": 7,
     "metadata": {},
     "output_type": "execute_result"
    }
   ],
   "source": [
    "## Get the dimensions of the array\n",
    "myarray2.shape"
   ]
  },
  {
   "cell_type": "code",
   "execution_count": 8,
   "metadata": {
    "collapsed": false
   },
   "outputs": [
    {
     "data": {
      "text/plain": [
       "array([[2, 3],\n",
       "       [5, 6]])"
      ]
     },
     "execution_count": 8,
     "metadata": {},
     "output_type": "execute_result"
    }
   ],
   "source": [
    "## Subset the array using indices\n",
    "myarray2[0:2,1:3]"
   ]
  },
  {
   "cell_type": "code",
   "execution_count": 9,
   "metadata": {
    "collapsed": false
   },
   "outputs": [
    {
     "data": {
      "text/plain": [
       "array([0, 1, 2, 3, 4, 5, 6, 7, 8, 9])"
      ]
     },
     "execution_count": 9,
     "metadata": {},
     "output_type": "execute_result"
    }
   ],
   "source": [
    "## Create a range as an array\n",
    "np.arange(10)"
   ]
  },
  {
   "cell_type": "code",
   "execution_count": 10,
   "metadata": {
    "collapsed": false
   },
   "outputs": [
    {
     "data": {
      "text/plain": [
       "array([ 0.,  0.,  0.,  0.,  0.,  0.,  0.,  0.,  0.,  0.])"
      ]
     },
     "execution_count": 10,
     "metadata": {},
     "output_type": "execute_result"
    }
   ],
   "source": [
    "## Create an array of zeros\n",
    "np.zeros(10)"
   ]
  },
  {
   "cell_type": "code",
   "execution_count": 11,
   "metadata": {
    "collapsed": false
   },
   "outputs": [
    {
     "data": {
      "text/plain": [
       "array([ 1.,  1.,  1.,  1.,  1.,  1.,  1.,  1.,  1.,  1.])"
      ]
     },
     "execution_count": 11,
     "metadata": {},
     "output_type": "execute_result"
    }
   ],
   "source": [
    "## Create an array of ones\n",
    "np.ones(10)"
   ]
  },
  {
   "cell_type": "code",
   "execution_count": 12,
   "metadata": {
    "collapsed": false
   },
   "outputs": [
    {
     "data": {
      "text/plain": [
       "array([ 0.20584688,  0.52138086,  0.21217866,  0.79283033,  0.73930636,\n",
       "        0.87695951,  0.08141891,  0.73300826,  0.48990054,  0.75803697])"
      ]
     },
     "execution_count": 12,
     "metadata": {},
     "output_type": "execute_result"
    }
   ],
   "source": [
    "## Create random arrays\n",
    "## Uniform random numbers between 0 and 1\n",
    "np.random.rand(10)"
   ]
  },
  {
   "cell_type": "code",
   "execution_count": null,
   "metadata": {
    "collapsed": false
   },
   "outputs": [],
   "source": [
    "help(np.random.rand)"
   ]
  },
  {
   "cell_type": "code",
   "execution_count": 13,
   "metadata": {
    "collapsed": false
   },
   "outputs": [
    {
     "data": {
      "text/plain": [
       "array([ 0.47094418,  1.79184956, -1.11353344, -0.69148237, -2.24105076,\n",
       "        0.43194884, -0.6931407 ,  1.73974642, -0.25186655,  0.82703648])"
      ]
     },
     "execution_count": 13,
     "metadata": {},
     "output_type": "execute_result"
    }
   ],
   "source": [
    "## Normally distributed random numbers\n",
    "np.random.randn(10)"
   ]
  },
  {
   "cell_type": "code",
   "execution_count": null,
   "metadata": {
    "collapsed": false
   },
   "outputs": [],
   "source": [
    "help(np.random.randn)"
   ]
  },
  {
   "cell_type": "code",
   "execution_count": 14,
   "metadata": {
    "collapsed": false
   },
   "outputs": [
    {
     "data": {
      "text/plain": [
       "array([8, 8, 8, 3, 4, 7, 4, 2, 7, 6])"
      ]
     },
     "execution_count": 14,
     "metadata": {},
     "output_type": "execute_result"
    }
   ],
   "source": [
    "## Random integers\n",
    "## Parameters: low, high(exclusive), size\n",
    "np.random.randint(0, 10, 10)"
   ]
  },
  {
   "cell_type": "code",
   "execution_count": 15,
   "metadata": {
    "collapsed": false
   },
   "outputs": [
    {
     "name": "stdout",
     "output_type": "stream",
     "text": [
      "1\n",
      "2\n",
      "3\n"
     ]
    }
   ],
   "source": [
    "for n in myarray:\n",
    "    print n"
   ]
  },
  {
   "cell_type": "markdown",
   "metadata": {},
   "source": [
    "#### Numpy Array Attributes"
   ]
  },
  {
   "cell_type": "markdown",
   "metadata": {},
   "source": [
    "<table align=\"left\">\n",
    "<tr><td style=\"text-align:center\"><b>Attribute</b></td><td><b>Description</b></td></tr>\n",
    "<tr><td style=\"text-align:center\">`ndim`</td><td>The number of dimensions</td></tr>\n",
    "<tr><td style=\"text-align:center\">`shape`</td><td>A tuple specifying the size of each dimension</td></tr>\n",
    "<tr><td style=\"text-align:center\">`size`</td><td>The total number of elements in the array</td></tr>\n",
    "<tr><td style=\"text-align:center\">`dtype`</td><td>The data type of the array elements</td></tr>\n",
    "<tr><td style=\"text-align:center\">`itemsize`</td><td>The size (in bytes) of each array element</td></tr>\n",
    "</table>\n"
   ]
  },
  {
   "cell_type": "markdown",
   "metadata": {},
   "source": [
    "Mathematical operations for arrays:\n",
    "\n",
    "[http://docs.scipy.org/doc/numpy/reference/routines.math.html](http://docs.scipy.org/doc/numpy/reference/routines.math.html)\n",
    "\n",
    "Statistical operations for arrays:\n",
    "\n",
    "[http://docs.scipy.org/doc/numpy/reference/routines.statistics.html](http://docs.scipy.org/doc/numpy/reference/routines.statistics.html)\n",
    "\n",
    "Linear algebra operations:\n",
    "\n",
    "[http://docs.scipy.org/doc/numpy/reference/routines.linalg.html](http://docs.scipy.org/doc/numpy/reference/routines.linalg.html)"
   ]
  },
  {
   "cell_type": "code",
   "execution_count": 16,
   "metadata": {
    "collapsed": false
   },
   "outputs": [
    {
     "data": {
      "text/plain": [
       "dtype('int64')"
      ]
     },
     "execution_count": 16,
     "metadata": {},
     "output_type": "execute_result"
    }
   ],
   "source": [
    "myarray.dtype"
   ]
  },
  {
   "cell_type": "code",
   "execution_count": 17,
   "metadata": {
    "collapsed": false
   },
   "outputs": [
    {
     "data": {
      "text/plain": [
       "6"
      ]
     },
     "execution_count": 17,
     "metadata": {},
     "output_type": "execute_result"
    }
   ],
   "source": [
    "np.sum(myarray)"
   ]
  },
  {
   "cell_type": "code",
   "execution_count": 18,
   "metadata": {
    "collapsed": false
   },
   "outputs": [
    {
     "data": {
      "text/plain": [
       "array([1, 2, 3])"
      ]
     },
     "execution_count": 18,
     "metadata": {},
     "output_type": "execute_result"
    }
   ],
   "source": [
    "myarray"
   ]
  },
  {
   "cell_type": "markdown",
   "metadata": {},
   "source": [
    "### Element-wise Operations"
   ]
  },
  {
   "cell_type": "code",
   "execution_count": 19,
   "metadata": {
    "collapsed": false
   },
   "outputs": [
    {
     "data": {
      "text/plain": [
       "array([ 0.,  1.,  2.,  3.,  4.,  5.,  6.,  7.,  8.,  9.])"
      ]
     },
     "execution_count": 19,
     "metadata": {},
     "output_type": "execute_result"
    }
   ],
   "source": [
    "sample_array = np.arange(10, dtype=\"float\")\n",
    "sample_array"
   ]
  },
  {
   "cell_type": "code",
   "execution_count": 20,
   "metadata": {
    "collapsed": false
   },
   "outputs": [
    {
     "data": {
      "text/plain": [
       "array([ 0. ,  0.5,  1. ,  1.5,  2. ,  2.5,  3. ,  3.5,  4. ,  4.5])"
      ]
     },
     "execution_count": 20,
     "metadata": {},
     "output_type": "execute_result"
    }
   ],
   "source": [
    "sample_array/2"
   ]
  },
  {
   "cell_type": "code",
   "execution_count": 21,
   "metadata": {
    "collapsed": false
   },
   "outputs": [
    {
     "data": {
      "text/plain": [
       "array([  0.,   3.,   6.,   9.,  12.,  15.,  18.,  21.,  24.,  27.])"
      ]
     },
     "execution_count": 21,
     "metadata": {},
     "output_type": "execute_result"
    }
   ],
   "source": [
    "sample_array*3"
   ]
  },
  {
   "cell_type": "markdown",
   "metadata": {},
   "source": [
    "### Boolean Indexing"
   ]
  },
  {
   "cell_type": "code",
   "execution_count": 22,
   "metadata": {
    "collapsed": false
   },
   "outputs": [
    {
     "data": {
      "text/plain": [
       "array([ True,  True,  True, False, False, False, False, False, False, False], dtype=bool)"
      ]
     },
     "execution_count": 22,
     "metadata": {},
     "output_type": "execute_result"
    }
   ],
   "source": [
    "idx = sample_array < 3\n",
    "idx"
   ]
  },
  {
   "cell_type": "code",
   "execution_count": 23,
   "metadata": {
    "collapsed": false
   },
   "outputs": [
    {
     "data": {
      "text/plain": [
       "array([ 0.,  1.,  2.])"
      ]
     },
     "execution_count": 23,
     "metadata": {},
     "output_type": "execute_result"
    }
   ],
   "source": [
    "sample_array[idx]"
   ]
  },
  {
   "cell_type": "code",
   "execution_count": 24,
   "metadata": {
    "collapsed": false
   },
   "outputs": [
    {
     "data": {
      "text/plain": [
       "array([ True,  True,  True, False, False, False, False,  True,  True,  True], dtype=bool)"
      ]
     },
     "execution_count": 24,
     "metadata": {},
     "output_type": "execute_result"
    }
   ],
   "source": [
    "idx2 = (sample_array < 3) | (sample_array > 6)\n",
    "idx2"
   ]
  },
  {
   "cell_type": "code",
   "execution_count": 26,
   "metadata": {
    "collapsed": false
   },
   "outputs": [
    {
     "data": {
      "text/plain": [
       "array([ 0.,  1.,  2.])"
      ]
     },
     "execution_count": 26,
     "metadata": {},
     "output_type": "execute_result"
    }
   ],
   "source": [
    "sample_array[sample_array < 3]"
   ]
  },
  {
   "cell_type": "markdown",
   "metadata": {},
   "source": [
    "## Plotting with `matplotlib`\n",
    "\n",
    "- Matplotlib is strongly influenced by Matlab\n",
    "- A large variety of visualizations are possible\n",
    "    - [http://matplotlib.sourceforge.net/gallery.html](http://matplotlib.sourceforge.net/gallery.html)\n",
    "- Numeric data is converted to numpy arrays for efficient processing and visualization"
   ]
  },
  {
   "cell_type": "markdown",
   "metadata": {},
   "source": [
    "<b>Visualization is essential for bioinformatics</b>--particularly when analyzing high-throughput datasets. Analyses and visualizations need to be reproducible and (often) automated.\n",
    "\n",
    "<img src=\"heat_map.jpg\" align=\"left\" width=\"500\" />"
   ]
  },
  {
   "cell_type": "code",
   "execution_count": 27,
   "metadata": {
    "collapsed": false
   },
   "outputs": [
    {
     "data": {
      "text/plain": [
       "[<matplotlib.lines.Line2D at 0x10660a310>]"
      ]
     },
     "execution_count": 27,
     "metadata": {},
     "output_type": "execute_result"
    },
    {
     "data": {
      "image/png": "[encoded data removed]",
      "text/plain": [
       "<matplotlib.figure.Figure at 0x106544750>"
      ]
     },
     "metadata": {},
     "output_type": "display_data"
    }
   ],
   "source": [
    "## Use the plt.plot() function for simple plot creation\n",
    "## Give a single list (or array), and the x axis \n",
    "## will be filled with [0, 1, 2, ...]\n",
    "plt.plot([1,2,3,4])"
   ]
  },
  {
   "cell_type": "code",
   "execution_count": 28,
   "metadata": {
    "collapsed": false
   },
   "outputs": [
    {
     "data": {
      "image/png": "[encoded data removed]",
      "text/plain": [
       "<matplotlib.figure.Figure at 0x102764390>"
      ]
     },
     "metadata": {},
     "output_type": "display_data"
    }
   ],
   "source": [
    "## Use plt.savefig() to save a plot to an image file\n",
    "fig = plt.figure()\n",
    "plt.plot([1,2,3,4])\n",
    "fig.savefig('new_plot.png', format='png')"
   ]
  },
  {
   "cell_type": "code",
   "execution_count": 30,
   "metadata": {
    "collapsed": false
   },
   "outputs": [
    {
     "name": "stdout",
     "output_type": "stream",
     "text": [
      "Help on method savefig in module matplotlib.figure:\n",
      "\n",
      "savefig(self, *args, **kwargs) method of matplotlib.figure.Figure instance\n",
      "    Save the current figure.\n",
      "    \n",
      "    Call signature::\n",
      "    \n",
      "      savefig(fname, dpi=None, facecolor='w', edgecolor='w',\n",
      "              orientation='portrait', papertype=None, format=None,\n",
      "              transparent=False, bbox_inches=None, pad_inches=0.1,\n",
      "              frameon=None)\n",
      "    \n",
      "    The output formats available depend on the backend being used.\n",
      "    \n",
      "    Arguments:\n",
      "    \n",
      "      *fname*:\n",
      "        A string containing a path to a filename, or a Python\n",
      "        file-like object, or possibly some backend-dependent object\n",
      "        such as :class:`~matplotlib.backends.backend_pdf.PdfPages`.\n",
      "    \n",
      "        If *format* is *None* and *fname* is a string, the output\n",
      "        format is deduced from the extension of the filename. If\n",
      "        the filename has no extension, the value of the rc parameter\n",
      "        ``savefig.format`` is used.\n",
      "    \n",
      "        If *fname* is not a string, remember to specify *format* to\n",
      "        ensure that the correct backend is used.\n",
      "    \n",
      "    Keyword arguments:\n",
      "    \n",
      "      *dpi*: [ *None* | ``scalar > 0`` | 'figure']\n",
      "        The resolution in dots per inch.  If *None* it will default to\n",
      "        the value ``savefig.dpi`` in the matplotlibrc file. If 'figure'\n",
      "        it will set the dpi to be the value of the figure.\n",
      "    \n",
      "      *facecolor*, *edgecolor*:\n",
      "        the colors of the figure rectangle\n",
      "    \n",
      "      *orientation*: [ 'landscape' | 'portrait' ]\n",
      "        not supported on all backends; currently only on postscript output\n",
      "    \n",
      "      *papertype*:\n",
      "        One of 'letter', 'legal', 'executive', 'ledger', 'a0' through\n",
      "        'a10', 'b0' through 'b10'. Only supported for postscript\n",
      "        output.\n",
      "    \n",
      "      *format*:\n",
      "        One of the file extensions supported by the active\n",
      "        backend.  Most backends support png, pdf, ps, eps and svg.\n",
      "    \n",
      "      *transparent*:\n",
      "        If *True*, the axes patches will all be transparent; the\n",
      "        figure patch will also be transparent unless facecolor\n",
      "        and/or edgecolor are specified via kwargs.\n",
      "        This is useful, for example, for displaying\n",
      "        a plot on top of a colored background on a web page.  The\n",
      "        transparency of these patches will be restored to their\n",
      "        original values upon exit of this function.\n",
      "    \n",
      "      *frameon*:\n",
      "        If *True*, the figure patch will be colored, if *False*, the\n",
      "        figure background will be transparent.  If not provided, the\n",
      "        rcParam 'savefig.frameon' will be used.\n",
      "    \n",
      "      *bbox_inches*:\n",
      "        Bbox in inches. Only the given portion of the figure is\n",
      "        saved. If 'tight', try to figure out the tight bbox of\n",
      "        the figure.\n",
      "    \n",
      "      *pad_inches*:\n",
      "        Amount of padding around the figure when bbox_inches is\n",
      "        'tight'.\n",
      "    \n",
      "      *bbox_extra_artists*:\n",
      "        A list of extra artists that will be considered when the\n",
      "        tight bbox is calculated.\n",
      "\n"
     ]
    }
   ],
   "source": [
    "help(fig.savefig)"
   ]
  },
  {
   "cell_type": "code",
   "execution_count": 29,
   "metadata": {
    "collapsed": false
   },
   "outputs": [
    {
     "data": {
      "text/plain": [
       "[<matplotlib.lines.Line2D at 0x1068b2110>]"
      ]
     },
     "execution_count": 29,
     "metadata": {},
     "output_type": "execute_result"
    },
    {
     "data": {
      "image/png": "[encoded data removed]",
      "text/plain": [
       "<matplotlib.figure.Figure at 0x1065aea90>"
      ]
     },
     "metadata": {},
     "output_type": "display_data"
    }
   ],
   "source": [
    "## Add values for two axes and alter the line appearance\n",
    "## The line can be formatted with a string\n",
    "## linestyle, marker, color\n",
    "plt.plot([1,2,3,4], [1,4,9,16], \":sr\")"
   ]
  },
  {
   "cell_type": "markdown",
   "metadata": {},
   "source": [
    "Line styles: [http://matplotlib.org/api/lines_api.html#matplotlib.lines.Line2D.set_linestyle](http://matplotlib.org/api/lines_api.html#matplotlib.lines.Line2D.set_linestyle)\n",
    "\n",
    "Markers: [http://matplotlib.org/api/markers_api.html#module-matplotlib.markers](http://matplotlib.org/api/markers_api.html#module-matplotlib.markers)\n",
    "\n",
    "Colors: [http://matplotlib.org/api/colors_api.html](http://matplotlib.org/api/colors_api.html)"
   ]
  },
  {
   "cell_type": "code",
   "execution_count": 31,
   "metadata": {
    "collapsed": false
   },
   "outputs": [
    {
     "data": {
      "image/png": "[encoded data removed]",
      "text/plain": [
       "<matplotlib.figure.Figure at 0x1065bc050>"
      ]
     },
     "metadata": {},
     "output_type": "display_data"
    }
   ],
   "source": [
    "## Change appearance of axes\n",
    "fig = plt.figure()\n",
    "plt.title(\"My Plot\", fontsize=20)\n",
    "plt.xlabel(\"Time\", fontsize=20)\n",
    "plt.ylabel(\"Intensity\", fontsize=20)\n",
    "plt.ylim(0,20)\n",
    "plt.xlim(0,6)\n",
    "## Plot multiple data sets\n",
    "plt.plot([1,2,3,4], [1,4,9,16], \":sr\")\n",
    "plt.plot([1,2,3,4,5], [1.5,3,4,10,18], \"--^g\")\n",
    "fig.savefig(\"new_plot.png\", format=\"png\")"
   ]
  },
  {
   "cell_type": "code",
   "execution_count": 32,
   "metadata": {
    "collapsed": false
   },
   "outputs": [],
   "source": [
    "## Customize using a configuration file\n",
    "import matplotlib as mpl\n",
    "mpl.rcParams[\"lines.linewidth\"] = 5\n",
    "mpl.rcParams[\"font.family\"] = \"fantasy\""
   ]
  },
  {
   "cell_type": "markdown",
   "metadata": {},
   "source": [
    "[http://matplotlib.sourceforge.net/users/customizing.html#a-sample-matplotlibrc-file](http://matplotlib.sourceforge.net/users/customizing.html#a-sample-matplotlibrc-file)"
   ]
  },
  {
   "cell_type": "code",
   "execution_count": 33,
   "metadata": {
    "collapsed": false
   },
   "outputs": [
    {
     "data": {
      "text/plain": [
       "[<matplotlib.lines.Line2D at 0x1068c7850>]"
      ]
     },
     "execution_count": 33,
     "metadata": {},
     "output_type": "execute_result"
    },
    {
     "data": {
      "image/png": "[encoded data removed]",
      "text/plain": [
       "<matplotlib.figure.Figure at 0x1068e4190>"
      ]
     },
     "metadata": {},
     "output_type": "display_data"
    }
   ],
   "source": [
    "#fig = plt.figure()\n",
    "plt.title(\"My Plot\", fontsize=20)\n",
    "plt.plot([1,2,3,4], [1,4,9,16])\n",
    "#fig.savefig(\"new_plot.png\", format=\"png\")"
   ]
  },
  {
   "cell_type": "code",
   "execution_count": 34,
   "metadata": {
    "collapsed": false
   },
   "outputs": [
    {
     "data": {
      "text/plain": [
       "<matplotlib.legend.Legend at 0x106d2ff90>"
      ]
     },
     "execution_count": 34,
     "metadata": {},
     "output_type": "execute_result"
    },
    {
     "data": {
      "image/png": "[encoded data removed]",
      "text/plain": [
       "<matplotlib.figure.Figure at 0x106b62d50>"
      ]
     },
     "metadata": {},
     "output_type": "display_data"
    }
   ],
   "source": [
    "## Create a legend for the plot\n",
    "plt.title(\"My Plot\", fontsize=20)\n",
    "plt.plot([1,2,3,4], [1,4,9,16], \":sr\")\n",
    "plt.plot([1,2,3,4,5], [1.5,3,4,10,18], \"--g^\")\n",
    "plt.legend([\"first result\", \"second result\"], loc=0)"
   ]
  },
  {
   "cell_type": "code",
   "execution_count": 35,
   "metadata": {
    "collapsed": false
   },
   "outputs": [
    {
     "data": {
      "text/plain": [
       "<matplotlib.legend.Legend at 0x106e1abd0>"
      ]
     },
     "execution_count": 35,
     "metadata": {},
     "output_type": "execute_result"
    },
    {
     "data": {
      "image/png": "[encoded data removed]",
      "text/plain": [
       "<matplotlib.figure.Figure at 0x106b3b090>"
      ]
     },
     "metadata": {},
     "output_type": "display_data"
    }
   ],
   "source": [
    "## Customize the legend\n",
    "plt.title(\"My Plot\", fontsize=20)\n",
    "plt.plot([1,2,3,4], [1,4,9,16], \":sr\")\n",
    "plt.plot([1,2,3,4,5], [1.5,3,4,10,18], \"--^g\")\n",
    "plt.legend([\"first result\", \"second result\"], loc=0, fancybox=True, shadow=True, title=\"my legend\")"
   ]
  },
  {
   "cell_type": "code",
   "execution_count": 36,
   "metadata": {
    "collapsed": false
   },
   "outputs": [
    {
     "data": {
      "text/plain": [
       "<matplotlib.legend.Legend at 0x107875450>"
      ]
     },
     "execution_count": 36,
     "metadata": {},
     "output_type": "execute_result"
    },
    {
     "data": {
      "image/png": "[encoded data removed]",
      "text/plain": [
       "<matplotlib.figure.Figure at 0x106d84250>"
      ]
     },
     "metadata": {},
     "output_type": "display_data"
    }
   ],
   "source": [
    "## Annotate the plot\n",
    "plt.title(\"My Plot\", fontsize=20)\n",
    "plt.ylim(0,20)\n",
    "plt.xlim(-2,6)\n",
    "plt.plot([1,2,3,4], [1,4,9,16], \":sr\")\n",
    "plt.plot([1,2,3,4,5], [1.5,3,4,10,18], \"--^g\")\n",
    "plt.annotate(\"point of divergence!\", xy=(-1,7.5), fontsize=15, color=\"purple\")\n",
    "plt.legend([\"first result\", \"second result\"], loc=0, fancybox=True, shadow=True, title=\"my legend\")"
   ]
  },
  {
   "cell_type": "code",
   "execution_count": 39,
   "metadata": {
    "collapsed": false
   },
   "outputs": [
    {
     "data": {
      "text/plain": [
       "<matplotlib.legend.Legend at 0x107d54a10>"
      ]
     },
     "execution_count": 39,
     "metadata": {},
     "output_type": "execute_result"
    },
    {
     "data": {
      "image/png": "[encoded data removed]",
      "text/plain": [
       "<matplotlib.figure.Figure at 0x106686f50>"
      ]
     },
     "metadata": {},
     "output_type": "display_data"
    }
   ],
   "source": [
    "## Annotate the plot\n",
    "plt.title(\"My Plot\", fontsize=20)\n",
    "plt.ylim(0,20)\n",
    "plt.xlim(-2,6)\n",
    "plt.plot([1,2,3,4], [1,4,9,16], \":sr\")\n",
    "plt.plot([1,2,3,4,5], [1.5,3,4,10,18], \"--g^\")\n",
    "plt.annotate(\"point of divergence!\", xytext=(-1,7.5), fontsize=15, color=\"purple\", arrowprops={\"facecolor\":\"orange\"}, xy=(1.35,2.5), bbox=dict(boxstyle=\"sawtooth\", color=\"orange\"))\n",
    "plt.legend([\"first result\", \"second result\"], loc=0, fancybox=True, shadow=True, title=\"my legend\")"
   ]
  },
  {
   "cell_type": "markdown",
   "metadata": {},
   "source": [
    "#### Other Plot Types"
   ]
  },
  {
   "cell_type": "code",
   "execution_count": 40,
   "metadata": {
    "collapsed": false
   },
   "outputs": [
    {
     "data": {
      "text/plain": [
       "(array([  2.,   0.,   0.,   2.,   1.,   3.,   6.,   2.,   4.,  11.,   9.,\n",
       "         16.,   5.,   9.,  10.,   5.,   9.,   1.,   3.,   2.]),\n",
       " array([-2.62520283, -2.38382947, -2.14245612, -1.90108276, -1.6597094 ,\n",
       "        -1.41833604, -1.17696268, -0.93558933, -0.69421597, -0.45284261,\n",
       "        -0.21146925,  0.02990411,  0.27127746,  0.51265082,  0.75402418,\n",
       "         0.99539754,  1.23677089,  1.47814425,  1.71951761,  1.96089097,\n",
       "         2.20226433]),\n",
       " <a list of 20 Patch objects>)"
      ]
     },
     "execution_count": 40,
     "metadata": {},
     "output_type": "execute_result"
    },
    {
     "data": {
      "image/png": "[encoded data removed]",
      "text/plain": [
       "<matplotlib.figure.Figure at 0x1066c4bd0>"
      ]
     },
     "metadata": {},
     "output_type": "display_data"
    }
   ],
   "source": [
    "## Histogram\n",
    "data = np.random.randn(100)\n",
    "plt.title(\"My Histogram\")\n",
    "plt.hist(data, bins=20)"
   ]
  },
  {
   "cell_type": "code",
   "execution_count": 41,
   "metadata": {
    "collapsed": false
   },
   "outputs": [
    {
     "data": {
      "image/png": "[encoded data removed]",
      "text/plain": [
       "<matplotlib.figure.Figure at 0x10802c150>"
      ]
     },
     "metadata": {},
     "output_type": "display_data"
    }
   ],
   "source": [
    "## Bar plot\n",
    "width = 0.5\n",
    "locations = np.arange(1,6)\n",
    "plt.bar(locations, np.array([1,2,3,4,5]), width=width)\n",
    "plt.xlim(.5,6)\n",
    "plt.ylim(0,7)\n",
    "ticks1 = plt.xticks(locations+width/2, [\"sample1\", \"sample2\", \"sample3\", \"sample4\", \"sample5\"])"
   ]
  },
  {
   "cell_type": "code",
   "execution_count": 42,
   "metadata": {
    "collapsed": false
   },
   "outputs": [
    {
     "data": {
      "image/png": "[encoded data removed]",
      "text/plain": [
       "<matplotlib.figure.Figure at 0x1082cc850>"
      ]
     },
     "metadata": {},
     "output_type": "display_data"
    }
   ],
   "source": [
    "## Pie chart\n",
    "data1 = np.array([1,2,3,4,5])**2\n",
    "labs = [\"a\",\"b\",\"c\",\"d\",\"e\"]\n",
    "pie1 = plt.pie(data1,labels=labs)"
   ]
  },
  {
   "cell_type": "code",
   "execution_count": 43,
   "metadata": {
    "collapsed": false
   },
   "outputs": [
    {
     "data": {
      "image/png": "[encoded data removed]",
      "text/plain": [
       "<matplotlib.figure.Figure at 0x106823490>"
      ]
     },
     "metadata": {},
     "output_type": "display_data"
    }
   ],
   "source": [
    "## Box plot\n",
    "mpl.rcParams[\"lines.linewidth\"] = 2\n",
    "x1 = np.random.normal(0,1,30)\n",
    "x2 = np.random.normal(3,1,50)\n",
    "box1 = plt.boxplot([x1,x2])"
   ]
  },
  {
   "cell_type": "code",
   "execution_count": 44,
   "metadata": {
    "collapsed": false
   },
   "outputs": [
    {
     "data": {
      "image/png": "[encoded data removed]",
      "text/plain": [
       "<matplotlib.figure.Figure at 0x108568c90>"
      ]
     },
     "metadata": {},
     "output_type": "display_data"
    }
   ],
   "source": [
    "## Combining multiple plots using subplots\n",
    "## Subplot takes 3 arguments: rows, columns, plot number\n",
    "fig = plt.figure()\n",
    "## First subplot - Histogram\n",
    "plt.subplot(2, 1, 1)\n",
    "plt.hist(np.random.randn(100), bins=20)\n",
    "plt.title(\"My Histogram\")\n",
    "\n",
    "## Second subplot - Lines\n",
    "plt.subplot(2, 1, 2)\n",
    "plt.plot([1,2,3,4],[1,4,9,16], \":rs\")\n",
    "plt.title(\"My Plot\")\n",
    "plt.xlabel(\"Time\")\n",
    "plt.ylabel(\"Intensity\")\n",
    "plt.ylim(0,20)\n",
    "plt.xlim(0,6)\n",
    "plt.plot([1,2,3,4,5],[1.5,3,4,10,18],\"--g^\")\n",
    "fig.tight_layout() ## improves spacing between subplots\n",
    "fig.savefig(\"new_plot.png\", format=\"png\")"
   ]
  },
  {
   "cell_type": "markdown",
   "metadata": {},
   "source": [
    "## SciPy"
   ]
  },
  {
   "cell_type": "markdown",
   "metadata": {},
   "source": [
    "### Mann-Whitney Rank Test"
   ]
  },
  {
   "cell_type": "code",
   "execution_count": 45,
   "metadata": {
    "collapsed": false
   },
   "outputs": [
    {
     "name": "stdout",
     "output_type": "stream",
     "text": [
      "x1 = [ 0.45405725 -0.41814543 -0.35540094 -1.24213642 -0.07500578 -1.01254339\n",
      "  0.13151699  1.42314862 -2.27076336 -0.47354895  0.05719785  0.8136769\n",
      "  0.3068406  -0.51991126 -0.05899789 -0.98278145  0.62681752 -1.21513814\n",
      " -0.50978497 -0.81525371  0.40436022 -0.75831157  2.09877658 -0.26764303\n",
      "  0.62338356 -0.39265479 -1.69258181 -0.93384154 -0.99082303 -1.13944709]\n",
      "x2 = [ 3.81927552  3.28248259  4.68108689  3.32142308  4.6903627   2.90675201\n",
      "  4.52062848  2.88547738  3.74375909  3.76581098  1.19230862  3.39376473\n",
      "  3.00570507  1.46830413  4.23280123  2.68255716  1.7378779   3.27621231\n",
      "  3.6700042   2.92532382  4.96825844  4.22660214  4.23027844  2.92032063\n",
      "  1.95196564  3.08678993  3.12127773  2.75980207  2.50075625  2.09043967\n",
      "  3.00934006  4.48736963  2.70505286  2.17004525  3.13405579  2.07265412\n",
      "  1.49682663  1.56650667  1.99804447  2.26368486  2.85415503  3.0114514\n",
      "  3.68588673  4.78060871  3.11243222  1.97749345  4.29894826  3.64478404\n",
      "  2.6419933   2.91587915]\n",
      "U = 11.0\n",
      "P-value = 1.07379379984e-13\n"
     ]
    }
   ],
   "source": [
    "from scipy import stats\n",
    "u, p = stats.mannwhitneyu(x1, x2)\n",
    "print \"x1 =\", x1\n",
    "print \"x2 =\", x2\n",
    "print \"U =\", u\n",
    "print \"P-value =\", p"
   ]
  },
  {
   "cell_type": "markdown",
   "metadata": {},
   "source": [
    "## In-Class Exercises"
   ]
  },
  {
   "cell_type": "code",
   "execution_count": 47,
   "metadata": {
    "collapsed": false
   },
   "outputs": [
    {
     "name": "stdout",
     "output_type": "stream",
     "text": [
      "52\n"
     ]
    }
   ],
   "source": [
    "## Exercise 1.\n",
    "## Use the np.random.normal(5, 1, 100) function to \n",
    "## create an array of 100 random numbers.\n",
    "## Mean = 5, SD = 1\n",
    "## Count how many random numbers are greater than 5\n",
    "## \n",
    "rand_array = np.random.normal(5, 1, 100)\n",
    "num_gt5 = len(rand_array[rand_array > 5])\n",
    "#num_gt5 = sum(rand_array > 5)\n",
    "print num_gt5"
   ]
  },
  {
   "cell_type": "code",
   "execution_count": null,
   "metadata": {
    "collapsed": false
   },
   "outputs": [],
   "source": [
    "## Exercise 2.\n",
    "## Given the following data:\n",
    "## Plot x vs. y\n",
    "## Create a boxplot of y\n",
    "## Combine the two plots into a single figure\n",
    "x = [i*(np.pi/10) for i in range(0,50)]\n",
    "y = np.sin(x)\n",
    "\n"
   ]
  },
  {
   "cell_type": "markdown",
   "metadata": {},
   "source": [
    "## References\n",
    "\n",
    "- Python for Bioinformatics, Sebastian Bassi, CRC Press (2010)\n",
    "- [http://docs.scipy.org/doc/numpy/reference/index.html](http://docs.scipy.org/doc/numpy/reference/index.html)\n",
    "- [http://matplotlib.org/contents.html](http://matplotlib.org/contents.html)\n",
    "- [http://docs.scipy.org/doc/scipy-0.14.0/reference/generated/scipy.stats.mannwhitneyu.html](http://docs.scipy.org/doc/scipy-0.14.0/reference/generated/scipy.stats.mannwhitneyu.html)"
   ]
  },
  {
   "cell_type": "markdown",
   "metadata": {},
   "source": [
    "#### Last Updated: 26-Oct-2015"
   ]
  }
 ],
 "metadata": {
  "kernelspec": {
   "display_name": "Python 2",
   "language": "python",
   "name": "python2"
  },
  "language_info": {
   "codemirror_mode": {
    "name": "ipython",
    "version": 2
   },
   "file_extension": ".py",
   "mimetype": "text/x-python",
   "name": "python",
   "nbconvert_exporter": "python",
   "pygments_lexer": "ipython2",
   "version": "2.7.10"
  }
 },
 "nbformat": 4,
 "nbformat_minor": 0
}
