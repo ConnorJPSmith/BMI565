{
 "cells": [
  {
   "cell_type": "markdown",
   "metadata": {},
   "source": [
    "# BMI565: Bioinformatics Programming & Scripting"
   ]
  },
  {
   "cell_type": "markdown",
   "metadata": {},
   "source": [
    "#### (C) Michael Mooney (mooneymi@ohsu.edu)"
   ]
  },
  {
   "cell_type": "markdown",
   "metadata": {},
   "source": [
    "## Week 8: NumPy and matplotlib"
   ]
  },
  {
   "cell_type": "markdown",
   "metadata": {},
   "source": [
    "1. Scientific Computing in Python\n",
    "2. Numpy\n",
    "    - Numpy Arrays\n",
    "    - Element-wise Operations\n",
    "    - Boolean Indexing\n",
    "3. Plotting with `matplotlib`\n",
    "4. Scipy\n",
    "    - Mann-Whitney Rank Test"
   ]
  },
  {
   "cell_type": "markdown",
   "metadata": {},
   "source": [
    "#### Requirements\n",
    "\n",
    "- Python 2.7\n",
    "- `numpy` module\n",
    "- `matplotlib` module\n",
    "- `scipy` module\n",
    "- Miscellaneous Files\n",
    "    - `./images/heat_map.jpg`"
   ]
  },
  {
   "cell_type": "markdown",
   "metadata": {},
   "source": [
    "## Scientific Computing Packages\n",
    "\n",
    "- <b>Numpy</b>: provides support for creating and efficiently manipulation large data structures (arrays, multi-dimensional arrays, matrices, etc.)\n",
    "- <b>Matplotlib</b>: provides visualization of data through graphical plots (requires numpy)\n",
    "- <b>Scipy</b>: provides a collection of mathematical algorithms for scientific computing\n",
    "- Scikit-learn: a collection of machine-learning algorithms\n",
    "- Pandas: data analysis tools, including specialized data structures\n",
    "- Statistical Packages:\n",
    "    - Statsmodels: \n",
    "    - Rpy2: provides an interface between Python and R"
   ]
  },
  {
   "cell_type": "code",
   "execution_count": 1,
   "metadata": {
    "collapsed": false
   },
   "outputs": [],
   "source": [
    "## The following line is only needed inside the Jupyter \n",
    "## notebook, it is not a Python statement\n",
    "%matplotlib inline"
   ]
  },
  {
   "cell_type": "code",
   "execution_count": 2,
   "metadata": {
    "collapsed": false
   },
   "outputs": [],
   "source": [
    "import numpy as np\n",
    "import matplotlib.pyplot as plt\n",
    "import scipy as sp"
   ]
  },
  {
   "cell_type": "markdown",
   "metadata": {},
   "source": [
    "## Numpy\n",
    "\n",
    "### Numpy Arrays\n",
    "\n",
    "Why are numpy arrays so efficient?\n",
    "- Arrays are of a fixed size\n",
    "- Stored in contiguous blocks of memory\n",
    "- Arrays contain a single data type\n",
    "- Vectorized (element-wise) operations\n",
    "\n",
    "Indexing, slicing and iterating over arrays works the same as for lists. "
   ]
  },
  {
   "cell_type": "code",
   "execution_count": 3,
   "metadata": {
    "collapsed": false
   },
   "outputs": [
    {
     "data": {
      "text/plain": [
       "array([1, 2, 3])"
      ]
     },
     "execution_count": 3,
     "metadata": {},
     "output_type": "execute_result"
    }
   ],
   "source": [
    "## Create an array from a list\n",
    "myarray = np.array([1,2,3])\n",
    "myarray"
   ]
  },
  {
   "cell_type": "code",
   "execution_count": 4,
   "metadata": {
    "collapsed": false
   },
   "outputs": [
    {
     "data": {
      "text/plain": [
       "array([[1, 2, 3],\n",
       "       [4, 5, 6]])"
      ]
     },
     "execution_count": 4,
     "metadata": {},
     "output_type": "execute_result"
    }
   ],
   "source": [
    "## Create a multi-dimensional array from a list of lists\n",
    "myarray2 = np.array([[1,2,3],[4,5,6]])\n",
    "myarray2"
   ]
  },
  {
   "cell_type": "code",
   "execution_count": 5,
   "metadata": {
    "collapsed": false
   },
   "outputs": [
    {
     "data": {
      "text/plain": [
       "(2, 3)"
      ]
     },
     "execution_count": 5,
     "metadata": {},
     "output_type": "execute_result"
    }
   ],
   "source": [
    "## Get the dimensions of the array\n",
    "myarray2.shape"
   ]
  },
  {
   "cell_type": "code",
   "execution_count": 6,
   "metadata": {
    "collapsed": false
   },
   "outputs": [
    {
     "data": {
      "text/plain": [
       "array([[2, 3],\n",
       "       [5, 6]])"
      ]
     },
     "execution_count": 6,
     "metadata": {},
     "output_type": "execute_result"
    }
   ],
   "source": [
    "## Subset the array using indices\n",
    "myarray2[0:2,1:3]"
   ]
  },
  {
   "cell_type": "code",
   "execution_count": 7,
   "metadata": {
    "collapsed": false
   },
   "outputs": [
    {
     "data": {
      "text/plain": [
       "array([0, 1, 2, 3, 4, 5, 6, 7, 8, 9])"
      ]
     },
     "execution_count": 7,
     "metadata": {},
     "output_type": "execute_result"
    }
   ],
   "source": [
    "## Create a range as an array\n",
    "np.arange(10)"
   ]
  },
  {
   "cell_type": "code",
   "execution_count": 8,
   "metadata": {
    "collapsed": false
   },
   "outputs": [
    {
     "data": {
      "text/plain": [
       "array([ 0.,  0.,  0.,  0.,  0.,  0.,  0.,  0.,  0.,  0.])"
      ]
     },
     "execution_count": 8,
     "metadata": {},
     "output_type": "execute_result"
    }
   ],
   "source": [
    "## Create an array of zeros\n",
    "np.zeros(10)"
   ]
  },
  {
   "cell_type": "code",
   "execution_count": 9,
   "metadata": {
    "collapsed": false
   },
   "outputs": [
    {
     "data": {
      "text/plain": [
       "array([ 1.,  1.,  1.,  1.,  1.,  1.,  1.,  1.,  1.,  1.])"
      ]
     },
     "execution_count": 9,
     "metadata": {},
     "output_type": "execute_result"
    }
   ],
   "source": [
    "## Create an array of ones\n",
    "np.ones(10)"
   ]
  },
  {
   "cell_type": "code",
   "execution_count": 10,
   "metadata": {
    "collapsed": false
   },
   "outputs": [
    {
     "data": {
      "text/plain": [
       "array([ 0.30262948,  0.07590888,  0.32380238,  0.36282856,  0.34434737,\n",
       "        0.89319558,  0.78592469,  0.36102403,  0.9148009 ,  0.26678728])"
      ]
     },
     "execution_count": 10,
     "metadata": {},
     "output_type": "execute_result"
    }
   ],
   "source": [
    "## Create random arrays\n",
    "## Uniform random numbers between 0 and 1\n",
    "np.random.rand(10)"
   ]
  },
  {
   "cell_type": "code",
   "execution_count": 11,
   "metadata": {
    "collapsed": false
   },
   "outputs": [
    {
     "name": "stdout",
     "output_type": "stream",
     "text": [
      "Help on built-in function rand:\n",
      "\n",
      "rand(...)\n",
      "    rand(d0, d1, ..., dn)\n",
      "    \n",
      "    Random values in a given shape.\n",
      "    \n",
      "    Create an array of the given shape and populate it with\n",
      "    random samples from a uniform distribution\n",
      "    over ``[0, 1)``.\n",
      "    \n",
      "    Parameters\n",
      "    ----------\n",
      "    d0, d1, ..., dn : int, optional\n",
      "        The dimensions of the returned array, should all be positive.\n",
      "        If no argument is given a single Python float is returned.\n",
      "    \n",
      "    Returns\n",
      "    -------\n",
      "    out : ndarray, shape ``(d0, d1, ..., dn)``\n",
      "        Random values.\n",
      "    \n",
      "    See Also\n",
      "    --------\n",
      "    random\n",
      "    \n",
      "    Notes\n",
      "    -----\n",
      "    This is a convenience function. If you want an interface that\n",
      "    takes a shape-tuple as the first argument, refer to\n",
      "    np.random.random_sample .\n",
      "    \n",
      "    Examples\n",
      "    --------\n",
      "    >>> np.random.rand(3,2)\n",
      "    array([[ 0.14022471,  0.96360618],  #random\n",
      "           [ 0.37601032,  0.25528411],  #random\n",
      "           [ 0.49313049,  0.94909878]]) #random\n",
      "\n"
     ]
    }
   ],
   "source": [
    "help(np.random.rand)"
   ]
  },
  {
   "cell_type": "code",
   "execution_count": 12,
   "metadata": {
    "collapsed": false
   },
   "outputs": [
    {
     "data": {
      "text/plain": [
       "array([ 0.40575881, -0.69198913,  0.61496061, -1.10886697, -0.63895926,\n",
       "       -0.48715842,  0.44192745, -0.45450364,  0.54622435,  0.74842334])"
      ]
     },
     "execution_count": 12,
     "metadata": {},
     "output_type": "execute_result"
    }
   ],
   "source": [
    "## Normally distributed random numbers\n",
    "np.random.randn(10)"
   ]
  },
  {
   "cell_type": "code",
   "execution_count": 13,
   "metadata": {
    "collapsed": false
   },
   "outputs": [
    {
     "name": "stdout",
     "output_type": "stream",
     "text": [
      "Help on built-in function randn:\n",
      "\n",
      "randn(...)\n",
      "    randn(d0, d1, ..., dn)\n",
      "    \n",
      "    Return a sample (or samples) from the \"standard normal\" distribution.\n",
      "    \n",
      "    If positive, int_like or int-convertible arguments are provided,\n",
      "    `randn` generates an array of shape ``(d0, d1, ..., dn)``, filled\n",
      "    with random floats sampled from a univariate \"normal\" (Gaussian)\n",
      "    distribution of mean 0 and variance 1 (if any of the :math:`d_i` are\n",
      "    floats, they are first converted to integers by truncation). A single\n",
      "    float randomly sampled from the distribution is returned if no\n",
      "    argument is provided.\n",
      "    \n",
      "    This is a convenience function.  If you want an interface that takes a\n",
      "    tuple as the first argument, use `numpy.random.standard_normal` instead.\n",
      "    \n",
      "    Parameters\n",
      "    ----------\n",
      "    d0, d1, ..., dn : int, optional\n",
      "        The dimensions of the returned array, should be all positive.\n",
      "        If no argument is given a single Python float is returned.\n",
      "    \n",
      "    Returns\n",
      "    -------\n",
      "    Z : ndarray or float\n",
      "        A ``(d0, d1, ..., dn)``-shaped array of floating-point samples from\n",
      "        the standard normal distribution, or a single such float if\n",
      "        no parameters were supplied.\n",
      "    \n",
      "    See Also\n",
      "    --------\n",
      "    random.standard_normal : Similar, but takes a tuple as its argument.\n",
      "    \n",
      "    Notes\n",
      "    -----\n",
      "    For random samples from :math:`N(\\mu, \\sigma^2)`, use:\n",
      "    \n",
      "    ``sigma * np.random.randn(...) + mu``\n",
      "    \n",
      "    Examples\n",
      "    --------\n",
      "    >>> np.random.randn()\n",
      "    2.1923875335537315 #random\n",
      "    \n",
      "    Two-by-four array of samples from N(3, 6.25):\n",
      "    \n",
      "    >>> 2.5 * np.random.randn(2, 4) + 3\n",
      "    array([[-4.49401501,  4.00950034, -1.81814867,  7.29718677],  #random\n",
      "           [ 0.39924804,  4.68456316,  4.99394529,  4.84057254]]) #random\n",
      "\n"
     ]
    }
   ],
   "source": [
    "help(np.random.randn)"
   ]
  },
  {
   "cell_type": "code",
   "execution_count": 14,
   "metadata": {
    "collapsed": false
   },
   "outputs": [
    {
     "data": {
      "text/plain": [
       "array([8, 7, 7, 4, 4, 2, 6, 5, 9, 0])"
      ]
     },
     "execution_count": 14,
     "metadata": {},
     "output_type": "execute_result"
    }
   ],
   "source": [
    "## Random integers\n",
    "## Parameters: low, high(exclusive), size\n",
    "np.random.randint(0, 10, 10)"
   ]
  },
  {
   "cell_type": "code",
   "execution_count": 15,
   "metadata": {
    "collapsed": false
   },
   "outputs": [
    {
     "name": "stdout",
     "output_type": "stream",
     "text": [
      "1\n",
      "2\n",
      "3\n"
     ]
    }
   ],
   "source": [
    "## You can iterate over an array just like a list\n",
    "for n in myarray:\n",
    "    print n"
   ]
  },
  {
   "cell_type": "markdown",
   "metadata": {},
   "source": [
    "#### Numpy Array Attributes"
   ]
  },
  {
   "cell_type": "markdown",
   "metadata": {},
   "source": [
    "<table align=\"left\">\n",
    "<tr><td style=\"text-align:center\"><b>Attribute</b></td><td><b>Description</b></td></tr>\n",
    "<tr><td style=\"text-align:center\">`ndim`</td><td>The number of dimensions</td></tr>\n",
    "<tr><td style=\"text-align:center\">`shape`</td><td>A tuple specifying the size of each dimension</td></tr>\n",
    "<tr><td style=\"text-align:center\">`size`</td><td>The total number of elements in the array</td></tr>\n",
    "<tr><td style=\"text-align:center\">`dtype`</td><td>The data type of the array elements</td></tr>\n",
    "<tr><td style=\"text-align:center\">`itemsize`</td><td>The size (in bytes) of each array element</td></tr>\n",
    "</table>\n"
   ]
  },
  {
   "cell_type": "markdown",
   "metadata": {},
   "source": [
    "Mathematical operations for arrays:\n",
    "\n",
    "[http://docs.scipy.org/doc/numpy/reference/routines.math.html](http://docs.scipy.org/doc/numpy/reference/routines.math.html)\n",
    "\n",
    "Statistical operations for arrays:\n",
    "\n",
    "[http://docs.scipy.org/doc/numpy/reference/routines.statistics.html](http://docs.scipy.org/doc/numpy/reference/routines.statistics.html)\n",
    "\n",
    "Linear algebra operations:\n",
    "\n",
    "[http://docs.scipy.org/doc/numpy/reference/routines.linalg.html](http://docs.scipy.org/doc/numpy/reference/routines.linalg.html)"
   ]
  },
  {
   "cell_type": "code",
   "execution_count": 16,
   "metadata": {
    "collapsed": false
   },
   "outputs": [
    {
     "data": {
      "text/plain": [
       "dtype('int64')"
      ]
     },
     "execution_count": 16,
     "metadata": {},
     "output_type": "execute_result"
    }
   ],
   "source": [
    "myarray.dtype"
   ]
  },
  {
   "cell_type": "code",
   "execution_count": 17,
   "metadata": {
    "collapsed": false
   },
   "outputs": [
    {
     "data": {
      "text/plain": [
       "6"
      ]
     },
     "execution_count": 17,
     "metadata": {},
     "output_type": "execute_result"
    }
   ],
   "source": [
    "## Get the sum of an array of numbers\n",
    "np.sum(myarray)"
   ]
  },
  {
   "cell_type": "code",
   "execution_count": 18,
   "metadata": {
    "collapsed": false
   },
   "outputs": [
    {
     "data": {
      "text/plain": [
       "array([1, 2, 3])"
      ]
     },
     "execution_count": 18,
     "metadata": {},
     "output_type": "execute_result"
    }
   ],
   "source": [
    "myarray"
   ]
  },
  {
   "cell_type": "markdown",
   "metadata": {},
   "source": [
    "### Element-wise Operations\n",
    "\n",
    "Numpy allows you to easily perform operations on each element in an array."
   ]
  },
  {
   "cell_type": "code",
   "execution_count": 19,
   "metadata": {
    "collapsed": false
   },
   "outputs": [
    {
     "data": {
      "text/plain": [
       "array([ 0.,  1.,  2.,  3.,  4.,  5.,  6.,  7.,  8.,  9.])"
      ]
     },
     "execution_count": 19,
     "metadata": {},
     "output_type": "execute_result"
    }
   ],
   "source": [
    "sample_array = np.arange(10, dtype=\"float\")\n",
    "sample_array"
   ]
  },
  {
   "cell_type": "code",
   "execution_count": 20,
   "metadata": {
    "collapsed": false
   },
   "outputs": [
    {
     "data": {
      "text/plain": [
       "array([ 0. ,  0.5,  1. ,  1.5,  2. ,  2.5,  3. ,  3.5,  4. ,  4.5])"
      ]
     },
     "execution_count": 20,
     "metadata": {},
     "output_type": "execute_result"
    }
   ],
   "source": [
    "sample_array/2"
   ]
  },
  {
   "cell_type": "code",
   "execution_count": 21,
   "metadata": {
    "collapsed": false
   },
   "outputs": [
    {
     "data": {
      "text/plain": [
       "array([  0.,   3.,   6.,   9.,  12.,  15.,  18.,  21.,  24.,  27.])"
      ]
     },
     "execution_count": 21,
     "metadata": {},
     "output_type": "execute_result"
    }
   ],
   "source": [
    "sample_array*3"
   ]
  },
  {
   "cell_type": "markdown",
   "metadata": {},
   "source": [
    "### Boolean Indexing"
   ]
  },
  {
   "cell_type": "code",
   "execution_count": 22,
   "metadata": {
    "collapsed": false
   },
   "outputs": [
    {
     "data": {
      "text/plain": [
       "array([ True,  True,  True, False, False, False, False, False, False, False], dtype=bool)"
      ]
     },
     "execution_count": 22,
     "metadata": {},
     "output_type": "execute_result"
    }
   ],
   "source": [
    "idx = sample_array < 3\n",
    "idx"
   ]
  },
  {
   "cell_type": "code",
   "execution_count": 23,
   "metadata": {
    "collapsed": false
   },
   "outputs": [
    {
     "data": {
      "text/plain": [
       "array([ 0.,  1.,  2.])"
      ]
     },
     "execution_count": 23,
     "metadata": {},
     "output_type": "execute_result"
    }
   ],
   "source": [
    "sample_array[idx]"
   ]
  },
  {
   "cell_type": "code",
   "execution_count": 24,
   "metadata": {
    "collapsed": false
   },
   "outputs": [
    {
     "data": {
      "text/plain": [
       "array([ True,  True,  True, False, False, False, False,  True,  True,  True], dtype=bool)"
      ]
     },
     "execution_count": 24,
     "metadata": {},
     "output_type": "execute_result"
    }
   ],
   "source": [
    "idx2 = (sample_array < 3) | (sample_array > 6)\n",
    "idx2"
   ]
  },
  {
   "cell_type": "code",
   "execution_count": 25,
   "metadata": {
    "collapsed": false
   },
   "outputs": [
    {
     "data": {
      "text/plain": [
       "array([ 0.,  1.,  2.])"
      ]
     },
     "execution_count": 25,
     "metadata": {},
     "output_type": "execute_result"
    }
   ],
   "source": [
    "sample_array[sample_array < 3]"
   ]
  },
  {
   "cell_type": "markdown",
   "metadata": {},
   "source": [
    "## Plotting with `matplotlib`\n",
    "\n",
    "- Matplotlib is strongly influenced by Matlab\n",
    "- A large variety of visualizations are possible\n",
    "    - [http://matplotlib.sourceforge.net/gallery.html](http://matplotlib.sourceforge.net/gallery.html)\n",
    "- Numeric data is converted to numpy arrays for efficient processing and visualization"
   ]
  },
  {
   "cell_type": "markdown",
   "metadata": {},
   "source": [
    "<b>Visualization is essential for bioinformatics</b>--particularly when analyzing high-throughput datasets. Analyses and visualizations need to be reproducible and (often) automated.\n",
    "\n",
    "<img src=\"./images/heat_map.jpg\" align=\"left\" width=\"500\" />"
   ]
  },
  {
   "cell_type": "code",
   "execution_count": 26,
   "metadata": {
    "collapsed": false
   },
   "outputs": [
    {
     "data": {
      "text/plain": [
       "[<matplotlib.lines.Line2D at 0x10e603350>]"
      ]
     },
     "execution_count": 26,
     "metadata": {},
     "output_type": "execute_result"
    },
    {
     "data": {
      "image/png": "[encoded data removed]",
      "text/plain": [
       "<matplotlib.figure.Figure at 0x10c223e50>"
      ]
     },
     "metadata": {},
     "output_type": "display_data"
    }
   ],
   "source": [
    "## Use the plt.plot() function for simple plot creation\n",
    "## Give a single list (or array), and the x axis \n",
    "## will be filled with [0, 1, 2, ...]\n",
    "plt.plot([1,2,3,4])"
   ]
  },
  {
   "cell_type": "code",
   "execution_count": 27,
   "metadata": {
    "collapsed": false
   },
   "outputs": [
    {
     "data": {
      "image/png": "[encoded data removed]",
      "text/plain": [
       "<matplotlib.figure.Figure at 0x10e59ca50>"
      ]
     },
     "metadata": {},
     "output_type": "display_data"
    }
   ],
   "source": [
    "## Use plt.savefig() to save a plot to an image file\n",
    "fig = plt.figure()\n",
    "plt.plot([1,2,3,4])\n",
    "fig.savefig('new_plot.png', format='png')"
   ]
  },
  {
   "cell_type": "code",
   "execution_count": 28,
   "metadata": {
    "collapsed": false
   },
   "outputs": [
    {
     "name": "stdout",
     "output_type": "stream",
     "text": [
      "Help on method savefig in module matplotlib.figure:\n",
      "\n",
      "savefig(self, *args, **kwargs) method of matplotlib.figure.Figure instance\n",
      "    Save the current figure.\n",
      "    \n",
      "    Call signature::\n",
      "    \n",
      "      savefig(fname, dpi=None, facecolor='w', edgecolor='w',\n",
      "              orientation='portrait', papertype=None, format=None,\n",
      "              transparent=False, bbox_inches=None, pad_inches=0.1,\n",
      "              frameon=None)\n",
      "    \n",
      "    The output formats available depend on the backend being used.\n",
      "    \n",
      "    Arguments:\n",
      "    \n",
      "      *fname*:\n",
      "        A string containing a path to a filename, or a Python\n",
      "        file-like object, or possibly some backend-dependent object\n",
      "        such as :class:`~matplotlib.backends.backend_pdf.PdfPages`.\n",
      "    \n",
      "        If *format* is *None* and *fname* is a string, the output\n",
      "        format is deduced from the extension of the filename. If\n",
      "        the filename has no extension, the value of the rc parameter\n",
      "        ``savefig.format`` is used.\n",
      "    \n",
      "        If *fname* is not a string, remember to specify *format* to\n",
      "        ensure that the correct backend is used.\n",
      "    \n",
      "    Keyword arguments:\n",
      "    \n",
      "      *dpi*: [ *None* | ``scalar > 0`` | 'figure']\n",
      "        The resolution in dots per inch.  If *None* it will default to\n",
      "        the value ``savefig.dpi`` in the matplotlibrc file. If 'figure'\n",
      "        it will set the dpi to be the value of the figure.\n",
      "    \n",
      "      *facecolor*, *edgecolor*:\n",
      "        the colors of the figure rectangle\n",
      "    \n",
      "      *orientation*: [ 'landscape' | 'portrait' ]\n",
      "        not supported on all backends; currently only on postscript output\n",
      "    \n",
      "      *papertype*:\n",
      "        One of 'letter', 'legal', 'executive', 'ledger', 'a0' through\n",
      "        'a10', 'b0' through 'b10'. Only supported for postscript\n",
      "        output.\n",
      "    \n",
      "      *format*:\n",
      "        One of the file extensions supported by the active\n",
      "        backend.  Most backends support png, pdf, ps, eps and svg.\n",
      "    \n",
      "      *transparent*:\n",
      "        If *True*, the axes patches will all be transparent; the\n",
      "        figure patch will also be transparent unless facecolor\n",
      "        and/or edgecolor are specified via kwargs.\n",
      "        This is useful, for example, for displaying\n",
      "        a plot on top of a colored background on a web page.  The\n",
      "        transparency of these patches will be restored to their\n",
      "        original values upon exit of this function.\n",
      "    \n",
      "      *frameon*:\n",
      "        If *True*, the figure patch will be colored, if *False*, the\n",
      "        figure background will be transparent.  If not provided, the\n",
      "        rcParam 'savefig.frameon' will be used.\n",
      "    \n",
      "      *bbox_inches*:\n",
      "        Bbox in inches. Only the given portion of the figure is\n",
      "        saved. If 'tight', try to figure out the tight bbox of\n",
      "        the figure.\n",
      "    \n",
      "      *pad_inches*:\n",
      "        Amount of padding around the figure when bbox_inches is\n",
      "        'tight'.\n",
      "    \n",
      "      *bbox_extra_artists*:\n",
      "        A list of extra artists that will be considered when the\n",
      "        tight bbox is calculated.\n",
      "\n"
     ]
    }
   ],
   "source": [
    "help(fig.savefig)"
   ]
  },
  {
   "cell_type": "code",
   "execution_count": 29,
   "metadata": {
    "collapsed": false
   },
   "outputs": [
    {
     "data": {
      "text/plain": [
       "[<matplotlib.lines.Line2D at 0x10ed24ed0>]"
      ]
     },
     "execution_count": 29,
     "metadata": {},
     "output_type": "execute_result"
    },
    {
     "data": {
      "image/png": "[encoded data removed]",
      "text/plain": [
       "<matplotlib.figure.Figure at 0x10e5b6610>"
      ]
     },
     "metadata": {},
     "output_type": "display_data"
    }
   ],
   "source": [
    "## Add values for two axes and alter the line appearance\n",
    "## The line can be formatted with a string\n",
    "## linestyle, marker, color\n",
    "plt.plot([1,2,3,4], [1,4,9,16], \":sr\")"
   ]
  },
  {
   "cell_type": "markdown",
   "metadata": {},
   "source": [
    "Line styles: [http://matplotlib.org/api/lines_api.html#matplotlib.lines.Line2D.set_linestyle](http://matplotlib.org/api/lines_api.html#matplotlib.lines.Line2D.set_linestyle)\n",
    "\n",
    "Markers: [http://matplotlib.org/api/markers_api.html#module-matplotlib.markers](http://matplotlib.org/api/markers_api.html#module-matplotlib.markers)\n",
    "\n",
    "Colors: [http://matplotlib.org/api/colors_api.html](http://matplotlib.org/api/colors_api.html)"
   ]
  },
  {
   "cell_type": "code",
   "execution_count": 30,
   "metadata": {
    "collapsed": false
   },
   "outputs": [
    {
     "data": {
      "image/png": "[encoded data removed]",
      "text/plain": [
       "<matplotlib.figure.Figure at 0x10ec63f90>"
      ]
     },
     "metadata": {},
     "output_type": "display_data"
    }
   ],
   "source": [
    "## Change appearance of axes\n",
    "fig = plt.figure()\n",
    "plt.title(\"My Plot\", fontsize=20)\n",
    "plt.xlabel(\"Time\", fontsize=20)\n",
    "plt.ylabel(\"Intensity\", fontsize=20)\n",
    "plt.ylim(0,20)\n",
    "plt.xlim(0,6)\n",
    "## Plot multiple data sets\n",
    "plt.plot([1,2,3,4], [1,4,9,16], \":sr\")\n",
    "plt.plot([1,2,3,4,5], [1.5,3,4,10,18], \"--^g\")\n",
    "fig.savefig(\"new_plot.png\", format=\"png\")"
   ]
  },
  {
   "cell_type": "code",
   "execution_count": 31,
   "metadata": {
    "collapsed": false
   },
   "outputs": [
    {
     "data": {
      "text/plain": [
       "u'/Applications/anaconda/lib/python2.7/site-packages/matplotlib/mpl-data/matplotlibrc'"
      ]
     },
     "execution_count": 31,
     "metadata": {},
     "output_type": "execute_result"
    }
   ],
   "source": [
    "## Customize using a configuration file\n",
    "import matplotlib as mpl\n",
    "mpl.matplotlib_fname()"
   ]
  },
  {
   "cell_type": "markdown",
   "metadata": {},
   "source": [
    "[http://matplotlib.sourceforge.net/users/customizing.html#a-sample-matplotlibrc-file](http://matplotlib.sourceforge.net/users/customizing.html#a-sample-matplotlibrc-file)"
   ]
  },
  {
   "cell_type": "code",
   "execution_count": 32,
   "metadata": {
    "collapsed": true
   },
   "outputs": [],
   "source": [
    "mpl.rcParams[\"lines.linewidth\"] = 5\n",
    "mpl.rcParams[\"font.family\"] = \"fantasy\""
   ]
  },
  {
   "cell_type": "code",
   "execution_count": 33,
   "metadata": {
    "collapsed": false
   },
   "outputs": [
    {
     "data": {
      "text/plain": [
       "[<matplotlib.lines.Line2D at 0x10ec871d0>]"
      ]
     },
     "execution_count": 33,
     "metadata": {},
     "output_type": "execute_result"
    },
    {
     "data": {
      "image/png": "[encoded data removed]",
      "text/plain": [
       "<matplotlib.figure.Figure at 0x10ed47890>"
      ]
     },
     "metadata": {},
     "output_type": "display_data"
    }
   ],
   "source": [
    "#fig = plt.figure()\n",
    "plt.title(\"My Plot\", fontsize=20)\n",
    "plt.plot([1,2,3,4], [1,4,9,16])\n",
    "#fig.savefig(\"new_plot.png\", format=\"png\")"
   ]
  },
  {
   "cell_type": "code",
   "execution_count": 34,
   "metadata": {
    "collapsed": false
   },
   "outputs": [
    {
     "data": {
      "text/plain": [
       "<matplotlib.legend.Legend at 0x10f3a6d90>"
      ]
     },
     "execution_count": 34,
     "metadata": {},
     "output_type": "execute_result"
    },
    {
     "data": {
      "image/png": "[encoded data removed]",
      "text/plain": [
       "<matplotlib.figure.Figure at 0x10ed3c690>"
      ]
     },
     "metadata": {},
     "output_type": "display_data"
    }
   ],
   "source": [
    "## Create a legend for the plot\n",
    "plt.title(\"My Plot\", fontsize=20)\n",
    "plt.plot([1,2,3,4], [1,4,9,16], \":sr\")\n",
    "plt.plot([1,2,3,4,5], [1.5,3,4,10,18], \"--g^\")\n",
    "plt.legend([\"first result\", \"second result\"], loc=0)"
   ]
  },
  {
   "cell_type": "code",
   "execution_count": 35,
   "metadata": {
    "collapsed": false
   },
   "outputs": [
    {
     "data": {
      "text/plain": [
       "<matplotlib.legend.Legend at 0x10f490990>"
      ]
     },
     "execution_count": 35,
     "metadata": {},
     "output_type": "execute_result"
    },
    {
     "data": {
      "image/png": "[encoded data removed]",
      "text/plain": [
       "<matplotlib.figure.Figure at 0x10ed47090>"
      ]
     },
     "metadata": {},
     "output_type": "display_data"
    }
   ],
   "source": [
    "## Customize the legend\n",
    "plt.title(\"My Plot\", fontsize=20)\n",
    "plt.plot([1,2,3,4], [1,4,9,16], \":sr\")\n",
    "plt.plot([1,2,3,4,5], [1.5,3,4,10,18], \"--^g\")\n",
    "plt.legend([\"first result\", \"second result\"], loc=0, fancybox=True, shadow=True, title=\"my legend\")"
   ]
  },
  {
   "cell_type": "code",
   "execution_count": 36,
   "metadata": {
    "collapsed": false
   },
   "outputs": [
    {
     "data": {
      "text/plain": [
       "<matplotlib.legend.Legend at 0x10f6fc0d0>"
      ]
     },
     "execution_count": 36,
     "metadata": {},
     "output_type": "execute_result"
    },
    {
     "data": {
      "image/png": "[encoded data removed]",
      "text/plain": [
       "<matplotlib.figure.Figure at 0x10f119710>"
      ]
     },
     "metadata": {},
     "output_type": "display_data"
    }
   ],
   "source": [
    "## Annotate the plot\n",
    "plt.title(\"My Plot\", fontsize=20)\n",
    "plt.ylim(0,20)\n",
    "plt.xlim(-2,6)\n",
    "plt.plot([1,2,3,4], [1,4,9,16], \":sr\")\n",
    "plt.plot([1,2,3,4,5], [1.5,3,4,10,18], \"--^g\")\n",
    "plt.annotate(\"point of divergence!\", xy=(-1,7.5), fontsize=15, color=\"purple\")\n",
    "plt.legend([\"first result\", \"second result\"], loc=0, fancybox=True, shadow=True, title=\"my legend\")"
   ]
  },
  {
   "cell_type": "code",
   "execution_count": 37,
   "metadata": {
    "collapsed": false
   },
   "outputs": [
    {
     "data": {
      "text/plain": [
       "<matplotlib.legend.Legend at 0x10ec1e190>"
      ]
     },
     "execution_count": 37,
     "metadata": {},
     "output_type": "execute_result"
    },
    {
     "data": {
      "image/png": "[encoded data removed]",
      "text/plain": [
       "<matplotlib.figure.Figure at 0x10f1efa90>"
      ]
     },
     "metadata": {},
     "output_type": "display_data"
    }
   ],
   "source": [
    "## Annotate the plot\n",
    "plt.title(\"My Plot\", fontsize=20)\n",
    "plt.ylim(0,20)\n",
    "plt.xlim(-2,6)\n",
    "plt.plot([1,2,3,4], [1,4,9,16], \":sr\")\n",
    "plt.plot([1,2,3,4,5], [1.5,3,4,10,18], \"--g^\")\n",
    "plt.annotate(\"point of divergence!\", xytext=(-1,7.5), fontsize=15, color=\"purple\", arrowprops={\"facecolor\":\"orange\"}, xy=(1.35,2.5), bbox=dict(boxstyle=\"sawtooth\", color=\"orange\"))\n",
    "plt.legend([\"first result\", \"second result\"], loc=0, fancybox=True, shadow=True, title=\"my legend\")"
   ]
  },
  {
   "cell_type": "markdown",
   "metadata": {},
   "source": [
    "#### Other Plot Types"
   ]
  },
  {
   "cell_type": "code",
   "execution_count": 38,
   "metadata": {
    "collapsed": false
   },
   "outputs": [
    {
     "data": {
      "text/plain": [
       "(array([  2.,   0.,   3.,   3.,   3.,   4.,   5.,  10.,   9.,   9.,  13.,\n",
       "         10.,   7.,   9.,   3.,   3.,   1.,   3.,   2.,   1.]),\n",
       " array([-2.32325019, -2.08133309, -1.83941599, -1.59749889, -1.35558179,\n",
       "        -1.11366469, -0.87174759, -0.62983049, -0.38791339, -0.14599629,\n",
       "         0.09592081,  0.33783791,  0.57975501,  0.82167211,  1.06358921,\n",
       "         1.30550631,  1.54742342,  1.78934052,  2.03125762,  2.27317472,\n",
       "         2.51509182]),\n",
       " <a list of 20 Patch objects>)"
      ]
     },
     "execution_count": 38,
     "metadata": {},
     "output_type": "execute_result"
    },
    {
     "data": {
      "image/png": "[encoded data removed]",
      "text/plain": [
       "<matplotlib.figure.Figure at 0x10f4205d0>"
      ]
     },
     "metadata": {},
     "output_type": "display_data"
    }
   ],
   "source": [
    "## Histogram\n",
    "data = np.random.randn(100)\n",
    "plt.title(\"My Histogram\")\n",
    "plt.hist(data, bins=20)"
   ]
  },
  {
   "cell_type": "code",
   "execution_count": 39,
   "metadata": {
    "collapsed": false
   },
   "outputs": [
    {
     "data": {
      "image/png": "[encoded data removed]",
      "text/plain": [
       "<matplotlib.figure.Figure at 0x10f119b90>"
      ]
     },
     "metadata": {},
     "output_type": "display_data"
    }
   ],
   "source": [
    "## Bar plot\n",
    "width = 0.5\n",
    "locations = np.arange(1,6)\n",
    "plt.bar(locations, np.array([1,2,3,4,5]), width=width)\n",
    "plt.xlim(.5,6)\n",
    "plt.ylim(0,7)\n",
    "ticks1 = plt.xticks(locations+width/2, [\"sample1\", \"sample2\", \"sample3\", \"sample4\", \"sample5\"])"
   ]
  },
  {
   "cell_type": "code",
   "execution_count": 40,
   "metadata": {
    "collapsed": false
   },
   "outputs": [
    {
     "data": {
      "image/png": "[encoded data removed]",
      "text/plain": [
       "<matplotlib.figure.Figure at 0x10faa1ed0>"
      ]
     },
     "metadata": {},
     "output_type": "display_data"
    }
   ],
   "source": [
    "## Pie chart\n",
    "data1 = np.array([1,2,3,4,5])**2\n",
    "labs = [\"a\",\"b\",\"c\",\"d\",\"e\"]\n",
    "pie1 = plt.pie(data1,labels=labs)"
   ]
  },
  {
   "cell_type": "code",
   "execution_count": 41,
   "metadata": {
    "collapsed": false
   },
   "outputs": [
    {
     "data": {
      "image/png": "[encoded data removed]",
      "text/plain": [
       "<matplotlib.figure.Figure at 0x10f73f050>"
      ]
     },
     "metadata": {},
     "output_type": "display_data"
    }
   ],
   "source": [
    "## Box plot\n",
    "mpl.rcParams[\"lines.linewidth\"] = 2\n",
    "x1 = np.random.normal(0,1,30)\n",
    "x2 = np.random.normal(3,1,50)\n",
    "box1 = plt.boxplot([x1,x2])"
   ]
  },
  {
   "cell_type": "code",
   "execution_count": 42,
   "metadata": {
    "collapsed": false
   },
   "outputs": [
    {
     "data": {
      "image/png": "[encoded data removed]",
      "text/plain": [
       "<matplotlib.figure.Figure at 0x10feb3d10>"
      ]
     },
     "metadata": {},
     "output_type": "display_data"
    }
   ],
   "source": [
    "## Combining multiple plots using subplots\n",
    "## Subplot takes 3 arguments: rows, columns, plot number\n",
    "fig = plt.figure()\n",
    "## First subplot - Histogram\n",
    "plt.subplot(2, 1, 1)\n",
    "plt.hist(np.random.randn(100), bins=20)\n",
    "plt.title(\"My Histogram\")\n",
    "\n",
    "## Second subplot - Lines\n",
    "plt.subplot(2, 1, 2)\n",
    "plt.plot([1,2,3,4],[1,4,9,16], \":rs\")\n",
    "plt.title(\"My Plot\")\n",
    "plt.xlabel(\"Time\")\n",
    "plt.ylabel(\"Intensity\")\n",
    "plt.ylim(0,20)\n",
    "plt.xlim(0,6)\n",
    "plt.plot([1,2,3,4,5],[1.5,3,4,10,18],\"--g^\")\n",
    "fig.tight_layout() ## improves spacing between subplots\n",
    "fig.savefig(\"new_plot.png\", format=\"png\")"
   ]
  },
  {
   "cell_type": "markdown",
   "metadata": {},
   "source": [
    "## SciPy"
   ]
  },
  {
   "cell_type": "markdown",
   "metadata": {},
   "source": [
    "### Mann-Whitney Rank Test"
   ]
  },
  {
   "cell_type": "code",
   "execution_count": 43,
   "metadata": {
    "collapsed": false
   },
   "outputs": [
    {
     "name": "stdout",
     "output_type": "stream",
     "text": [
      "x1 = [-0.21709701 -0.01712851 -0.84884892  0.25369793  1.23104795  2.1591499\n",
      " -0.61360631  1.02707103  0.01442704 -0.3808742   0.65566282 -1.74791373\n",
      " -0.15854495 -0.46195371  1.58082313 -0.26752981  0.55031881  1.41741767\n",
      "  1.6756505   1.18193008 -0.3495824   0.59246357  2.14742659  0.6991134\n",
      " -0.34601083  0.99335643  0.06898705  0.24947299  0.4999602  -1.27328668]\n",
      "x2 = [ 3.72606067  4.33302852  4.58276458  1.90433898  3.39498144  3.8608848\n",
      "  2.39438185  2.86889558  3.8761963   2.99748312  3.84094366  4.75609587\n",
      "  3.24124397  2.75731306  3.87957969  2.87461705  2.48832873  4.51871196\n",
      "  2.62470481  1.01978915  2.80820491  2.24233719  3.51485097  4.88471133\n",
      "  5.18430785  3.31559267  2.09631753  3.65473822  3.2323066   3.6806534\n",
      "  3.07224667  2.76145628  2.79986405  3.35356382  2.64828427  2.81978488\n",
      "  1.59888424  3.07204096  2.97213689  3.0174852   3.25939558  3.66095342\n",
      "  1.92445387  4.11109655  2.87628483  2.18076452  2.06648734  3.27156092\n",
      "  2.22664238  3.10678295]\n",
      "U = 19.0\n",
      "P-value = 3.87756621359e-13\n"
     ]
    }
   ],
   "source": [
    "from scipy import stats\n",
    "u, p = stats.mannwhitneyu(x1, x2)\n",
    "print \"x1 =\", x1\n",
    "print \"x2 =\", x2\n",
    "print \"U =\", u\n",
    "print \"P-value =\", p"
   ]
  },
  {
   "cell_type": "code",
   "execution_count": 44,
   "metadata": {
    "collapsed": false
   },
   "outputs": [
    {
     "name": "stdout",
     "output_type": "stream",
     "text": [
      "Help on function mannwhitneyu in module scipy.stats.stats:\n",
      "\n",
      "mannwhitneyu(x, y, use_continuity=True, alternative='two-sided')\n",
      "    Computes the Mann-Whitney rank test on samples x and y.\n",
      "    \n",
      "    Parameters\n",
      "    ----------\n",
      "    x, y : array_like\n",
      "        Array of samples, should be one-dimensional.\n",
      "    use_continuity : bool, optional\n",
      "            Whether a continuity correction (1/2.) should be taken into\n",
      "            account. Default is True.\n",
      "    \n",
      "    Returns\n",
      "    -------\n",
      "    statistic : float\n",
      "        The Mann-Whitney statistics.\n",
      "    pvalue : float\n",
      "        One-sided p-value assuming a asymptotic normal distribution.\n",
      "    \n",
      "    Notes\n",
      "    -----\n",
      "    Use only when the number of observation in each sample is > 20 and\n",
      "    you have 2 independent samples of ranks. Mann-Whitney U is\n",
      "    significant if the u-obtained is LESS THAN or equal to the critical\n",
      "    value of U.\n",
      "    \n",
      "    This test corrects for ties and by default uses a continuity correction.\n",
      "    The reported p-value is for a one-sided hypothesis, to get the two-sided\n",
      "    p-value multiply the returned p-value by 2.\n",
      "\n"
     ]
    }
   ],
   "source": [
    "help(stats.mannwhitneyu)"
   ]
  },
  {
   "cell_type": "markdown",
   "metadata": {},
   "source": [
    "## In-Class Exercises"
   ]
  },
  {
   "cell_type": "code",
   "execution_count": null,
   "metadata": {
    "collapsed": false
   },
   "outputs": [],
   "source": [
    "## Exercise 1.\n",
    "## Use the np.random.normal(5, 1, 100) function to \n",
    "## create an array of 100 random numbers.\n",
    "## Mean = 5, SD = 1\n",
    "## Count how many random numbers are greater than 5\n",
    "## \n"
   ]
  },
  {
   "cell_type": "code",
   "execution_count": null,
   "metadata": {
    "collapsed": false
   },
   "outputs": [],
   "source": [
    "## Exercise 2.\n",
    "## Given the following data:\n",
    "## Plot x vs. y\n",
    "## Create a boxplot of y\n",
    "## Combine the two plots into a single figure\n",
    "##\n"
   ]
  },
  {
   "cell_type": "markdown",
   "metadata": {},
   "source": [
    "## References\n",
    "\n",
    "- Python for Bioinformatics, Sebastian Bassi, CRC Press (2010)\n",
    "- [http://docs.scipy.org/doc/numpy/reference/index.html](http://docs.scipy.org/doc/numpy/reference/index.html)\n",
    "- [http://matplotlib.org/contents.html](http://matplotlib.org/contents.html)\n",
    "- [http://docs.scipy.org/doc/scipy-0.14.0/reference/generated/scipy.stats.mannwhitneyu.html](http://docs.scipy.org/doc/scipy-0.14.0/reference/generated/scipy.stats.mannwhitneyu.html)"
   ]
  },
  {
   "cell_type": "markdown",
   "metadata": {},
   "source": [
    "#### Last Updated: 22-Sep-2016"
   ]
  }
 ],
 "metadata": {
  "kernelspec": {
   "display_name": "Python [default]",
   "language": "python",
   "name": "python2"
  },
  "language_info": {
   "codemirror_mode": {
    "name": "ipython",
    "version": 2
   },
   "file_extension": ".py",
   "mimetype": "text/x-python",
   "name": "python",
   "nbconvert_exporter": "python",
   "pygments_lexer": "ipython2",
   "version": "2.7.11"
  }
 },
 "nbformat": 4,
 "nbformat_minor": 0
}
