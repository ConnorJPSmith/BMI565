{
 "cells": [
  {
   "cell_type": "markdown",
   "metadata": {},
   "source": [
    "# BMI 565: Bioinformatics Programming & Scripting"
   ]
  },
  {
   "cell_type": "markdown",
   "metadata": {},
   "source": [
    "#### (C) 2015 Michael Mooney (mooneymi@ohsu.edu)"
   ]
  },
  {
   "cell_type": "markdown",
   "metadata": {},
   "source": [
    "## Week 8 - Statistics in Python"
   ]
  },
  {
   "cell_type": "markdown",
   "metadata": {},
   "source": [
    "1. Pandas for Data Analysis\n",
    "    - Labeled data structures\n",
    "    - Plotting with `Pandas`\n",
    "2. Statistics\n",
    "    - Descriptive Statistics\n",
    "    - Linear regression"
   ]
  },
  {
   "cell_type": "markdown",
   "metadata": {},
   "source": [
    "#### Requirements\n",
    "\n",
    "- Python 2.7\n",
    "- `numpy` module\n",
    "- `scipy` module\n",
    "- `pandas` module\n",
    "- `statsmodels` module\n",
    "- Data Files\n",
    "    - `serotonin_data.txt`"
   ]
  },
  {
   "cell_type": "code",
   "execution_count": 1,
   "metadata": {
    "collapsed": false
   },
   "outputs": [],
   "source": [
    "%matplotlib inline"
   ]
  },
  {
   "cell_type": "code",
   "execution_count": 2,
   "metadata": {
    "collapsed": false
   },
   "outputs": [],
   "source": [
    "import matplotlib.pyplot as plt\n",
    "import numpy as np\n",
    "import pandas as pd\n",
    "import scipy as sp"
   ]
  },
  {
   "cell_type": "markdown",
   "metadata": {},
   "source": [
    "## `Pandas` Module\n",
    "\n",
    "The `pandas` module contains a lot of great functionality for working with large data sets. `Pandas` is built on top of `Numpy` and works well with numerous other Python packages for scientific computing.\n",
    "\n",
    "[http://pandas.pydata.org/pandas-docs/stable/index.html](http://pandas.pydata.org/pandas-docs/stable/index.html)\n",
    "\n",
    "\n",
    "Example data ('serotonin.txt') from the lava R package: [http://cran.r-project.org/web/packages/lava/index.html](http://cran.r-project.org/web/packages/lava/index.html)"
   ]
  },
  {
   "cell_type": "markdown",
   "metadata": {},
   "source": [
    "### Labeled Data Structures"
   ]
  },
  {
   "cell_type": "markdown",
   "metadata": {},
   "source": [
    "#### The `DataFrame` data structure"
   ]
  },
  {
   "cell_type": "code",
   "execution_count": 4,
   "metadata": {
    "collapsed": false
   },
   "outputs": [
    {
     "data": {
      "text/html": [
       "<div>\n",
       "<table border=\"1\" class=\"dataframe\">\n",
       "  <thead>\n",
       "    <tr style=\"text-align: right;\">\n",
       "      <th></th>\n",
       "      <th>A</th>\n",
       "      <th>B</th>\n",
       "      <th>C</th>\n",
       "      <th>D</th>\n",
       "      <th>E</th>\n",
       "    </tr>\n",
       "  </thead>\n",
       "  <tbody>\n",
       "    <tr>\n",
       "      <th>1</th>\n",
       "      <td>0.097948</td>\n",
       "      <td>0.677905</td>\n",
       "      <td>0.555590</td>\n",
       "      <td>0.917614</td>\n",
       "      <td>0.968842</td>\n",
       "    </tr>\n",
       "    <tr>\n",
       "      <th>2</th>\n",
       "      <td>0.124233</td>\n",
       "      <td>0.479873</td>\n",
       "      <td>0.327393</td>\n",
       "      <td>0.989692</td>\n",
       "      <td>0.211414</td>\n",
       "    </tr>\n",
       "    <tr>\n",
       "      <th>3</th>\n",
       "      <td>0.627876</td>\n",
       "      <td>0.876419</td>\n",
       "      <td>0.201664</td>\n",
       "      <td>0.225983</td>\n",
       "      <td>0.100255</td>\n",
       "    </tr>\n",
       "    <tr>\n",
       "      <th>4</th>\n",
       "      <td>0.712480</td>\n",
       "      <td>0.144597</td>\n",
       "      <td>0.158907</td>\n",
       "      <td>0.172221</td>\n",
       "      <td>0.234705</td>\n",
       "    </tr>\n",
       "  </tbody>\n",
       "</table>\n",
       "</div>"
      ],
      "text/plain": [
       "          A         B         C         D         E\n",
       "1  0.097948  0.677905  0.555590  0.917614  0.968842\n",
       "2  0.124233  0.479873  0.327393  0.989692  0.211414\n",
       "3  0.627876  0.876419  0.201664  0.225983  0.100255\n",
       "4  0.712480  0.144597  0.158907  0.172221  0.234705"
      ]
     },
     "execution_count": 4,
     "metadata": {},
     "output_type": "execute_result"
    }
   ],
   "source": [
    "df1 = pd.DataFrame(np.random.rand(5,5), index=[1,2,3,4,5], columns=['A','B','C','D','E'])\n",
    "df1.head(4)"
   ]
  },
  {
   "cell_type": "markdown",
   "metadata": {},
   "source": [
    "#### The `Series` data structure"
   ]
  },
  {
   "cell_type": "code",
   "execution_count": 5,
   "metadata": {
    "collapsed": false
   },
   "outputs": [
    {
     "data": {
      "text/plain": [
       "1    0\n",
       "2    0\n",
       "3    0\n",
       "4    0\n",
       "5    0\n",
       "dtype: int64"
      ]
     },
     "execution_count": 5,
     "metadata": {},
     "output_type": "execute_result"
    }
   ],
   "source": [
    "s1 = pd.Series(0, index=df1.index)\n",
    "s1"
   ]
  },
  {
   "cell_type": "code",
   "execution_count": 3,
   "metadata": {
    "collapsed": false
   },
   "outputs": [],
   "source": [
    "## Read data into a pandas data frame\n",
    "## Default options assume comma as delimiter and a header line with column names\n",
    "dat = pd.read_csv('serotonin_data.txt')"
   ]
  },
  {
   "cell_type": "code",
   "execution_count": 7,
   "metadata": {
    "collapsed": false
   },
   "outputs": [
    {
     "data": {
      "text/plain": [
       "(250, 20)"
      ]
     },
     "execution_count": 7,
     "metadata": {},
     "output_type": "execute_result"
    }
   ],
   "source": [
    "## Check the dimensions of the data frame\n",
    "dat.shape"
   ]
  },
  {
   "cell_type": "code",
   "execution_count": 8,
   "metadata": {
    "collapsed": false
   },
   "outputs": [
    {
     "data": {
      "text/plain": [
       "['par',\n",
       " 'sfc',\n",
       " 'aci',\n",
       " 'pci',\n",
       " 'u1',\n",
       " 'cau',\n",
       " 'th',\n",
       " 'put',\n",
       " 'mid',\n",
       " 'u2',\n",
       " 'mem',\n",
       " 'u',\n",
       " 'age',\n",
       " 'gene1',\n",
       " 'gene2',\n",
       " 'eta',\n",
       " 'day',\n",
       " 'depr',\n",
       " 'T',\n",
       " 'status']"
      ]
     },
     "execution_count": 8,
     "metadata": {},
     "output_type": "execute_result"
    }
   ],
   "source": [
    "## Get the column names\n",
    "list(dat.columns.values)"
   ]
  },
  {
   "cell_type": "code",
   "execution_count": 9,
   "metadata": {
    "collapsed": false
   },
   "outputs": [
    {
     "data": {
      "text/html": [
       "<div>\n",
       "<table border=\"1\" class=\"dataframe\">\n",
       "  <thead>\n",
       "    <tr style=\"text-align: right;\">\n",
       "      <th></th>\n",
       "      <th>par</th>\n",
       "      <th>sfc</th>\n",
       "      <th>aci</th>\n",
       "      <th>pci</th>\n",
       "      <th>u1</th>\n",
       "      <th>cau</th>\n",
       "      <th>th</th>\n",
       "      <th>put</th>\n",
       "      <th>mid</th>\n",
       "      <th>u2</th>\n",
       "      <th>mem</th>\n",
       "      <th>u</th>\n",
       "      <th>age</th>\n",
       "      <th>gene1</th>\n",
       "      <th>gene2</th>\n",
       "      <th>eta</th>\n",
       "      <th>day</th>\n",
       "      <th>depr</th>\n",
       "      <th>T</th>\n",
       "      <th>status</th>\n",
       "    </tr>\n",
       "  </thead>\n",
       "  <tbody>\n",
       "    <tr>\n",
       "      <th>0</th>\n",
       "      <td>1.541845</td>\n",
       "      <td>1.639296</td>\n",
       "      <td>1.631768</td>\n",
       "      <td>1.436017</td>\n",
       "      <td>3.053231</td>\n",
       "      <td>0.941444</td>\n",
       "      <td>1.062079</td>\n",
       "      <td>0.988974</td>\n",
       "      <td>0.849440</td>\n",
       "      <td>0.452027</td>\n",
       "      <td>49</td>\n",
       "      <td>1.918266</td>\n",
       "      <td>-1.137870</td>\n",
       "      <td>1</td>\n",
       "      <td>1</td>\n",
       "      <td>-0.425573</td>\n",
       "      <td>30</td>\n",
       "      <td>0</td>\n",
       "      <td>1.019006</td>\n",
       "      <td>1</td>\n",
       "    </tr>\n",
       "    <tr>\n",
       "      <th>1</th>\n",
       "      <td>1.285776</td>\n",
       "      <td>1.314337</td>\n",
       "      <td>1.224379</td>\n",
       "      <td>1.154257</td>\n",
       "      <td>0.536178</td>\n",
       "      <td>1.018560</td>\n",
       "      <td>0.789055</td>\n",
       "      <td>0.903791</td>\n",
       "      <td>0.666955</td>\n",
       "      <td>-0.937675</td>\n",
       "      <td>36</td>\n",
       "      <td>-0.575754</td>\n",
       "      <td>-0.951810</td>\n",
       "      <td>1</td>\n",
       "      <td>1</td>\n",
       "      <td>-2.959047</td>\n",
       "      <td>246</td>\n",
       "      <td>1</td>\n",
       "      <td>30.000000</td>\n",
       "      <td>0</td>\n",
       "    </tr>\n",
       "    <tr>\n",
       "      <th>2</th>\n",
       "      <td>1.633392</td>\n",
       "      <td>1.731265</td>\n",
       "      <td>1.588976</td>\n",
       "      <td>1.580385</td>\n",
       "      <td>3.881156</td>\n",
       "      <td>0.965680</td>\n",
       "      <td>0.741293</td>\n",
       "      <td>0.389869</td>\n",
       "      <td>0.830224</td>\n",
       "      <td>-7.700945</td>\n",
       "      <td>169</td>\n",
       "      <td>4.751934</td>\n",
       "      <td>1.619259</td>\n",
       "      <td>1</td>\n",
       "      <td>1</td>\n",
       "      <td>4.244131</td>\n",
       "      <td>243</td>\n",
       "      <td>1</td>\n",
       "      <td>30.000000</td>\n",
       "      <td>0</td>\n",
       "    </tr>\n",
       "    <tr>\n",
       "      <th>3</th>\n",
       "      <td>1.971132</td>\n",
       "      <td>1.735649</td>\n",
       "      <td>1.768737</td>\n",
       "      <td>1.852557</td>\n",
       "      <td>4.071059</td>\n",
       "      <td>0.944994</td>\n",
       "      <td>0.643423</td>\n",
       "      <td>0.706459</td>\n",
       "      <td>0.822270</td>\n",
       "      <td>-4.530420</td>\n",
       "      <td>196</td>\n",
       "      <td>3.860327</td>\n",
       "      <td>0.167814</td>\n",
       "      <td>0</td>\n",
       "      <td>0</td>\n",
       "      <td>3.280688</td>\n",
       "      <td>335</td>\n",
       "      <td>0</td>\n",
       "      <td>30.000000</td>\n",
       "      <td>0</td>\n",
       "    </tr>\n",
       "    <tr>\n",
       "      <th>4</th>\n",
       "      <td>1.376904</td>\n",
       "      <td>1.423676</td>\n",
       "      <td>1.461504</td>\n",
       "      <td>1.169873</td>\n",
       "      <td>1.043610</td>\n",
       "      <td>0.778490</td>\n",
       "      <td>0.959439</td>\n",
       "      <td>0.968423</td>\n",
       "      <td>0.886591</td>\n",
       "      <td>-1.161456</td>\n",
       "      <td>64</td>\n",
       "      <td>0.974215</td>\n",
       "      <td>-0.908178</td>\n",
       "      <td>1</td>\n",
       "      <td>1</td>\n",
       "      <td>-1.082029</td>\n",
       "      <td>215</td>\n",
       "      <td>0</td>\n",
       "      <td>4.835404</td>\n",
       "      <td>1</td>\n",
       "    </tr>\n",
       "  </tbody>\n",
       "</table>\n",
       "</div>"
      ],
      "text/plain": [
       "        par       sfc       aci       pci        u1       cau        th  \\\n",
       "0  1.541845  1.639296  1.631768  1.436017  3.053231  0.941444  1.062079   \n",
       "1  1.285776  1.314337  1.224379  1.154257  0.536178  1.018560  0.789055   \n",
       "2  1.633392  1.731265  1.588976  1.580385  3.881156  0.965680  0.741293   \n",
       "3  1.971132  1.735649  1.768737  1.852557  4.071059  0.944994  0.643423   \n",
       "4  1.376904  1.423676  1.461504  1.169873  1.043610  0.778490  0.959439   \n",
       "\n",
       "        put       mid        u2  mem         u       age  gene1  gene2  \\\n",
       "0  0.988974  0.849440  0.452027   49  1.918266 -1.137870      1      1   \n",
       "1  0.903791  0.666955 -0.937675   36 -0.575754 -0.951810      1      1   \n",
       "2  0.389869  0.830224 -7.700945  169  4.751934  1.619259      1      1   \n",
       "3  0.706459  0.822270 -4.530420  196  3.860327  0.167814      0      0   \n",
       "4  0.968423  0.886591 -1.161456   64  0.974215 -0.908178      1      1   \n",
       "\n",
       "        eta  day  depr          T  status  \n",
       "0 -0.425573   30     0   1.019006       1  \n",
       "1 -2.959047  246     1  30.000000       0  \n",
       "2  4.244131  243     1  30.000000       0  \n",
       "3  3.280688  335     0  30.000000       0  \n",
       "4 -1.082029  215     0   4.835404       1  "
      ]
     },
     "execution_count": 9,
     "metadata": {},
     "output_type": "execute_result"
    }
   ],
   "source": [
    "## View the first few rows\n",
    "dat.head()"
   ]
  },
  {
   "cell_type": "code",
   "execution_count": 10,
   "metadata": {
    "collapsed": false
   },
   "outputs": [
    {
     "data": {
      "text/html": [
       "<div>\n",
       "<table border=\"1\" class=\"dataframe\">\n",
       "  <thead>\n",
       "    <tr style=\"text-align: right;\">\n",
       "      <th></th>\n",
       "      <th>par</th>\n",
       "      <th>sfc</th>\n",
       "      <th>aci</th>\n",
       "      <th>pci</th>\n",
       "      <th>u1</th>\n",
       "      <th>cau</th>\n",
       "      <th>th</th>\n",
       "      <th>put</th>\n",
       "      <th>mid</th>\n",
       "      <th>u2</th>\n",
       "      <th>mem</th>\n",
       "      <th>u</th>\n",
       "      <th>age</th>\n",
       "      <th>gene1</th>\n",
       "      <th>gene2</th>\n",
       "      <th>eta</th>\n",
       "      <th>day</th>\n",
       "      <th>depr</th>\n",
       "      <th>T</th>\n",
       "      <th>status</th>\n",
       "    </tr>\n",
       "  </thead>\n",
       "  <tbody>\n",
       "    <tr>\n",
       "      <th>0</th>\n",
       "      <td>1.541845</td>\n",
       "      <td>1.639296</td>\n",
       "      <td>1.631768</td>\n",
       "      <td>1.436017</td>\n",
       "      <td>3.053231</td>\n",
       "      <td>0.941444</td>\n",
       "      <td>1.062079</td>\n",
       "      <td>0.988974</td>\n",
       "      <td>0.849440</td>\n",
       "      <td>0.452027</td>\n",
       "      <td>49</td>\n",
       "      <td>1.918266</td>\n",
       "      <td>-1.137870</td>\n",
       "      <td>1</td>\n",
       "      <td>1</td>\n",
       "      <td>-0.425573</td>\n",
       "      <td>30</td>\n",
       "      <td>0</td>\n",
       "      <td>1.019006</td>\n",
       "      <td>1</td>\n",
       "    </tr>\n",
       "    <tr>\n",
       "      <th>1</th>\n",
       "      <td>1.285776</td>\n",
       "      <td>1.314337</td>\n",
       "      <td>1.224379</td>\n",
       "      <td>1.154257</td>\n",
       "      <td>0.536178</td>\n",
       "      <td>1.018560</td>\n",
       "      <td>0.789055</td>\n",
       "      <td>0.903791</td>\n",
       "      <td>0.666955</td>\n",
       "      <td>-0.937675</td>\n",
       "      <td>36</td>\n",
       "      <td>-0.575754</td>\n",
       "      <td>-0.951810</td>\n",
       "      <td>1</td>\n",
       "      <td>1</td>\n",
       "      <td>-2.959047</td>\n",
       "      <td>246</td>\n",
       "      <td>1</td>\n",
       "      <td>30.000000</td>\n",
       "      <td>0</td>\n",
       "    </tr>\n",
       "    <tr>\n",
       "      <th>2</th>\n",
       "      <td>1.633392</td>\n",
       "      <td>1.731265</td>\n",
       "      <td>1.588976</td>\n",
       "      <td>1.580385</td>\n",
       "      <td>3.881156</td>\n",
       "      <td>0.965680</td>\n",
       "      <td>0.741293</td>\n",
       "      <td>0.389869</td>\n",
       "      <td>0.830224</td>\n",
       "      <td>-7.700945</td>\n",
       "      <td>169</td>\n",
       "      <td>4.751934</td>\n",
       "      <td>1.619259</td>\n",
       "      <td>1</td>\n",
       "      <td>1</td>\n",
       "      <td>4.244131</td>\n",
       "      <td>243</td>\n",
       "      <td>1</td>\n",
       "      <td>30.000000</td>\n",
       "      <td>0</td>\n",
       "    </tr>\n",
       "    <tr>\n",
       "      <th>3</th>\n",
       "      <td>1.971132</td>\n",
       "      <td>1.735649</td>\n",
       "      <td>1.768737</td>\n",
       "      <td>1.852557</td>\n",
       "      <td>4.071059</td>\n",
       "      <td>0.944994</td>\n",
       "      <td>0.643423</td>\n",
       "      <td>0.706459</td>\n",
       "      <td>0.822270</td>\n",
       "      <td>-4.530420</td>\n",
       "      <td>196</td>\n",
       "      <td>3.860327</td>\n",
       "      <td>0.167814</td>\n",
       "      <td>0</td>\n",
       "      <td>0</td>\n",
       "      <td>3.280688</td>\n",
       "      <td>335</td>\n",
       "      <td>0</td>\n",
       "      <td>30.000000</td>\n",
       "      <td>0</td>\n",
       "    </tr>\n",
       "    <tr>\n",
       "      <th>4</th>\n",
       "      <td>1.376904</td>\n",
       "      <td>1.423676</td>\n",
       "      <td>1.461504</td>\n",
       "      <td>1.169873</td>\n",
       "      <td>1.043610</td>\n",
       "      <td>0.778490</td>\n",
       "      <td>0.959439</td>\n",
       "      <td>0.968423</td>\n",
       "      <td>0.886591</td>\n",
       "      <td>-1.161456</td>\n",
       "      <td>64</td>\n",
       "      <td>0.974215</td>\n",
       "      <td>-0.908178</td>\n",
       "      <td>1</td>\n",
       "      <td>1</td>\n",
       "      <td>-1.082029</td>\n",
       "      <td>215</td>\n",
       "      <td>0</td>\n",
       "      <td>4.835404</td>\n",
       "      <td>1</td>\n",
       "    </tr>\n",
       "  </tbody>\n",
       "</table>\n",
       "</div>"
      ],
      "text/plain": [
       "        par       sfc       aci       pci        u1       cau        th  \\\n",
       "0  1.541845  1.639296  1.631768  1.436017  3.053231  0.941444  1.062079   \n",
       "1  1.285776  1.314337  1.224379  1.154257  0.536178  1.018560  0.789055   \n",
       "2  1.633392  1.731265  1.588976  1.580385  3.881156  0.965680  0.741293   \n",
       "3  1.971132  1.735649  1.768737  1.852557  4.071059  0.944994  0.643423   \n",
       "4  1.376904  1.423676  1.461504  1.169873  1.043610  0.778490  0.959439   \n",
       "\n",
       "        put       mid        u2  mem         u       age  gene1  gene2  \\\n",
       "0  0.988974  0.849440  0.452027   49  1.918266 -1.137870      1      1   \n",
       "1  0.903791  0.666955 -0.937675   36 -0.575754 -0.951810      1      1   \n",
       "2  0.389869  0.830224 -7.700945  169  4.751934  1.619259      1      1   \n",
       "3  0.706459  0.822270 -4.530420  196  3.860327  0.167814      0      0   \n",
       "4  0.968423  0.886591 -1.161456   64  0.974215 -0.908178      1      1   \n",
       "\n",
       "        eta  day  depr          T  status  \n",
       "0 -0.425573   30     0   1.019006       1  \n",
       "1 -2.959047  246     1  30.000000       0  \n",
       "2  4.244131  243     1  30.000000       0  \n",
       "3  3.280688  335     0  30.000000       0  \n",
       "4 -1.082029  215     0   4.835404       1  "
      ]
     },
     "execution_count": 10,
     "metadata": {},
     "output_type": "execute_result"
    }
   ],
   "source": [
    "## Use slice notation to get a subset of rows\n",
    "dat[0:5]"
   ]
  },
  {
   "cell_type": "code",
   "execution_count": 11,
   "metadata": {
    "collapsed": false
   },
   "outputs": [
    {
     "data": {
      "text/html": [
       "<div>\n",
       "<table border=\"1\" class=\"dataframe\">\n",
       "  <thead>\n",
       "    <tr style=\"text-align: right;\">\n",
       "      <th></th>\n",
       "      <th>par</th>\n",
       "      <th>sfc</th>\n",
       "    </tr>\n",
       "  </thead>\n",
       "  <tbody>\n",
       "    <tr>\n",
       "      <th>0</th>\n",
       "      <td>1.541845</td>\n",
       "      <td>1.639296</td>\n",
       "    </tr>\n",
       "    <tr>\n",
       "      <th>1</th>\n",
       "      <td>1.285776</td>\n",
       "      <td>1.314337</td>\n",
       "    </tr>\n",
       "    <tr>\n",
       "      <th>2</th>\n",
       "      <td>1.633392</td>\n",
       "      <td>1.731265</td>\n",
       "    </tr>\n",
       "    <tr>\n",
       "      <th>3</th>\n",
       "      <td>1.971132</td>\n",
       "      <td>1.735649</td>\n",
       "    </tr>\n",
       "    <tr>\n",
       "      <th>4</th>\n",
       "      <td>1.376904</td>\n",
       "      <td>1.423676</td>\n",
       "    </tr>\n",
       "  </tbody>\n",
       "</table>\n",
       "</div>"
      ],
      "text/plain": [
       "        par       sfc\n",
       "0  1.541845  1.639296\n",
       "1  1.285776  1.314337\n",
       "2  1.633392  1.731265\n",
       "3  1.971132  1.735649\n",
       "4  1.376904  1.423676"
      ]
     },
     "execution_count": 11,
     "metadata": {},
     "output_type": "execute_result"
    }
   ],
   "source": [
    "## Select a single column (use a list to get multiple columns)\n",
    "dat[['par', 'sfc']][:5]"
   ]
  },
  {
   "cell_type": "code",
   "execution_count": 19,
   "metadata": {
    "collapsed": false
   },
   "outputs": [
    {
     "data": {
      "text/plain": [
       "1.2908740433900916"
      ]
     },
     "execution_count": 19,
     "metadata": {},
     "output_type": "execute_result"
    }
   ],
   "source": [
    "np.mean(dat['par'])"
   ]
  },
  {
   "cell_type": "code",
   "execution_count": 13,
   "metadata": {
    "collapsed": false
   },
   "outputs": [
    {
     "data": {
      "text/html": [
       "<div>\n",
       "<table border=\"1\" class=\"dataframe\">\n",
       "  <thead>\n",
       "    <tr style=\"text-align: right;\">\n",
       "      <th></th>\n",
       "      <th>par</th>\n",
       "      <th>sfc</th>\n",
       "      <th>aci</th>\n",
       "      <th>pci</th>\n",
       "      <th>u1</th>\n",
       "    </tr>\n",
       "  </thead>\n",
       "  <tbody>\n",
       "    <tr>\n",
       "      <th>0</th>\n",
       "      <td>1.541845</td>\n",
       "      <td>1.639296</td>\n",
       "      <td>1.631768</td>\n",
       "      <td>1.436017</td>\n",
       "      <td>3.053231</td>\n",
       "    </tr>\n",
       "    <tr>\n",
       "      <th>1</th>\n",
       "      <td>1.285776</td>\n",
       "      <td>1.314337</td>\n",
       "      <td>1.224379</td>\n",
       "      <td>1.154257</td>\n",
       "      <td>0.536178</td>\n",
       "    </tr>\n",
       "    <tr>\n",
       "      <th>2</th>\n",
       "      <td>1.633392</td>\n",
       "      <td>1.731265</td>\n",
       "      <td>1.588976</td>\n",
       "      <td>1.580385</td>\n",
       "      <td>3.881156</td>\n",
       "    </tr>\n",
       "    <tr>\n",
       "      <th>3</th>\n",
       "      <td>1.971132</td>\n",
       "      <td>1.735649</td>\n",
       "      <td>1.768737</td>\n",
       "      <td>1.852557</td>\n",
       "      <td>4.071059</td>\n",
       "    </tr>\n",
       "    <tr>\n",
       "      <th>4</th>\n",
       "      <td>1.376904</td>\n",
       "      <td>1.423676</td>\n",
       "      <td>1.461504</td>\n",
       "      <td>1.169873</td>\n",
       "      <td>1.043610</td>\n",
       "    </tr>\n",
       "  </tbody>\n",
       "</table>\n",
       "</div>"
      ],
      "text/plain": [
       "        par       sfc       aci       pci        u1\n",
       "0  1.541845  1.639296  1.631768  1.436017  3.053231\n",
       "1  1.285776  1.314337  1.224379  1.154257  0.536178\n",
       "2  1.633392  1.731265  1.588976  1.580385  3.881156\n",
       "3  1.971132  1.735649  1.768737  1.852557  4.071059\n",
       "4  1.376904  1.423676  1.461504  1.169873  1.043610"
      ]
     },
     "execution_count": 13,
     "metadata": {},
     "output_type": "execute_result"
    }
   ],
   "source": [
    "dat.iloc[0:5,0:5]"
   ]
  },
  {
   "cell_type": "code",
   "execution_count": 14,
   "metadata": {
    "collapsed": false
   },
   "outputs": [
    {
     "data": {
      "text/plain": [
       "0       True\n",
       "1       True\n",
       "2       True\n",
       "3      False\n",
       "4       True\n",
       "5       True\n",
       "6      False\n",
       "7      False\n",
       "8       True\n",
       "9      False\n",
       "10     False\n",
       "11     False\n",
       "12      True\n",
       "13     False\n",
       "14     False\n",
       "15     False\n",
       "16     False\n",
       "17     False\n",
       "18     False\n",
       "19     False\n",
       "20     False\n",
       "21     False\n",
       "22     False\n",
       "23     False\n",
       "24     False\n",
       "25     False\n",
       "26     False\n",
       "27     False\n",
       "28     False\n",
       "29     False\n",
       "       ...  \n",
       "220    False\n",
       "221     True\n",
       "222     True\n",
       "223     True\n",
       "224    False\n",
       "225     True\n",
       "226    False\n",
       "227     True\n",
       "228    False\n",
       "229     True\n",
       "230    False\n",
       "231    False\n",
       "232    False\n",
       "233     True\n",
       "234    False\n",
       "235    False\n",
       "236    False\n",
       "237    False\n",
       "238    False\n",
       "239    False\n",
       "240    False\n",
       "241    False\n",
       "242    False\n",
       "243     True\n",
       "244    False\n",
       "245    False\n",
       "246    False\n",
       "247    False\n",
       "248    False\n",
       "249    False\n",
       "dtype: bool"
      ]
     },
     "execution_count": 14,
     "metadata": {},
     "output_type": "execute_result"
    }
   ],
   "source": [
    "## Subsetting the data structure based on a condition\n",
    "gene_idx = (dat['gene1'] == 1) & (dat['gene2'] == 1)\n",
    "gene_idx"
   ]
  },
  {
   "cell_type": "code",
   "execution_count": 15,
   "metadata": {
    "collapsed": false
   },
   "outputs": [
    {
     "data": {
      "text/html": [
       "<div>\n",
       "<table border=\"1\" class=\"dataframe\">\n",
       "  <thead>\n",
       "    <tr style=\"text-align: right;\">\n",
       "      <th></th>\n",
       "      <th>par</th>\n",
       "      <th>sfc</th>\n",
       "      <th>aci</th>\n",
       "      <th>pci</th>\n",
       "      <th>u1</th>\n",
       "      <th>cau</th>\n",
       "      <th>th</th>\n",
       "      <th>put</th>\n",
       "      <th>mid</th>\n",
       "      <th>u2</th>\n",
       "      <th>mem</th>\n",
       "      <th>u</th>\n",
       "      <th>age</th>\n",
       "      <th>gene1</th>\n",
       "      <th>gene2</th>\n",
       "      <th>eta</th>\n",
       "      <th>day</th>\n",
       "      <th>depr</th>\n",
       "      <th>T</th>\n",
       "      <th>status</th>\n",
       "    </tr>\n",
       "  </thead>\n",
       "  <tbody>\n",
       "    <tr>\n",
       "      <th>1</th>\n",
       "      <td>1.285776</td>\n",
       "      <td>1.314337</td>\n",
       "      <td>1.224379</td>\n",
       "      <td>1.154257</td>\n",
       "      <td>0.536178</td>\n",
       "      <td>1.018560</td>\n",
       "      <td>0.789055</td>\n",
       "      <td>0.903791</td>\n",
       "      <td>0.666955</td>\n",
       "      <td>-0.937675</td>\n",
       "      <td>36</td>\n",
       "      <td>-0.575754</td>\n",
       "      <td>-0.951810</td>\n",
       "      <td>1</td>\n",
       "      <td>1</td>\n",
       "      <td>-2.959047</td>\n",
       "      <td>246</td>\n",
       "      <td>1</td>\n",
       "      <td>30.000000</td>\n",
       "      <td>0</td>\n",
       "    </tr>\n",
       "    <tr>\n",
       "      <th>2</th>\n",
       "      <td>1.633392</td>\n",
       "      <td>1.731265</td>\n",
       "      <td>1.588976</td>\n",
       "      <td>1.580385</td>\n",
       "      <td>3.881156</td>\n",
       "      <td>0.965680</td>\n",
       "      <td>0.741293</td>\n",
       "      <td>0.389869</td>\n",
       "      <td>0.830224</td>\n",
       "      <td>-7.700945</td>\n",
       "      <td>169</td>\n",
       "      <td>4.751934</td>\n",
       "      <td>1.619259</td>\n",
       "      <td>1</td>\n",
       "      <td>1</td>\n",
       "      <td>4.244131</td>\n",
       "      <td>243</td>\n",
       "      <td>1</td>\n",
       "      <td>30.000000</td>\n",
       "      <td>0</td>\n",
       "    </tr>\n",
       "    <tr>\n",
       "      <th>4</th>\n",
       "      <td>1.376904</td>\n",
       "      <td>1.423676</td>\n",
       "      <td>1.461504</td>\n",
       "      <td>1.169873</td>\n",
       "      <td>1.043610</td>\n",
       "      <td>0.778490</td>\n",
       "      <td>0.959439</td>\n",
       "      <td>0.968423</td>\n",
       "      <td>0.886591</td>\n",
       "      <td>-1.161456</td>\n",
       "      <td>64</td>\n",
       "      <td>0.974215</td>\n",
       "      <td>-0.908178</td>\n",
       "      <td>1</td>\n",
       "      <td>1</td>\n",
       "      <td>-1.082029</td>\n",
       "      <td>215</td>\n",
       "      <td>0</td>\n",
       "      <td>4.835404</td>\n",
       "      <td>1</td>\n",
       "    </tr>\n",
       "    <tr>\n",
       "      <th>5</th>\n",
       "      <td>0.806983</td>\n",
       "      <td>1.058278</td>\n",
       "      <td>1.115488</td>\n",
       "      <td>0.651795</td>\n",
       "      <td>-1.917271</td>\n",
       "      <td>0.845913</td>\n",
       "      <td>0.901128</td>\n",
       "      <td>1.074159</td>\n",
       "      <td>1.008709</td>\n",
       "      <td>-0.411856</td>\n",
       "      <td>144</td>\n",
       "      <td>-0.254622</td>\n",
       "      <td>1.341796</td>\n",
       "      <td>1</td>\n",
       "      <td>1</td>\n",
       "      <td>0.000730</td>\n",
       "      <td>257</td>\n",
       "      <td>1</td>\n",
       "      <td>30.000000</td>\n",
       "      <td>0</td>\n",
       "    </tr>\n",
       "  </tbody>\n",
       "</table>\n",
       "</div>"
      ],
      "text/plain": [
       "        par       sfc       aci       pci        u1       cau        th  \\\n",
       "1  1.285776  1.314337  1.224379  1.154257  0.536178  1.018560  0.789055   \n",
       "2  1.633392  1.731265  1.588976  1.580385  3.881156  0.965680  0.741293   \n",
       "4  1.376904  1.423676  1.461504  1.169873  1.043610  0.778490  0.959439   \n",
       "5  0.806983  1.058278  1.115488  0.651795 -1.917271  0.845913  0.901128   \n",
       "\n",
       "        put       mid        u2  mem         u       age  gene1  gene2  \\\n",
       "1  0.903791  0.666955 -0.937675   36 -0.575754 -0.951810      1      1   \n",
       "2  0.389869  0.830224 -7.700945  169  4.751934  1.619259      1      1   \n",
       "4  0.968423  0.886591 -1.161456   64  0.974215 -0.908178      1      1   \n",
       "5  1.074159  1.008709 -0.411856  144 -0.254622  1.341796      1      1   \n",
       "\n",
       "        eta  day  depr          T  status  \n",
       "1 -2.959047  246     1  30.000000       0  \n",
       "2  4.244131  243     1  30.000000       0  \n",
       "4 -1.082029  215     0   4.835404       1  \n",
       "5  0.000730  257     1  30.000000       0  "
      ]
     },
     "execution_count": 15,
     "metadata": {},
     "output_type": "execute_result"
    }
   ],
   "source": [
    "dat[gene_idx][1:5]"
   ]
  },
  {
   "cell_type": "code",
   "execution_count": 5,
   "metadata": {
    "collapsed": false
   },
   "outputs": [
    {
     "data": {
      "text/plain": [
       "0    133\n",
       "1    117\n",
       "dtype: int64"
      ]
     },
     "execution_count": 5,
     "metadata": {},
     "output_type": "execute_result"
    }
   ],
   "source": [
    "## Get a table of variable values\n",
    "gene1_counts = dat['gene1'].value_counts()\n",
    "gene1_counts"
   ]
  },
  {
   "cell_type": "markdown",
   "metadata": {},
   "source": [
    "### Plotting with `Pandas`"
   ]
  },
  {
   "cell_type": "code",
   "execution_count": 20,
   "metadata": {
    "collapsed": false
   },
   "outputs": [
    {
     "data": {
      "text/plain": [
       "<matplotlib.axes._subplots.AxesSubplot at 0x107b55710>"
      ]
     },
     "execution_count": 20,
     "metadata": {},
     "output_type": "execute_result"
    },
    {
     "data": {
      "image/png": "[encoded data removed]",
      "text/plain": [
       "<matplotlib.figure.Figure at 0x107b36610>"
      ]
     },
     "metadata": {},
     "output_type": "display_data"
    }
   ],
   "source": [
    "gene1_counts.plot(kind=\"bar\")"
   ]
  },
  {
   "cell_type": "code",
   "execution_count": 21,
   "metadata": {
    "collapsed": false
   },
   "outputs": [
    {
     "data": {
      "image/png": "[encoded data removed]",
      "text/plain": [
       "<matplotlib.figure.Figure at 0x107b36fd0>"
      ]
     },
     "metadata": {},
     "output_type": "display_data"
    }
   ],
   "source": [
    "x = dat.boxplot(column='age', return_type='axes')\n",
    "plt.savefig('boxplot1.pdf')"
   ]
  },
  {
   "cell_type": "code",
   "execution_count": 21,
   "metadata": {
    "collapsed": false
   },
   "outputs": [
    {
     "data": {
      "image/png": "[encoded data removed]",
      "text/plain": [
       "<matplotlib.figure.Figure at 0x108716510>"
      ]
     },
     "metadata": {},
     "output_type": "display_data"
    }
   ],
   "source": [
    "## Test\n",
    "#fig = plt.figure()\n",
    "fig, axes = plt.subplots(1,2)\n",
    "dat.boxplot(column='mem', by='gene1', ax=axes[0], return_type='axes')\n",
    "dat.boxplot(column='mem', by='depr', ax=axes[1], return_type='axes')\n",
    "fig.texts = []\n",
    "fig.texts = [fig.suptitle(\"Main Title\")]\n",
    "fig.savefig(\"testfig.png\", format='png')"
   ]
  },
  {
   "cell_type": "code",
   "execution_count": 22,
   "metadata": {
    "collapsed": true
   },
   "outputs": [],
   "source": [
    "plt.close()"
   ]
  },
  {
   "cell_type": "code",
   "execution_count": 24,
   "metadata": {
    "collapsed": false
   },
   "outputs": [
    {
     "data": {
      "text/plain": [
       "<matplotlib.text.Text at 0x109dc9190>"
      ]
     },
     "execution_count": 24,
     "metadata": {},
     "output_type": "execute_result"
    },
    {
     "data": {
      "image/png": "[encoded data removed]",
      "text/plain": [
       "<matplotlib.figure.Figure at 0x10a307350>"
      ]
     },
     "metadata": {},
     "output_type": "display_data"
    }
   ],
   "source": [
    "fig, axes = plt.subplots(1,2)\n",
    "dat.boxplot(column='mem', by='gene1', ax=axes[0], return_type='axes')\n",
    "dat.boxplot(column='mem', by='depr', ax=axes[1], return_type='axes')\n",
    "fig.suptitle(\"New Title\")"
   ]
  },
  {
   "cell_type": "code",
   "execution_count": 22,
   "metadata": {
    "collapsed": false
   },
   "outputs": [
    {
     "data": {
      "text/plain": [
       "<matplotlib.axes._subplots.AxesSubplot at 0x107b55590>"
      ]
     },
     "execution_count": 22,
     "metadata": {},
     "output_type": "execute_result"
    },
    {
     "data": {
      "image/png": "[encoded data removed]",
      "text/plain": [
       "<matplotlib.figure.Figure at 0x107b96d10>"
      ]
     },
     "metadata": {},
     "output_type": "display_data"
    }
   ],
   "source": [
    "dat.boxplot(column='mem', by='gene1')"
   ]
  },
  {
   "cell_type": "code",
   "execution_count": null,
   "metadata": {
    "collapsed": false
   },
   "outputs": [],
   "source": [
    "help(dat.boxplot)"
   ]
  },
  {
   "cell_type": "code",
   "execution_count": 25,
   "metadata": {
    "collapsed": false
   },
   "outputs": [
    {
     "data": {
      "text/plain": [
       "100.0"
      ]
     },
     "execution_count": 25,
     "metadata": {},
     "output_type": "execute_result"
    }
   ],
   "source": [
    "dat['mem'].median()"
   ]
  },
  {
   "cell_type": "code",
   "execution_count": 26,
   "metadata": {
    "collapsed": false
   },
   "outputs": [
    {
     "data": {
      "text/plain": [
       "<matplotlib.axes._subplots.AxesSubplot at 0x108251a10>"
      ]
     },
     "execution_count": 26,
     "metadata": {},
     "output_type": "execute_result"
    },
    {
     "data": {
      "image/png": "[encoded data removed]",
      "text/plain": [
       "<matplotlib.figure.Figure at 0x108266dd0>"
      ]
     },
     "metadata": {},
     "output_type": "display_data"
    }
   ],
   "source": [
    "dat.plot(x='age', y='mem', kind=\"scatter\")"
   ]
  },
  {
   "cell_type": "code",
   "execution_count": 5,
   "metadata": {
    "collapsed": false
   },
   "outputs": [],
   "source": [
    "## Create a new column\n",
    "dat['age_cat'] = pd.Series(0, index=dat.index)"
   ]
  },
  {
   "cell_type": "code",
   "execution_count": 28,
   "metadata": {
    "collapsed": false
   },
   "outputs": [
    {
     "data": {
      "text/html": [
       "<div>\n",
       "<table border=\"1\" class=\"dataframe\">\n",
       "  <thead>\n",
       "    <tr style=\"text-align: right;\">\n",
       "      <th></th>\n",
       "      <th>par</th>\n",
       "      <th>sfc</th>\n",
       "      <th>aci</th>\n",
       "      <th>pci</th>\n",
       "      <th>u1</th>\n",
       "      <th>cau</th>\n",
       "      <th>th</th>\n",
       "      <th>put</th>\n",
       "      <th>mid</th>\n",
       "      <th>u2</th>\n",
       "      <th>...</th>\n",
       "      <th>u</th>\n",
       "      <th>age</th>\n",
       "      <th>gene1</th>\n",
       "      <th>gene2</th>\n",
       "      <th>eta</th>\n",
       "      <th>day</th>\n",
       "      <th>depr</th>\n",
       "      <th>T</th>\n",
       "      <th>status</th>\n",
       "      <th>age_cat</th>\n",
       "    </tr>\n",
       "  </thead>\n",
       "  <tbody>\n",
       "    <tr>\n",
       "      <th>0</th>\n",
       "      <td>1.541845</td>\n",
       "      <td>1.639296</td>\n",
       "      <td>1.631768</td>\n",
       "      <td>1.436017</td>\n",
       "      <td>3.053231</td>\n",
       "      <td>0.941444</td>\n",
       "      <td>1.062079</td>\n",
       "      <td>0.988974</td>\n",
       "      <td>0.849440</td>\n",
       "      <td>0.452027</td>\n",
       "      <td>...</td>\n",
       "      <td>1.918266</td>\n",
       "      <td>-1.137870</td>\n",
       "      <td>1</td>\n",
       "      <td>1</td>\n",
       "      <td>-0.425573</td>\n",
       "      <td>30</td>\n",
       "      <td>0</td>\n",
       "      <td>1.019006</td>\n",
       "      <td>1</td>\n",
       "      <td>0</td>\n",
       "    </tr>\n",
       "    <tr>\n",
       "      <th>1</th>\n",
       "      <td>1.285776</td>\n",
       "      <td>1.314337</td>\n",
       "      <td>1.224379</td>\n",
       "      <td>1.154257</td>\n",
       "      <td>0.536178</td>\n",
       "      <td>1.018560</td>\n",
       "      <td>0.789055</td>\n",
       "      <td>0.903791</td>\n",
       "      <td>0.666955</td>\n",
       "      <td>-0.937675</td>\n",
       "      <td>...</td>\n",
       "      <td>-0.575754</td>\n",
       "      <td>-0.951810</td>\n",
       "      <td>1</td>\n",
       "      <td>1</td>\n",
       "      <td>-2.959047</td>\n",
       "      <td>246</td>\n",
       "      <td>1</td>\n",
       "      <td>30.000000</td>\n",
       "      <td>0</td>\n",
       "      <td>0</td>\n",
       "    </tr>\n",
       "    <tr>\n",
       "      <th>2</th>\n",
       "      <td>1.633392</td>\n",
       "      <td>1.731265</td>\n",
       "      <td>1.588976</td>\n",
       "      <td>1.580385</td>\n",
       "      <td>3.881156</td>\n",
       "      <td>0.965680</td>\n",
       "      <td>0.741293</td>\n",
       "      <td>0.389869</td>\n",
       "      <td>0.830224</td>\n",
       "      <td>-7.700945</td>\n",
       "      <td>...</td>\n",
       "      <td>4.751934</td>\n",
       "      <td>1.619259</td>\n",
       "      <td>1</td>\n",
       "      <td>1</td>\n",
       "      <td>4.244131</td>\n",
       "      <td>243</td>\n",
       "      <td>1</td>\n",
       "      <td>30.000000</td>\n",
       "      <td>0</td>\n",
       "      <td>0</td>\n",
       "    </tr>\n",
       "    <tr>\n",
       "      <th>3</th>\n",
       "      <td>1.971132</td>\n",
       "      <td>1.735649</td>\n",
       "      <td>1.768737</td>\n",
       "      <td>1.852557</td>\n",
       "      <td>4.071059</td>\n",
       "      <td>0.944994</td>\n",
       "      <td>0.643423</td>\n",
       "      <td>0.706459</td>\n",
       "      <td>0.822270</td>\n",
       "      <td>-4.530420</td>\n",
       "      <td>...</td>\n",
       "      <td>3.860327</td>\n",
       "      <td>0.167814</td>\n",
       "      <td>0</td>\n",
       "      <td>0</td>\n",
       "      <td>3.280688</td>\n",
       "      <td>335</td>\n",
       "      <td>0</td>\n",
       "      <td>30.000000</td>\n",
       "      <td>0</td>\n",
       "      <td>0</td>\n",
       "    </tr>\n",
       "    <tr>\n",
       "      <th>4</th>\n",
       "      <td>1.376904</td>\n",
       "      <td>1.423676</td>\n",
       "      <td>1.461504</td>\n",
       "      <td>1.169873</td>\n",
       "      <td>1.043610</td>\n",
       "      <td>0.778490</td>\n",
       "      <td>0.959439</td>\n",
       "      <td>0.968423</td>\n",
       "      <td>0.886591</td>\n",
       "      <td>-1.161456</td>\n",
       "      <td>...</td>\n",
       "      <td>0.974215</td>\n",
       "      <td>-0.908178</td>\n",
       "      <td>1</td>\n",
       "      <td>1</td>\n",
       "      <td>-1.082029</td>\n",
       "      <td>215</td>\n",
       "      <td>0</td>\n",
       "      <td>4.835404</td>\n",
       "      <td>1</td>\n",
       "      <td>0</td>\n",
       "    </tr>\n",
       "  </tbody>\n",
       "</table>\n",
       "<p>5 rows × 21 columns</p>\n",
       "</div>"
      ],
      "text/plain": [
       "        par       sfc       aci       pci        u1       cau        th  \\\n",
       "0  1.541845  1.639296  1.631768  1.436017  3.053231  0.941444  1.062079   \n",
       "1  1.285776  1.314337  1.224379  1.154257  0.536178  1.018560  0.789055   \n",
       "2  1.633392  1.731265  1.588976  1.580385  3.881156  0.965680  0.741293   \n",
       "3  1.971132  1.735649  1.768737  1.852557  4.071059  0.944994  0.643423   \n",
       "4  1.376904  1.423676  1.461504  1.169873  1.043610  0.778490  0.959439   \n",
       "\n",
       "        put       mid        u2   ...            u       age  gene1  gene2  \\\n",
       "0  0.988974  0.849440  0.452027   ...     1.918266 -1.137870      1      1   \n",
       "1  0.903791  0.666955 -0.937675   ...    -0.575754 -0.951810      1      1   \n",
       "2  0.389869  0.830224 -7.700945   ...     4.751934  1.619259      1      1   \n",
       "3  0.706459  0.822270 -4.530420   ...     3.860327  0.167814      0      0   \n",
       "4  0.968423  0.886591 -1.161456   ...     0.974215 -0.908178      1      1   \n",
       "\n",
       "        eta  day  depr          T  status  age_cat  \n",
       "0 -0.425573   30     0   1.019006       1        0  \n",
       "1 -2.959047  246     1  30.000000       0        0  \n",
       "2  4.244131  243     1  30.000000       0        0  \n",
       "3  3.280688  335     0  30.000000       0        0  \n",
       "4 -1.082029  215     0   4.835404       1        0  \n",
       "\n",
       "[5 rows x 21 columns]"
      ]
     },
     "execution_count": 28,
     "metadata": {},
     "output_type": "execute_result"
    }
   ],
   "source": [
    "dat.head()"
   ]
  },
  {
   "cell_type": "code",
   "execution_count": 7,
   "metadata": {
    "collapsed": false
   },
   "outputs": [
    {
     "name": "stderr",
     "output_type": "stream",
     "text": [
      "/Users/mooneymi/anaconda/lib/python2.7/site-packages/IPython/kernel/__main__.py:1: SettingWithCopyWarning: \n",
      "A value is trying to be set on a copy of a slice from a DataFrame\n",
      "\n",
      "See the the caveats in the documentation: http://pandas.pydata.org/pandas-docs/stable/indexing.html#indexing-view-versus-copy\n",
      "  if __name__ == '__main__':\n"
     ]
    }
   ],
   "source": [
    "dat['age_cat'][dat['age'] > 0] = 1"
   ]
  },
  {
   "cell_type": "code",
   "execution_count": 8,
   "metadata": {
    "collapsed": false
   },
   "outputs": [],
   "source": [
    "dat.loc[dat['age'] > 0, 'age_cat'] = 1"
   ]
  },
  {
   "cell_type": "code",
   "execution_count": 9,
   "metadata": {
    "collapsed": false
   },
   "outputs": [
    {
     "data": {
      "text/html": [
       "<div>\n",
       "<table border=\"1\" class=\"dataframe\">\n",
       "  <thead>\n",
       "    <tr style=\"text-align: right;\">\n",
       "      <th></th>\n",
       "      <th>par</th>\n",
       "      <th>sfc</th>\n",
       "      <th>aci</th>\n",
       "      <th>pci</th>\n",
       "      <th>u1</th>\n",
       "      <th>cau</th>\n",
       "      <th>th</th>\n",
       "      <th>put</th>\n",
       "      <th>mid</th>\n",
       "      <th>u2</th>\n",
       "      <th>...</th>\n",
       "      <th>u</th>\n",
       "      <th>age</th>\n",
       "      <th>gene1</th>\n",
       "      <th>gene2</th>\n",
       "      <th>eta</th>\n",
       "      <th>day</th>\n",
       "      <th>depr</th>\n",
       "      <th>T</th>\n",
       "      <th>status</th>\n",
       "      <th>age_cat</th>\n",
       "    </tr>\n",
       "  </thead>\n",
       "  <tbody>\n",
       "    <tr>\n",
       "      <th>0</th>\n",
       "      <td>1.541845</td>\n",
       "      <td>1.639296</td>\n",
       "      <td>1.631768</td>\n",
       "      <td>1.436017</td>\n",
       "      <td>3.053231</td>\n",
       "      <td>0.941444</td>\n",
       "      <td>1.062079</td>\n",
       "      <td>0.988974</td>\n",
       "      <td>0.849440</td>\n",
       "      <td>0.452027</td>\n",
       "      <td>...</td>\n",
       "      <td>1.918266</td>\n",
       "      <td>-1.137870</td>\n",
       "      <td>1</td>\n",
       "      <td>1</td>\n",
       "      <td>-0.425573</td>\n",
       "      <td>30</td>\n",
       "      <td>0</td>\n",
       "      <td>1.019006</td>\n",
       "      <td>1</td>\n",
       "      <td>0</td>\n",
       "    </tr>\n",
       "    <tr>\n",
       "      <th>1</th>\n",
       "      <td>1.285776</td>\n",
       "      <td>1.314337</td>\n",
       "      <td>1.224379</td>\n",
       "      <td>1.154257</td>\n",
       "      <td>0.536178</td>\n",
       "      <td>1.018560</td>\n",
       "      <td>0.789055</td>\n",
       "      <td>0.903791</td>\n",
       "      <td>0.666955</td>\n",
       "      <td>-0.937675</td>\n",
       "      <td>...</td>\n",
       "      <td>-0.575754</td>\n",
       "      <td>-0.951810</td>\n",
       "      <td>1</td>\n",
       "      <td>1</td>\n",
       "      <td>-2.959047</td>\n",
       "      <td>246</td>\n",
       "      <td>1</td>\n",
       "      <td>30.000000</td>\n",
       "      <td>0</td>\n",
       "      <td>0</td>\n",
       "    </tr>\n",
       "    <tr>\n",
       "      <th>2</th>\n",
       "      <td>1.633392</td>\n",
       "      <td>1.731265</td>\n",
       "      <td>1.588976</td>\n",
       "      <td>1.580385</td>\n",
       "      <td>3.881156</td>\n",
       "      <td>0.965680</td>\n",
       "      <td>0.741293</td>\n",
       "      <td>0.389869</td>\n",
       "      <td>0.830224</td>\n",
       "      <td>-7.700945</td>\n",
       "      <td>...</td>\n",
       "      <td>4.751934</td>\n",
       "      <td>1.619259</td>\n",
       "      <td>1</td>\n",
       "      <td>1</td>\n",
       "      <td>4.244131</td>\n",
       "      <td>243</td>\n",
       "      <td>1</td>\n",
       "      <td>30.000000</td>\n",
       "      <td>0</td>\n",
       "      <td>1</td>\n",
       "    </tr>\n",
       "    <tr>\n",
       "      <th>3</th>\n",
       "      <td>1.971132</td>\n",
       "      <td>1.735649</td>\n",
       "      <td>1.768737</td>\n",
       "      <td>1.852557</td>\n",
       "      <td>4.071059</td>\n",
       "      <td>0.944994</td>\n",
       "      <td>0.643423</td>\n",
       "      <td>0.706459</td>\n",
       "      <td>0.822270</td>\n",
       "      <td>-4.530420</td>\n",
       "      <td>...</td>\n",
       "      <td>3.860327</td>\n",
       "      <td>0.167814</td>\n",
       "      <td>0</td>\n",
       "      <td>0</td>\n",
       "      <td>3.280688</td>\n",
       "      <td>335</td>\n",
       "      <td>0</td>\n",
       "      <td>30.000000</td>\n",
       "      <td>0</td>\n",
       "      <td>1</td>\n",
       "    </tr>\n",
       "    <tr>\n",
       "      <th>4</th>\n",
       "      <td>1.376904</td>\n",
       "      <td>1.423676</td>\n",
       "      <td>1.461504</td>\n",
       "      <td>1.169873</td>\n",
       "      <td>1.043610</td>\n",
       "      <td>0.778490</td>\n",
       "      <td>0.959439</td>\n",
       "      <td>0.968423</td>\n",
       "      <td>0.886591</td>\n",
       "      <td>-1.161456</td>\n",
       "      <td>...</td>\n",
       "      <td>0.974215</td>\n",
       "      <td>-0.908178</td>\n",
       "      <td>1</td>\n",
       "      <td>1</td>\n",
       "      <td>-1.082029</td>\n",
       "      <td>215</td>\n",
       "      <td>0</td>\n",
       "      <td>4.835404</td>\n",
       "      <td>1</td>\n",
       "      <td>0</td>\n",
       "    </tr>\n",
       "  </tbody>\n",
       "</table>\n",
       "<p>5 rows × 21 columns</p>\n",
       "</div>"
      ],
      "text/plain": [
       "        par       sfc       aci       pci        u1       cau        th  \\\n",
       "0  1.541845  1.639296  1.631768  1.436017  3.053231  0.941444  1.062079   \n",
       "1  1.285776  1.314337  1.224379  1.154257  0.536178  1.018560  0.789055   \n",
       "2  1.633392  1.731265  1.588976  1.580385  3.881156  0.965680  0.741293   \n",
       "3  1.971132  1.735649  1.768737  1.852557  4.071059  0.944994  0.643423   \n",
       "4  1.376904  1.423676  1.461504  1.169873  1.043610  0.778490  0.959439   \n",
       "\n",
       "        put       mid        u2   ...            u       age  gene1  gene2  \\\n",
       "0  0.988974  0.849440  0.452027   ...     1.918266 -1.137870      1      1   \n",
       "1  0.903791  0.666955 -0.937675   ...    -0.575754 -0.951810      1      1   \n",
       "2  0.389869  0.830224 -7.700945   ...     4.751934  1.619259      1      1   \n",
       "3  0.706459  0.822270 -4.530420   ...     3.860327  0.167814      0      0   \n",
       "4  0.968423  0.886591 -1.161456   ...     0.974215 -0.908178      1      1   \n",
       "\n",
       "        eta  day  depr          T  status  age_cat  \n",
       "0 -0.425573   30     0   1.019006       1        0  \n",
       "1 -2.959047  246     1  30.000000       0        0  \n",
       "2  4.244131  243     1  30.000000       0        1  \n",
       "3  3.280688  335     0  30.000000       0        1  \n",
       "4 -1.082029  215     0   4.835404       1        0  \n",
       "\n",
       "[5 rows x 21 columns]"
      ]
     },
     "execution_count": 9,
     "metadata": {},
     "output_type": "execute_result"
    }
   ],
   "source": [
    "dat.head()"
   ]
  },
  {
   "cell_type": "code",
   "execution_count": 32,
   "metadata": {
    "collapsed": false
   },
   "outputs": [
    {
     "data": {
      "text/plain": [
       "0    133\n",
       "1    117\n",
       "dtype: int64"
      ]
     },
     "execution_count": 32,
     "metadata": {},
     "output_type": "execute_result"
    }
   ],
   "source": [
    "dat['gene1'].value_counts()"
   ]
  },
  {
   "cell_type": "code",
   "execution_count": 33,
   "metadata": {
    "collapsed": false
   },
   "outputs": [
    {
     "data": {
      "text/plain": [
       "gene1  gene2\n",
       "0      0        60\n",
       "       1        73\n",
       "1      0        59\n",
       "       1        58\n",
       "dtype: int64"
      ]
     },
     "execution_count": 33,
     "metadata": {},
     "output_type": "execute_result"
    }
   ],
   "source": [
    "dat.groupby(['gene1','gene2']).size()"
   ]
  },
  {
   "cell_type": "markdown",
   "metadata": {},
   "source": [
    "## Statistics in Python\n",
    "\n",
    "The `statsmodels` package contains functions and classes for data exploration and many different statistical procedures (modeling, hypothesis testing). `Pandas` and `Scipy` also have statistics modules.\n",
    "\n",
    "[http://statsmodels.sourceforge.net/stable/index.html](http://statsmodels.sourceforge.net/stable/index.html)\n",
    "\n",
    "[http://pandas.pydata.org/pandas-docs/stable/basics.html#descriptive-statistics](http://pandas.pydata.org/pandas-docs/stable/basics.html#descriptive-statistics)\n",
    "\n",
    "[http://docs.scipy.org/doc/scipy-0.13.0/reference/stats.html](http://docs.scipy.org/doc/scipy-0.13.0/reference/stats.html)"
   ]
  },
  {
   "cell_type": "markdown",
   "metadata": {},
   "source": [
    "### Descriptive Statistics"
   ]
  },
  {
   "cell_type": "code",
   "execution_count": 34,
   "metadata": {
    "collapsed": false
   },
   "outputs": [
    {
     "data": {
      "text/plain": [
       "count    250.000000\n",
       "mean      -0.009506\n",
       "std        1.036330\n",
       "min       -3.119118\n",
       "25%       -0.676994\n",
       "50%       -0.033606\n",
       "75%        0.561708\n",
       "max        2.861592\n",
       "Name: age, dtype: float64"
      ]
     },
     "execution_count": 34,
     "metadata": {},
     "output_type": "execute_result"
    }
   ],
   "source": [
    "dat['age'].describe()"
   ]
  },
  {
   "cell_type": "code",
   "execution_count": 37,
   "metadata": {
    "collapsed": false
   },
   "outputs": [
    {
     "data": {
      "text/plain": [
       "DescribeResult(nobs=250, minmax=(-3.1191175148780097, 2.8615918114088901), mean=-0.0095057436157085923, variance=1.0739808473043826, skewness=0.05622816799215876, kurtosis=-0.11090770812166584)"
      ]
     },
     "execution_count": 37,
     "metadata": {},
     "output_type": "execute_result"
    }
   ],
   "source": [
    "from scipy import stats\n",
    "stats.describe(dat['age'])"
   ]
  },
  {
   "cell_type": "code",
   "execution_count": 38,
   "metadata": {
    "collapsed": false
   },
   "outputs": [
    {
     "data": {
      "text/plain": [
       "array([ -9.50574362e-03,   1.07140000e+02])"
      ]
     },
     "execution_count": 38,
     "metadata": {},
     "output_type": "execute_result"
    }
   ],
   "source": [
    "import statsmodels.api as sma\n",
    "desc = sma.stats.DescrStatsW(dat[['age','mem']])\n",
    "desc.mean"
   ]
  },
  {
   "cell_type": "code",
   "execution_count": 40,
   "metadata": {
    "collapsed": false
   },
   "outputs": [
    {
     "data": {
      "text/plain": [
       "array([[ 1.        ,  0.59016791],\n",
       "       [ 0.59016791,  1.        ]])"
      ]
     },
     "execution_count": 40,
     "metadata": {},
     "output_type": "execute_result"
    }
   ],
   "source": [
    "## Create a correlation matrix\n",
    "#np.corrcoef(dat[['age','mem']], rowvar=0)\n",
    "desc.corrcoef"
   ]
  },
  {
   "cell_type": "code",
   "execution_count": 41,
   "metadata": {
    "collapsed": false
   },
   "outputs": [
    {
     "data": {
      "text/plain": [
       "(-2.9567022934300766, 0.0034094451435307434, 248.0)"
      ]
     },
     "execution_count": 41,
     "metadata": {},
     "output_type": "execute_result"
    }
   ],
   "source": [
    "## Calculate a T-test to compare means\n",
    "sma.stats.ttest_ind(dat['mem'][dat['gene1']==1], dat['mem'][dat['gene1']==0])"
   ]
  },
  {
   "cell_type": "code",
   "execution_count": 42,
   "metadata": {
    "collapsed": false
   },
   "outputs": [
    {
     "name": "stdout",
     "output_type": "stream",
     "text": [
      "Help on function ttest_ind in module statsmodels.stats.weightstats:\n",
      "\n",
      "ttest_ind(x1, x2, alternative='two-sided', usevar='pooled', weights=(None, None), value=0)\n",
      "    ttest independent sample\n",
      "    \n",
      "    convenience function that uses the classes and throws away the intermediate\n",
      "    results,\n",
      "    compared to scipy stats: drops axis option, adds alternative, usevar, and\n",
      "    weights option\n",
      "    \n",
      "    Parameters\n",
      "    ----------\n",
      "    x1, x2 : array_like, 1-D or 2-D\n",
      "        two independent samples, see notes for 2-D case\n",
      "    alternative : string\n",
      "        The alternative hypothesis, H1, has to be one of the following\n",
      "    \n",
      "           'two-sided': H1: difference in means not equal to value (default)\n",
      "           'larger' :   H1: difference in means larger than value\n",
      "           'smaller' :  H1: difference in means smaller than value\n",
      "    \n",
      "    usevar : string, 'pooled' or 'unequal'\n",
      "        If ``pooled``, then the standard deviation of the samples is assumed to be\n",
      "        the same. If ``unequal``, then Welsh ttest with Satterthwait degrees\n",
      "        of freedom is used\n",
      "    weights : tuple of None or ndarrays\n",
      "        Case weights for the two samples. For details on weights see\n",
      "        ``DescrStatsW``\n",
      "    value : float\n",
      "        difference between the means under the Null hypothesis.\n",
      "    \n",
      "    \n",
      "    Returns\n",
      "    -------\n",
      "    tstat : float\n",
      "        test statisic\n",
      "    pvalue : float\n",
      "        pvalue of the t-test\n",
      "    df : int or float\n",
      "        degrees of freedom used in the t-test\n",
      "\n"
     ]
    }
   ],
   "source": [
    "help(sma.stats.ttest_ind)"
   ]
  },
  {
   "cell_type": "code",
   "execution_count": null,
   "metadata": {
    "collapsed": false
   },
   "outputs": [],
   "source": [
    "dat['mem'][dat['gene1']==1].mean()"
   ]
  },
  {
   "cell_type": "code",
   "execution_count": null,
   "metadata": {
    "collapsed": false
   },
   "outputs": [],
   "source": [
    "np.min(dat['mem'])"
   ]
  },
  {
   "cell_type": "code",
   "execution_count": null,
   "metadata": {
    "collapsed": false
   },
   "outputs": [],
   "source": [
    "dat['mem'][dat['gene1']==0].mean()"
   ]
  },
  {
   "cell_type": "code",
   "execution_count": 48,
   "metadata": {
    "collapsed": false
   },
   "outputs": [
    {
     "data": {
      "text/plain": [
       "0     -1.137870\n",
       "1     -0.951810\n",
       "2      1.619259\n",
       "3      0.167814\n",
       "4     -0.908178\n",
       "5      1.341796\n",
       "6      0.022043\n",
       "7     -0.207005\n",
       "8     -1.119757\n",
       "9     -1.027899\n",
       "10     0.314034\n",
       "11    -0.968203\n",
       "12    -0.285030\n",
       "13    -0.280856\n",
       "14    -0.120301\n",
       "15     1.238739\n",
       "16    -1.540927\n",
       "17    -0.217596\n",
       "18    -1.173859\n",
       "19     0.390681\n",
       "20    -0.028506\n",
       "21    -0.726328\n",
       "22     0.522556\n",
       "23    -0.886584\n",
       "24    -0.162438\n",
       "25     1.826271\n",
       "26     1.755697\n",
       "27     2.270081\n",
       "28     0.466427\n",
       "29    -0.962545\n",
       "         ...   \n",
       "220   -0.541365\n",
       "221   -0.214115\n",
       "222    0.567519\n",
       "223    0.448030\n",
       "224    1.587338\n",
       "225   -0.681541\n",
       "226   -1.078777\n",
       "227    1.421781\n",
       "228    0.111792\n",
       "229    0.452321\n",
       "230    0.882265\n",
       "231   -0.546460\n",
       "232    0.434750\n",
       "233   -0.913803\n",
       "234    0.019253\n",
       "235    0.630685\n",
       "236   -0.520616\n",
       "237   -0.178219\n",
       "238    1.494796\n",
       "239   -0.454711\n",
       "240    0.193339\n",
       "241   -0.327339\n",
       "242   -1.323815\n",
       "243    0.366252\n",
       "244   -1.645271\n",
       "245    0.118459\n",
       "246    0.334439\n",
       "247   -1.128518\n",
       "248    0.318447\n",
       "249   -0.714159\n",
       "Name: age, dtype: float64"
      ]
     },
     "execution_count": 48,
     "metadata": {},
     "output_type": "execute_result"
    }
   ],
   "source": [
    "dat['age']"
   ]
  },
  {
   "cell_type": "markdown",
   "metadata": {},
   "source": [
    "### Linear Regression"
   ]
  },
  {
   "cell_type": "code",
   "execution_count": 43,
   "metadata": {
    "collapsed": false
   },
   "outputs": [
    {
     "name": "stdout",
     "output_type": "stream",
     "text": [
      "                            OLS Regression Results                            \n",
      "==============================================================================\n",
      "Dep. Variable:                    mem   R-squared:                       0.348\n",
      "Model:                            OLS   Adj. R-squared:                  0.346\n",
      "Method:                 Least Squares   F-statistic:                     132.5\n",
      "Date:                Thu, 19 Nov 2015   Prob (F-statistic):           7.45e-25\n",
      "Time:                        09:36:37   Log-Likelihood:                -1228.2\n",
      "No. Observations:                 250   AIC:                             2460.\n",
      "Df Residuals:                     248   BIC:                             2467.\n",
      "Df Model:                           1                                         \n",
      "Covariance Type:            nonrobust                                         \n",
      "==============================================================================\n",
      "                 coef    std err          t      P>|t|      [95.0% Conf. Int.]\n",
      "------------------------------------------------------------------------------\n",
      "Intercept    107.3611      2.090     51.372      0.000       103.245   111.477\n",
      "age           23.2621      2.021     11.513      0.000        19.282    27.242\n",
      "==============================================================================\n",
      "Omnibus:                        9.068   Durbin-Watson:                   1.932\n",
      "Prob(Omnibus):                  0.011   Jarque-Bera (JB):                9.002\n",
      "Skew:                           0.445   Prob(JB):                       0.0111\n",
      "Kurtosis:                       3.271   Cond. No.                         1.04\n",
      "==============================================================================\n",
      "\n",
      "Warnings:\n",
      "[1] Standard Errors assume that the covariance matrix of the errors is correctly specified.\n"
     ]
    }
   ],
   "source": [
    "import statsmodels.formula.api as smf\n",
    "mod = smf.ols(formula='mem ~ age', data=dat)\n",
    "res = mod.fit()\n",
    "print res.summary()"
   ]
  },
  {
   "cell_type": "code",
   "execution_count": 44,
   "metadata": {
    "collapsed": false
   },
   "outputs": [
    {
     "data": {
      "text/plain": [
       "Intercept    107.361123\n",
       "age           23.262082\n",
       "dtype: float64"
      ]
     },
     "execution_count": 44,
     "metadata": {},
     "output_type": "execute_result"
    }
   ],
   "source": [
    "## The regression fit parameters\n",
    "res.params"
   ]
  },
  {
   "cell_type": "code",
   "execution_count": 45,
   "metadata": {
    "collapsed": false
   },
   "outputs": [
    {
     "data": {
      "text/plain": [
       "107.36112338651381"
      ]
     },
     "execution_count": 45,
     "metadata": {},
     "output_type": "execute_result"
    }
   ],
   "source": [
    "res.params[0]"
   ]
  },
  {
   "cell_type": "markdown",
   "metadata": {},
   "source": [
    "## In-Class Exercises"
   ]
  },
  {
   "cell_type": "code",
   "execution_count": null,
   "metadata": {
    "collapsed": false
   },
   "outputs": [],
   "source": [
    "## Exercise 1.\n",
    "## Create a new categorical variable in the serotonin data frame \n",
    "## called 'highmem'. Set the variable = 1 for subjects with a 'mem' \n",
    "## value > 100, otherwise 0. Split the data into two different \n",
    "## data frames based on the value of 'highmem'. Create boxplots \n",
    "## of 'age' for both data frames, and identify the mean, min, \n",
    "## max for each.\n",
    "##\n"
   ]
  },
  {
   "cell_type": "markdown",
   "metadata": {},
   "source": [
    "## References"
   ]
  },
  {
   "cell_type": "markdown",
   "metadata": {},
   "source": [
    "1. [http://docs.scipy.org/doc/numpy/reference/index.html](http://docs.scipy.org/doc/numpy/reference/index.html)\n",
    "2. [http://pandas.pydata.org/pandas-docs/stable/](http://pandas.pydata.org/pandas-docs/stable/)\n",
    "3. [http://statsmodels.sourceforge.net/stable/index.html](http://statsmodels.sourceforge.net/stable/index.html)"
   ]
  },
  {
   "cell_type": "markdown",
   "metadata": {},
   "source": [
    "#### Last Updated: 16-Nov-2015¶"
   ]
  }
 ],
 "metadata": {
  "kernelspec": {
   "display_name": "Python 2",
   "language": "python",
   "name": "python2"
  },
  "language_info": {
   "codemirror_mode": {
    "name": "ipython",
    "version": 2
   },
   "file_extension": ".py",
   "mimetype": "text/x-python",
   "name": "python",
   "nbconvert_exporter": "python",
   "pygments_lexer": "ipython2",
   "version": "2.7.10"
  }
 },
 "nbformat": 4,
 "nbformat_minor": 0
}
